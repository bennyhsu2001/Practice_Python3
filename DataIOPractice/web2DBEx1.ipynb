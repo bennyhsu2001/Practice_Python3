{
 "cells": [
  {
   "cell_type": "markdown",
   "metadata": {},
   "source": [
    "Data source: http://www.tse.com.tw/zh/page/trading/exchange/MI_5MINS_INDEX.html\n",
    "1. before 2011-01-16 is a data per min\n",
    "2. before 2014-02-23 is a data per 15 sec\n",
    "3. before 2014-12-29 is a data per 10 sec\n",
    "4. after 2014-12-29 to today is a data per 5 sec\n",
    "\n",
    "What we need to complete this shit\n",
    "1. script1: from 2004-10-15 to today\n",
    "2. script2: from today keep update data, need to use another script\n",
    "3. creat a DB with a table contain every columns, different date have different column lenth. (how to make it auto variable with data change?)  (idea: for script1, just drop the fix numbers columns. Then, as script2 insert data, just insert the columns which has time column)  "
   ]
  },
  {
   "cell_type": "code",
   "execution_count": 2,
   "metadata": {},
   "outputs": [
    {
     "name": "stdout",
     "output_type": "stream",
     "text": [
      "cost time: 45.710230350494385\n"
     ]
    }
   ],
   "source": [
    "# -*-coding: utf-8 -*-\n",
    "import sys\n",
    "import datetime as dt\n",
    "import requests\n",
    "import os\n",
    "import pandas as pd\n",
    "import sqlite3\n",
    "import csv\n",
    "import time\n",
    "\n",
    "\n",
    "        \n",
    "def date_trans(start1,end1):   # date transformat fail\n",
    "\n",
    "    date_int={'year1':int(start1[:4]),'month1':int(start1[4:6]),'day1':int(start1[6:]),\n",
    "              'year2':int(end1[:4]),'month2':int(end1[4:6]),'day2':int(end1[6:])}\n",
    "    \n",
    "    start_date = dt.datetime(date_int['year1'],date_int['month1'],date_int['day1'])\n",
    "    end_date = dt.datetime(date_int['year2'],date_int['month2'],date_int['day2'])\n",
    "    totaldays = (end_date - start_date).days + 1\n",
    "    return start_date,totaldays\n",
    "\n",
    "\n",
    "def get_content(start_date,totaldays):\n",
    "    with sqlite3.connect('testDB') as DB:\n",
    "        for daynumber in range(totaldays):\n",
    "            date1=(start_date + dt.timedelta(days = daynumber)).date()\n",
    "            five_sec_url='http://www.twse.com.tw/exchangeReport/MI_5MINS?response=csv&date=%s'%str(date1).replace('-','')\n",
    "            r = requests.get(five_sec_url)\n",
    "            try:\n",
    "                con = r.text.split('\\n')\n",
    "                res = delIntro(con)\n",
    "                insertDate(res,str(date1))\n",
    "                insertData(res,DB)\n",
    "            except:\n",
    "                pass\n",
    "            time.sleep(2)\n",
    "\n",
    "    \n",
    "def delIntro(con):    # delete the introduction of content\n",
    "    del con[0]\n",
    "    del con[con.index('\"說明:\"\\r'.encode('utf-8').decode('utf-8', 'ignore')):]  \n",
    "    res = [[con[i].strip('=').strip() for i in range(len(con))][j][1:-2].replace(',','').split('\\\"\\\"') for j in range(len(con))]\n",
    "    return res\n",
    "\n",
    "    \n",
    "def insertDate(res,date1):    # insert date to first column \n",
    "    res[0].insert(0,'日期')\n",
    "    for i in range(len(res)-1):\n",
    "        res[i+1].insert(0,date1)\n",
    "\n",
    "        \n",
    "def createTable():\n",
    "    with sqlite3.connect('testDB') as DB:\n",
    "        c=DB.cursor()\n",
    "        createTable='''create table if not exists fiveSec (日期 date, 時間 time,累積委託買進筆數 int,  累積委託買進數量 int, 累積委託賣出筆數 int, 累積委託賣出數量 int, 累積成交筆數 int, 累積成交數量 int, 累積成交金額 int);'''\n",
    "        c.execute(createTable)\n",
    "        \n",
    "        \n",
    "def insertData(res,DB):\n",
    "#     with sqlite3.connect('testDB') as DB:    # here should change, everytime reconnect is not a good way\n",
    "        c=DB.cursor()\n",
    "        c.executemany('insert into fiveSec values(?,?,?,?,?,?,?,?,?)',res[1:])\n",
    "        \n",
    "def selectData():\n",
    "    with sqlite3.connect('testDB') as DB:\n",
    "        df = pd.read_sql_query('select * from fiveSec',DB)\n",
    "        print(df)\n",
    "\n",
    "        \n",
    "def iftttRemind(text1,value1,value2):\n",
    "    iftttCode='clJBzxCpWf6A8RIS-Ia6C5'\n",
    "    url_ifttt = 'https://maker.ifttt.com/trigger/stockline/with/key/%s?value1=%s/value2=%f/value3=%s'%(iftttCode,text1,value1,value2)\n",
    "    requests.get(url_ifttt)\n",
    "\n",
    "\n",
    "# main   \n",
    "if __name__ =='__main__': \n",
    "    starttime = time.time()\n",
    "    createTable()  \n",
    "    start_date,totaldays=date_trans('20180801','20180811')\n",
    "#         start_date,totaldays=date_trans(sys.args[0],sys.args[1])\n",
    "    get_content(start_date,totaldays)\n",
    "#     selectData()\n",
    "    cost_time=time.time()-starttime\n",
    "    print('cost time:',cost_time)\n",
    "    iftttRemind('cost time:', cost_time,'OK')"
   ]
  },
  {
   "cell_type": "code",
   "execution_count": null,
   "metadata": {},
   "outputs": [],
   "source": []
  },
  {
   "cell_type": "code",
   "execution_count": null,
   "metadata": {},
   "outputs": [],
   "source": []
  }
 ],
 "metadata": {
  "kernelspec": {
   "display_name": "Python 3",
   "language": "python",
   "name": "python3"
  },
  "language_info": {
   "codemirror_mode": {
    "name": "ipython",
    "version": 3
   },
   "file_extension": ".py",
   "mimetype": "text/x-python",
   "name": "python",
   "nbconvert_exporter": "python",
   "pygments_lexer": "ipython3",
   "version": "3.6.5"
  }
 },
 "nbformat": 4,
 "nbformat_minor": 2
}
