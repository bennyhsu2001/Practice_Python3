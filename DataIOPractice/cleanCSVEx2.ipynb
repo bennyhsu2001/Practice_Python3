{
 "cells": [
  {
   "cell_type": "code",
   "execution_count": null,
   "metadata": {
    "scrolled": false
   },
   "outputs": [],
   "source": [
    "import pandas as pd\n",
    "import sqlite3\n",
    "import numpy as np\n",
    "import csv\n",
    "import time\n",
    "\n",
    "\n",
    "def delIntro(con):    # delete the introduction of content\n",
    "    del con[0]\n",
    "    del con[con.index('\"說明:\"\\n'):]  \n",
    "    res = [[con[i].strip('=').strip() for i in range(len(con))][j][1:-2].replace(',','').split('\\\"\\\"') for j in range(len(con))]\n",
    "    return res\n",
    "\n",
    "    \n",
    "def insertDate(res):    # insert date to first column \n",
    "    res[0].insert(0,'日期')\n",
    "    for i in range(len(res)-1):\n",
    "        res[i+1].insert(0,date1)\n",
    "\n",
    "        \n",
    "def createTable():\n",
    "    with sqlite3.connect('testDB') as DB:\n",
    "        c=DB.cursor()\n",
    "        createTable='''create table if not exists fiveSec (日期 date, 時間 time,累積委託買進筆數 int,  累積委託買進數量 int, 累積委託賣出筆數 int, 累積委託賣出數量 int, 累積成交筆數 int, 累積成交數量 int, 累積成交金額 int);'''\n",
    "        c.execute(createTable)\n",
    "        \n",
    "        \n",
    "def insertData(res):\n",
    "    with sqlite3.connect('testDB') as DB:\n",
    "        c=DB.cursor()\n",
    "        c.executemany('insert into fiveSec values(?,?,?,?,?,?,?,?,?)',res[1:])\n",
    "        \n",
    "def selectData():\n",
    "    with sqlite3.connect('testDB') as DB:\n",
    "        df = pd.read_sql_query('select * from fiveSec',DB)\n",
    "        print(df)\n",
    "        \n",
    "# main     \n",
    "starttime = time.time()\n",
    "\n",
    "date1='20180824'\n",
    "with open('MI_5MINS.csv','r') as file:\n",
    "    con = [line for line in file.readlines()]\n",
    "        \n",
    "res = delIntro(con)\n",
    "insertDate(res)\n",
    "# print(res)\n",
    "    \n",
    "createTable()       \n",
    "insertData(res)\n",
    "selectData()\n",
    "\n",
    "print('cost time:',time.time()-starttime)"
   ]
  },
  {
   "cell_type": "code",
   "execution_count": null,
   "metadata": {},
   "outputs": [],
   "source": []
  }
 ],
 "metadata": {
  "kernelspec": {
   "display_name": "Python 3",
   "language": "python",
   "name": "python3"
  },
  "language_info": {
   "codemirror_mode": {
    "name": "ipython",
    "version": 3
   },
   "file_extension": ".py",
   "mimetype": "text/x-python",
   "name": "python",
   "nbconvert_exporter": "python",
   "pygments_lexer": "ipython3",
   "version": "3.6.5"
  }
 },
 "nbformat": 4,
 "nbformat_minor": 2
}
