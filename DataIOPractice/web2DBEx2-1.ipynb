{
 "cells": [
  {
   "cell_type": "code",
   "execution_count": 1,
   "metadata": {
    "scrolled": true
   },
   "outputs": [
    {
     "name": "stdout",
     "output_type": "stream",
     "text": [
      "Empty DataFrame\n",
      "Columns: [日期, 時間, 累積委託買進筆數, 累積委託買進數量, 累積委託賣出筆數, 累積委託賣出數量, 累積成交筆數, 累積成交數量, 累積成交金額]\n",
      "Index: []\n",
      "cost time: 4.097307443618774\n"
     ]
    }
   ],
   "source": [
    "from  web2DBEx2 import *\n",
    "\n",
    "starttime = time.time()\n",
    "createTable()  \n",
    "\n",
    "start_date,totaldays=date_trans('20180810','20180810')\n",
    "#     start_date,totaldays=date_trans(sys.args[0],sys.args[1])\n",
    "    \n",
    "get_content(start_date,totaldays)\n",
    "\n",
    "selectData()\n",
    "\n",
    "print('cost time:',time.time()-starttime)"
   ]
  },
  {
   "cell_type": "code",
   "execution_count": null,
   "metadata": {},
   "outputs": [],
   "source": []
  }
 ],
 "metadata": {
  "kernelspec": {
   "display_name": "Python 3",
   "language": "python",
   "name": "python3"
  },
  "language_info": {
   "codemirror_mode": {
    "name": "ipython",
    "version": 3
   },
   "file_extension": ".py",
   "mimetype": "text/x-python",
   "name": "python",
   "nbconvert_exporter": "python",
   "pygments_lexer": "ipython3",
   "version": "3.6.5"
  }
 },
 "nbformat": 4,
 "nbformat_minor": 2
}
