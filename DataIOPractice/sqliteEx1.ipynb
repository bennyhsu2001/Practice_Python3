{
 "cells": [
  {
   "cell_type": "code",
   "execution_count": 4,
   "metadata": {},
   "outputs": [],
   "source": [
    "import sqlite3\n",
    "import csv\n",
    "\n",
    "with sqlite3.connect('testDB') as conn:\n",
    "    c = conn.cursor()\n",
    "#     c.execute(\"create table userinfo (id interger primary key, name text not null, age interger, gender text not null)\")\n",
    "    c.execute(\"insert into userinfo values (2, 'Jim', 22, 'male'),(1,'Tim', 45,'male'),(7,'Kim',58,'female')\")\n",
    "    c.execute(\"select * from userinfo\")\n",
    "    "
   ]
  },
  {
   "cell_type": "code",
   "execution_count": 33,
   "metadata": {},
   "outputs": [
    {
     "name": "stdout",
     "output_type": "stream",
     "text": [
      "<sqlite3.Cursor object at 0x01648A20> \n",
      " <class 'sqlite3.Cursor'> \n",
      "\n",
      "[(2, 'Jim', 22, 'male'), (1, 'Tim', 45, 'male'), (7, 'Kim', 58, 'male')] \n",
      " <class 'list'>\n"
     ]
    }
   ],
   "source": [
    "with sqlite3.connect('testDB') as conn:\n",
    "    c = conn.cursor()\n",
    "    c.execute(\"update userinfo set gender='male' where name='Kim' \")\n",
    "    c.execute(\"select * from userinfo\")\n",
    "    print(c,'\\n',type(c),'\\n')\n",
    "    info = c.fetchall()\n",
    "    print(info,'\\n',type(info))\n",
    "   "
   ]
  },
  {
   "cell_type": "code",
   "execution_count": 54,
   "metadata": {},
   "outputs": [
    {
     "name": "stdout",
     "output_type": "stream",
     "text": [
      "None\n",
      "(2, 'Jim', 22, 'male')\n",
      "(1, 'Tim', 45, 'male')\n",
      "(7, 'Kim', 58, 'male')\n"
     ]
    }
   ],
   "source": [
    " with sqlite3.connect('testDB') as conn:\n",
    "    c = conn.cursor()\n",
    "    print(c.description)\n",
    "    with open ('result1.csv','wb') as write_result:\n",
    "        for row in c.execute('select * from userinfo'):\n",
    "            print(row)\n",
    "            writeRow = \",\".join([str(i) for i in row])\n",
    "#             \",\".join(row) will join all tuple elements and seperate them with, in this case, a common.\n",
    "#              Join only works with lists and tuples that contain string elements only \n",
    "#              (so the code above wouldn't work if your database had a REAL or INTEGER type)\n",
    "            write_result.write(writeRow.encode())\n",
    "#           here added a .encode() because we are opening CSV file with \"rb\"\n",
    "#           so we need to convert it to bytes before writing to the file."
   ]
  },
  {
   "cell_type": "code",
   "execution_count": 74,
   "metadata": {},
   "outputs": [
    {
     "name": "stdout",
     "output_type": "stream",
     "text": [
      "(('id', None, None, None, None, None, None), ('name', None, None, None, None, None, None), ('age', None, None, None, None, None, None), ('gender', None, None, None, None, None, None))\n"
     ]
    }
   ],
   "source": [
    "with sqlite3.connect('testDB') as conn:\n",
    "    c = conn.cursor()\n",
    "    c.execute('select * from userinfo')\n",
    "    print(c.description)\n",
    "    with open ('output1.csv','w', encoding='utf-8', newline='\\n') as output_csv:\n",
    "        csv_out = csv.writer(output_csv)\n",
    "        csv_out.writerows([[i for i in line if i != None] for line in c.description]) # write header\n",
    "        for result in c:\n",
    "            csv_out.writerows([str(result)])    # write content\n",
    "        "
   ]
  },
  {
   "cell_type": "code",
   "execution_count": 72,
   "metadata": {},
   "outputs": [
    {
     "data": {
      "text/plain": [
       "[['id'], ['name'], ['age'], ['gender']]"
      ]
     },
     "execution_count": 72,
     "metadata": {},
     "output_type": "execute_result"
    }
   ],
   "source": [
    "[[i for i in line if i != None] for line in c.description]\n"
   ]
  },
  {
   "cell_type": "code",
   "execution_count": null,
   "metadata": {},
   "outputs": [],
   "source": []
  }
 ],
 "metadata": {
  "kernelspec": {
   "display_name": "Python 3",
   "language": "python",
   "name": "python3"
  },
  "language_info": {
   "codemirror_mode": {
    "name": "ipython",
    "version": 3
   },
   "file_extension": ".py",
   "mimetype": "text/x-python",
   "name": "python",
   "nbconvert_exporter": "python",
   "pygments_lexer": "ipython3",
   "version": "3.6.5"
  }
 },
 "nbformat": 4,
 "nbformat_minor": 2
}
