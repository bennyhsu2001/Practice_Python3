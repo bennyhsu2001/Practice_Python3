{
 "cells": [
  {
   "cell_type": "code",
   "execution_count": 4,
   "metadata": {},
   "outputs": [],
   "source": [
    "import pandas as pd \n",
    "import numpy as np\n"
   ]
  },
  {
   "cell_type": "code",
   "execution_count": 7,
   "metadata": {},
   "outputs": [
    {
     "name": "stdout",
     "output_type": "stream",
     "text": [
      "DatetimeIndex(['2016-01-04', '2018-05-08', '2003-11-30'], dtype='datetime64[ns]', freq=None)\n"
     ]
    }
   ],
   "source": [
    "date1 = ['2016-01-04','2018-05-08','2003-11-30']\n",
    "date1 = pd.to_datetime(date1)\n",
    "print(date1)"
   ]
  },
  {
   "cell_type": "code",
   "execution_count": 12,
   "metadata": {},
   "outputs": [
    {
     "name": "stdout",
     "output_type": "stream",
     "text": [
      "                   A         B         C         D\n",
      "2016-01-04  1.475818 -1.282536 -0.131248 -0.934737\n",
      "2018-05-08 -1.786832  0.007683  0.641750 -0.804288\n",
      "2003-11-30  0.103087 -0.019559  1.309940  0.508478\n"
     ]
    }
   ],
   "source": [
    "df1 = pd.DataFrame(np.random.randn(3,4),index=date1,columns=list('ABCD'))\n",
    "print(df1)"
   ]
  },
  {
   "cell_type": "code",
   "execution_count": 21,
   "metadata": {},
   "outputs": [
    {
     "data": {
      "text/html": [
       "<div>\n",
       "<style>\n",
       "    .dataframe thead tr:only-child th {\n",
       "        text-align: right;\n",
       "    }\n",
       "\n",
       "    .dataframe thead th {\n",
       "        text-align: left;\n",
       "    }\n",
       "\n",
       "    .dataframe tbody tr th {\n",
       "        vertical-align: top;\n",
       "    }\n",
       "</style>\n",
       "<table border=\"1\" class=\"dataframe\">\n",
       "  <thead>\n",
       "    <tr style=\"text-align: right;\">\n",
       "      <th></th>\n",
       "      <th>0</th>\n",
       "    </tr>\n",
       "  </thead>\n",
       "  <tbody>\n",
       "    <tr>\n",
       "      <th>0</th>\n",
       "      <td>id</td>\n",
       "    </tr>\n",
       "    <tr>\n",
       "      <th>1</th>\n",
       "      <td>name</td>\n",
       "    </tr>\n",
       "    <tr>\n",
       "      <th>2</th>\n",
       "      <td>age</td>\n",
       "    </tr>\n",
       "    <tr>\n",
       "      <th>3</th>\n",
       "      <td>gender</td>\n",
       "    </tr>\n",
       "    <tr>\n",
       "      <th>4</th>\n",
       "      <td>(,2,\",\", ,',J,i,m,',\",\", ,2,2,\",\", ,',m,a,l,e,',)</td>\n",
       "    </tr>\n",
       "    <tr>\n",
       "      <th>5</th>\n",
       "      <td>(,1,\",\", ,',T,i,m,',\",\", ,4,5,\",\", ,',m,a,l,e,',)</td>\n",
       "    </tr>\n",
       "    <tr>\n",
       "      <th>6</th>\n",
       "      <td>(,7,\",\", ,',K,i,m,',\",\", ,5,8,\",\", ,',m,a,l,e,',)</td>\n",
       "    </tr>\n",
       "  </tbody>\n",
       "</table>\n",
       "</div>"
      ],
      "text/plain": [
       "                                                   0\n",
       "0                                                 id\n",
       "1                                               name\n",
       "2                                                age\n",
       "3                                             gender\n",
       "4  (,2,\",\", ,',J,i,m,',\",\", ,2,2,\",\", ,',m,a,l,e,',)\n",
       "5  (,1,\",\", ,',T,i,m,',\",\", ,4,5,\",\", ,',m,a,l,e,',)\n",
       "6  (,7,\",\", ,',K,i,m,',\",\", ,5,8,\",\", ,',m,a,l,e,',)"
      ]
     },
     "execution_count": 21,
     "metadata": {},
     "output_type": "execute_result"
    }
   ],
   "source": [
    "pd.read_table('output1.csv',sep='\\t',header=None,names=None)"
   ]
  },
  {
   "cell_type": "code",
   "execution_count": 41,
   "metadata": {},
   "outputs": [
    {
     "ename": "SyntaxError",
     "evalue": "invalid syntax (<ipython-input-41-c8fd4443e32b>, line 1)",
     "output_type": "error",
     "traceback": [
      "\u001b[1;36m  File \u001b[1;32m\"<ipython-input-41-c8fd4443e32b>\"\u001b[1;36m, line \u001b[1;32m1\u001b[0m\n\u001b[1;33m    df2 = pd.read_csv('MI_5MINS.csv',sep=','header=0,encoding='cp950')\u001b[0m\n\u001b[1;37m                                                 ^\u001b[0m\n\u001b[1;31mSyntaxError\u001b[0m\u001b[1;31m:\u001b[0m invalid syntax\n"
     ]
    }
   ],
   "source": [
    "df2 = pd.read_csv('MI_5MINS.csv',sep=',',encoding='cp950')\n",
    "print(df2)"
   ]
  },
  {
   "cell_type": "code",
   "execution_count": 29,
   "metadata": {},
   "outputs": [
    {
     "data": {
      "text/html": [
       "<div>\n",
       "<style>\n",
       "    .dataframe thead tr:only-child th {\n",
       "        text-align: right;\n",
       "    }\n",
       "\n",
       "    .dataframe thead th {\n",
       "        text-align: left;\n",
       "    }\n",
       "\n",
       "    .dataframe tbody tr th {\n",
       "        vertical-align: top;\n",
       "    }\n",
       "</style>\n",
       "<table border=\"1\" class=\"dataframe\">\n",
       "  <thead>\n",
       "    <tr style=\"text-align: right;\">\n",
       "      <th></th>\n",
       "      <th></th>\n",
       "      <th></th>\n",
       "      <th></th>\n",
       "      <th></th>\n",
       "      <th></th>\n",
       "      <th></th>\n",
       "      <th></th>\n",
       "      <th>107年08月24日每5秒委託成交統計</th>\n",
       "    </tr>\n",
       "  </thead>\n",
       "  <tbody>\n",
       "    <tr>\n",
       "      <th>時間</th>\n",
       "      <th>累積委託買進筆數</th>\n",
       "      <th>累積委託買進數量</th>\n",
       "      <th>累積委託賣出筆數</th>\n",
       "      <th>累積委託賣出數量</th>\n",
       "      <th>累積成交筆數</th>\n",
       "      <th>累積成交數量</th>\n",
       "      <th>累積成交金額</th>\n",
       "      <td>NaN</td>\n",
       "    </tr>\n",
       "    <tr>\n",
       "      <th>=\"09:00:00\"</th>\n",
       "      <th>172,222</th>\n",
       "      <th>2,887,096</th>\n",
       "      <th>171,512</th>\n",
       "      <th>1,079,843</th>\n",
       "      <th>0</th>\n",
       "      <th>0</th>\n",
       "      <th>0</th>\n",
       "      <td>NaN</td>\n",
       "    </tr>\n",
       "    <tr>\n",
       "      <th>=\"09:00:05\"</th>\n",
       "      <th>173,884</th>\n",
       "      <th>2,894,446</th>\n",
       "      <th>172,874</th>\n",
       "      <th>1,081,783</th>\n",
       "      <th>7,020</th>\n",
       "      <th>24,378</th>\n",
       "      <th>1,354</th>\n",
       "      <td>NaN</td>\n",
       "    </tr>\n",
       "  </tbody>\n",
       "</table>\n",
       "</div>"
      ],
      "text/plain": [
       "                                                                        107年08月24日每5秒委託成交統計\n",
       "時間          累積委託買進筆數 累積委託買進數量  累積委託賣出筆數 累積委託賣出數量  累積成交筆數 累積成交數量 累積成交金額                  NaN\n",
       "=\"09:00:00\" 172,222  2,887,096 171,512  1,079,843 0      0      0                       NaN\n",
       "=\"09:00:05\" 173,884  2,894,446 172,874  1,081,783 7,020  24,378 1,354                   NaN"
      ]
     },
     "execution_count": 29,
     "metadata": {},
     "output_type": "execute_result"
    }
   ],
   "source": [
    "df2.head(3)"
   ]
  },
  {
   "cell_type": "code",
   "execution_count": 32,
   "metadata": {},
   "outputs": [
    {
     "data": {
      "text/html": [
       "<div>\n",
       "<style>\n",
       "    .dataframe thead tr:only-child th {\n",
       "        text-align: right;\n",
       "    }\n",
       "\n",
       "    .dataframe thead th {\n",
       "        text-align: left;\n",
       "    }\n",
       "\n",
       "    .dataframe tbody tr th {\n",
       "        vertical-align: top;\n",
       "    }\n",
       "</style>\n",
       "<table border=\"1\" class=\"dataframe\">\n",
       "  <thead>\n",
       "    <tr style=\"text-align: right;\">\n",
       "      <th></th>\n",
       "      <th></th>\n",
       "      <th></th>\n",
       "      <th></th>\n",
       "      <th></th>\n",
       "      <th></th>\n",
       "      <th></th>\n",
       "      <th></th>\n",
       "      <th>107年08月24日每5秒委託成交統計</th>\n",
       "    </tr>\n",
       "  </thead>\n",
       "  <tbody>\n",
       "    <tr>\n",
       "      <th>13:29:55</th>\n",
       "      <th>4,251,354</th>\n",
       "      <th>10,409,648</th>\n",
       "      <th>4,908,080</th>\n",
       "      <th>7,352,480</th>\n",
       "      <th>767,062</th>\n",
       "      <th>4,108,681</th>\n",
       "      <th>90,791</th>\n",
       "      <td>NaN</td>\n",
       "    </tr>\n",
       "    <tr>\n",
       "      <th>13:30:00</th>\n",
       "      <th>4,252,887</th>\n",
       "      <th>10,422,021</th>\n",
       "      <th>4,909,413</th>\n",
       "      <th>7,370,935</th>\n",
       "      <th>798,671</th>\n",
       "      <th>4,229,072</th>\n",
       "      <th>96,246</th>\n",
       "      <td>NaN</td>\n",
       "    </tr>\n",
       "    <tr>\n",
       "      <th>說明:</th>\n",
       "      <th>NaN</th>\n",
       "      <th>NaN</th>\n",
       "      <th>NaN</th>\n",
       "      <th>NaN</th>\n",
       "      <th>NaN</th>\n",
       "      <th>NaN</th>\n",
       "      <th>NaN</th>\n",
       "      <td>NaN</td>\n",
       "    </tr>\n",
       "    <tr>\n",
       "      <th>以上資訊不含零股、鉅額、盤後定價、拍賣及標購。</th>\n",
       "      <th>NaN</th>\n",
       "      <th>NaN</th>\n",
       "      <th>NaN</th>\n",
       "      <th>NaN</th>\n",
       "      <th>NaN</th>\n",
       "      <th>NaN</th>\n",
       "      <th>NaN</th>\n",
       "      <td>NaN</td>\n",
       "    </tr>\n",
       "    <tr>\n",
       "      <th>以上為「整體市場」資訊，為股票、基金、認購權證、認售權證及其他有價證券之合計。</th>\n",
       "      <th>NaN</th>\n",
       "      <th>NaN</th>\n",
       "      <th>NaN</th>\n",
       "      <th>NaN</th>\n",
       "      <th>NaN</th>\n",
       "      <th>NaN</th>\n",
       "      <th>NaN</th>\n",
       "      <td>NaN</td>\n",
       "    </tr>\n",
       "    <tr>\n",
       "      <th>除境外指數股票型基金及外國股票第二上市外，餘交易單位皆為千股。</th>\n",
       "      <th>NaN</th>\n",
       "      <th>NaN</th>\n",
       "      <th>NaN</th>\n",
       "      <th>NaN</th>\n",
       "      <th>NaN</th>\n",
       "      <th>NaN</th>\n",
       "      <th>NaN</th>\n",
       "      <td>NaN</td>\n",
       "    </tr>\n",
       "    <tr>\n",
       "      <th>民國100年1月16日以前，資料為每一分鐘方式提供。</th>\n",
       "      <th>NaN</th>\n",
       "      <th>NaN</th>\n",
       "      <th>NaN</th>\n",
       "      <th>NaN</th>\n",
       "      <th>NaN</th>\n",
       "      <th>NaN</th>\n",
       "      <th>NaN</th>\n",
       "      <td>NaN</td>\n",
       "    </tr>\n",
       "    <tr>\n",
       "      <th>民國103年2月23日以前，資料為每15秒方式提供。</th>\n",
       "      <th>NaN</th>\n",
       "      <th>NaN</th>\n",
       "      <th>NaN</th>\n",
       "      <th>NaN</th>\n",
       "      <th>NaN</th>\n",
       "      <th>NaN</th>\n",
       "      <th>NaN</th>\n",
       "      <td>NaN</td>\n",
       "    </tr>\n",
       "    <tr>\n",
       "      <th>民國103年2月24日以後，資料為每10秒方式提供。</th>\n",
       "      <th>NaN</th>\n",
       "      <th>NaN</th>\n",
       "      <th>NaN</th>\n",
       "      <th>NaN</th>\n",
       "      <th>NaN</th>\n",
       "      <th>NaN</th>\n",
       "      <th>NaN</th>\n",
       "      <td>NaN</td>\n",
       "    </tr>\n",
       "    <tr>\n",
       "      <th>民國103年12月29日以後，資料為每5秒方式提供。</th>\n",
       "      <th>NaN</th>\n",
       "      <th>NaN</th>\n",
       "      <th>NaN</th>\n",
       "      <th>NaN</th>\n",
       "      <th>NaN</th>\n",
       "      <th>NaN</th>\n",
       "      <th>NaN</th>\n",
       "      <td>NaN</td>\n",
       "    </tr>\n",
       "  </tbody>\n",
       "</table>\n",
       "</div>"
      ],
      "text/plain": [
       "                                                                                                           107年08月24日每5秒委託成交統計\n",
       "13:29:55                                4,251,354 10,409,648 4,908,080 7,352,480 767,062 4,108,681 90,791                  NaN\n",
       "13:30:00                                4,252,887 10,422,021 4,909,413 7,370,935 798,671 4,229,072 96,246                  NaN\n",
       "說明:                                     NaN       NaN        NaN       NaN       NaN     NaN       NaN                     NaN\n",
       "以上資訊不含零股、鉅額、盤後定價、拍賣及標購。                 NaN       NaN        NaN       NaN       NaN     NaN       NaN                     NaN\n",
       "以上為「整體市場」資訊，為股票、基金、認購權證、認售權證及其他有價證券之合計。 NaN       NaN        NaN       NaN       NaN     NaN       NaN                     NaN\n",
       "除境外指數股票型基金及外國股票第二上市外，餘交易單位皆為千股。         NaN       NaN        NaN       NaN       NaN     NaN       NaN                     NaN\n",
       "民國100年1月16日以前，資料為每一分鐘方式提供。              NaN       NaN        NaN       NaN       NaN     NaN       NaN                     NaN\n",
       "民國103年2月23日以前，資料為每15秒方式提供。              NaN       NaN        NaN       NaN       NaN     NaN       NaN                     NaN\n",
       "民國103年2月24日以後，資料為每10秒方式提供。              NaN       NaN        NaN       NaN       NaN     NaN       NaN                     NaN\n",
       "民國103年12月29日以後，資料為每5秒方式提供。              NaN       NaN        NaN       NaN       NaN     NaN       NaN                     NaN"
      ]
     },
     "execution_count": 32,
     "metadata": {},
     "output_type": "execute_result"
    }
   ],
   "source": [
    "df2.tail(10)"
   ]
  },
  {
   "cell_type": "code",
   "execution_count": 43,
   "metadata": {},
   "outputs": [
    {
     "data": {
      "text/plain": [
       "array([[ 1.47581832, -1.28253615, -0.13124803, -0.93473705],\n",
       "       [-1.78683186,  0.00768338,  0.64174998, -0.80428754],\n",
       "       [ 0.10308721, -0.01955852,  1.30994002,  0.50847806]])"
      ]
     },
     "execution_count": 43,
     "metadata": {},
     "output_type": "execute_result"
    }
   ],
   "source": [
    "df1.values"
   ]
  },
  {
   "cell_type": "code",
   "execution_count": 45,
   "metadata": {},
   "outputs": [
    {
     "data": {
      "text/plain": [
       "DatetimeIndex(['2016-01-04', '2018-05-08', '2003-11-30'], dtype='datetime64[ns]', freq=None)"
      ]
     },
     "execution_count": 45,
     "metadata": {},
     "output_type": "execute_result"
    }
   ],
   "source": [
    "df1.index"
   ]
  },
  {
   "cell_type": "code",
   "execution_count": 46,
   "metadata": {},
   "outputs": [
    {
     "data": {
      "text/html": [
       "<div>\n",
       "<style>\n",
       "    .dataframe thead tr:only-child th {\n",
       "        text-align: right;\n",
       "    }\n",
       "\n",
       "    .dataframe thead th {\n",
       "        text-align: left;\n",
       "    }\n",
       "\n",
       "    .dataframe tbody tr th {\n",
       "        vertical-align: top;\n",
       "    }\n",
       "</style>\n",
       "<table border=\"1\" class=\"dataframe\">\n",
       "  <thead>\n",
       "    <tr style=\"text-align: right;\">\n",
       "      <th></th>\n",
       "      <th>A</th>\n",
       "      <th>B</th>\n",
       "      <th>C</th>\n",
       "      <th>D</th>\n",
       "    </tr>\n",
       "  </thead>\n",
       "  <tbody>\n",
       "    <tr>\n",
       "      <th>count</th>\n",
       "      <td>3.000000</td>\n",
       "      <td>3.000000</td>\n",
       "      <td>3.000000</td>\n",
       "      <td>3.000000</td>\n",
       "    </tr>\n",
       "    <tr>\n",
       "      <th>mean</th>\n",
       "      <td>-0.069309</td>\n",
       "      <td>-0.431470</td>\n",
       "      <td>0.606814</td>\n",
       "      <td>-0.410182</td>\n",
       "    </tr>\n",
       "    <tr>\n",
       "      <th>std</th>\n",
       "      <td>1.638143</td>\n",
       "      <td>0.737170</td>\n",
       "      <td>0.721229</td>\n",
       "      <td>0.798252</td>\n",
       "    </tr>\n",
       "    <tr>\n",
       "      <th>min</th>\n",
       "      <td>-1.786832</td>\n",
       "      <td>-1.282536</td>\n",
       "      <td>-0.131248</td>\n",
       "      <td>-0.934737</td>\n",
       "    </tr>\n",
       "    <tr>\n",
       "      <th>25%</th>\n",
       "      <td>-0.841872</td>\n",
       "      <td>-0.651047</td>\n",
       "      <td>0.255251</td>\n",
       "      <td>-0.869512</td>\n",
       "    </tr>\n",
       "    <tr>\n",
       "      <th>50%</th>\n",
       "      <td>0.103087</td>\n",
       "      <td>-0.019559</td>\n",
       "      <td>0.641750</td>\n",
       "      <td>-0.804288</td>\n",
       "    </tr>\n",
       "    <tr>\n",
       "      <th>75%</th>\n",
       "      <td>0.789453</td>\n",
       "      <td>-0.005938</td>\n",
       "      <td>0.975845</td>\n",
       "      <td>-0.147905</td>\n",
       "    </tr>\n",
       "    <tr>\n",
       "      <th>max</th>\n",
       "      <td>1.475818</td>\n",
       "      <td>0.007683</td>\n",
       "      <td>1.309940</td>\n",
       "      <td>0.508478</td>\n",
       "    </tr>\n",
       "  </tbody>\n",
       "</table>\n",
       "</div>"
      ],
      "text/plain": [
       "              A         B         C         D\n",
       "count  3.000000  3.000000  3.000000  3.000000\n",
       "mean  -0.069309 -0.431470  0.606814 -0.410182\n",
       "std    1.638143  0.737170  0.721229  0.798252\n",
       "min   -1.786832 -1.282536 -0.131248 -0.934737\n",
       "25%   -0.841872 -0.651047  0.255251 -0.869512\n",
       "50%    0.103087 -0.019559  0.641750 -0.804288\n",
       "75%    0.789453 -0.005938  0.975845 -0.147905\n",
       "max    1.475818  0.007683  1.309940  0.508478"
      ]
     },
     "execution_count": 46,
     "metadata": {},
     "output_type": "execute_result"
    }
   ],
   "source": [
    "df1.describe()"
   ]
  },
  {
   "cell_type": "code",
   "execution_count": 56,
   "metadata": {},
   "outputs": [
    {
     "name": "stdout",
     "output_type": "stream",
     "text": [
      "                   A         B        C         D\n",
      "2018-05-08 -1.786832  0.007683  0.64175 -0.804288\n",
      "2003-11-30  0.103087 -0.019559  1.30994  0.508478\n",
      "\n",
      "                   A         C\n",
      "2016-01-04  1.475818 -0.131248\n",
      "2018-05-08 -1.786832  0.641750\n",
      "2003-11-30  0.103087  1.309940\n",
      "\n",
      "                   A        C\n",
      "2018-05-08 -1.786832  0.64175\n",
      "2003-11-30  0.103087  1.30994\n"
     ]
    }
   ],
   "source": [
    "print(df1[1:3])\n",
    "print()\n",
    "\n",
    "print(df1[['A','C']])\n",
    "print()\n",
    "\n",
    "print(df1[['A','C']][1:3])"
   ]
  },
  {
   "cell_type": "code",
   "execution_count": 58,
   "metadata": {},
   "outputs": [
    {
     "data": {
      "text/html": [
       "<div>\n",
       "<style>\n",
       "    .dataframe thead tr:only-child th {\n",
       "        text-align: right;\n",
       "    }\n",
       "\n",
       "    .dataframe thead th {\n",
       "        text-align: left;\n",
       "    }\n",
       "\n",
       "    .dataframe tbody tr th {\n",
       "        vertical-align: top;\n",
       "    }\n",
       "</style>\n",
       "<table border=\"1\" class=\"dataframe\">\n",
       "  <thead>\n",
       "    <tr style=\"text-align: right;\">\n",
       "      <th></th>\n",
       "      <th>A</th>\n",
       "      <th>B</th>\n",
       "      <th>C</th>\n",
       "      <th>D</th>\n",
       "    </tr>\n",
       "  </thead>\n",
       "  <tbody>\n",
       "    <tr>\n",
       "      <th>2016-01-04</th>\n",
       "      <td>1.475818</td>\n",
       "      <td>-1.282536</td>\n",
       "      <td>-0.131248</td>\n",
       "      <td>-0.934737</td>\n",
       "    </tr>\n",
       "    <tr>\n",
       "      <th>2003-11-30</th>\n",
       "      <td>0.103087</td>\n",
       "      <td>-0.019559</td>\n",
       "      <td>1.309940</td>\n",
       "      <td>0.508478</td>\n",
       "    </tr>\n",
       "  </tbody>\n",
       "</table>\n",
       "</div>"
      ],
      "text/plain": [
       "                   A         B         C         D\n",
       "2016-01-04  1.475818 -1.282536 -0.131248 -0.934737\n",
       "2003-11-30  0.103087 -0.019559  1.309940  0.508478"
      ]
     },
     "execution_count": 58,
     "metadata": {},
     "output_type": "execute_result"
    }
   ],
   "source": [
    "df1[df1['A']>0]"
   ]
  },
  {
   "cell_type": "code",
   "execution_count": 73,
   "metadata": {},
   "outputs": [
    {
     "name": "stdout",
     "output_type": "stream",
     "text": [
      "2016-01-04    1.475818\n",
      "2018-05-08   -1.786832\n",
      "2003-11-30    0.103087\n",
      "Name: A, dtype: float64\n",
      "\n",
      "                   A         B\n",
      "2016-01-04  1.475818 -1.282536\n",
      "2018-05-08 -1.786832  0.007683\n",
      "2003-11-30  0.103087 -0.019559\n",
      "\n",
      "                   A         B\n",
      "2016-01-04  1.475818 -1.282536\n",
      "2018-05-08 -1.786832  0.007683\n",
      "1.475818318585786\n",
      "\n",
      "1.475818318585786\n"
     ]
    }
   ],
   "source": [
    " # df1.loc[row_indwex,column_index]\n",
    "\n",
    "print(df1.loc[:,'A'])  \n",
    "print()\n",
    "\n",
    "print(df1.loc[:,'A':'B'])\n",
    "print()\n",
    "\n",
    "AA = df1.loc[date1[:2],'A':'B']\n",
    "print(AA)\n",
    "print(AA.loc[date1[0],'A'])\n",
    "print()\n",
    "\n",
    "print(df1.at[date1[0],'A'])"
   ]
  },
  {
   "cell_type": "code",
   "execution_count": 74,
   "metadata": {},
   "outputs": [
    {
     "name": "stdout",
     "output_type": "stream",
     "text": [
      "0.5084780575431417\n",
      "\n",
      "                   B         D\n",
      "2016-01-04 -1.282536 -0.934737\n",
      "2003-11-30 -0.019559  0.508478\n",
      "\n"
     ]
    }
   ],
   "source": [
    "# df1.iloc[row_index,column_index]\n",
    "\n",
    "print(df1.iloc[2,3])\n",
    "print()\n",
    "\n",
    "print(df1.iloc[[0,2],[1,3]])\n",
    "print()\n"
   ]
  },
  {
   "cell_type": "code",
   "execution_count": 89,
   "metadata": {},
   "outputs": [
    {
     "name": "stdout",
     "output_type": "stream",
     "text": [
      "2016-01-04   -0.131248\n",
      "2003-11-30    1.309940\n",
      "Name: C, dtype: float64\n",
      "\n",
      "                   A         C\n",
      "2016-01-04  1.475818 -0.131248\n",
      "2018-05-08 -1.786832  0.641750\n",
      "\n",
      "                   A         C         D\n",
      "2016-01-04  1.475818 -0.131248 -0.934737\n",
      "2018-05-08 -1.786832  0.641750 -0.804288\n"
     ]
    }
   ],
   "source": [
    "print(df1.ix[[0,2],2])\n",
    "print()\n",
    "\n",
    "print(df1.ix[0:2,['A','C']])\n",
    "print()\n",
    "\n",
    "print(df1.ix[0:2,df1.iloc[2]>0])"
   ]
  },
  {
   "cell_type": "code",
   "execution_count": 92,
   "metadata": {},
   "outputs": [
    {
     "name": "stdout",
     "output_type": "stream",
     "text": [
      "   2016-01-04  2018-05-08  2003-11-30\n",
      "A    1.475818   -1.786832    0.103087\n",
      "B   -1.282536    0.007683   -0.019559\n",
      "C   -0.131248    0.641750    1.309940\n",
      "D   -0.934737   -0.804288    0.508478\n",
      "\n",
      "   2016-01-04  2018-05-08  2003-11-30\n",
      "A    1.475818   -1.786832    0.103087\n",
      "B   -1.282536    0.007683   -0.019559\n",
      "C   -0.131248    0.641750    1.309940\n",
      "D   -0.934737   -0.804288    0.508478\n",
      "\n"
     ]
    }
   ],
   "source": [
    "# transpose\n",
    "print(df1.transpose())\n",
    "print()\n",
    "\n",
    "print(df1.T)\n",
    "print()"
   ]
  },
  {
   "cell_type": "code",
   "execution_count": 103,
   "metadata": {},
   "outputs": [
    {
     "name": "stdout",
     "output_type": "stream",
     "text": [
      "                   A         B         C         D\n",
      "date                                              \n",
      "2016-01-04  1.475818 -1.282536 -0.131248 -0.934737\n",
      "2018-05-08 -1.786832  0.007683  0.641750 -0.804288\n",
      "2003-11-30  0.103087 -0.019559  1.309940  0.508478 \n",
      "\n",
      "                   A         B         C         D\n",
      "date                                              \n",
      "2018-05-08 -1.786832  0.007683  0.641750 -0.804288\n",
      "2003-11-30  0.103087 -0.019559  1.309940  0.508478\n",
      "2016-01-04  1.475818 -1.282536 -0.131248 -0.934737 \n",
      "\n",
      "                   A         B         C         D\n",
      "date                                              \n",
      "2018-05-08 -1.786832  0.007683  0.641750 -0.804288\n",
      "2003-11-30  0.103087 -0.019559  1.309940  0.508478\n",
      "2016-01-04  1.475818 -1.282536 -0.131248 -0.934737 \n",
      "\n",
      "                   A         C         D         B\n",
      "date                                              \n",
      "2016-01-04  1.475818 -0.131248 -0.934737 -1.282536\n",
      "2018-05-08 -1.786832  0.641750 -0.804288  0.007683\n",
      "2003-11-30  0.103087  1.309940  0.508478 -0.019559\n"
     ]
    }
   ],
   "source": [
    "# sort\n",
    "print(df1,'\\n')\n",
    "\n",
    "print(df1.sort_values(by='A',axis=0,ascending=True),'\\n')\n",
    "\n",
    "print(df1.sort_values(by=['A','C']),'\\n')\n",
    "\n",
    "print(df1.sort_values(by=list(df1.index),axis=1,ascending=False))"
   ]
  },
  {
   "cell_type": "code",
   "execution_count": 99,
   "metadata": {},
   "outputs": [
    {
     "name": "stdout",
     "output_type": "stream",
     "text": [
      "DatetimeIndex(['2016-01-04', '2018-05-08', '2003-11-30'], dtype='datetime64[ns]', name='date', freq=None) \n",
      "\n",
      "                   A         B         C         D\n",
      "date                                              \n",
      "2016-01-04  1.475818 -1.282536 -0.131248 -0.934737\n",
      "2018-05-08 -1.786832  0.007683  0.641750 -0.804288\n",
      "2003-11-30  0.103087 -0.019559  1.309940  0.508478\n"
     ]
    }
   ],
   "source": [
    "print(df1.index,'\\n')\n",
    "\n",
    "df1.index.name = 'date'\n",
    "print(df1)"
   ]
  },
  {
   "cell_type": "code",
   "execution_count": null,
   "metadata": {},
   "outputs": [],
   "source": []
  },
  {
   "cell_type": "code",
   "execution_count": null,
   "metadata": {},
   "outputs": [],
   "source": []
  }
 ],
 "metadata": {
  "kernelspec": {
   "display_name": "Python 3",
   "language": "python",
   "name": "python3"
  },
  "language_info": {
   "codemirror_mode": {
    "name": "ipython",
    "version": 3
   },
   "file_extension": ".py",
   "mimetype": "text/x-python",
   "name": "python",
   "nbconvert_exporter": "python",
   "pygments_lexer": "ipython3",
   "version": "3.6.5"
  }
 },
 "nbformat": 4,
 "nbformat_minor": 2
}
