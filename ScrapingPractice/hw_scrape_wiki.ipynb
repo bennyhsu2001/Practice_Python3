{
 "cells": [
  {
   "cell_type": "code",
   "execution_count": 1,
   "metadata": {},
   "outputs": [],
   "source": [
    "from bs4 import BeautifulSoup\n",
    "from urllib.request import urlopen\n",
    "import re\n",
    "import random"
   ]
  },
  {
   "cell_type": "code",
   "execution_count": 2,
   "metadata": {},
   "outputs": [],
   "source": [
    "base_url = \"https://zh.wikipedia.org\"    # the base url of wiki\n",
    "his = [\"/wiki/%E7%B6%B2%E8%B7%AF%E7%88%AC%E8%9F%B2\"]    # the first page where we start\n",
    "# use a list to store sub page's link where we visit"
   ]
  },
  {
   "cell_type": "code",
   "execution_count": 3,
   "metadata": {},
   "outputs": [
    {
     "name": "stdout",
     "output_type": "stream",
     "text": [
      "網路爬蟲     url: /wiki/%E7%B6%B2%E8%B7%AF%E7%88%AC%E8%9F%B2\n"
     ]
    }
   ],
   "source": [
    "url = base_url + his[-1]\n",
    "#print(url)\n",
    "html = urlopen(url).read().decode('utf-8')    # to store the html code of pages\n",
    "#print(html)\n",
    "soup = BeautifulSoup(html,features='lxml')    # put the content to a BeautifulSoup obj name soup with lxml type( it can let us use the methods in BeautifulSoup package)\n",
    "#print(soup)\n",
    "print(soup.find('h1').get_text(),'    url:',his[-1])    # to find out the fist page's title and url, which title is in <h1> tag( only first one)"
   ]
  },
  {
   "cell_type": "code",
   "execution_count": 4,
   "metadata": {},
   "outputs": [
    {
     "name": "stdout",
     "output_type": "stream",
     "text": [
      "['/wiki/%E7%B6%B2%E8%B7%AF%E7%88%AC%E8%9F%B2', '/wiki/%E8%B6%85%E6%96%87%E6%9C%AC%E5%82%B3%E8%BC%B8%E5%8D%94%E5%AE%9A']\n"
     ]
    }
   ],
   "source": [
    "sub_urls = soup.find_all('a',{'href':re.compile('^/wiki/(%.{2})+$')})    # to find all the chinese sub pages' url \n",
    "# print(sub_urls)\n",
    "\n",
    "if len(sub_urls)!=0:\n",
    "    his.append(random.sample(sub_urls,1)[0]['href'])\n",
    "#    random chose one item in sub_urls[], pick the index[0] of it, then find the string after 'href'\n",
    "else: \n",
    "    his.pop()  # if the whole page has no link, then remove the link. back to previous page then do again\n",
    "print(his)"
   ]
  },
  {
   "cell_type": "code",
   "execution_count": 5,
   "metadata": {},
   "outputs": [],
   "source": [
    "# help (soup.find_all)\n",
    "# help(random.sample)"
   ]
  },
  {
   "cell_type": "code",
   "execution_count": 6,
   "metadata": {},
   "outputs": [
    {
     "name": "stdout",
     "output_type": "stream",
     "text": [
      "how many times will you want to do:20\n",
      "0 網路爬蟲 \turl:  /wiki/%E7%B6%B2%E8%B7%AF%E7%88%AC%E8%9F%B2\n",
      "\t ['/wiki/%E7%B6%B2%E8%B7%AF%E7%88%AC%E8%9F%B2']\n",
      "\t ['/wiki/%E7%B6%B2%E8%B7%AF%E7%88%AC%E8%9F%B2', '/wiki/%E8%B6%85%E6%96%87%E6%9C%AC%E5%82%B3%E8%BC%B8%E5%8D%94%E5%AE%9A']\n",
      "1 超文本传输协议 \turl:  /wiki/%E8%B6%85%E6%96%87%E6%9C%AC%E5%82%B3%E8%BC%B8%E5%8D%94%E5%AE%9A\n",
      "\t ['/wiki/%E7%B6%B2%E8%B7%AF%E7%88%AC%E8%9F%B2', '/wiki/%E8%B6%85%E6%96%87%E6%9C%AC%E5%82%B3%E8%BC%B8%E5%8D%94%E5%AE%9A']\n",
      "\t ['/wiki/%E7%B6%B2%E8%B7%AF%E7%88%AC%E8%9F%B2', '/wiki/%E8%B6%85%E6%96%87%E6%9C%AC%E5%82%B3%E8%BC%B8%E5%8D%94%E5%AE%9A', '/wiki/%E8%AF%AD%E4%B9%89%E7%BD%91%E7%BB%9C']\n",
      "2 语义网络 \turl:  /wiki/%E8%AF%AD%E4%B9%89%E7%BD%91%E7%BB%9C\n",
      "\t ['/wiki/%E7%B6%B2%E8%B7%AF%E7%88%AC%E8%9F%B2', '/wiki/%E8%B6%85%E6%96%87%E6%9C%AC%E5%82%B3%E8%BC%B8%E5%8D%94%E5%AE%9A', '/wiki/%E8%AF%AD%E4%B9%89%E7%BD%91%E7%BB%9C']\n",
      "\t ['/wiki/%E7%B6%B2%E8%B7%AF%E7%88%AC%E8%9F%B2', '/wiki/%E8%B6%85%E6%96%87%E6%9C%AC%E5%82%B3%E8%BC%B8%E5%8D%94%E5%AE%9A', '/wiki/%E8%AF%AD%E4%B9%89%E7%BD%91%E7%BB%9C', '/wiki/%E4%B8%80%E4%BD%93%E5%8C%96%E5%8C%BB%E5%AD%A6%E8%AF%AD%E8%A8%80%E7%B3%BB%E7%BB%9F']\n",
      "3 一体化医学语言系统 \turl:  /wiki/%E4%B8%80%E4%BD%93%E5%8C%96%E5%8C%BB%E5%AD%A6%E8%AF%AD%E8%A8%80%E7%B3%BB%E7%BB%9F\n",
      "\t ['/wiki/%E7%B6%B2%E8%B7%AF%E7%88%AC%E8%9F%B2', '/wiki/%E8%B6%85%E6%96%87%E6%9C%AC%E5%82%B3%E8%BC%B8%E5%8D%94%E5%AE%9A', '/wiki/%E8%AF%AD%E4%B9%89%E7%BD%91%E7%BB%9C', '/wiki/%E4%B8%80%E4%BD%93%E5%8C%96%E5%8C%BB%E5%AD%A6%E8%AF%AD%E8%A8%80%E7%B3%BB%E7%BB%9F']\n",
      "\t ['/wiki/%E7%B6%B2%E8%B7%AF%E7%88%AC%E8%9F%B2', '/wiki/%E8%B6%85%E6%96%87%E6%9C%AC%E5%82%B3%E8%BC%B8%E5%8D%94%E5%AE%9A', '/wiki/%E8%AF%AD%E4%B9%89%E7%BD%91%E7%BB%9C', '/wiki/%E4%B8%80%E4%BD%93%E5%8C%96%E5%8C%BB%E5%AD%A6%E8%AF%AD%E8%A8%80%E7%B3%BB%E7%BB%9F', '/wiki/%E5%8F%A5%E6%B3%95']\n",
      "4 语法 \turl:  /wiki/%E5%8F%A5%E6%B3%95\n",
      "\t ['/wiki/%E7%B6%B2%E8%B7%AF%E7%88%AC%E8%9F%B2', '/wiki/%E8%B6%85%E6%96%87%E6%9C%AC%E5%82%B3%E8%BC%B8%E5%8D%94%E5%AE%9A', '/wiki/%E8%AF%AD%E4%B9%89%E7%BD%91%E7%BB%9C', '/wiki/%E4%B8%80%E4%BD%93%E5%8C%96%E5%8C%BB%E5%AD%A6%E8%AF%AD%E8%A8%80%E7%B3%BB%E7%BB%9F', '/wiki/%E5%8F%A5%E6%B3%95']\n",
      "\t ['/wiki/%E7%B6%B2%E8%B7%AF%E7%88%AC%E8%9F%B2', '/wiki/%E8%B6%85%E6%96%87%E6%9C%AC%E5%82%B3%E8%BC%B8%E5%8D%94%E5%AE%9A', '/wiki/%E8%AF%AD%E4%B9%89%E7%BD%91%E7%BB%9C', '/wiki/%E4%B8%80%E4%BD%93%E5%8C%96%E5%8C%BB%E5%AD%A6%E8%AF%AD%E8%A8%80%E7%B3%BB%E7%BB%9F', '/wiki/%E5%8F%A5%E6%B3%95', '/wiki/%E5%8F%A5%E6%B3%95']\n",
      "5 语法 \turl:  /wiki/%E5%8F%A5%E6%B3%95\n",
      "\t ['/wiki/%E7%B6%B2%E8%B7%AF%E7%88%AC%E8%9F%B2', '/wiki/%E8%B6%85%E6%96%87%E6%9C%AC%E5%82%B3%E8%BC%B8%E5%8D%94%E5%AE%9A', '/wiki/%E8%AF%AD%E4%B9%89%E7%BD%91%E7%BB%9C', '/wiki/%E4%B8%80%E4%BD%93%E5%8C%96%E5%8C%BB%E5%AD%A6%E8%AF%AD%E8%A8%80%E7%B3%BB%E7%BB%9F', '/wiki/%E5%8F%A5%E6%B3%95', '/wiki/%E5%8F%A5%E6%B3%95']\n",
      "\t ['/wiki/%E7%B6%B2%E8%B7%AF%E7%88%AC%E8%9F%B2', '/wiki/%E8%B6%85%E6%96%87%E6%9C%AC%E5%82%B3%E8%BC%B8%E5%8D%94%E5%AE%9A', '/wiki/%E8%AF%AD%E4%B9%89%E7%BD%91%E7%BB%9C', '/wiki/%E4%B8%80%E4%BD%93%E5%8C%96%E5%8C%BB%E5%AD%A6%E8%AF%AD%E8%A8%80%E7%B3%BB%E7%BB%9F', '/wiki/%E5%8F%A5%E6%B3%95', '/wiki/%E5%8F%A5%E6%B3%95', '/wiki/%E9%A6%99%E6%B8%AF%E7%B2%B5%E8%AA%9E']\n",
      "6 香港粵語 \turl:  /wiki/%E9%A6%99%E6%B8%AF%E7%B2%B5%E8%AA%9E\n",
      "\t ['/wiki/%E7%B6%B2%E8%B7%AF%E7%88%AC%E8%9F%B2', '/wiki/%E8%B6%85%E6%96%87%E6%9C%AC%E5%82%B3%E8%BC%B8%E5%8D%94%E5%AE%9A', '/wiki/%E8%AF%AD%E4%B9%89%E7%BD%91%E7%BB%9C', '/wiki/%E4%B8%80%E4%BD%93%E5%8C%96%E5%8C%BB%E5%AD%A6%E8%AF%AD%E8%A8%80%E7%B3%BB%E7%BB%9F', '/wiki/%E5%8F%A5%E6%B3%95', '/wiki/%E5%8F%A5%E6%B3%95', '/wiki/%E9%A6%99%E6%B8%AF%E7%B2%B5%E8%AA%9E']\n",
      "\t ['/wiki/%E7%B6%B2%E8%B7%AF%E7%88%AC%E8%9F%B2', '/wiki/%E8%B6%85%E6%96%87%E6%9C%AC%E5%82%B3%E8%BC%B8%E5%8D%94%E5%AE%9A', '/wiki/%E8%AF%AD%E4%B9%89%E7%BD%91%E7%BB%9C', '/wiki/%E4%B8%80%E4%BD%93%E5%8C%96%E5%8C%BB%E5%AD%A6%E8%AF%AD%E8%A8%80%E7%B3%BB%E7%BB%9F', '/wiki/%E5%8F%A5%E6%B3%95', '/wiki/%E5%8F%A5%E6%B3%95', '/wiki/%E9%A6%99%E6%B8%AF%E7%B2%B5%E8%AA%9E', '/wiki/%E9%84%82%E4%BC%A6%E6%98%A5%E8%AF%AD']\n",
      "7 鄂伦春语 \turl:  /wiki/%E9%84%82%E4%BC%A6%E6%98%A5%E8%AF%AD\n",
      "\t ['/wiki/%E7%B6%B2%E8%B7%AF%E7%88%AC%E8%9F%B2', '/wiki/%E8%B6%85%E6%96%87%E6%9C%AC%E5%82%B3%E8%BC%B8%E5%8D%94%E5%AE%9A', '/wiki/%E8%AF%AD%E4%B9%89%E7%BD%91%E7%BB%9C', '/wiki/%E4%B8%80%E4%BD%93%E5%8C%96%E5%8C%BB%E5%AD%A6%E8%AF%AD%E8%A8%80%E7%B3%BB%E7%BB%9F', '/wiki/%E5%8F%A5%E6%B3%95', '/wiki/%E5%8F%A5%E6%B3%95', '/wiki/%E9%A6%99%E6%B8%AF%E7%B2%B5%E8%AA%9E', '/wiki/%E9%84%82%E4%BC%A6%E6%98%A5%E8%AF%AD']\n",
      "\t ['/wiki/%E7%B6%B2%E8%B7%AF%E7%88%AC%E8%9F%B2', '/wiki/%E8%B6%85%E6%96%87%E6%9C%AC%E5%82%B3%E8%BC%B8%E5%8D%94%E5%AE%9A', '/wiki/%E8%AF%AD%E4%B9%89%E7%BD%91%E7%BB%9C', '/wiki/%E4%B8%80%E4%BD%93%E5%8C%96%E5%8C%BB%E5%AD%A6%E8%AF%AD%E8%A8%80%E7%B3%BB%E7%BB%9F', '/wiki/%E5%8F%A5%E6%B3%95', '/wiki/%E5%8F%A5%E6%B3%95', '/wiki/%E9%A6%99%E6%B8%AF%E7%B2%B5%E8%AA%9E', '/wiki/%E9%84%82%E4%BC%A6%E6%98%A5%E8%AF%AD', '/wiki/%E6%B5%AA%E9%80%9F%E8%AF%AD']\n",
      "8 浪速语 \turl:  /wiki/%E6%B5%AA%E9%80%9F%E8%AF%AD\n",
      "\t ['/wiki/%E7%B6%B2%E8%B7%AF%E7%88%AC%E8%9F%B2', '/wiki/%E8%B6%85%E6%96%87%E6%9C%AC%E5%82%B3%E8%BC%B8%E5%8D%94%E5%AE%9A', '/wiki/%E8%AF%AD%E4%B9%89%E7%BD%91%E7%BB%9C', '/wiki/%E4%B8%80%E4%BD%93%E5%8C%96%E5%8C%BB%E5%AD%A6%E8%AF%AD%E8%A8%80%E7%B3%BB%E7%BB%9F', '/wiki/%E5%8F%A5%E6%B3%95', '/wiki/%E5%8F%A5%E6%B3%95', '/wiki/%E9%A6%99%E6%B8%AF%E7%B2%B5%E8%AA%9E', '/wiki/%E9%84%82%E4%BC%A6%E6%98%A5%E8%AF%AD', '/wiki/%E6%B5%AA%E9%80%9F%E8%AF%AD']\n",
      "\t ['/wiki/%E7%B6%B2%E8%B7%AF%E7%88%AC%E8%9F%B2', '/wiki/%E8%B6%85%E6%96%87%E6%9C%AC%E5%82%B3%E8%BC%B8%E5%8D%94%E5%AE%9A', '/wiki/%E8%AF%AD%E4%B9%89%E7%BD%91%E7%BB%9C', '/wiki/%E4%B8%80%E4%BD%93%E5%8C%96%E5%8C%BB%E5%AD%A6%E8%AF%AD%E8%A8%80%E7%B3%BB%E7%BB%9F', '/wiki/%E5%8F%A5%E6%B3%95', '/wiki/%E5%8F%A5%E6%B3%95', '/wiki/%E9%A6%99%E6%B8%AF%E7%B2%B5%E8%AA%9E', '/wiki/%E9%84%82%E4%BC%A6%E6%98%A5%E8%AF%AD', '/wiki/%E6%B5%AA%E9%80%9F%E8%AF%AD', '/wiki/%E5%8E%9F%E5%A7%8B%E9%96%A9%E8%AA%9E']\n",
      "9 原始閩語 \turl:  /wiki/%E5%8E%9F%E5%A7%8B%E9%96%A9%E8%AA%9E\n",
      "\t ['/wiki/%E7%B6%B2%E8%B7%AF%E7%88%AC%E8%9F%B2', '/wiki/%E8%B6%85%E6%96%87%E6%9C%AC%E5%82%B3%E8%BC%B8%E5%8D%94%E5%AE%9A', '/wiki/%E8%AF%AD%E4%B9%89%E7%BD%91%E7%BB%9C', '/wiki/%E4%B8%80%E4%BD%93%E5%8C%96%E5%8C%BB%E5%AD%A6%E8%AF%AD%E8%A8%80%E7%B3%BB%E7%BB%9F', '/wiki/%E5%8F%A5%E6%B3%95', '/wiki/%E5%8F%A5%E6%B3%95', '/wiki/%E9%A6%99%E6%B8%AF%E7%B2%B5%E8%AA%9E', '/wiki/%E9%84%82%E4%BC%A6%E6%98%A5%E8%AF%AD', '/wiki/%E6%B5%AA%E9%80%9F%E8%AF%AD', '/wiki/%E5%8E%9F%E5%A7%8B%E9%96%A9%E8%AA%9E']\n",
      "\t ['/wiki/%E7%B6%B2%E8%B7%AF%E7%88%AC%E8%9F%B2', '/wiki/%E8%B6%85%E6%96%87%E6%9C%AC%E5%82%B3%E8%BC%B8%E5%8D%94%E5%AE%9A', '/wiki/%E8%AF%AD%E4%B9%89%E7%BD%91%E7%BB%9C', '/wiki/%E4%B8%80%E4%BD%93%E5%8C%96%E5%8C%BB%E5%AD%A6%E8%AF%AD%E8%A8%80%E7%B3%BB%E7%BB%9F', '/wiki/%E5%8F%A5%E6%B3%95', '/wiki/%E5%8F%A5%E6%B3%95', '/wiki/%E9%A6%99%E6%B8%AF%E7%B2%B5%E8%AA%9E', '/wiki/%E9%84%82%E4%BC%A6%E6%98%A5%E8%AF%AD', '/wiki/%E6%B5%AA%E9%80%9F%E8%AF%AD', '/wiki/%E5%8E%9F%E5%A7%8B%E9%96%A9%E8%AA%9E', '/wiki/%E6%B8%A1%E6%B1%9F%E6%9B%B8%E5%8D%81%E4%BA%94%E9%9F%B3']\n",
      "10 渡江書十五音 \turl:  /wiki/%E6%B8%A1%E6%B1%9F%E6%9B%B8%E5%8D%81%E4%BA%94%E9%9F%B3\n",
      "\t ['/wiki/%E7%B6%B2%E8%B7%AF%E7%88%AC%E8%9F%B2', '/wiki/%E8%B6%85%E6%96%87%E6%9C%AC%E5%82%B3%E8%BC%B8%E5%8D%94%E5%AE%9A', '/wiki/%E8%AF%AD%E4%B9%89%E7%BD%91%E7%BB%9C', '/wiki/%E4%B8%80%E4%BD%93%E5%8C%96%E5%8C%BB%E5%AD%A6%E8%AF%AD%E8%A8%80%E7%B3%BB%E7%BB%9F', '/wiki/%E5%8F%A5%E6%B3%95', '/wiki/%E5%8F%A5%E6%B3%95', '/wiki/%E9%A6%99%E6%B8%AF%E7%B2%B5%E8%AA%9E', '/wiki/%E9%84%82%E4%BC%A6%E6%98%A5%E8%AF%AD', '/wiki/%E6%B5%AA%E9%80%9F%E8%AF%AD', '/wiki/%E5%8E%9F%E5%A7%8B%E9%96%A9%E8%AA%9E', '/wiki/%E6%B8%A1%E6%B1%9F%E6%9B%B8%E5%8D%81%E4%BA%94%E9%9F%B3']\n",
      "\t ['/wiki/%E7%B6%B2%E8%B7%AF%E7%88%AC%E8%9F%B2', '/wiki/%E8%B6%85%E6%96%87%E6%9C%AC%E5%82%B3%E8%BC%B8%E5%8D%94%E5%AE%9A', '/wiki/%E8%AF%AD%E4%B9%89%E7%BD%91%E7%BB%9C', '/wiki/%E4%B8%80%E4%BD%93%E5%8C%96%E5%8C%BB%E5%AD%A6%E8%AF%AD%E8%A8%80%E7%B3%BB%E7%BB%9F', '/wiki/%E5%8F%A5%E6%B3%95', '/wiki/%E5%8F%A5%E6%B3%95', '/wiki/%E9%A6%99%E6%B8%AF%E7%B2%B5%E8%AA%9E', '/wiki/%E9%84%82%E4%BC%A6%E6%98%A5%E8%AF%AD', '/wiki/%E6%B5%AA%E9%80%9F%E8%AF%AD', '/wiki/%E5%8E%9F%E5%A7%8B%E9%96%A9%E8%AA%9E', '/wiki/%E6%B8%A1%E6%B1%9F%E6%9B%B8%E5%8D%81%E4%BA%94%E9%9F%B3', '/wiki/%E8%87%BA%E7%81%A3%E4%BF%9A%E8%AB%BA%E9%9B%86%E8%A6%BD']\n"
     ]
    },
    {
     "name": "stdout",
     "output_type": "stream",
     "text": [
      "11 臺灣俚諺集覽 \turl:  /wiki/%E8%87%BA%E7%81%A3%E4%BF%9A%E8%AB%BA%E9%9B%86%E8%A6%BD\n",
      "\t ['/wiki/%E7%B6%B2%E8%B7%AF%E7%88%AC%E8%9F%B2', '/wiki/%E8%B6%85%E6%96%87%E6%9C%AC%E5%82%B3%E8%BC%B8%E5%8D%94%E5%AE%9A', '/wiki/%E8%AF%AD%E4%B9%89%E7%BD%91%E7%BB%9C', '/wiki/%E4%B8%80%E4%BD%93%E5%8C%96%E5%8C%BB%E5%AD%A6%E8%AF%AD%E8%A8%80%E7%B3%BB%E7%BB%9F', '/wiki/%E5%8F%A5%E6%B3%95', '/wiki/%E5%8F%A5%E6%B3%95', '/wiki/%E9%A6%99%E6%B8%AF%E7%B2%B5%E8%AA%9E', '/wiki/%E9%84%82%E4%BC%A6%E6%98%A5%E8%AF%AD', '/wiki/%E6%B5%AA%E9%80%9F%E8%AF%AD', '/wiki/%E5%8E%9F%E5%A7%8B%E9%96%A9%E8%AA%9E', '/wiki/%E6%B8%A1%E6%B1%9F%E6%9B%B8%E5%8D%81%E4%BA%94%E9%9F%B3', '/wiki/%E8%87%BA%E7%81%A3%E4%BF%9A%E8%AB%BA%E9%9B%86%E8%A6%BD']\n",
      "\t ['/wiki/%E7%B6%B2%E8%B7%AF%E7%88%AC%E8%9F%B2', '/wiki/%E8%B6%85%E6%96%87%E6%9C%AC%E5%82%B3%E8%BC%B8%E5%8D%94%E5%AE%9A', '/wiki/%E8%AF%AD%E4%B9%89%E7%BD%91%E7%BB%9C', '/wiki/%E4%B8%80%E4%BD%93%E5%8C%96%E5%8C%BB%E5%AD%A6%E8%AF%AD%E8%A8%80%E7%B3%BB%E7%BB%9F', '/wiki/%E5%8F%A5%E6%B3%95', '/wiki/%E5%8F%A5%E6%B3%95', '/wiki/%E9%A6%99%E6%B8%AF%E7%B2%B5%E8%AA%9E', '/wiki/%E9%84%82%E4%BC%A6%E6%98%A5%E8%AF%AD', '/wiki/%E6%B5%AA%E9%80%9F%E8%AF%AD', '/wiki/%E5%8E%9F%E5%A7%8B%E9%96%A9%E8%AA%9E', '/wiki/%E6%B8%A1%E6%B1%9F%E6%9B%B8%E5%8D%81%E4%BA%94%E9%9F%B3', '/wiki/%E8%87%BA%E7%81%A3%E4%BF%9A%E8%AB%BA%E9%9B%86%E8%A6%BD', '/wiki/%E5%82%B3%E8%AA%AA']\n",
      "12 传说 \turl:  /wiki/%E5%82%B3%E8%AA%AA\n",
      "\t ['/wiki/%E7%B6%B2%E8%B7%AF%E7%88%AC%E8%9F%B2', '/wiki/%E8%B6%85%E6%96%87%E6%9C%AC%E5%82%B3%E8%BC%B8%E5%8D%94%E5%AE%9A', '/wiki/%E8%AF%AD%E4%B9%89%E7%BD%91%E7%BB%9C', '/wiki/%E4%B8%80%E4%BD%93%E5%8C%96%E5%8C%BB%E5%AD%A6%E8%AF%AD%E8%A8%80%E7%B3%BB%E7%BB%9F', '/wiki/%E5%8F%A5%E6%B3%95', '/wiki/%E5%8F%A5%E6%B3%95', '/wiki/%E9%A6%99%E6%B8%AF%E7%B2%B5%E8%AA%9E', '/wiki/%E9%84%82%E4%BC%A6%E6%98%A5%E8%AF%AD', '/wiki/%E6%B5%AA%E9%80%9F%E8%AF%AD', '/wiki/%E5%8E%9F%E5%A7%8B%E9%96%A9%E8%AA%9E', '/wiki/%E6%B8%A1%E6%B1%9F%E6%9B%B8%E5%8D%81%E4%BA%94%E9%9F%B3', '/wiki/%E8%87%BA%E7%81%A3%E4%BF%9A%E8%AB%BA%E9%9B%86%E8%A6%BD', '/wiki/%E5%82%B3%E8%AA%AA']\n",
      "\t ['/wiki/%E7%B6%B2%E8%B7%AF%E7%88%AC%E8%9F%B2', '/wiki/%E8%B6%85%E6%96%87%E6%9C%AC%E5%82%B3%E8%BC%B8%E5%8D%94%E5%AE%9A', '/wiki/%E8%AF%AD%E4%B9%89%E7%BD%91%E7%BB%9C', '/wiki/%E4%B8%80%E4%BD%93%E5%8C%96%E5%8C%BB%E5%AD%A6%E8%AF%AD%E8%A8%80%E7%B3%BB%E7%BB%9F', '/wiki/%E5%8F%A5%E6%B3%95', '/wiki/%E5%8F%A5%E6%B3%95', '/wiki/%E9%A6%99%E6%B8%AF%E7%B2%B5%E8%AA%9E', '/wiki/%E9%84%82%E4%BC%A6%E6%98%A5%E8%AF%AD', '/wiki/%E6%B5%AA%E9%80%9F%E8%AF%AD', '/wiki/%E5%8E%9F%E5%A7%8B%E9%96%A9%E8%AA%9E', '/wiki/%E6%B8%A1%E6%B1%9F%E6%9B%B8%E5%8D%81%E4%BA%94%E9%9F%B3', '/wiki/%E8%87%BA%E7%81%A3%E4%BF%9A%E8%AB%BA%E9%9B%86%E8%A6%BD', '/wiki/%E5%82%B3%E8%AA%AA', '/wiki/%E7%BD%97%E5%AE%BE%E6%B1%89']\n",
      "13 罗宾汉 \turl:  /wiki/%E7%BD%97%E5%AE%BE%E6%B1%89\n",
      "\t ['/wiki/%E7%B6%B2%E8%B7%AF%E7%88%AC%E8%9F%B2', '/wiki/%E8%B6%85%E6%96%87%E6%9C%AC%E5%82%B3%E8%BC%B8%E5%8D%94%E5%AE%9A', '/wiki/%E8%AF%AD%E4%B9%89%E7%BD%91%E7%BB%9C', '/wiki/%E4%B8%80%E4%BD%93%E5%8C%96%E5%8C%BB%E5%AD%A6%E8%AF%AD%E8%A8%80%E7%B3%BB%E7%BB%9F', '/wiki/%E5%8F%A5%E6%B3%95', '/wiki/%E5%8F%A5%E6%B3%95', '/wiki/%E9%A6%99%E6%B8%AF%E7%B2%B5%E8%AA%9E', '/wiki/%E9%84%82%E4%BC%A6%E6%98%A5%E8%AF%AD', '/wiki/%E6%B5%AA%E9%80%9F%E8%AF%AD', '/wiki/%E5%8E%9F%E5%A7%8B%E9%96%A9%E8%AA%9E', '/wiki/%E6%B8%A1%E6%B1%9F%E6%9B%B8%E5%8D%81%E4%BA%94%E9%9F%B3', '/wiki/%E8%87%BA%E7%81%A3%E4%BF%9A%E8%AB%BA%E9%9B%86%E8%A6%BD', '/wiki/%E5%82%B3%E8%AA%AA', '/wiki/%E7%BD%97%E5%AE%BE%E6%B1%89']\n",
      "\t ['/wiki/%E7%B6%B2%E8%B7%AF%E7%88%AC%E8%9F%B2', '/wiki/%E8%B6%85%E6%96%87%E6%9C%AC%E5%82%B3%E8%BC%B8%E5%8D%94%E5%AE%9A', '/wiki/%E8%AF%AD%E4%B9%89%E7%BD%91%E7%BB%9C', '/wiki/%E4%B8%80%E4%BD%93%E5%8C%96%E5%8C%BB%E5%AD%A6%E8%AF%AD%E8%A8%80%E7%B3%BB%E7%BB%9F', '/wiki/%E5%8F%A5%E6%B3%95', '/wiki/%E5%8F%A5%E6%B3%95', '/wiki/%E9%A6%99%E6%B8%AF%E7%B2%B5%E8%AA%9E', '/wiki/%E9%84%82%E4%BC%A6%E6%98%A5%E8%AF%AD', '/wiki/%E6%B5%AA%E9%80%9F%E8%AF%AD', '/wiki/%E5%8E%9F%E5%A7%8B%E9%96%A9%E8%AA%9E', '/wiki/%E6%B8%A1%E6%B1%9F%E6%9B%B8%E5%8D%81%E4%BA%94%E9%9F%B3', '/wiki/%E8%87%BA%E7%81%A3%E4%BF%9A%E8%AB%BA%E9%9B%86%E8%A6%BD', '/wiki/%E5%82%B3%E8%AA%AA', '/wiki/%E7%BD%97%E5%AE%BE%E6%B1%89', '/wiki/%E6%97%A5%E6%9C%AC%E6%94%BE%E9%80%81%E5%8D%94%E6%9C%83']\n",
      "14 日本廣播協會 \turl:  /wiki/%E6%97%A5%E6%9C%AC%E6%94%BE%E9%80%81%E5%8D%94%E6%9C%83\n",
      "\t ['/wiki/%E7%B6%B2%E8%B7%AF%E7%88%AC%E8%9F%B2', '/wiki/%E8%B6%85%E6%96%87%E6%9C%AC%E5%82%B3%E8%BC%B8%E5%8D%94%E5%AE%9A', '/wiki/%E8%AF%AD%E4%B9%89%E7%BD%91%E7%BB%9C', '/wiki/%E4%B8%80%E4%BD%93%E5%8C%96%E5%8C%BB%E5%AD%A6%E8%AF%AD%E8%A8%80%E7%B3%BB%E7%BB%9F', '/wiki/%E5%8F%A5%E6%B3%95', '/wiki/%E5%8F%A5%E6%B3%95', '/wiki/%E9%A6%99%E6%B8%AF%E7%B2%B5%E8%AA%9E', '/wiki/%E9%84%82%E4%BC%A6%E6%98%A5%E8%AF%AD', '/wiki/%E6%B5%AA%E9%80%9F%E8%AF%AD', '/wiki/%E5%8E%9F%E5%A7%8B%E9%96%A9%E8%AA%9E', '/wiki/%E6%B8%A1%E6%B1%9F%E6%9B%B8%E5%8D%81%E4%BA%94%E9%9F%B3', '/wiki/%E8%87%BA%E7%81%A3%E4%BF%9A%E8%AB%BA%E9%9B%86%E8%A6%BD', '/wiki/%E5%82%B3%E8%AA%AA', '/wiki/%E7%BD%97%E5%AE%BE%E6%B1%89', '/wiki/%E6%97%A5%E6%9C%AC%E6%94%BE%E9%80%81%E5%8D%94%E6%9C%83']\n",
      "\t ['/wiki/%E7%B6%B2%E8%B7%AF%E7%88%AC%E8%9F%B2', '/wiki/%E8%B6%85%E6%96%87%E6%9C%AC%E5%82%B3%E8%BC%B8%E5%8D%94%E5%AE%9A', '/wiki/%E8%AF%AD%E4%B9%89%E7%BD%91%E7%BB%9C', '/wiki/%E4%B8%80%E4%BD%93%E5%8C%96%E5%8C%BB%E5%AD%A6%E8%AF%AD%E8%A8%80%E7%B3%BB%E7%BB%9F', '/wiki/%E5%8F%A5%E6%B3%95', '/wiki/%E5%8F%A5%E6%B3%95', '/wiki/%E9%A6%99%E6%B8%AF%E7%B2%B5%E8%AA%9E', '/wiki/%E9%84%82%E4%BC%A6%E6%98%A5%E8%AF%AD', '/wiki/%E6%B5%AA%E9%80%9F%E8%AF%AD', '/wiki/%E5%8E%9F%E5%A7%8B%E9%96%A9%E8%AA%9E', '/wiki/%E6%B8%A1%E6%B1%9F%E6%9B%B8%E5%8D%81%E4%BA%94%E9%9F%B3', '/wiki/%E8%87%BA%E7%81%A3%E4%BF%9A%E8%AB%BA%E9%9B%86%E8%A6%BD', '/wiki/%E5%82%B3%E8%AA%AA', '/wiki/%E7%BD%97%E5%AE%BE%E6%B1%89', '/wiki/%E6%97%A5%E6%9C%AC%E6%94%BE%E9%80%81%E5%8D%94%E6%9C%83', '/wiki/%E5%B2%90%E9%98%9C%E6%94%BE%E9%80%81']\n",
      "15 岐阜放送 \turl:  /wiki/%E5%B2%90%E9%98%9C%E6%94%BE%E9%80%81\n",
      "\t ['/wiki/%E7%B6%B2%E8%B7%AF%E7%88%AC%E8%9F%B2', '/wiki/%E8%B6%85%E6%96%87%E6%9C%AC%E5%82%B3%E8%BC%B8%E5%8D%94%E5%AE%9A', '/wiki/%E8%AF%AD%E4%B9%89%E7%BD%91%E7%BB%9C', '/wiki/%E4%B8%80%E4%BD%93%E5%8C%96%E5%8C%BB%E5%AD%A6%E8%AF%AD%E8%A8%80%E7%B3%BB%E7%BB%9F', '/wiki/%E5%8F%A5%E6%B3%95', '/wiki/%E5%8F%A5%E6%B3%95', '/wiki/%E9%A6%99%E6%B8%AF%E7%B2%B5%E8%AA%9E', '/wiki/%E9%84%82%E4%BC%A6%E6%98%A5%E8%AF%AD', '/wiki/%E6%B5%AA%E9%80%9F%E8%AF%AD', '/wiki/%E5%8E%9F%E5%A7%8B%E9%96%A9%E8%AA%9E', '/wiki/%E6%B8%A1%E6%B1%9F%E6%9B%B8%E5%8D%81%E4%BA%94%E9%9F%B3', '/wiki/%E8%87%BA%E7%81%A3%E4%BF%9A%E8%AB%BA%E9%9B%86%E8%A6%BD', '/wiki/%E5%82%B3%E8%AA%AA', '/wiki/%E7%BD%97%E5%AE%BE%E6%B1%89', '/wiki/%E6%97%A5%E6%9C%AC%E6%94%BE%E9%80%81%E5%8D%94%E6%9C%83', '/wiki/%E5%B2%90%E9%98%9C%E6%94%BE%E9%80%81']\n",
      "\t ['/wiki/%E7%B6%B2%E8%B7%AF%E7%88%AC%E8%9F%B2', '/wiki/%E8%B6%85%E6%96%87%E6%9C%AC%E5%82%B3%E8%BC%B8%E5%8D%94%E5%AE%9A', '/wiki/%E8%AF%AD%E4%B9%89%E7%BD%91%E7%BB%9C', '/wiki/%E4%B8%80%E4%BD%93%E5%8C%96%E5%8C%BB%E5%AD%A6%E8%AF%AD%E8%A8%80%E7%B3%BB%E7%BB%9F', '/wiki/%E5%8F%A5%E6%B3%95', '/wiki/%E5%8F%A5%E6%B3%95', '/wiki/%E9%A6%99%E6%B8%AF%E7%B2%B5%E8%AA%9E', '/wiki/%E9%84%82%E4%BC%A6%E6%98%A5%E8%AF%AD', '/wiki/%E6%B5%AA%E9%80%9F%E8%AF%AD', '/wiki/%E5%8E%9F%E5%A7%8B%E9%96%A9%E8%AA%9E', '/wiki/%E6%B8%A1%E6%B1%9F%E6%9B%B8%E5%8D%81%E4%BA%94%E9%9F%B3', '/wiki/%E8%87%BA%E7%81%A3%E4%BF%9A%E8%AB%BA%E9%9B%86%E8%A6%BD', '/wiki/%E5%82%B3%E8%AA%AA', '/wiki/%E7%BD%97%E5%AE%BE%E6%B1%89', '/wiki/%E6%97%A5%E6%9C%AC%E6%94%BE%E9%80%81%E5%8D%94%E6%9C%83', '/wiki/%E5%B2%90%E9%98%9C%E6%94%BE%E9%80%81', '/wiki/%E6%97%A5%E6%9C%AC%E9%9B%BB%E8%A6%96%E7%B6%B2%E5%8D%94%E8%AD%B0%E6%9C%83']\n",
      "16 日本電視網協議會 \turl:  /wiki/%E6%97%A5%E6%9C%AC%E9%9B%BB%E8%A6%96%E7%B6%B2%E5%8D%94%E8%AD%B0%E6%9C%83\n",
      "\t ['/wiki/%E7%B6%B2%E8%B7%AF%E7%88%AC%E8%9F%B2', '/wiki/%E8%B6%85%E6%96%87%E6%9C%AC%E5%82%B3%E8%BC%B8%E5%8D%94%E5%AE%9A', '/wiki/%E8%AF%AD%E4%B9%89%E7%BD%91%E7%BB%9C', '/wiki/%E4%B8%80%E4%BD%93%E5%8C%96%E5%8C%BB%E5%AD%A6%E8%AF%AD%E8%A8%80%E7%B3%BB%E7%BB%9F', '/wiki/%E5%8F%A5%E6%B3%95', '/wiki/%E5%8F%A5%E6%B3%95', '/wiki/%E9%A6%99%E6%B8%AF%E7%B2%B5%E8%AA%9E', '/wiki/%E9%84%82%E4%BC%A6%E6%98%A5%E8%AF%AD', '/wiki/%E6%B5%AA%E9%80%9F%E8%AF%AD', '/wiki/%E5%8E%9F%E5%A7%8B%E9%96%A9%E8%AA%9E', '/wiki/%E6%B8%A1%E6%B1%9F%E6%9B%B8%E5%8D%81%E4%BA%94%E9%9F%B3', '/wiki/%E8%87%BA%E7%81%A3%E4%BF%9A%E8%AB%BA%E9%9B%86%E8%A6%BD', '/wiki/%E5%82%B3%E8%AA%AA', '/wiki/%E7%BD%97%E5%AE%BE%E6%B1%89', '/wiki/%E6%97%A5%E6%9C%AC%E6%94%BE%E9%80%81%E5%8D%94%E6%9C%83', '/wiki/%E5%B2%90%E9%98%9C%E6%94%BE%E9%80%81', '/wiki/%E6%97%A5%E6%9C%AC%E9%9B%BB%E8%A6%96%E7%B6%B2%E5%8D%94%E8%AD%B0%E6%9C%83']\n",
      "\t ['/wiki/%E7%B6%B2%E8%B7%AF%E7%88%AC%E8%9F%B2', '/wiki/%E8%B6%85%E6%96%87%E6%9C%AC%E5%82%B3%E8%BC%B8%E5%8D%94%E5%AE%9A', '/wiki/%E8%AF%AD%E4%B9%89%E7%BD%91%E7%BB%9C', '/wiki/%E4%B8%80%E4%BD%93%E5%8C%96%E5%8C%BB%E5%AD%A6%E8%AF%AD%E8%A8%80%E7%B3%BB%E7%BB%9F', '/wiki/%E5%8F%A5%E6%B3%95', '/wiki/%E5%8F%A5%E6%B3%95', '/wiki/%E9%A6%99%E6%B8%AF%E7%B2%B5%E8%AA%9E', '/wiki/%E9%84%82%E4%BC%A6%E6%98%A5%E8%AF%AD', '/wiki/%E6%B5%AA%E9%80%9F%E8%AF%AD', '/wiki/%E5%8E%9F%E5%A7%8B%E9%96%A9%E8%AA%9E', '/wiki/%E6%B8%A1%E6%B1%9F%E6%9B%B8%E5%8D%81%E4%BA%94%E9%9F%B3', '/wiki/%E8%87%BA%E7%81%A3%E4%BF%9A%E8%AB%BA%E9%9B%86%E8%A6%BD', '/wiki/%E5%82%B3%E8%AA%AA', '/wiki/%E7%BD%97%E5%AE%BE%E6%B1%89', '/wiki/%E6%97%A5%E6%9C%AC%E6%94%BE%E9%80%81%E5%8D%94%E6%9C%83', '/wiki/%E5%B2%90%E9%98%9C%E6%94%BE%E9%80%81', '/wiki/%E6%97%A5%E6%9C%AC%E9%9B%BB%E8%A6%96%E7%B6%B2%E5%8D%94%E8%AD%B0%E6%9C%83', '/wiki/%E7%86%8A%E6%9C%AC%E7%B8%A3%E6%B0%91%E9%9B%BB%E8%A6%96%E5%8F%B0']\n"
     ]
    },
    {
     "name": "stdout",
     "output_type": "stream",
     "text": [
      "17 熊本縣民電視台 \turl:  /wiki/%E7%86%8A%E6%9C%AC%E7%B8%A3%E6%B0%91%E9%9B%BB%E8%A6%96%E5%8F%B0\n",
      "\t ['/wiki/%E7%B6%B2%E8%B7%AF%E7%88%AC%E8%9F%B2', '/wiki/%E8%B6%85%E6%96%87%E6%9C%AC%E5%82%B3%E8%BC%B8%E5%8D%94%E5%AE%9A', '/wiki/%E8%AF%AD%E4%B9%89%E7%BD%91%E7%BB%9C', '/wiki/%E4%B8%80%E4%BD%93%E5%8C%96%E5%8C%BB%E5%AD%A6%E8%AF%AD%E8%A8%80%E7%B3%BB%E7%BB%9F', '/wiki/%E5%8F%A5%E6%B3%95', '/wiki/%E5%8F%A5%E6%B3%95', '/wiki/%E9%A6%99%E6%B8%AF%E7%B2%B5%E8%AA%9E', '/wiki/%E9%84%82%E4%BC%A6%E6%98%A5%E8%AF%AD', '/wiki/%E6%B5%AA%E9%80%9F%E8%AF%AD', '/wiki/%E5%8E%9F%E5%A7%8B%E9%96%A9%E8%AA%9E', '/wiki/%E6%B8%A1%E6%B1%9F%E6%9B%B8%E5%8D%81%E4%BA%94%E9%9F%B3', '/wiki/%E8%87%BA%E7%81%A3%E4%BF%9A%E8%AB%BA%E9%9B%86%E8%A6%BD', '/wiki/%E5%82%B3%E8%AA%AA', '/wiki/%E7%BD%97%E5%AE%BE%E6%B1%89', '/wiki/%E6%97%A5%E6%9C%AC%E6%94%BE%E9%80%81%E5%8D%94%E6%9C%83', '/wiki/%E5%B2%90%E9%98%9C%E6%94%BE%E9%80%81', '/wiki/%E6%97%A5%E6%9C%AC%E9%9B%BB%E8%A6%96%E7%B6%B2%E5%8D%94%E8%AD%B0%E6%9C%83', '/wiki/%E7%86%8A%E6%9C%AC%E7%B8%A3%E6%B0%91%E9%9B%BB%E8%A6%96%E5%8F%B0']\n",
      "\t ['/wiki/%E7%B6%B2%E8%B7%AF%E7%88%AC%E8%9F%B2', '/wiki/%E8%B6%85%E6%96%87%E6%9C%AC%E5%82%B3%E8%BC%B8%E5%8D%94%E5%AE%9A', '/wiki/%E8%AF%AD%E4%B9%89%E7%BD%91%E7%BB%9C', '/wiki/%E4%B8%80%E4%BD%93%E5%8C%96%E5%8C%BB%E5%AD%A6%E8%AF%AD%E8%A8%80%E7%B3%BB%E7%BB%9F', '/wiki/%E5%8F%A5%E6%B3%95', '/wiki/%E5%8F%A5%E6%B3%95', '/wiki/%E9%A6%99%E6%B8%AF%E7%B2%B5%E8%AA%9E', '/wiki/%E9%84%82%E4%BC%A6%E6%98%A5%E8%AF%AD', '/wiki/%E6%B5%AA%E9%80%9F%E8%AF%AD', '/wiki/%E5%8E%9F%E5%A7%8B%E9%96%A9%E8%AA%9E', '/wiki/%E6%B8%A1%E6%B1%9F%E6%9B%B8%E5%8D%81%E4%BA%94%E9%9F%B3', '/wiki/%E8%87%BA%E7%81%A3%E4%BF%9A%E8%AB%BA%E9%9B%86%E8%A6%BD', '/wiki/%E5%82%B3%E8%AA%AA', '/wiki/%E7%BD%97%E5%AE%BE%E6%B1%89', '/wiki/%E6%97%A5%E6%9C%AC%E6%94%BE%E9%80%81%E5%8D%94%E6%9C%83', '/wiki/%E5%B2%90%E9%98%9C%E6%94%BE%E9%80%81', '/wiki/%E6%97%A5%E6%9C%AC%E9%9B%BB%E8%A6%96%E7%B6%B2%E5%8D%94%E8%AD%B0%E6%9C%83', '/wiki/%E7%86%8A%E6%9C%AC%E7%B8%A3%E6%B0%91%E9%9B%BB%E8%A6%96%E5%8F%B0', '/wiki/%E6%97%A5%E8%A6%96%E6%96%B0%E8%81%9E%E7%B6%B2']\n",
      "18 日本新聞網 (日本電視台) \turl:  /wiki/%E6%97%A5%E8%A6%96%E6%96%B0%E8%81%9E%E7%B6%B2\n",
      "\t ['/wiki/%E7%B6%B2%E8%B7%AF%E7%88%AC%E8%9F%B2', '/wiki/%E8%B6%85%E6%96%87%E6%9C%AC%E5%82%B3%E8%BC%B8%E5%8D%94%E5%AE%9A', '/wiki/%E8%AF%AD%E4%B9%89%E7%BD%91%E7%BB%9C', '/wiki/%E4%B8%80%E4%BD%93%E5%8C%96%E5%8C%BB%E5%AD%A6%E8%AF%AD%E8%A8%80%E7%B3%BB%E7%BB%9F', '/wiki/%E5%8F%A5%E6%B3%95', '/wiki/%E5%8F%A5%E6%B3%95', '/wiki/%E9%A6%99%E6%B8%AF%E7%B2%B5%E8%AA%9E', '/wiki/%E9%84%82%E4%BC%A6%E6%98%A5%E8%AF%AD', '/wiki/%E6%B5%AA%E9%80%9F%E8%AF%AD', '/wiki/%E5%8E%9F%E5%A7%8B%E9%96%A9%E8%AA%9E', '/wiki/%E6%B8%A1%E6%B1%9F%E6%9B%B8%E5%8D%81%E4%BA%94%E9%9F%B3', '/wiki/%E8%87%BA%E7%81%A3%E4%BF%9A%E8%AB%BA%E9%9B%86%E8%A6%BD', '/wiki/%E5%82%B3%E8%AA%AA', '/wiki/%E7%BD%97%E5%AE%BE%E6%B1%89', '/wiki/%E6%97%A5%E6%9C%AC%E6%94%BE%E9%80%81%E5%8D%94%E6%9C%83', '/wiki/%E5%B2%90%E9%98%9C%E6%94%BE%E9%80%81', '/wiki/%E6%97%A5%E6%9C%AC%E9%9B%BB%E8%A6%96%E7%B6%B2%E5%8D%94%E8%AD%B0%E6%9C%83', '/wiki/%E7%86%8A%E6%9C%AC%E7%B8%A3%E6%B0%91%E9%9B%BB%E8%A6%96%E5%8F%B0', '/wiki/%E6%97%A5%E8%A6%96%E6%96%B0%E8%81%9E%E7%B6%B2']\n",
      "\t ['/wiki/%E7%B6%B2%E8%B7%AF%E7%88%AC%E8%9F%B2', '/wiki/%E8%B6%85%E6%96%87%E6%9C%AC%E5%82%B3%E8%BC%B8%E5%8D%94%E5%AE%9A', '/wiki/%E8%AF%AD%E4%B9%89%E7%BD%91%E7%BB%9C', '/wiki/%E4%B8%80%E4%BD%93%E5%8C%96%E5%8C%BB%E5%AD%A6%E8%AF%AD%E8%A8%80%E7%B3%BB%E7%BB%9F', '/wiki/%E5%8F%A5%E6%B3%95', '/wiki/%E5%8F%A5%E6%B3%95', '/wiki/%E9%A6%99%E6%B8%AF%E7%B2%B5%E8%AA%9E', '/wiki/%E9%84%82%E4%BC%A6%E6%98%A5%E8%AF%AD', '/wiki/%E6%B5%AA%E9%80%9F%E8%AF%AD', '/wiki/%E5%8E%9F%E5%A7%8B%E9%96%A9%E8%AA%9E', '/wiki/%E6%B8%A1%E6%B1%9F%E6%9B%B8%E5%8D%81%E4%BA%94%E9%9F%B3', '/wiki/%E8%87%BA%E7%81%A3%E4%BF%9A%E8%AB%BA%E9%9B%86%E8%A6%BD', '/wiki/%E5%82%B3%E8%AA%AA', '/wiki/%E7%BD%97%E5%AE%BE%E6%B1%89', '/wiki/%E6%97%A5%E6%9C%AC%E6%94%BE%E9%80%81%E5%8D%94%E6%9C%83', '/wiki/%E5%B2%90%E9%98%9C%E6%94%BE%E9%80%81', '/wiki/%E6%97%A5%E6%9C%AC%E9%9B%BB%E8%A6%96%E7%B6%B2%E5%8D%94%E8%AD%B0%E6%9C%83', '/wiki/%E7%86%8A%E6%9C%AC%E7%B8%A3%E6%B0%91%E9%9B%BB%E8%A6%96%E5%8F%B0', '/wiki/%E6%97%A5%E8%A6%96%E6%96%B0%E8%81%9E%E7%B6%B2', '/wiki/%E6%97%A5%E6%9C%AC%E9%9B%BB%E8%A6%96%E5%8F%B0']\n",
      "19 日本電視台 \turl:  /wiki/%E6%97%A5%E6%9C%AC%E9%9B%BB%E8%A6%96%E5%8F%B0\n",
      "\t ['/wiki/%E7%B6%B2%E8%B7%AF%E7%88%AC%E8%9F%B2', '/wiki/%E8%B6%85%E6%96%87%E6%9C%AC%E5%82%B3%E8%BC%B8%E5%8D%94%E5%AE%9A', '/wiki/%E8%AF%AD%E4%B9%89%E7%BD%91%E7%BB%9C', '/wiki/%E4%B8%80%E4%BD%93%E5%8C%96%E5%8C%BB%E5%AD%A6%E8%AF%AD%E8%A8%80%E7%B3%BB%E7%BB%9F', '/wiki/%E5%8F%A5%E6%B3%95', '/wiki/%E5%8F%A5%E6%B3%95', '/wiki/%E9%A6%99%E6%B8%AF%E7%B2%B5%E8%AA%9E', '/wiki/%E9%84%82%E4%BC%A6%E6%98%A5%E8%AF%AD', '/wiki/%E6%B5%AA%E9%80%9F%E8%AF%AD', '/wiki/%E5%8E%9F%E5%A7%8B%E9%96%A9%E8%AA%9E', '/wiki/%E6%B8%A1%E6%B1%9F%E6%9B%B8%E5%8D%81%E4%BA%94%E9%9F%B3', '/wiki/%E8%87%BA%E7%81%A3%E4%BF%9A%E8%AB%BA%E9%9B%86%E8%A6%BD', '/wiki/%E5%82%B3%E8%AA%AA', '/wiki/%E7%BD%97%E5%AE%BE%E6%B1%89', '/wiki/%E6%97%A5%E6%9C%AC%E6%94%BE%E9%80%81%E5%8D%94%E6%9C%83', '/wiki/%E5%B2%90%E9%98%9C%E6%94%BE%E9%80%81', '/wiki/%E6%97%A5%E6%9C%AC%E9%9B%BB%E8%A6%96%E7%B6%B2%E5%8D%94%E8%AD%B0%E6%9C%83', '/wiki/%E7%86%8A%E6%9C%AC%E7%B8%A3%E6%B0%91%E9%9B%BB%E8%A6%96%E5%8F%B0', '/wiki/%E6%97%A5%E8%A6%96%E6%96%B0%E8%81%9E%E7%B6%B2', '/wiki/%E6%97%A5%E6%9C%AC%E9%9B%BB%E8%A6%96%E5%8F%B0']\n",
      "\t ['/wiki/%E7%B6%B2%E8%B7%AF%E7%88%AC%E8%9F%B2', '/wiki/%E8%B6%85%E6%96%87%E6%9C%AC%E5%82%B3%E8%BC%B8%E5%8D%94%E5%AE%9A', '/wiki/%E8%AF%AD%E4%B9%89%E7%BD%91%E7%BB%9C', '/wiki/%E4%B8%80%E4%BD%93%E5%8C%96%E5%8C%BB%E5%AD%A6%E8%AF%AD%E8%A8%80%E7%B3%BB%E7%BB%9F', '/wiki/%E5%8F%A5%E6%B3%95', '/wiki/%E5%8F%A5%E6%B3%95', '/wiki/%E9%A6%99%E6%B8%AF%E7%B2%B5%E8%AA%9E', '/wiki/%E9%84%82%E4%BC%A6%E6%98%A5%E8%AF%AD', '/wiki/%E6%B5%AA%E9%80%9F%E8%AF%AD', '/wiki/%E5%8E%9F%E5%A7%8B%E9%96%A9%E8%AA%9E', '/wiki/%E6%B8%A1%E6%B1%9F%E6%9B%B8%E5%8D%81%E4%BA%94%E9%9F%B3', '/wiki/%E8%87%BA%E7%81%A3%E4%BF%9A%E8%AB%BA%E9%9B%86%E8%A6%BD', '/wiki/%E5%82%B3%E8%AA%AA', '/wiki/%E7%BD%97%E5%AE%BE%E6%B1%89', '/wiki/%E6%97%A5%E6%9C%AC%E6%94%BE%E9%80%81%E5%8D%94%E6%9C%83', '/wiki/%E5%B2%90%E9%98%9C%E6%94%BE%E9%80%81', '/wiki/%E6%97%A5%E6%9C%AC%E9%9B%BB%E8%A6%96%E7%B6%B2%E5%8D%94%E8%AD%B0%E6%9C%83', '/wiki/%E7%86%8A%E6%9C%AC%E7%B8%A3%E6%B0%91%E9%9B%BB%E8%A6%96%E5%8F%B0', '/wiki/%E6%97%A5%E8%A6%96%E6%96%B0%E8%81%9E%E7%B6%B2', '/wiki/%E6%97%A5%E6%9C%AC%E9%9B%BB%E8%A6%96%E5%8F%B0', '/wiki/%E5%8D%83%E5%A5%87%E7%99%BE%E8%B6%A3%E5%A4%A7%E6%8C%91%E6%88%B0']\n"
     ]
    }
   ],
   "source": [
    "# before this cell is the idea. now wrap it up\n",
    "\n",
    "N = input('how many times will you want to do:')   \n",
    "base_url = \"https://zh.wikipedia.org\"  \n",
    "his = [\"/wiki/%E7%B6%B2%E8%B7%AF%E7%88%AC%E8%9F%B2\"]  \n",
    "\n",
    "for i in range(int(N)):   # find 20 times\n",
    "    url = base_url + his[-1]\n",
    "    \n",
    "    html = urlopen(url).read().decode('utf-8')\n",
    "    soup = BeautifulSoup(html,features='lxml')\n",
    "    print(i,soup.find('h1').get_text(),'\\turl: ',his[-1])\n",
    "    \n",
    "   \n",
    "    sub_urls = soup.find_all('a',{'href':re.compile('^/wiki/(%.{2})+$')})\n",
    "    print('\\t',his)\n",
    "    \n",
    "    if len(sub_urls)!=0:\n",
    "        his.append(random.sample(sub_urls,1)[0]['href']) \n",
    "        print('\\t',his)\n",
    "    else:\n",
    "        his.pop()\n",
    "        print('\\t',his)\n",
    "    "
   ]
  }
 ],
 "metadata": {
  "kernelspec": {
   "display_name": "Python 3",
   "language": "python",
   "name": "python3"
  },
  "language_info": {
   "codemirror_mode": {
    "name": "ipython",
    "version": 3
   },
   "file_extension": ".py",
   "mimetype": "text/x-python",
   "name": "python",
   "nbconvert_exporter": "python",
   "pygments_lexer": "ipython3",
   "version": "3.6.5"
  }
 },
 "nbformat": 4,
 "nbformat_minor": 2
}
