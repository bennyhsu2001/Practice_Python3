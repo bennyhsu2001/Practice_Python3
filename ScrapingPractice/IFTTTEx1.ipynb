{
 "cells": [
  {
   "cell_type": "code",
   "execution_count": 1,
   "metadata": {},
   "outputs": [],
   "source": [
    "# import twstock\n",
    "# import time\n",
    "# import requests\n",
    "\n",
    "# countLine = 0\n",
    "# countError = 0\n",
    "\n",
    "# # setting\n",
    "# stockId = '2317'\n",
    "# limitPrice = 81 \n",
    "# iftttCode = 'clJBzxCpWf6A8RIS-Ia6C5'\n",
    "# remindTimes = 3\n",
    "# errorTimes = 3\n",
    "# sleeptime = 180\n",
    "\n",
    "\n",
    "# print('start')\n",
    "# while True:\n",
    "#     starttime = time.time()\n",
    "    \n",
    "#     realdata = twstock.realtime.get(stockId)\n",
    "#     if realdata['success']: \n",
    "#         realprice = realdata['realtime']['latest_trade_price']\n",
    "#         if float(realprice) > limitPrice:\n",
    "#             print(time.time(),'%s real-time price is %f'%(stockId,float(realprice)))\n",
    "#             countLine+=1\n",
    "#             url_ifttt = 'https://maker.ifttt.com/trigger/stockline/with/key/%s?value1=%f'%(iftttCode,limitPrice)\n",
    "#             res = requests.get(url_ifttt)\n",
    "#         if countLine >= remindTimes: print('finish');break\n",
    "#         time.sleep(sleeptime)\n",
    "#     else: \n",
    "#         print('Error:',real['rtmessage'])\n",
    "#         countErroe+=1\n",
    "#         if countError >= errorTimes: print('finish');break\n",
    "#         time.sleep(sleeptime)\n",
    "      \n",
    "#     print('%d time cost time:'%countError,time.time()-starttime)\n",
    "\n",
    "\n",
    "\n"
   ]
  },
  {
   "cell_type": "code",
   "execution_count": 2,
   "metadata": {},
   "outputs": [
    {
     "name": "stdout",
     "output_type": "stream",
     "text": [
      "1534918885.904382 2317 real-time price is 81.700000\n"
     ]
    },
    {
     "ename": "NameError",
     "evalue": "name 'countError' is not defined",
     "output_type": "error",
     "traceback": [
      "\u001b[1;31m---------------------------------------------------------------------------\u001b[0m",
      "\u001b[1;31mNameError\u001b[0m                                 Traceback (most recent call last)",
      "\u001b[1;32m<ipython-input-2-1b522c9783da>\u001b[0m in \u001b[0;36m<module>\u001b[1;34m()\u001b[0m\n\u001b[0;32m     43\u001b[0m \u001b[1;33m\u001b[0m\u001b[0m\n\u001b[0;32m     44\u001b[0m \u001b[0mtest\u001b[0m \u001b[1;33m=\u001b[0m \u001b[0mifttt_stockline\u001b[0m\u001b[1;33m(\u001b[0m\u001b[1;36m3\u001b[0m\u001b[1;33m,\u001b[0m\u001b[1;36m3\u001b[0m\u001b[1;33m,\u001b[0m\u001b[1;36m180\u001b[0m\u001b[1;33m,\u001b[0m\u001b[1;34m'2317'\u001b[0m\u001b[1;33m,\u001b[0m\u001b[1;36m81\u001b[0m\u001b[1;33m,\u001b[0m\u001b[1;34m'clJBzxCpWf6A8RIS-Ia6C5'\u001b[0m\u001b[1;33m)\u001b[0m\u001b[1;33m\u001b[0m\u001b[0m\n\u001b[1;32m---> 45\u001b[1;33m \u001b[0mtest\u001b[0m\u001b[1;33m.\u001b[0m\u001b[0mifttt\u001b[0m\u001b[1;33m(\u001b[0m\u001b[1;33m)\u001b[0m\u001b[1;33m\u001b[0m\u001b[0m\n\u001b[0m\u001b[0;32m     46\u001b[0m \u001b[1;33m\u001b[0m\u001b[0m\n\u001b[0;32m     47\u001b[0m \u001b[1;33m\u001b[0m\u001b[0m\n",
      "\u001b[1;32m<ipython-input-2-1b522c9783da>\u001b[0m in \u001b[0;36mifttt\u001b[1;34m(self)\u001b[0m\n\u001b[0;32m     37\u001b[0m                 \u001b[0mtime\u001b[0m\u001b[1;33m.\u001b[0m\u001b[0msleep\u001b[0m\u001b[1;33m(\u001b[0m\u001b[0mself\u001b[0m\u001b[1;33m.\u001b[0m\u001b[0msleeptime\u001b[0m\u001b[1;33m)\u001b[0m\u001b[1;33m\u001b[0m\u001b[0m\n\u001b[0;32m     38\u001b[0m \u001b[1;33m\u001b[0m\u001b[0m\n\u001b[1;32m---> 39\u001b[1;33m             \u001b[0mprint\u001b[0m\u001b[1;33m(\u001b[0m\u001b[1;34m'%d time cost time:'\u001b[0m\u001b[1;33m%\u001b[0m\u001b[0mcountError\u001b[0m\u001b[1;33m,\u001b[0m\u001b[0mtime\u001b[0m\u001b[1;33m.\u001b[0m\u001b[0mtime\u001b[0m\u001b[1;33m(\u001b[0m\u001b[1;33m)\u001b[0m\u001b[1;33m-\u001b[0m\u001b[0mstarttime\u001b[0m\u001b[1;33m)\u001b[0m\u001b[1;33m\u001b[0m\u001b[0m\n\u001b[0m\u001b[0;32m     40\u001b[0m \u001b[1;33m\u001b[0m\u001b[0m\n\u001b[0;32m     41\u001b[0m \u001b[1;33m\u001b[0m\u001b[0m\n",
      "\u001b[1;31mNameError\u001b[0m: name 'countError' is not defined"
     ]
    }
   ],
   "source": [
    "import twstock\n",
    "import time\n",
    "import requests\n",
    "\n",
    "\n",
    "class ifttt_stockline:\n",
    "    countLine = 0\n",
    "    countError = 0\n",
    "    \n",
    "    def __init__(self,remindTimes,errorTimes,sleeptime,stockId,limitPrice,iftttCode):\n",
    "        self.remindTimes = remindTimes\n",
    "        self.errorTimes = errorTimes\n",
    "        self.sleeptime = sleeptime\n",
    "        self.sleeptime = sleeptime\n",
    "        self.stockId = stockId\n",
    "        self.limitPrice = limitPrice\n",
    "        self.iftttCode = iftttCode\n",
    "    \n",
    "    def ifttt(self):\n",
    "        while True:\n",
    "            starttime = time.time()\n",
    "\n",
    "            realdata = twstock.realtime.get(self.stockId)\n",
    "            if realdata['success']: \n",
    "                realprice = realdata['realtime']['latest_trade_price']\n",
    "                if float(realprice) > self.limitPrice:\n",
    "                    print(time.time(),'%s real-time price is %f'%(self.stockId,float(realprice)))\n",
    "                    ifttt_stockline.countLine+=1\n",
    "                    url_ifttt = 'https://maker.ifttt.com/trigger/stockline/with/key/%s?value1=%f'%(self.iftttCode,float(realprice))\n",
    "                    res = requests.get(url_ifttt)\n",
    "                if ifttt_stockline.countLine >= self.remindTimes: print('finish');break\n",
    "                time.sleep(self.sleeptime)\n",
    "            else: \n",
    "                print('Error:',real['rtmessage'])\n",
    "                ifttt_stockline.countError+=1\n",
    "                if ifttt_stockline.countError >= self.errorTimes: print('finish');break\n",
    "                time.sleep(self.sleeptime)\n",
    "\n",
    "            print('%d time cost time:'%countError,time.time()-starttime)\n",
    "\n",
    "\n",
    "# main\n",
    "\n",
    "test = ifttt_stockline(3,3,180,'2317',81,'clJBzxCpWf6A8RIS-Ia6C5')\n",
    "test.ifttt()\n",
    "\n",
    "\n",
    "# remindTimes=3,\n",
    "# errorTimes=3,\n",
    "# sleeptime=180,\n",
    "# stockId='2317',\n",
    "# limitPrice=81,\n",
    "# iftttCode='clJBzxCpWf6A8RIS-Ia6C5'\n",
    "\n"
   ]
  },
  {
   "cell_type": "code",
   "execution_count": null,
   "metadata": {},
   "outputs": [],
   "source": []
  }
 ],
 "metadata": {
  "kernelspec": {
   "display_name": "Python 3",
   "language": "python",
   "name": "python3"
  },
  "language_info": {
   "codemirror_mode": {
    "name": "ipython",
    "version": 3
   },
   "file_extension": ".py",
   "mimetype": "text/x-python",
   "name": "python",
   "nbconvert_exporter": "python",
   "pygments_lexer": "ipython3",
   "version": "3.6.5"
  }
 },
 "nbformat": 4,
 "nbformat_minor": 2
}
