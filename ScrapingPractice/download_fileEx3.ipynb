{
 "cells": [
  {
   "cell_type": "code",
   "execution_count": 19,
   "metadata": {
    "scrolled": true
   },
   "outputs": [
    {
     "name": "stdout",
     "output_type": "stream",
     "text": [
      "Total time: 0.0\n"
     ]
    }
   ],
   "source": [
    "\n",
    "import datetime as dt\n",
    "import requests\n",
    "import os\n",
    "import time\n",
    "\n",
    "\n",
    "def creat_folder():\n",
    "    os.makedirs('./five_sec/', exist_ok=True)    \n",
    "#   creat a forder in local to keep all file. As we creat once, we dont need it anymore.\n",
    "\n",
    "\n",
    "def date_trans(start1,end1):\n",
    "    date_int={'year1':int(start1[:4]),'month1':int(start1[4:6]),'day1':int(start1[6:]),'year2':int(end1[:4]),'month2':int(end1[4:6]),'day2':int(end1[6:])}\n",
    "    \n",
    "    start_date = dt.datetime(date_int['year1'],date_int['month1'],date_int['day1'])\n",
    "    end_date = dt.datetime(date_int['year2'],date_int['month2'],date_int['day2'])\n",
    "    totaldays = (end_date - start_date).days + 1\n",
    "    return start_date,totaldays\n",
    "\n",
    "\n",
    "def download_file(start_date,totaldays):\n",
    "    for daynumber in range(totaldays):\n",
    "        date1=(start_date + dt.timedelta(days = daynumber)).date()\n",
    "        datestring = date1.time.strftime('%Y%m%d')    #.replace('-', '') \n",
    "\n",
    "        five_sec_url='http://www.tse.com.tw/exchangeReport/MI_5MINS_INDEX?response=csv&date=%s'%datestring\n",
    "        r = requests.get(five_sec_url)\n",
    "        \n",
    "        lst = split_content(r)\n",
    "        tup = [parser(i) for i in lst[-10].split(',')]\n",
    "        print(tup)\n",
    "        \n",
    "#         if date1.weekday() < 5:\n",
    "#             with open('./five_sec/%s.csv'@datestring,'wb')as f:\n",
    "#                 f.write(r.content)\n",
    "#     return r\n",
    "\n",
    "\n",
    "def parser(s):\n",
    "    s = s.strip('\"\"').replace(\",\", \"\")\n",
    "    if \":\" not in s and len(s)>0:\n",
    "        s = float(s)\n",
    "    return s\n",
    "\n",
    "\n",
    "def split_content(r):\n",
    "    s = str(r.content)\n",
    "    lst = s.split(\"\\\\r\\\\n\")\n",
    "    return lst\n",
    "\n",
    "\n",
    "# main\n",
    "# creat_file()\n",
    "t1 = time.time()  # record start time\n",
    "map(download_file,date_trans('20180810','20180811'))\n",
    "print('Total time:',time.time()-t1)    # count total time\n",
    "\n"
   ]
  },
  {
   "cell_type": "code",
   "execution_count": 12,
   "metadata": {},
   "outputs": [
    {
     "name": "stdout",
     "output_type": "stream",
     "text": [
      "2018\n"
     ]
    }
   ],
   "source": [
    "\n",
    "# lst_=[]\n",
    "# for i in lst[-10].split(','):\n",
    "#     ele = i.strip('\"\"').replace(\",\", \"\")\n",
    "#     print(ele)\n",
    "#     if \":\" not in ele and len(ele)>0:\n",
    "#         if ele[0].isdigit():\n",
    "#             ele = float(ele)\n",
    "#     lst_ += [ele]   \n",
    "# print(lst_)"
   ]
  }
 ],
 "metadata": {
  "kernelspec": {
   "display_name": "Python 3",
   "language": "python",
   "name": "python3"
  },
  "language_info": {
   "codemirror_mode": {
    "name": "ipython",
    "version": 3
   },
   "file_extension": ".py",
   "mimetype": "text/x-python",
   "name": "python",
   "nbconvert_exporter": "python",
   "pygments_lexer": "ipython3",
   "version": "3.6.5"
  }
 },
 "nbformat": 4,
 "nbformat_minor": 2
}
