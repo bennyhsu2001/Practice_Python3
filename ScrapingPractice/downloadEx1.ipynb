{
 "cells": [
  {
   "cell_type": "code",
   "execution_count": 1,
   "metadata": {},
   "outputs": [],
   "source": [
    "from urllib.request import urlretrieve\n",
    "import os\n",
    "\n",
    "# os.makedirs('./five_sec/', exist_ok=True)    \n",
    "# creat a forder in local to keep all file. As we creat once, we dont need it anymore."
   ]
  },
  {
   "cell_type": "code",
   "execution_count": 2,
   "metadata": {},
   "outputs": [
    {
     "data": {
      "text/plain": [
       "('./five_sec/20180815_urlretrieve.csv', <http.client.HTTPMessage at 0x5ba7cd0>)"
      ]
     },
     "execution_count": 2,
     "metadata": {},
     "output_type": "execute_result"
    }
   ],
   "source": [
    "from urllib.request import urlretrieve\n",
    "\n",
    "date='20180815'\n",
    "five_sec_url='http://www.tse.com.tw/exchangeReport/MI_5MINS_INDEX?response=csv&date='+date\n",
    "urlretrieve(five_sec_url, './five_sec/'+date+'_urlretrieve.csv')\n"
   ]
  },
  {
   "cell_type": "code",
   "execution_count": 3,
   "metadata": {},
   "outputs": [],
   "source": [
    "'''\n",
    "use request to download can download in stream way.\n",
    "it can be more efficiency when the target is big.\n",
    "'''\n",
    "import requests\n",
    "\n",
    "r = requests.get(five_sec_url)\n",
    "with open('./five_sec/'+date+'_request.csv','wb')as f:\n",
    "    f.write(r.content)\n",
    "    \n",
    "r2 = requests.get(five_sec_url,stream=True)\n",
    "with open('./five_sec/'+date+'_request2.csv','wb')as f:\n",
    "    for chunck in r2.iter_content(chunk_size=32):\n",
    "        f.write(chunck)"
   ]
  },
  {
   "cell_type": "markdown",
   "metadata": {},
   "source": [
    "http://www.tse.com.tw/zh/page/trading/exchange/MI_5MINS_INDEX.html  \n",
    "from 20041015 to today  \n",
    "from today keep update data"
   ]
  },
  {
   "cell_type": "code",
   "execution_count": 3,
   "metadata": {},
   "outputs": [
    {
     "name": "stdout",
     "output_type": "stream",
     "text": [
      "Today is: 2018-08-16\n",
      "Date can't before 2004-10-15\n",
      "From:\n",
      "Year:2018\n",
      "Month:8\n",
      "Day:10\n",
      "To:\n",
      "Year:2018\n",
      "Month:8\n",
      "Day:16\n",
      "2018-08-10 00:00:00 <class 'datetime.datetime'>\n",
      "2018-08-16 00:00:00 <class 'datetime.datetime'>\n",
      "6 days, 0:00:00\n",
      "7\n"
     ]
    }
   ],
   "source": [
    "import datetime as dt\n",
    "today = dt.date.today()\n",
    "print('Today is:',today)\n",
    "\n",
    "print(\"Date can't before 2004-10-15\")\n",
    "print('From:')\n",
    "year1=int(input('Year:'))\n",
    "month1=int(input('Month:'))\n",
    "day1=int(input('Day:'))\n",
    "start_date = dt.datetime(year1,month1,day1)\n",
    "# start_date = dt.datetime.strptime(date1,'%Y-%m-%d').date()\n",
    "\n",
    "print('To:')\n",
    "year2=int(input('Year:'))\n",
    "month2=int(input('Month:'))\n",
    "day2=int(input('Day:'))\n",
    "end_date = dt.datetime(year2,month2,day2)\n",
    "# end_date = dt.datetime.strptime(date1,'%Y-%m-%d').date()\n",
    "\n",
    "totaldays = (end_date - start_date).days + 1\n",
    "\n",
    "print(start_date,type(start_date))\n",
    "print(end_date,type(end_date))\n",
    "print(end_date-start_date)\n",
    "print(totaldays)\n",
    "\n",
    "for daynumber in range(totaldays):\n",
    "    datestring = (start_date + dt.timedelta(days = daynumber)).date()\n",
    "    print(datestring.strftime(\"%Y-%m-%d\")) "
   ]
  },
  {
   "cell_type": "code",
   "execution_count": 10,
   "metadata": {},
   "outputs": [
    {
     "name": "stdout",
     "output_type": "stream",
     "text": [
      "2018-08-10\n",
      "2018-08-11\n",
      "2018-08-12\n",
      "2018-08-13\n",
      "2018-08-14\n",
      "2018-08-15\n",
      "2018-08-16\n"
     ]
    }
   ],
   "source": []
  }
 ],
 "metadata": {
  "kernelspec": {
   "display_name": "Python 3",
   "language": "python",
   "name": "python3"
  },
  "language_info": {
   "codemirror_mode": {
    "name": "ipython",
    "version": 3
   },
   "file_extension": ".py",
   "mimetype": "text/x-python",
   "name": "python",
   "nbconvert_exporter": "python",
   "pygments_lexer": "ipython3",
   "version": "3.6.5"
  }
 },
 "nbformat": 4,
 "nbformat_minor": 2
}
