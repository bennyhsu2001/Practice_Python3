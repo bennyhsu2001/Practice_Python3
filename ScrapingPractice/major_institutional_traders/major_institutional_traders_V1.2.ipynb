{
 "cells": [
  {
   "cell_type": "code",
   "execution_count": 11,
   "metadata": {},
   "outputs": [],
   "source": [
    "'''\n",
    "三大法人交易情形統計資料自2012年5月1日起，提供交易日前三年之資料供查詢\n",
    "，若需歷史資料，請填寫公開資料申請表申請  (只能查前三年)\n",
    "三大法人交易情形統計資料自2011年12月19日起，揭露之交易資訊含鉅額交易量\n",
    "'''\n",
    "\n",
    "import requests\n",
    "import time\n",
    "from bs4 import BeautifulSoup\n",
    "import pandas as pd\n",
    "from tabulate import tabulate\n",
    "import datetime\n",
    "from dateutil.rrule import rrule, DAILY\n",
    "import time\n",
    "import gc\n",
    "import sqlite3\n",
    "# from pandas.io import sql"
   ]
  },
  {
   "cell_type": "code",
   "execution_count": 14,
   "metadata": {},
   "outputs": [
    {
     "name": "stdout",
     "output_type": "stream",
     "text": [
      "total cost time: 7.70257830619812\n"
     ]
    }
   ],
   "source": [
    "s = time.time()\n",
    "\n",
    "date_list = []\n",
    "start_date = datetime.date(2018, 1, 1)\n",
    "end_date = datetime.date(2018, 1, 3)\n",
    "\n",
    "for dt in rrule(DAILY, dtstart=start_date, until=end_date):\n",
    "    date_list.append(dt.date())\n",
    "\n",
    "url = \"https://www.taifex.com.tw/chinese/3/7_12_3.asp\"\n",
    "headers = {'user-agent': 'Mozilla/5.0 (Windows NT 10.0; Win64; x64) AppleWebKit/537.36 (KHTML, like Gecko) Chrome/69.0.3497.100 Safari/537.36'}\n",
    "\n",
    "indexs = ['日期','身分',\n",
    "         '多方交易口數','多方契約金額',\n",
    "         '空方交易口數','空方契約金額',\n",
    "         '多空淨額口數','多空淨額契約金額',\n",
    "         '未平倉多方交易口數','未平倉多方契約金額',\n",
    "         '未平倉空方交易口數','未平倉空方契約金額',\n",
    "         '未平倉多空淨額口數','未平倉多空淨額契約金額']\n",
    "df = pd.DataFrame(columns=indexs)\n",
    "\n",
    "\n",
    "for d in date_list:\n",
    "    Y = str(d.timetuple().tm_year)\n",
    "    M = str(d.timetuple().tm_mon)\n",
    "    D = str(d.timetuple().tm_mday)\n",
    "    datestart = \"{}/{}/{}\".format(Y, M, D)\n",
    "    \n",
    "    post_data={\n",
    "        'goday':'', \n",
    "        'DATA_DATE_Y': Y,\n",
    "        'DATA_DATE_M': M,\n",
    "        'DATA_DATE_D': D,\n",
    "        'syear': Y,\n",
    "        'smonth': M,\n",
    "        'sday': D,\n",
    "        'datestart': datestart,     \n",
    "        'COMMODITY_ID': 'TXF'}    #這部分是網頁契約，空字串''表示全部，TXF表示臺股期貨，EXF表示電子期貨.....\n",
    "\n",
    "    time.sleep(2)\n",
    "\n",
    "    response = requests.post(url,headers=headers,data=post_data)     # 這個網站是透過post要求資料的\n",
    "    response.encoding = \"utf-8\"\n",
    "\n",
    "    soup = BeautifulSoup(response.text, \"lxml\")     # 網頁html\n",
    "    rows = soup.select('table.table_f tr')    # 搜尋期貨契約表格下的一列列tr資料，table_f 是目標table的class name, 以tr為單位存進list\n",
    "    if rows == []:    # 跳過未開市日期\n",
    "        pass\n",
    "    else:\n",
    "        for row in range(3,6):\n",
    "            # 每個商品名稱都有三個身分別，自營商、投信、外資，一個商品有三個tr，每個商品第二及第三個tr都比第一個tr少兩個td\n",
    "            if row == 3:\n",
    "                data_day = [rows[row].contents[i*2-1].get_text().replace(',',\"\").rstrip() for i in range(3,16)] \n",
    "            else:\n",
    "                data_day = [rows[row].contents[i*2-1].get_text().replace(',',\"\").rstrip() for i in range(1,14)]\n",
    "            data_day.insert(0,d)\n",
    "            df = df.append(pd.Series(data_day, index = indexs), ignore_index=True)\n",
    "\n",
    "\n",
    "with sqlite3.connect(\"C:/Users/ASUS/Desktop/JupyterWorkplace/test1.db\") as conn:\n",
    "    df.to_sql(name = 'major_institutional_traders', con = conn, if_exists = 'replace')\n",
    "\n",
    "df.to_csv('C:/Users/ASUS/Desktop/JupyterWorkplace/major_institutional_traders.csv')\n",
    "\n",
    "del(df)\n",
    "gc.collect()\n",
    "\n",
    "print('total cost time:', time.time()-s)"
   ]
  }
 ],
 "metadata": {
  "kernelspec": {
   "display_name": "Python 3",
   "language": "python",
   "name": "python3"
  },
  "language_info": {
   "codemirror_mode": {
    "name": "ipython",
    "version": 3
   },
   "file_extension": ".py",
   "mimetype": "text/x-python",
   "name": "python",
   "nbconvert_exporter": "python",
   "pygments_lexer": "ipython3",
   "version": "3.6.5"
  }
 },
 "nbformat": 4,
 "nbformat_minor": 2
}
