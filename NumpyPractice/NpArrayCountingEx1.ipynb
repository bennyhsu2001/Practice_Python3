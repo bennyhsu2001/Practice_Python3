{
 "cells": [
  {
   "cell_type": "code",
   "execution_count": 1,
   "metadata": {},
   "outputs": [],
   "source": [
    "import numpy as np ;"
   ]
  },
  {
   "cell_type": "code",
   "execution_count": 2,
   "metadata": {},
   "outputs": [
    {
     "name": "stdout",
     "output_type": "stream",
     "text": [
      "a= [10 20 30 40] \n",
      " b= [0 1 2 3]\n"
     ]
    }
   ],
   "source": [
    "a=np.array([10,20,30,40]);\n",
    "b=np.arange(4);\n",
    "print('a=',a,'\\n','b=',b)"
   ]
  },
  {
   "cell_type": "code",
   "execution_count": 3,
   "metadata": {},
   "outputs": [
    {
     "name": "stdout",
     "output_type": "stream",
     "text": [
      "a-b= [10 19 28 37]\n",
      "a+b= [10 21 32 43]\n",
      "a*b= [  0  20  60 120]\n",
      "a*2= [20 40 60 80]\n",
      "a**2= [ 100  400  900 1600]\n",
      "10*np.sin(a)= [-5.44021111  9.12945251 -9.88031624  7.4511316 ]\n",
      "b<3:  [ True  True  True False]\n"
     ]
    }
   ],
   "source": [
    "print('a-b=',a-b);\n",
    "print('a+b=',a+b);\n",
    "print('a*b=',a*b);\n",
    "print('a*2=',a*2);\n",
    "print('a**2=',a**2);\n",
    "print('10*np.sin(a)=',10*np.sin(a));\n",
    "print('b<3: ',b<3);"
   ]
  },
  {
   "cell_type": "code",
   "execution_count": 4,
   "metadata": {},
   "outputs": [
    {
     "name": "stdout",
     "output_type": "stream",
     "text": [
      "c= [[1 0]\n",
      " [1 1]]\n",
      "d= [[0 1]\n",
      " [2 3]]\n",
      "np.dot(c,d)= [[0 1]\n",
      " [2 4]]\n",
      "c.dot(d)= [[0 1]\n",
      " [2 4]]\n"
     ]
    }
   ],
   "source": [
    "c=np.array([[1,0],[1,1]])\n",
    "d=np.arange(4).reshape((2,2))   #from 0-3, 2*2 matrix\n",
    "print('c=',c)\n",
    "print('d=',d)\n",
    "print('np.dot(c,d)=',np.dot(c,d))\n",
    "print('c.dot(d)=',c.dot(d))"
   ]
  },
  {
   "cell_type": "code",
   "execution_count": 5,
   "metadata": {},
   "outputs": [
    {
     "name": "stdout",
     "output_type": "stream",
     "text": [
      "e=np.random.random((2,4))=\n",
      " [[0.45763424 0.84129701 0.88623745 0.02822822]\n",
      " [0.86483363 0.59283046 0.98944674 0.98558702]]\n",
      "np.max(e)= 0.9894467410420359\n",
      "np.min(e)= 0.02822822465447794\n",
      "np.sun(e)= 5.646094778587418\n"
     ]
    }
   ],
   "source": [
    "e=np.random.random((2,4))       #random 2*4 matrix\n",
    "print('e=np.random.random((2,4))=\\n',e);\n",
    "print('np.max(e)=',np.max(e));\n",
    "print('np.min(e)=',np.min(e));\n",
    "print('np.sun(e)=',np.sum(e));"
   ]
  },
  {
   "cell_type": "code",
   "execution_count": 6,
   "metadata": {},
   "outputs": [
    {
     "name": "stdout",
     "output_type": "stream",
     "text": [
      "np.max(e,axis=0)= [0.86483363 0.84129701 0.98944674 0.98558702]\n",
      "np.max(e,axis=1)= [0.88623745 0.98944674]\n",
      "np.min(e,axis=0)= [0.45763424 0.59283046 0.88623745 0.02822822]\n",
      "np.min(e,axis=1)= [0.02822822 0.59283046]\n",
      "np.sun(e,axis=0)= [1.32246787 1.43412747 1.87568419 1.01381524]\n",
      "np.sun(e,axis=1)= [2.21339693 3.43269785]\n"
     ]
    }
   ],
   "source": [
    "print('np.max(e,axis=0)=',np.max(e,axis=0));    #by column\n",
    "print('np.max(e,axis=1)=',np.max(e,axis=1));    #by row\n",
    "print('np.min(e,axis=0)=',np.min(e,axis=0));\n",
    "print('np.min(e,axis=1)=',np.min(e,axis=1));\n",
    "print('np.sun(e,axis=0)=',np.sum(e,axis=0));\n",
    "print('np.sun(e,axis=1)=',np.sum(e,axis=1));"
   ]
  },
  {
   "cell_type": "code",
   "execution_count": null,
   "metadata": {},
   "outputs": [],
   "source": []
  }
 ],
 "metadata": {
  "kernelspec": {
   "display_name": "Python 3",
   "language": "python",
   "name": "python3"
  },
  "language_info": {
   "codemirror_mode": {
    "name": "ipython",
    "version": 3
   },
   "file_extension": ".py",
   "mimetype": "text/x-python",
   "name": "python",
   "nbconvert_exporter": "python",
   "pygments_lexer": "ipython3",
   "version": "3.6.5"
  }
 },
 "nbformat": 4,
 "nbformat_minor": 2
}
