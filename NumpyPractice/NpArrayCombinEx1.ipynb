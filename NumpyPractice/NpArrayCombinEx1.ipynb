{
 "cells": [
  {
   "cell_type": "code",
   "execution_count": 1,
   "metadata": {},
   "outputs": [],
   "source": [
    "import numpy as np"
   ]
  },
  {
   "cell_type": "code",
   "execution_count": 2,
   "metadata": {},
   "outputs": [],
   "source": [
    "A=np.array([1,1,1])\n",
    "B=np.array([2,2,2])"
   ]
  },
  {
   "cell_type": "code",
   "execution_count": 3,
   "metadata": {},
   "outputs": [
    {
     "name": "stdout",
     "output_type": "stream",
     "text": [
      "vertical stack:\n",
      " [[2 2 2]\n",
      " [1 1 1]]\n",
      "(3,) (2, 3)\n",
      "horizontal stack:\n",
      " [1 1 1 2 2 2]\n",
      "(6,)\n"
     ]
    }
   ],
   "source": [
    "C=np.vstack((B,A))\n",
    "print('vertical stack:\\n',C)\n",
    "print(A.shape,C.shape)\n",
    "\n",
    "D=np.hstack((A,B))\n",
    "print('horizontal stack:\\n',D)\n",
    "print(D.shape)"
   ]
  },
  {
   "cell_type": "code",
   "execution_count": 4,
   "metadata": {},
   "outputs": [
    {
     "name": "stdout",
     "output_type": "stream",
     "text": [
      "A[np.newaxis,:]= [[1 1 1]] \n",
      "A[np.newaxis,:].shape: (1, 3)\n",
      "A[:,np.newaxis,:]=\n",
      " [[1]\n",
      " [1]\n",
      " [1]] \n",
      "A[:,np.newaxis].shape: (3, 1)\n"
     ]
    }
   ],
   "source": [
    "print('A[np.newaxis,:]=',A[np.newaxis,:],\n",
    "      '\\nA[np.newaxis,:].shape:',A[np.newaxis,:].shape)\n",
    "\n",
    "print('A[:,np.newaxis,:]=\\n',A[:,np.newaxis],\n",
    "      '\\nA[:,np.newaxis].shape:',A[:,np.newaxis].shape)"
   ]
  },
  {
   "cell_type": "code",
   "execution_count": 5,
   "metadata": {},
   "outputs": [
    {
     "name": "stdout",
     "output_type": "stream",
     "text": [
      "A1= [[1 1 1]]\n",
      "B1= [[2 2 2]]\n",
      "[[1 1 1]\n",
      " [2 2 2]] \n",
      " [[1 1 1 2 2 2]]\n",
      "C1.shape= (2, 3) C1.shape= (1, 6)\n"
     ]
    }
   ],
   "source": [
    "A1=np.array([1,1,1])[np.newaxis,:]\n",
    "B1=np.array([2,2,2])[np.newaxis,:]\n",
    "print('A1=',A1)\n",
    "print('B1=',B1)\n",
    "C1=np.vstack((A1,B1))\n",
    "D1=np.hstack((A1,B1))\n",
    "print(C1,'\\n',D1)\n",
    "print('C1.shape=',C1.shape,'C1.shape=',D1.shape)"
   ]
  },
  {
   "cell_type": "code",
   "execution_count": 6,
   "metadata": {},
   "outputs": [
    {
     "name": "stdout",
     "output_type": "stream",
     "text": [
      "[[1 1 1]\n",
      " [2 2 2]\n",
      " [2 2 2]\n",
      " [1 1 1]]\n",
      "[[1 1 1 2 2 2 2 2 2 1 1 1]]\n"
     ]
    }
   ],
   "source": [
    "E=np.concatenate((A1,B1,B1,A1),axis=0)\n",
    "print(E)\n",
    "F=np.concatenate((A1,B1,B1,A1),axis=1)\n",
    "print(F)"
   ]
  },
  {
   "cell_type": "code",
   "execution_count": null,
   "metadata": {},
   "outputs": [],
   "source": []
  }
 ],
 "metadata": {
  "kernelspec": {
   "display_name": "Python 3",
   "language": "python",
   "name": "python3"
  },
  "language_info": {
   "codemirror_mode": {
    "name": "ipython",
    "version": 3
   },
   "file_extension": ".py",
   "mimetype": "text/x-python",
   "name": "python",
   "nbconvert_exporter": "python",
   "pygments_lexer": "ipython3",
   "version": "3.6.5"
  }
 },
 "nbformat": 4,
 "nbformat_minor": 2
}
