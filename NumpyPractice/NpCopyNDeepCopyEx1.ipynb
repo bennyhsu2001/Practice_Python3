{
 "cells": [
  {
   "cell_type": "code",
   "execution_count": 1,
   "metadata": {},
   "outputs": [],
   "source": [
    "import numpy as np"
   ]
  },
  {
   "cell_type": "code",
   "execution_count": 2,
   "metadata": {},
   "outputs": [
    {
     "name": "stdout",
     "output_type": "stream",
     "text": [
      "A= [0 1 2 3]\n"
     ]
    }
   ],
   "source": [
    "A=np.arange(4)\n",
    "print('A=',A)"
   ]
  },
  {
   "cell_type": "code",
   "execution_count": 3,
   "metadata": {},
   "outputs": [],
   "source": [
    "B=A\n",
    "C=A\n",
    "D=B"
   ]
  },
  {
   "cell_type": "code",
   "execution_count": 4,
   "metadata": {},
   "outputs": [
    {
     "name": "stdout",
     "output_type": "stream",
     "text": [
      "set A[0]=11,then \n",
      "A= [11  1  2  3] \n",
      "B= [11  1  2  3] \n",
      "C= [11  1  2  3] \n",
      "D= [11  1  2  3]\n",
      "\n"
     ]
    }
   ],
   "source": [
    "A[0]=11\n",
    "print('set A[0]=11,then \\nA=',A,'\\nB=',B,'\\nC=',C,'\\nD=',D)\n",
    "print()"
   ]
  },
  {
   "cell_type": "code",
   "execution_count": 5,
   "metadata": {},
   "outputs": [
    {
     "name": "stdout",
     "output_type": "stream",
     "text": [
      "B is A: True\n",
      "C is A: True\n",
      "D is A: True\n",
      "\n"
     ]
    }
   ],
   "source": [
    "print('B is A:',B is A)\n",
    "print('C is A:',C is A)\n",
    "print('D is A:',D is A)\n",
    "print()"
   ]
  },
  {
   "cell_type": "code",
   "execution_count": 6,
   "metadata": {},
   "outputs": [
    {
     "name": "stdout",
     "output_type": "stream",
     "text": [
      "set D[1:3]=[22,33],then \n",
      "A= [11 22 33  3] \n",
      "B= [11 22 33  3] \n",
      "C= [11 22 33  3] \n",
      "D= [11 22 33  3]\n",
      "\n"
     ]
    }
   ],
   "source": [
    "D[1:3]=[22,33]\n",
    "print('set D[1:3]=[22,33],then \\nA=',A,'\\nB=',B,'\\nC=',C,'\\nD=',D)\n",
    "print()"
   ]
  },
  {
   "cell_type": "code",
   "execution_count": 7,
   "metadata": {},
   "outputs": [
    {
     "name": "stdout",
     "output_type": "stream",
     "text": [
      "F=A.copy()=\n",
      " [11 22 33  3]\n",
      "set F[1]=99,then \n",
      "A= [11 22 33  3] \n",
      "F= [11 99 33  3]\n",
      "A is F: False\n"
     ]
    }
   ],
   "source": [
    "F=A.copy()\n",
    "print('F=A.copy()=\\n',F)\n",
    "F[1]=99\n",
    "print('set F[1]=99,then \\nA=',A,'\\nF=',F)\n",
    "print('A is F:',A is F)"
   ]
  },
  {
   "cell_type": "code",
   "execution_count": 8,
   "metadata": {},
   "outputs": [
    {
     "name": "stdout",
     "output_type": "stream",
     "text": [
      "G=B.copy()=\n",
      " [11 22 33  3]\n",
      "set G[0]=999,then \n",
      "A= [11 22 33  3] \n",
      "B= [11 22 33  3] \n",
      "G= [999  22  33   3]\n",
      "\n",
      "A is B: True\n",
      "B is G: False\n",
      "A is G: False\n"
     ]
    }
   ],
   "source": [
    "G=B.copy()\n",
    "print('G=B.copy()=\\n',G)\n",
    "G[0]=999\n",
    "print('set G[0]=999,then \\nA=',A,'\\nB=',B,'\\nG=',G)\n",
    "print()\n",
    "print('A is B:',A is B)\n",
    "print('B is G:',B is G)\n",
    "print('A is G:',A is G)"
   ]
  },
  {
   "cell_type": "code",
   "execution_count": 9,
   "metadata": {},
   "outputs": [
    {
     "name": "stdout",
     "output_type": "stream",
     "text": [
      "A1= [1, 2, [3, 4]]\n",
      "B1=A1.copy()=\n",
      " [1, 2, [3, 4]]\n",
      "set B1[0]=999,then \n",
      "A1= [1, 2, [3, 4]] \n",
      "B1= [999, 2, [3, 4]]\n"
     ]
    }
   ],
   "source": [
    "A1=[1,2,[3,4]]\n",
    "B1=A1.copy()\n",
    "print('A1=',A1)\n",
    "print('B1=A1.copy()=\\n',B1)\n",
    "B1[0]=999\n",
    "print('set B1[0]=999,then \\nA1=',A1,'\\nB1=',B1)\n",
    "print('A1 is B1:',A1 is B1)"
   ]
  },
  {
   "cell_type": "code",
   "execution_count": 10,
   "metadata": {},
   "outputs": [
    {
     "name": "stdout",
     "output_type": "stream",
     "text": [
      "set B1[2][0]=999,then \n",
      "A1= [1, 2, [999, 4]] \n",
      "B1= [999, 2, [999, 4]]\n",
      "A1[2] is B1[2]: True\n"
     ]
    }
   ],
   "source": [
    "B1[2][0]=999\n",
    "print('set B1[2][0]=999,then \\nA1=',A1,'\\nB1=',B1)\n",
    "print('A1[2] is B1[2]:',A1[2] is B1[2])"
   ]
  },
  {
   "cell_type": "code",
   "execution_count": 11,
   "metadata": {},
   "outputs": [
    {
     "name": "stdout",
     "output_type": "stream",
     "text": [
      "A2= [0, 1, [20, 30], 4]\n",
      "B2=deepcopy(A2)=\n",
      " [0, 1, [20, 30], 4]\n"
     ]
    }
   ],
   "source": [
    "from copy import deepcopy\n",
    "A2=[0,1,[20,30],4]\n",
    "B2=deepcopy(A2)\n",
    "print('A2=',A2)\n",
    "print('B2=deepcopy(A2)=\\n',B2)"
   ]
  },
  {
   "cell_type": "code",
   "execution_count": 12,
   "metadata": {},
   "outputs": [
    {
     "name": "stdout",
     "output_type": "stream",
     "text": [
      "set B2[2][0]=999,then \n",
      "A2= [0, 1, [20, 30], 4] \n",
      "B2= [0, 1, [999, 30], 4]\n",
      "A2[2] is B2[2]: False\n"
     ]
    }
   ],
   "source": [
    "B2[2][0]=999\n",
    "print('set B2[2][0]=999,then \\nA2=',A2,'\\nB2=',B2)\n",
    "print('A2[2] is B2[2]:',A2[2] is B2[2])"
   ]
  },
  {
   "cell_type": "code",
   "execution_count": null,
   "metadata": {},
   "outputs": [],
   "source": []
  }
 ],
 "metadata": {
  "kernelspec": {
   "display_name": "Python 3",
   "language": "python",
   "name": "python3"
  },
  "language_info": {
   "codemirror_mode": {
    "name": "ipython",
    "version": 3
   },
   "file_extension": ".py",
   "mimetype": "text/x-python",
   "name": "python",
   "nbconvert_exporter": "python",
   "pygments_lexer": "ipython3",
   "version": "3.6.5"
  }
 },
 "nbformat": 4,
 "nbformat_minor": 2
}
