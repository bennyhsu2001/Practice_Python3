{
 "cells": [
  {
   "cell_type": "code",
   "execution_count": 1,
   "metadata": {},
   "outputs": [],
   "source": [
    "import numpy as np ;"
   ]
  },
  {
   "cell_type": "code",
   "execution_count": 2,
   "metadata": {},
   "outputs": [
    {
     "name": "stdout",
     "output_type": "stream",
     "text": [
      "A=\n",
      " [[ 2  3  4  5]\n",
      " [ 6  7  8  9]\n",
      " [10 11 12 13]]\n"
     ]
    }
   ],
   "source": [
    "A=np.arange(2,14).reshape((3,4))\n",
    "print('A=\\n',A);"
   ]
  },
  {
   "cell_type": "code",
   "execution_count": 3,
   "metadata": {},
   "outputs": [
    {
     "name": "stdout",
     "output_type": "stream",
     "text": [
      "the max num's index= 11\n",
      "the min num's index= 0\n"
     ]
    }
   ],
   "source": [
    "print(\"the max num's index=\",np.argmax(A));\n",
    "print(\"the min num's index=\",np.argmin(A));"
   ]
  },
  {
   "cell_type": "code",
   "execution_count": 4,
   "metadata": {},
   "outputs": [
    {
     "name": "stdout",
     "output_type": "stream",
     "text": [
      "mean= 7.5\n",
      "A.mean()= 7.5\n"
     ]
    }
   ],
   "source": [
    "print('mean=',np.mean(A));\n",
    "print('A.mean()=',A.mean());"
   ]
  },
  {
   "cell_type": "code",
   "execution_count": 5,
   "metadata": {},
   "outputs": [
    {
     "name": "stdout",
     "output_type": "stream",
     "text": [
      "average= 7.5\n"
     ]
    }
   ],
   "source": [
    "print('average=',np.average(A));"
   ]
  },
  {
   "cell_type": "code",
   "execution_count": 6,
   "metadata": {},
   "outputs": [
    {
     "name": "stdout",
     "output_type": "stream",
     "text": [
      "A.cumsum()= [ 2  5  9 14 20 27 35 44 54 65 77 90]\n",
      "np.diff(A)= [[1 1 1]\n",
      " [1 1 1]\n",
      " [1 1 1]]\n",
      "np.median(A)= 7.5\n"
     ]
    }
   ],
   "source": [
    "print('A.cumsum()=',A.cumsum());        #累加\n",
    "print('np.diff(A)=',np.diff(A));        # diff() is np's attribute but not np.array\n",
    "print('np.median(A)=',np.median(A));"
   ]
  },
  {
   "cell_type": "code",
   "execution_count": 7,
   "metadata": {},
   "outputs": [
    {
     "name": "stdout",
     "output_type": "stream",
     "text": [
      "B=\n",
      " [[14 13 12 11]\n",
      " [10  9  8  7]\n",
      " [ 6  5  4  3]]\n",
      "np.sort(B)=\n",
      " [[11 12 13 14]\n",
      " [ 7  8  9 10]\n",
      " [ 3  4  5  6]]\n",
      "np.transpose(B)=\n",
      " [[14 10  6]\n",
      " [13  9  5]\n",
      " [12  8  4]\n",
      " [11  7  3]]\n",
      "B.T=\n",
      " [[14 10  6]\n",
      " [13  9  5]\n",
      " [12  8  4]\n",
      " [11  7  3]]\n"
     ]
    }
   ],
   "source": [
    "B=np.arange(14,2,-1).reshape((3,4))\n",
    "print('B=\\n',B);\n",
    "print('np.sort(B)=\\n',np.sort(B));\n",
    "print('np.transpose(B)=\\n',np.transpose(B));\n",
    "print('B.T=\\n',B.T);"
   ]
  },
  {
   "cell_type": "code",
   "execution_count": null,
   "metadata": {},
   "outputs": [],
   "source": []
  }
 ],
 "metadata": {
  "kernelspec": {
   "display_name": "Python 3",
   "language": "python",
   "name": "python3"
  },
  "language_info": {
   "codemirror_mode": {
    "name": "ipython",
    "version": 3
   },
   "file_extension": ".py",
   "mimetype": "text/x-python",
   "name": "python",
   "nbconvert_exporter": "python",
   "pygments_lexer": "ipython3",
   "version": "3.6.5"
  }
 },
 "nbformat": 4,
 "nbformat_minor": 2
}
