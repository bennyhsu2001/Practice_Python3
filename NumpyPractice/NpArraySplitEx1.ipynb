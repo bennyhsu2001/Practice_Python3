{
 "cells": [
  {
   "cell_type": "code",
   "execution_count": 1,
   "metadata": {},
   "outputs": [],
   "source": [
    "import numpy as np"
   ]
  },
  {
   "cell_type": "code",
   "execution_count": 2,
   "metadata": {},
   "outputs": [
    {
     "name": "stdout",
     "output_type": "stream",
     "text": [
      "A=\n",
      " [[ 2  3  4  5]\n",
      " [ 6  7  8  9]\n",
      " [10 11 12 13]]\n"
     ]
    }
   ],
   "source": [
    "A=np.arange(2,14).reshape((3,4))\n",
    "print('A=\\n',A)"
   ]
  },
  {
   "cell_type": "code",
   "execution_count": 3,
   "metadata": {},
   "outputs": [
    {
     "name": "stdout",
     "output_type": "stream",
     "text": [
      "np.split(A,3,axis=0)= [array([[2, 3, 4, 5]]), array([[6, 7, 8, 9]]), array([[10, 11, 12, 13]])]\n",
      "np.split(A,2,axis=1)=\n",
      " [array([[ 2,  3],\n",
      "       [ 6,  7],\n",
      "       [10, 11]]), array([[ 4,  5],\n",
      "       [ 8,  9],\n",
      "       [12, 13]])]\n"
     ]
    }
   ],
   "source": [
    "print('np.split(A,3,axis=0)=', np.split(A,3,axis=0))\n",
    "print('np.split(A,2,axis=1)=\\n', np.split(A,2,axis=1))"
   ]
  },
  {
   "cell_type": "code",
   "execution_count": 4,
   "metadata": {},
   "outputs": [
    {
     "name": "stdout",
     "output_type": "stream",
     "text": [
      "np.array_split(A,3,axis=1)=\n",
      " [array([[ 2,  3],\n",
      "       [ 6,  7],\n",
      "       [10, 11]]), array([[ 4],\n",
      "       [ 8],\n",
      "       [12]]), array([[ 5],\n",
      "       [ 9],\n",
      "       [13]])]\n"
     ]
    }
   ],
   "source": [
    "# wrong way to split\n",
    "# print('np.split(A,3,axis=1)=', np.split(A,3,axis=1))"
   ]
  },
  {
   "cell_type": "code",
   "execution_count": 5,
   "metadata": {},
   "outputs": [
    {
     "name": "stdout",
     "output_type": "stream",
     "text": [
      "np.array_split(A,3,axis=1)=\n",
      " [array([[ 2,  3],\n",
      "       [ 6,  7],\n",
      "       [10, 11]]), array([[ 4],\n",
      "       [ 8],\n",
      "       [12]]), array([[ 5],\n",
      "       [ 9],\n",
      "       [13]])]\n"
     ]
    }
   ],
   "source": [
    "# use this to fix it\n",
    "print('np.array_split(A,3,axis=1)=\\n', np.array_split(A,3,axis=1))"
   ]
  },
  {
   "cell_type": "code",
   "execution_count": 6,
   "metadata": {},
   "outputs": [
    {
     "name": "stdout",
     "output_type": "stream",
     "text": [
      "np.vsplit(A,3)= [array([[2, 3, 4, 5]]), array([[6, 7, 8, 9]]), array([[10, 11, 12, 13]])]\n",
      "np.hsplit(A,2)=\n",
      " [array([[ 2,  3],\n",
      "       [ 6,  7],\n",
      "       [10, 11]]), array([[ 4,  5],\n",
      "       [ 8,  9],\n",
      "       [12, 13]])]\n"
     ]
    }
   ],
   "source": [
    "print('np.vsplit(A,3)=',np.vsplit(A,3)) #equal to print(np.split(A, 3, axis=0))\n",
    "print('np.hsplit(A,2)=\\n',np.hsplit(A,2)) #equal to print(np.split(A, 2, axis=1))"
   ]
  },
  {
   "cell_type": "code",
   "execution_count": null,
   "metadata": {},
   "outputs": [],
   "source": []
  }
 ],
 "metadata": {
  "kernelspec": {
   "display_name": "Python 3",
   "language": "python",
   "name": "python3"
  },
  "language_info": {
   "codemirror_mode": {
    "name": "ipython",
    "version": 3
   },
   "file_extension": ".py",
   "mimetype": "text/x-python",
   "name": "python",
   "nbconvert_exporter": "python",
   "pygments_lexer": "ipython3",
   "version": "3.6.5"
  }
 },
 "nbformat": 4,
 "nbformat_minor": 2
}
