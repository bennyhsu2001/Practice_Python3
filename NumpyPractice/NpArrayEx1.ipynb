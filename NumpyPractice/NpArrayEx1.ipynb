{
 "cells": [
  {
   "cell_type": "code",
   "execution_count": 1,
   "metadata": {},
   "outputs": [],
   "source": [
    "import numpy as np"
   ]
  },
  {
   "cell_type": "code",
   "execution_count": 2,
   "metadata": {},
   "outputs": [
    {
     "name": "stdout",
     "output_type": "stream",
     "text": [
      "array1= [[1 2 3]\n",
      " [4 5 6]]\n"
     ]
    }
   ],
   "source": [
    "array1 = np.array([[1,2,3],[4,5,6]])\n",
    "print ('array1=',array1);"
   ]
  },
  {
   "cell_type": "code",
   "execution_count": 3,
   "metadata": {},
   "outputs": [
    {
     "name": "stdout",
     "output_type": "stream",
     "text": [
      "array1.size= 6\n",
      "array1.ndim= 2\n",
      "array1.shape= (2, 3)\n"
     ]
    }
   ],
   "source": [
    "print ('array1.size=',array1.size);\n",
    "print ('array1.ndim=',array1.ndim);\n",
    "print ('array1.shape=',array1.shape);"
   ]
  },
  {
   "cell_type": "code",
   "execution_count": 4,
   "metadata": {},
   "outputs": [
    {
     "name": "stdout",
     "output_type": "stream",
     "text": [
      "array2.dtype= int32\n"
     ]
    }
   ],
   "source": [
    "array2 =np.array([7,8,9],dtype=int)\n",
    "print('array2.dtype=',array2.dtype)"
   ]
  },
  {
   "cell_type": "code",
   "execution_count": 5,
   "metadata": {},
   "outputs": [
    {
     "name": "stdout",
     "output_type": "stream",
     "text": [
      "array3.dtype= int32\n"
     ]
    }
   ],
   "source": [
    "array3 =np.array([7,8,9],dtype=np.int)\n",
    "print('array3.dtype=',array3.dtype)"
   ]
  },
  {
   "cell_type": "code",
   "execution_count": 6,
   "metadata": {},
   "outputs": [
    {
     "name": "stdout",
     "output_type": "stream",
     "text": [
      "array4.dtype= float64\n"
     ]
    }
   ],
   "source": [
    "array4 =np.array([7,8,9],dtype=float)\n",
    "print('array4.dtype=',array4.dtype)"
   ]
  },
  {
   "cell_type": "code",
   "execution_count": 7,
   "metadata": {},
   "outputs": [
    {
     "name": "stdout",
     "output_type": "stream",
     "text": [
      "array5.dtype= float64\n"
     ]
    }
   ],
   "source": [
    "array5 =np.array([7,8,9],dtype=np.float)\n",
    "print('array5.dtype=',array5.dtype)"
   ]
  },
  {
   "cell_type": "code",
   "execution_count": 8,
   "metadata": {},
   "outputs": [
    {
     "name": "stdout",
     "output_type": "stream",
     "text": [
      "array6.dtype= float32\n"
     ]
    }
   ],
   "source": [
    "array6 =np.array([7,8,9],dtype=np.float32)\n",
    "print('array6.dtype=',array6.dtype)"
   ]
  },
  {
   "cell_type": "code",
   "execution_count": 9,
   "metadata": {},
   "outputs": [
    {
     "name": "stdout",
     "output_type": "stream",
     "text": [
      "array7.dtype= int64\n"
     ]
    }
   ],
   "source": [
    "array7 =np.array([7,8,9],dtype=np.int64)\n",
    "print('array7.dtype=',array7.dtype)"
   ]
  },
  {
   "cell_type": "code",
   "execution_count": 10,
   "metadata": {},
   "outputs": [
    {
     "name": "stdout",
     "output_type": "stream",
     "text": [
      "np.arange(4)= [0 1 2 3]\n"
     ]
    }
   ],
   "source": [
    "array8=np.arange(4)\n",
    "print('np.arange(4)=',array8);"
   ]
  },
  {
   "cell_type": "code",
   "execution_count": null,
   "metadata": {},
   "outputs": [],
   "source": []
  }
 ],
 "metadata": {
  "kernelspec": {
   "display_name": "Python 3",
   "language": "python",
   "name": "python3"
  },
  "language_info": {
   "codemirror_mode": {
    "name": "ipython",
    "version": 3
   },
   "file_extension": ".py",
   "mimetype": "text/x-python",
   "name": "python",
   "nbconvert_exporter": "python",
   "pygments_lexer": "ipython3",
   "version": "3.6.5"
  }
 },
 "nbformat": 4,
 "nbformat_minor": 2
}
