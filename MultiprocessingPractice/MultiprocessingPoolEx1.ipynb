{
 "cells": [
  {
   "cell_type": "code",
   "execution_count": 1,
   "metadata": {},
   "outputs": [],
   "source": [
    "import multiprocessing as mp"
   ]
  },
  {
   "cell_type": "code",
   "execution_count": 2,
   "metadata": {},
   "outputs": [],
   "source": [
    "def job(x):\n",
    "    return x*x  # as we use pool, we can let the function return values"
   ]
  },
  {
   "cell_type": "code",
   "execution_count": 3,
   "metadata": {},
   "outputs": [],
   "source": [
    "def multicore():\n",
    "    pool=mp.Pool(processes=2)   #creat the pool\n",
    "        # process=2 means to use 2 CPUs  \n",
    "    res=pool.map(job,range(100))  # put the functon and values into the pool\n",
    "    print(res)\n",
    "    \n",
    "    res = pool.apply_async(job,(2,))  # to do one time with one argument\n",
    "    print(res.get())\n",
    "    \n",
    "    multi_res=[pool.apply_async(job,(i,)) for i in range(10)]\n",
    "    print([res.get() for res in multi_res])"
   ]
  },
  {
   "cell_type": "code",
   "execution_count": null,
   "metadata": {},
   "outputs": [],
   "source": [
    "if __name__=='__main__':\n",
    "    multicore()"
   ]
  }
 ],
 "metadata": {
  "kernelspec": {
   "display_name": "Python 3",
   "language": "python",
   "name": "python3"
  },
  "language_info": {
   "codemirror_mode": {
    "name": "ipython",
    "version": 3
   },
   "file_extension": ".py",
   "mimetype": "text/x-python",
   "name": "python",
   "nbconvert_exporter": "python",
   "pygments_lexer": "ipython3",
   "version": "3.6.5"
  }
 },
 "nbformat": 4,
 "nbformat_minor": 2
}
