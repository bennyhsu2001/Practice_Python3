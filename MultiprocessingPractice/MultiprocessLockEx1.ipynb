{
 "cells": [
  {
   "cell_type": "code",
   "execution_count": 1,
   "metadata": {},
   "outputs": [],
   "source": [
    "import multiprocessing as mp\n",
    "import time"
   ]
  },
  {
   "cell_type": "code",
   "execution_count": 2,
   "metadata": {},
   "outputs": [],
   "source": [
    "def job(v, num,l):\n",
    "    l.acquire()  \n",
    "        # if don't lock the process, the process will fight for the value. it will make the counting be wrong\n",
    "    for _ in range(5):\n",
    "        time.sleep(0.1) # stop 0.1 sec\n",
    "        v.value += num \n",
    "        print(v.value, end=\"\")\n",
    "    l.release()"
   ]
  },
  {
   "cell_type": "code",
   "execution_count": 3,
   "metadata": {},
   "outputs": [],
   "source": [
    "def multicore():\n",
    "    v = mp.Value('i', 0) \n",
    "    p1 = mp.Process(target=job, args=(v,1))\n",
    "    p2 = mp.Process(target=job, args=(v,3)) \n",
    "    p1.start()\n",
    "    p2.start()\n",
    "    p1.join()\n",
    "    p2.join()"
   ]
  },
  {
   "cell_type": "code",
   "execution_count": 4,
   "metadata": {},
   "outputs": [],
   "source": [
    "if __name__ == '__main__':\n",
    "    multicore()"
   ]
  }
 ],
 "metadata": {
  "kernelspec": {
   "display_name": "Python 3",
   "language": "python",
   "name": "python3"
  },
  "language_info": {
   "codemirror_mode": {
    "name": "ipython",
    "version": 3
   },
   "file_extension": ".py",
   "mimetype": "text/x-python",
   "name": "python",
   "nbconvert_exporter": "python",
   "pygments_lexer": "ipython3",
   "version": "3.6.5"
  }
 },
 "nbformat": 4,
 "nbformat_minor": 2
}
