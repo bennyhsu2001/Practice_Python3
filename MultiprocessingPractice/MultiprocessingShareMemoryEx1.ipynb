{
 "cells": [
  {
   "cell_type": "code",
   "execution_count": 1,
   "metadata": {},
   "outputs": [],
   "source": [
    "import multiprocessing as mp"
   ]
  },
  {
   "cell_type": "code",
   "execution_count": 2,
   "metadata": {},
   "outputs": [],
   "source": [
    "value=mp.Value('i',1) \n",
    "# the value going to be shared in different CPUs. 'i' means integer. value 1\n",
    "# to share data between different CPUs can only use this "
   ]
  },
  {
   "cell_type": "code",
   "execution_count": 3,
   "metadata": {},
   "outputs": [],
   "source": [
    "array = mp.Array('d',[1,2,3]) # the value can be only in 1 dimantion  "
   ]
  },
  {
   "cell_type": "markdown",
   "metadata": {},
   "source": [
    "| Type code | C Type             | Python Type       | Minimum size in bytes |\n",
    "| --------- | ------------------ | ----------------- | --------------------- |\n",
    "| `'b'`     | signed char        | int               | 1                     |\n",
    "| `'B'`     | unsigned char      | int               | 1                     |\n",
    "| `'u'`     | Py_UNICODE         | Unicode character | 2                     |\n",
    "| `'h'`     | signed short       | int               | 2                     |\n",
    "| `'H'`     | unsigned short     | int               | 2                     |\n",
    "| `'i'`     | signed int         | int               | 2                     |\n",
    "| `'I'`     | unsigned int       | int               | 2                     |\n",
    "| `'l'`     | signed long        | int               | 4                     |\n",
    "| `'L'`     | unsigned long      | int               | 4                     |\n",
    "| `'q'`     | signed long long   | int               | 8                     |\n",
    "| `'Q'`     | unsigned long long | int               | 8                     |\n",
    "| `'f'`     | float              | float             | 4                     |\n",
    "| `'d'`     | double             | float             | 8                     |"
   ]
  }
 ],
 "metadata": {
  "kernelspec": {
   "display_name": "Python 3",
   "language": "python",
   "name": "python3"
  },
  "language_info": {
   "codemirror_mode": {
    "name": "ipython",
    "version": 3
   },
   "file_extension": ".py",
   "mimetype": "text/x-python",
   "name": "python",
   "nbconvert_exporter": "python",
   "pygments_lexer": "ipython3",
   "version": "3.6.5"
  }
 },
 "nbformat": 4,
 "nbformat_minor": 2
}
