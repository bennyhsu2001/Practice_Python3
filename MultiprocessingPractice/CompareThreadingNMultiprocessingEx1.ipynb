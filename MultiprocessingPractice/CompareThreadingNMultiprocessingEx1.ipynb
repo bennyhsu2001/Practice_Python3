{
 "cells": [
  {
   "cell_type": "code",
   "execution_count": 1,
   "metadata": {},
   "outputs": [],
   "source": [
    "import multiprocessing as mp\n",
    "import threading as td\n",
    "import time"
   ]
  },
  {
   "cell_type": "code",
   "execution_count": 2,
   "metadata": {},
   "outputs": [],
   "source": [
    "def job(q):\n",
    "    res = 0\n",
    "    for i in range(1000000):\n",
    "        res += i + i**2 + i**3\n",
    "    q.put(res) # queue"
   ]
  },
  {
   "cell_type": "code",
   "execution_count": 3,
   "metadata": {},
   "outputs": [],
   "source": [
    "def multicore():\n",
    "    q = mp.Queue()\n",
    "    p1 = mp.Process(target=job, args=(q,))\n",
    "    p2 = mp.Process(target=job, args=(q,))\n",
    "    p1.start()\n",
    "    p2.start()\n",
    "    p1.join()\n",
    "    p2.join()\n",
    "    res1 = q.get()\n",
    "    res2 = q.get()\n",
    "    print('multicore:',res1 + res2)"
   ]
  },
  {
   "cell_type": "code",
   "execution_count": 4,
   "metadata": {},
   "outputs": [],
   "source": [
    "def multithread():\n",
    "    q = mp.Queue() # thread可放入process同样的queue中\n",
    "    t1 = td.Thread(target=job, args=(q,))\n",
    "    t2 = td.Thread(target=job, args=(q,))\n",
    "    t1.start()\n",
    "    t2.start()\n",
    "    t1.join()\n",
    "    t2.join()\n",
    "    res1 = q.get()\n",
    "    res2 = q.get()\n",
    "    print('multithread:', res1 + res2)"
   ]
  },
  {
   "cell_type": "code",
   "execution_count": 5,
   "metadata": {},
   "outputs": [],
   "source": [
    "def normal():\n",
    "    res = 0\n",
    "    for _ in range(2):\n",
    "        for i in range(1000000):\n",
    "            res += i + i**2 + i**3\n",
    "    print('normal:', res)"
   ]
  },
  {
   "cell_type": "code",
   "execution_count": null,
   "metadata": {},
   "outputs": [
    {
     "name": "stdout",
     "output_type": "stream",
     "text": [
      "normal: 499999666667166666000000\n",
      "normal time: 1.441650152206421\n",
      "multithread: 499999666667166666000000\n",
      "multithread time: 1.5309665203094482\n"
     ]
    }
   ],
   "source": [
    "if __name__ == '__main__':\n",
    "    st = time.time()\n",
    "    normal()\n",
    "    st1 = time.time()\n",
    "    print('normal time:', st1 - st)\n",
    "    multithread()\n",
    "    st2 = time.time()\n",
    "    print('multithread time:', st2 - st1)\n",
    "    multicore()\n",
    "    print('multicore time:', time.time() - st2)"
   ]
  }
 ],
 "metadata": {
  "kernelspec": {
   "display_name": "Python 3",
   "language": "python",
   "name": "python3"
  },
  "language_info": {
   "codemirror_mode": {
    "name": "ipython",
    "version": 3
   },
   "file_extension": ".py",
   "mimetype": "text/x-python",
   "name": "python",
   "nbconvert_exporter": "python",
   "pygments_lexer": "ipython3",
   "version": "3.6.5"
  }
 },
 "nbformat": 4,
 "nbformat_minor": 2
}
