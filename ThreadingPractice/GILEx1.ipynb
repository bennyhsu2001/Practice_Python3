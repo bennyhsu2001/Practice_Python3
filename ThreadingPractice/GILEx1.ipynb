{
 "cells": [
  {
   "cell_type": "code",
   "execution_count": 1,
   "metadata": {},
   "outputs": [],
   "source": [
    "import threading\n",
    "from queue import Queue\n",
    "import copy\n",
    "import time"
   ]
  },
  {
   "cell_type": "code",
   "execution_count": 2,
   "metadata": {},
   "outputs": [],
   "source": [
    "def job(l, q):\n",
    "    res = sum(l)\n",
    "    q.put(res)"
   ]
  },
  {
   "cell_type": "code",
   "execution_count": 3,
   "metadata": {},
   "outputs": [],
   "source": [
    "def multithreading(l):\n",
    "    q = Queue()\n",
    "    threads = []\n",
    "    for i in range(4):\n",
    "        t = threading.Thread(target=job, args=(copy.copy(l), q), name='T%i' % i)\n",
    "        t.start()\n",
    "        threads.append(t)\n",
    "    [t.join() for t in threads]\n",
    "    total = 0\n",
    "    for _ in range(4):\n",
    "        total += q.get()\n",
    "    print(total)"
   ]
  },
  {
   "cell_type": "code",
   "execution_count": 4,
   "metadata": {},
   "outputs": [],
   "source": [
    "def normal(l):\n",
    "    total = sum(l)\n",
    "    print(total)"
   ]
  },
  {
   "cell_type": "code",
   "execution_count": 5,
   "metadata": {},
   "outputs": [
    {
     "name": "stdout",
     "output_type": "stream",
     "text": [
      "1999998000000\n",
      "normal:  0.21033120155334473\n",
      "1999998000000\n",
      "multithreading:  0.196303129196167\n"
     ]
    }
   ],
   "source": [
    "if __name__ == '__main__':\n",
    "    l = list(range(1000000))\n",
    "    s_t = time.time()\n",
    "    normal(l*4)\n",
    "    print('normal: ',time.time()-s_t)\n",
    "    s_t = time.time()\n",
    "    multithreading(l)\n",
    "    print('multithreading: ', time.time()-s_t)"
   ]
  }
 ],
 "metadata": {
  "kernelspec": {
   "display_name": "Python 3",
   "language": "python",
   "name": "python3"
  },
  "language_info": {
   "codemirror_mode": {
    "name": "ipython",
    "version": 3
   },
   "file_extension": ".py",
   "mimetype": "text/x-python",
   "name": "python",
   "nbconvert_exporter": "python",
   "pygments_lexer": "ipython3",
   "version": "3.6.5"
  }
 },
 "nbformat": 4,
 "nbformat_minor": 2
}
