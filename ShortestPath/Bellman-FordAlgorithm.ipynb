{
 "cells": [
  {
   "cell_type": "code",
   "execution_count": 1,
   "metadata": {},
   "outputs": [
    {
     "data": {
      "text/plain": [
       "'Bellman-Ford algorithm'"
      ]
     },
     "execution_count": 1,
     "metadata": {},
     "output_type": "execute_result"
    }
   ],
   "source": [
    "'''Bellman-Ford algorithm'''"
   ]
  },
  {
   "cell_type": "code",
   "execution_count": 2,
   "metadata": {},
   "outputs": [],
   "source": [
    "def relax(u,v,w,dist,prev):\n",
    "    if dist[u]+w < dist[v]:\n",
    "        dist[v] = dist[u]+w\n",
    "        prev[v] = u\n",
    "    return prev"
   ]
  },
  {
   "cell_type": "code",
   "execution_count": 3,
   "metadata": {},
   "outputs": [],
   "source": [
    "def bellmanFord(V,E):\n",
    "    dist = [float('inf')] * V\n",
    "    prev = [None] * V\n",
    "    dist[0] = 0\n",
    " \n",
    "    for i in range(V-1):\n",
    "        for edge in E:\n",
    "            relax(edge[0],edge[1],edge[2],dist,prev)\n",
    " \n",
    "    #checks for negative cycles        \n",
    "    for e in E:\n",
    "        u = e[0]\n",
    "        v = e[1]\n",
    "        w = e[2]\n",
    "        if dist[u]+w < dist[v]:\n",
    "            return 1\n",
    "#     print(prev)\n",
    "    return 0,dist,prev"
   ]
  },
  {
   "cell_type": "code",
   "execution_count": 4,
   "metadata": {},
   "outputs": [
    {
     "name": "stdout",
     "output_type": "stream",
     "text": [
      "0\n",
      "[0, 5, inf, inf, inf]\n",
      "[None, 0, None, None, None]\n"
     ]
    }
   ],
   "source": [
    "edges = []\n",
    "edges.append([0, 1, 5])\n",
    "edges.append([2, 3, -5])\n",
    "edges.append([3, 4, -6])\n",
    "edges.append([4, 2, -5])\n",
    "\n",
    "print(bellmanFord(5, edges)[0])\n",
    "print(bellmanFord(5, edges)[1])\n",
    "print(bellmanFord(5, edges)[2])"
   ]
  },
  {
   "cell_type": "code",
   "execution_count": 5,
   "metadata": {},
   "outputs": [
    {
     "name": "stdout",
     "output_type": "stream",
     "text": [
      "0\n",
      "[0, 5, 10, 15, 21]\n",
      "[None, 0, 1, 2, 3]\n"
     ]
    }
   ],
   "source": [
    "edges2 = []\n",
    "edges2.append([0, 1, 5])\n",
    "edges2.append([2, 3, 5])\n",
    "edges2.append([3, 4, 6])\n",
    "edges2.append([4, 2, 5])\n",
    "edges2.append([1, 2, 5])\n",
    " \n",
    "print(bellmanFord(5, edges2)[0])\n",
    "print(bellmanFord(5, edges2)[1])\n",
    "print(bellmanFord(5, edges2)[2])"
   ]
  },
  {
   "cell_type": "code",
   "execution_count": null,
   "metadata": {},
   "outputs": [],
   "source": []
  },
  {
   "cell_type": "code",
   "execution_count": null,
   "metadata": {},
   "outputs": [],
   "source": []
  }
 ],
 "metadata": {
  "kernelspec": {
   "display_name": "Python 3",
   "language": "python",
   "name": "python3"
  },
  "language_info": {
   "codemirror_mode": {
    "name": "ipython",
    "version": 3
   },
   "file_extension": ".py",
   "mimetype": "text/x-python",
   "name": "python",
   "nbconvert_exporter": "python",
   "pygments_lexer": "ipython3",
   "version": "3.6.5"
  }
 },
 "nbformat": 4,
 "nbformat_minor": 2
}
