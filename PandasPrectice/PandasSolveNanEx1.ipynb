{
 "cells": [
  {
   "cell_type": "code",
   "execution_count": 1,
   "metadata": {},
   "outputs": [],
   "source": [
    "import numpy as np\n",
    "import pandas as pd "
   ]
  },
  {
   "cell_type": "code",
   "execution_count": 2,
   "metadata": {},
   "outputs": [
    {
     "name": "stdout",
     "output_type": "stream",
     "text": [
      "             A     B     C   D\n",
      "2013-01-01   0   NaN   2.0   3\n",
      "2013-01-02   4   5.0   NaN   7\n",
      "2013-01-03   8   9.0  10.0  11\n",
      "2013-01-04  12  13.0  14.0  15\n",
      "2013-01-05  16  17.0  18.0  19\n",
      "2013-01-06  20  21.0  22.0  23\n"
     ]
    }
   ],
   "source": [
    "dates=pd.date_range('20130101',periods=6)\n",
    "df=pd.DataFrame(np.arange(24).reshape(6,4),index=dates,columns=['A','B','C','D'])\n",
    "# to set the lose num\n",
    "df.iloc[0,1]=np.nan\n",
    "df.iloc[1,2]=np.nan\n",
    "print(df)"
   ]
  },
  {
   "cell_type": "code",
   "execution_count": 3,
   "metadata": {},
   "outputs": [
    {
     "name": "stdout",
     "output_type": "stream",
     "text": [
      "             A     B     C   D\n",
      "2013-01-03   8   9.0  10.0  11\n",
      "2013-01-04  12  13.0  14.0  15\n",
      "2013-01-05  16  17.0  18.0  19\n",
      "2013-01-06  20  21.0  22.0  23\n"
     ]
    }
   ],
   "source": [
    "print(df.dropna(axis=0,how='any'))\n",
    "# how='any' is default\n",
    "# axis=0 means to drop the row inculd nan"
   ]
  },
  {
   "cell_type": "code",
   "execution_count": 4,
   "metadata": {},
   "outputs": [
    {
     "name": "stdout",
     "output_type": "stream",
     "text": [
      "             A     B     C   D\n",
      "2013-01-01   0   NaN   2.0   3\n",
      "2013-01-02   4   5.0   NaN   7\n",
      "2013-01-03   8   9.0  10.0  11\n",
      "2013-01-04  12  13.0  14.0  15\n",
      "2013-01-05  16  17.0  18.0  19\n",
      "2013-01-06  20  21.0  22.0  23\n"
     ]
    }
   ],
   "source": [
    "print(df.dropna(axis=0,how='all'))\n",
    "# to set how='all', it will drop data if whole col/row is nan"
   ]
  },
  {
   "cell_type": "code",
   "execution_count": 5,
   "metadata": {},
   "outputs": [
    {
     "name": "stdout",
     "output_type": "stream",
     "text": [
      "             A     B     C   D\n",
      "2013-01-01   0   0.0   2.0   3\n",
      "2013-01-02   4   5.0   0.0   7\n",
      "2013-01-03   8   9.0  10.0  11\n",
      "2013-01-04  12  13.0  14.0  15\n",
      "2013-01-05  16  17.0  18.0  19\n",
      "2013-01-06  20  21.0  22.0  23\n"
     ]
    }
   ],
   "source": [
    "# to set the nan be other value\n",
    "print(df.fillna(value=0))"
   ]
  },
  {
   "cell_type": "code",
   "execution_count": 6,
   "metadata": {},
   "outputs": [
    {
     "name": "stdout",
     "output_type": "stream",
     "text": [
      "             A     B     C   D\n",
      "2013-01-01   0   NaN   2.0   3\n",
      "2013-01-02   4   5.0   NaN   7\n",
      "2013-01-03   8   9.0  10.0  11\n",
      "2013-01-04  12  13.0  14.0  15\n",
      "2013-01-05  16  17.0  18.0  19\n",
      "2013-01-06  20  21.0  22.0  23\n",
      "                A      B      C      D\n",
      "2013-01-01  False   True  False  False\n",
      "2013-01-02  False  False   True  False\n",
      "2013-01-03  False  False  False  False\n",
      "2013-01-04  False  False  False  False\n",
      "2013-01-05  False  False  False  False\n",
      "2013-01-06  False  False  False  False\n"
     ]
    }
   ],
   "source": [
    "# to check who is nan\n",
    "print(df)\n",
    "print(df.isnull())"
   ]
  },
  {
   "cell_type": "code",
   "execution_count": 7,
   "metadata": {},
   "outputs": [
    {
     "name": "stdout",
     "output_type": "stream",
     "text": [
      "True\n"
     ]
    }
   ],
   "source": [
    "# to check whether it has at least exist one nan or not \n",
    "print(np.any(df.isnull())==True)"
   ]
  }
 ],
 "metadata": {
  "kernelspec": {
   "display_name": "Python 3",
   "language": "python",
   "name": "python3"
  },
  "language_info": {
   "codemirror_mode": {
    "name": "ipython",
    "version": 3
   },
   "file_extension": ".py",
   "mimetype": "text/x-python",
   "name": "python",
   "nbconvert_exporter": "python",
   "pygments_lexer": "ipython3",
   "version": "3.6.5"
  }
 },
 "nbformat": 4,
 "nbformat_minor": 2
}
