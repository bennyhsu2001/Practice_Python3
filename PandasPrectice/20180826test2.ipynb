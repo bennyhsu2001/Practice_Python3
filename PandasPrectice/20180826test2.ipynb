{
 "cells": [
  {
   "cell_type": "code",
   "execution_count": 1,
   "metadata": {},
   "outputs": [
    {
     "name": "stdout",
     "output_type": "stream",
     "text": [
      "   A   B   C   D\n",
      "a  1   2   3   4\n",
      "b  5   6   7   8\n",
      "c  9  10  11  12 \n",
      "\n",
      "     C   D   E\n",
      "b   1   2   3\n",
      "c   4   5   6\n",
      "d   7   8   9\n",
      "e  10  11  12\n"
     ]
    }
   ],
   "source": [
    "import pandas as pd\n",
    "import numpy as np\n",
    "\n",
    "# creat 2 tables to debo\n",
    "df1 = pd.DataFrame(np.arange(1,13).reshape(3,4),index=list('abc'),columns=list('ABCD'))\n",
    "df2 = pd.DataFrame(np.arange(1,13).reshape(4,3),index=list('bcde'),columns=list('CDE'))\n",
    "\n",
    "print(df1, '\\n'*2, df2)\n"
   ]
  },
  {
   "cell_type": "code",
   "execution_count": 2,
   "metadata": {},
   "outputs": [
    {
     "name": "stdout",
     "output_type": "stream",
     "text": [
      "     A    B     C     D    E\n",
      "a  0.0  0.0   0.0   0.0  NaN\n",
      "b  0.0  0.0   7.0  16.0  0.0\n",
      "c  0.0  0.0  44.0  60.0  0.0\n",
      "d  NaN  NaN   0.0   0.0  0.0\n",
      "e  NaN  NaN   0.0   0.0  0.0 \n",
      "\n",
      "       A      B      C      D      E\n",
      "a  False  False  False  False   True\n",
      "b  False  False  False  False  False\n",
      "c  False  False  False  False  False\n",
      "d   True   True  False  False  False\n",
      "e   True   True  False  False  False \n",
      "\n",
      "       A      B     C     D      E\n",
      "a   True   True  True  True  False\n",
      "b   True   True  True  True   True\n",
      "c   True   True  True  True   True\n",
      "d  False  False  True  True   True\n",
      "e  False  False  True  True   True \n",
      "\n",
      "a    0.0\n",
      "b    0.0\n",
      "c    0.0\n",
      "Name: B, dtype: float64 \n",
      "\n"
     ]
    }
   ],
   "source": [
    "# join 2 tables together and fill it with zero\n",
    "df3 = df1.mul(df2,fill_value=0)\n",
    "print(df3,'\\n')\n",
    "\n",
    "print(df3.isnull(),'\\n')\n",
    "print(df3.notnull(),'\\n')\n",
    "\n",
    "print(df3.B[df3.B.notnull()],'\\n')\n"
   ]
  },
  {
   "cell_type": "code",
   "execution_count": 3,
   "metadata": {},
   "outputs": [
    {
     "name": "stdout",
     "output_type": "stream",
     "text": [
      "     A    B     C     D    E\n",
      "a  0.0  0.0   0.0   0.0  0.0\n",
      "b  0.0  0.0   7.0  16.0  0.0\n",
      "c  0.0  0.0  44.0  60.0  0.0\n",
      "d  0.0  0.0   0.0   0.0  0.0\n",
      "e  0.0  0.0   0.0   0.0  0.0 \n",
      "\n",
      "     A    B     C     D    E\n",
      "a  0.0  0.0   0.0   0.0  NaN\n",
      "b  0.0  0.0   7.0  16.0  0.0\n",
      "c  0.0  0.0  44.0  60.0  0.0\n",
      "d  0.0  0.0   0.0   0.0  0.0\n",
      "e  0.0  0.0   0.0   0.0  0.0 \n",
      "\n",
      "     A    B     C     D    E\n",
      "a  0.0  0.0   0.0   0.0  0.0\n",
      "b  0.0  0.0   7.0  16.0  0.0\n",
      "c  0.0  0.0  44.0  60.0  0.0\n",
      "d  NaN  NaN   0.0   0.0  0.0\n",
      "e  NaN  NaN   0.0   0.0  0.0 \n",
      "\n",
      "     A    B     C     D    E\n",
      "a  0.0  0.0   0.0   0.0  NaN\n",
      "b  0.0  0.0   7.0  16.0  0.0\n",
      "c  0.0  0.0  44.0  60.0  0.0\n",
      "d  0.0  0.0   0.0   0.0  0.0\n",
      "e  0.0  0.0   0.0   0.0  0.0 \n",
      "\n",
      "     A    B     C     D    E\n",
      "a  0.0  0.0   0.0   0.0  NaN\n",
      "b  0.0  0.0   7.0  16.0  0.0\n",
      "c  0.0  0.0  44.0  60.0  0.0\n",
      "d  0.0  0.0   0.0   0.0  0.0\n",
      "e  0.0  0.0   0.0   0.0  0.0 \n",
      "\n",
      "         A        B     C     D        E\n",
      "a        0        0   0.0   0.0  missing\n",
      "b        0        0   7.0  16.0        0\n",
      "c        0        0  44.0  60.0        0\n",
      "d  missing  missing   0.0   0.0        0\n",
      "e  missing  missing   0.0   0.0        0\n"
     ]
    }
   ],
   "source": [
    "# fill NaN with numbera\n",
    "\n",
    "print(df3.fillna(0),'\\n')\n",
    "\n",
    "print(df3.fillna(method='ffill'),'\\n')  # use the same column's number before  \n",
    "print(df3.fillna(method='bfill'),'\\n')  # use the same column's number after  \n",
    "\n",
    "print(df3.fillna(method='backfill',axis=1),'\\n')  # use the sam row's number after\n",
    "\n",
    "print(df3.fillna(method='pad',limit=2),'\\n')\n",
    "\n",
    "print(df3.fillna('missing',inplace=False))"
   ]
  },
  {
   "cell_type": "code",
   "execution_count": 6,
   "metadata": {},
   "outputs": [
    {
     "name": "stdout",
     "output_type": "stream",
     "text": [
      "     A    B     C     D    E\n",
      "b  0.0  0.0   7.0  16.0  0.0\n",
      "c  0.0  0.0  44.0  60.0  0.0 \n",
      "\n",
      "      C     D\n",
      "a   0.0   0.0\n",
      "b   7.0  16.0\n",
      "c  44.0  60.0\n",
      "d   0.0   0.0\n",
      "e   0.0   0.0 \n",
      "\n",
      "     A    B     C     D    E\n",
      "a  0.0  0.0   0.0   0.0  NaN\n",
      "b  0.0  0.0   7.0  16.0  0.0\n",
      "c  0.0  0.0  44.0  60.0  0.0\n",
      "d  NaN  NaN   0.0   0.0  0.0\n",
      "e  NaN  NaN   0.0   0.0  0.0 \n",
      "\n",
      "      C     D\n",
      "a   0.0   0.0\n",
      "b   7.0  16.0\n",
      "c  44.0  60.0\n",
      "d   0.0   0.0\n",
      "e   0.0   0.0 \n",
      "\n",
      "     A    B     C     D    E\n",
      "a  0.0  0.0   0.0   0.0  NaN\n",
      "b  0.0  0.0   7.0  16.0  0.0\n",
      "c  0.0  0.0  44.0  60.0  0.0\n",
      "d  NaN  NaN   0.0   0.0  0.0\n",
      "e  NaN  NaN   0.0   0.0  0.0 \n",
      "\n",
      "     A    B     C     D    E\n",
      "a  0.0  0.0   0.0   0.0  NaN\n",
      "b  0.0  0.0   7.0  16.0  0.0\n",
      "c  0.0  0.0  44.0  60.0  0.0\n",
      "d  NaN  NaN   0.0   0.0  0.0\n",
      "e  NaN  NaN   0.0   0.0  0.0 \n",
      "\n"
     ]
    }
   ],
   "source": [
    "# drop NaN\n",
    "\n",
    "print(df3.dropna(axis=0),'\\n')\n",
    "print(df3.dropna(axis=1),'\\n')\n",
    "\n",
    "print(df3.dropna(axis=1,how='all'),'\\n')  # to drop if there is all NaN\n",
    "print(df3.dropna(axis=1,how='any'),'\\n')  # to drop if there has a NaN\n",
    "\n",
    "print(df3.dropna(axis=1,thresh=2),'\\n')  # to drop if their number of NaN is greater then setting\n",
    "print(df3.dropna(axis=1,thresh=1),'\\n')  \n"
   ]
  },
  {
   "cell_type": "code",
   "execution_count": 12,
   "metadata": {},
   "outputs": [
    {
     "name": "stdout",
     "output_type": "stream",
     "text": [
      "       c1 c2\n",
      "0   apple  a\n",
      "1   apple  a\n",
      "2   apple  3\n",
      "3  banana  3\n",
      "4  banana  b\n",
      "5  banana  b\n",
      "6   apple  a \n",
      "\n",
      "0    False\n",
      "1     True\n",
      "2    False\n",
      "3    False\n",
      "4    False\n",
      "5     True\n",
      "6     True\n",
      "dtype: bool \n",
      "\n",
      "       c1 c2\n",
      "0   apple  a\n",
      "2   apple  3\n",
      "3  banana  3\n",
      "4  banana  b \n",
      "\n",
      "0    False\n",
      "1     True\n",
      "2    False\n",
      "3     True\n",
      "4    False\n",
      "5     True\n",
      "6     True\n",
      "dtype: bool \n",
      "\n",
      "       c1 c2\n",
      "0   apple  a\n",
      "2   apple  3\n",
      "4  banana  b \n",
      "\n"
     ]
    }
   ],
   "source": [
    "# delete same data\n",
    "\n",
    "df4 = pd.DataFrame({'c1':['apple']*3+['banana']*3+['apple'],'c2':['a','a',3,3,'b','b','a']})\n",
    "print(df4,'\\n')\n",
    "\n",
    "print(df4.duplicated(),'\\n')\n",
    "print(df4.drop_duplicates(),'\\n')\n",
    "\n",
    "print(df4.duplicated(['c2']),'\\n')\n",
    "print(df4.drop_duplicates(['c2']),'\\n')"
   ]
  }
 ],
 "metadata": {
  "kernelspec": {
   "display_name": "Python 3",
   "language": "python",
   "name": "python3"
  },
  "language_info": {
   "codemirror_mode": {
    "name": "ipython",
    "version": 3
   },
   "file_extension": ".py",
   "mimetype": "text/x-python",
   "name": "python",
   "nbconvert_exporter": "python",
   "pygments_lexer": "ipython3",
   "version": "3.6.5"
  }
 },
 "nbformat": 4,
 "nbformat_minor": 2
}
