{
 "cells": [
  {
   "cell_type": "markdown",
   "metadata": {},
   "source": [
    "# Ch4. Basic Syntax2"
   ]
  },
  {
   "cell_type": "markdown",
   "metadata": {},
   "source": [
    "### String Format"
   ]
  },
  {
   "cell_type": "code",
   "execution_count": 1,
   "metadata": {},
   "outputs": [],
   "source": [
    "x, y, z = 10, 20, 30"
   ]
  },
  {
   "cell_type": "code",
   "execution_count": 2,
   "metadata": {},
   "outputs": [
    {
     "data": {
      "text/plain": [
       "'Y= 20 X=10 Z=30'"
      ]
     },
     "execution_count": 2,
     "metadata": {},
     "output_type": "execute_result"
    }
   ],
   "source": [
    "\"Y= {1} X={0} Z={2}\".format(x, y, z)"
   ]
  },
  {
   "cell_type": "code",
   "execution_count": 3,
   "metadata": {},
   "outputs": [
    {
     "data": {
      "text/plain": [
       "'Y= 20 X=10 Z=30'"
      ]
     },
     "execution_count": 3,
     "metadata": {},
     "output_type": "execute_result"
    }
   ],
   "source": [
    "\"Y= {a} X={b} Z={c}\".format(b=x, a=y, c=z)"
   ]
  },
  {
   "cell_type": "code",
   "execution_count": 4,
   "metadata": {},
   "outputs": [
    {
     "name": "stdout",
     "output_type": "stream",
     "text": [
      "Integer:   123\n",
      "Integer: 00123\n",
      "Float: 123.457\n",
      "Binary: 1100100\n",
      "Octal: 144\n",
      "Hex: 64\n"
     ]
    }
   ],
   "source": [
    "print(\"Integer: {0:5d}\".format(123))\n",
    "print(\"Integer: {0:05d}\".format(123))\n",
    "print(\"Float: {0:6.3f}\".format(123.45678))\n",
    "print(\"Binary: {0:b}\".format(100))\n",
    "print(\"Octal: {0:o}\".format(100))\n",
    "print(\"Hex: {0:x}\".format(100))"
   ]
  },
  {
   "cell_type": "markdown",
   "metadata": {},
   "source": [
    "## Lists"
   ]
  },
  {
   "cell_type": "markdown",
   "metadata": {},
   "source": [
    "### List is Mutable, Ordered"
   ]
  },
  {
   "cell_type": "code",
   "execution_count": 5,
   "metadata": {},
   "outputs": [],
   "source": [
    "lst = ['physics', 'chemistry', 1997, 2000]"
   ]
  },
  {
   "cell_type": "code",
   "execution_count": 6,
   "metadata": {},
   "outputs": [
    {
     "data": {
      "text/plain": [
       "1997"
      ]
     },
     "execution_count": 6,
     "metadata": {},
     "output_type": "execute_result"
    }
   ],
   "source": [
    "lst[2]"
   ]
  },
  {
   "cell_type": "code",
   "execution_count": 7,
   "metadata": {},
   "outputs": [
    {
     "data": {
      "text/plain": [
       "2001"
      ]
     },
     "execution_count": 7,
     "metadata": {},
     "output_type": "execute_result"
    }
   ],
   "source": [
    "lst[2] = 2001\n",
    "lst[2]"
   ]
  },
  {
   "cell_type": "code",
   "execution_count": 8,
   "metadata": {},
   "outputs": [
    {
     "data": {
      "text/plain": [
       "['physics', 'chemistry', 2001, 2000]"
      ]
     },
     "execution_count": 8,
     "metadata": {},
     "output_type": "execute_result"
    }
   ],
   "source": [
    "lst"
   ]
  },
  {
   "cell_type": "code",
   "execution_count": 9,
   "metadata": {},
   "outputs": [
    {
     "data": {
      "text/plain": [
       "['physics', 'chemistry', 2000]"
      ]
     },
     "execution_count": 9,
     "metadata": {},
     "output_type": "execute_result"
    }
   ],
   "source": [
    "del lst[2]\n",
    "lst"
   ]
  },
  {
   "cell_type": "code",
   "execution_count": 10,
   "metadata": {},
   "outputs": [
    {
     "data": {
      "text/plain": [
       "3"
      ]
     },
     "execution_count": 10,
     "metadata": {},
     "output_type": "execute_result"
    }
   ],
   "source": [
    "len(lst)"
   ]
  },
  {
   "cell_type": "markdown",
   "metadata": {},
   "source": [
    "### Create Lists"
   ]
  },
  {
   "cell_type": "code",
   "execution_count": 12,
   "metadata": {},
   "outputs": [
    {
     "name": "stdout",
     "output_type": "stream",
     "text": [
      "[]\n",
      "[1, 2, 3, 4, 5]\n",
      "list3 = [1, 'Hello', 3.5]\n",
      "[]\n",
      "['tom', 'mary', 'joe']\n",
      "list6 = ['p', 'y', 't', 'h', 'o', 'n']\n",
      "list7 = [1, ['tom', 'mary', 'joe'], [1, 3, 5]]\n"
     ]
    }
   ],
   "source": [
    "# list\n",
    "# create list\n",
    "list1 = []\n",
    "list2 = [1, 2, 3, 4, 5]\n",
    "list3 = [1, 'Hello', 3.5]\n",
    "list4 = list()\n",
    "list5 = list([\"tom\", \"mary\", \"joe\"])\n",
    "list6 = list(\"python\")\n",
    "\n",
    "# create nested list \n",
    "list7 = [1, [\"tom\", \"mary\", \"joe\"], [1, 3, 5]]\n",
    "\n",
    "# output list items \n",
    "print(list1)\n",
    "print(list2)\n",
    "print(\"list3 =\",list3)\n",
    "print(list4)\n",
    "print(list5)\n",
    "print(\"list6 =\",list6)\n",
    "print(\"list7 =\",list7)"
   ]
  },
  {
   "cell_type": "markdown",
   "metadata": {},
   "source": [
    "### Indexing"
   ]
  },
  {
   "cell_type": "code",
   "execution_count": 15,
   "metadata": {},
   "outputs": [
    {
     "name": "stdout",
     "output_type": "stream",
     "text": [
      "1\n",
      "2\n",
      "6\n",
      "5\n",
      "[1, 10, 3, 4, 5, 6]\n"
     ]
    }
   ],
   "source": [
    "# list\n",
    "# using index\n",
    "list1 = [1, 2, 3, 4, 5, 6]\n",
    "print(list1[0])\n",
    "print(list1[1])\n",
    "print(list1[-1])\n",
    "print(list1[-2])\n",
    "list1[1] = 10\n",
    "print(list1)"
   ]
  },
  {
   "cell_type": "markdown",
   "metadata": {},
   "source": [
    "### Slicing"
   ]
  },
  {
   "cell_type": "code",
   "execution_count": 20,
   "metadata": {},
   "outputs": [
    {
     "name": "stdout",
     "output_type": "stream",
     "text": [
      "list1 = ['H', 'e', 'l', 'l', 'o', ' ', 'W', 'o', 'r', 'l', 'd', '!']\n",
      "list1[1:3] = ['e', 'l']\n",
      "list1[1:5] = ['e', 'l', 'l', 'o']\n",
      "list1[:7] = ['H', 'e', 'l', 'l', 'o', ' ', 'W']\n",
      "list1[4:] = ['o', ' ', 'W', 'o', 'r', 'l', 'd', '!']\n",
      "list1[1:-1] = ['e', 'l', 'l', 'o', ' ', 'W', 'o', 'r', 'l', 'd']\n",
      "list1[6:-2] = ['W', 'o', 'r', 'l']\n"
     ]
    }
   ],
   "source": [
    "# list slicing\n",
    "list1 = list('Hello World!')\n",
    "print(\"list1 = \" + str(list1))\n",
    "s = list1[1:3]\n",
    "print(\"list1[1:3] =\",s)\n",
    "s = list1[1:5]\n",
    "print(\"list1[1:5] =\",s)\n",
    "s = list1[:7]\n",
    "print(\"list1[:7] =\",s)\n",
    "s = list1[4:]\n",
    "print(\"list1[4:] =\",s)\n",
    "s = list1[1:-1]\n",
    "print(\"list1[1:-1] =\",s)\n",
    "s = list1[6:-2]\n",
    "print(\"list1[6:-2] =\",s)"
   ]
  },
  {
   "cell_type": "code",
   "execution_count": 21,
   "metadata": {},
   "outputs": [],
   "source": [
    "# list\n",
    "list1 = [2, 4, 6, 8]"
   ]
  },
  {
   "cell_type": "code",
   "execution_count": 22,
   "metadata": {},
   "outputs": [
    {
     "data": {
      "text/plain": [
       "[2, 3, 5, 7]"
      ]
     },
     "execution_count": 22,
     "metadata": {},
     "output_type": "execute_result"
    }
   ],
   "source": [
    "# Modify items\n",
    "list1[1:4] = [3, 5, 7]\n",
    "list1"
   ]
  },
  {
   "cell_type": "code",
   "execution_count": 23,
   "metadata": {},
   "outputs": [
    {
     "data": {
      "text/plain": [
       "[2, 3, 1, 9, 5, 7]"
      ]
     },
     "execution_count": 23,
     "metadata": {},
     "output_type": "execute_result"
    }
   ],
   "source": [
    "# Insert items\n",
    "list1[2:2] = [1, 9]\n",
    "list1"
   ]
  },
  {
   "cell_type": "code",
   "execution_count": 24,
   "metadata": {},
   "outputs": [
    {
     "data": {
      "text/plain": [
       "[2, 3, 9, 5, 7]"
      ]
     },
     "execution_count": 24,
     "metadata": {},
     "output_type": "execute_result"
    }
   ],
   "source": [
    "# delete items\n",
    "list1[2:3] = []\n",
    "list1"
   ]
  },
  {
   "cell_type": "markdown",
   "metadata": {},
   "source": [
    "### List Operators"
   ]
  },
  {
   "cell_type": "code",
   "execution_count": 26,
   "metadata": {},
   "outputs": [],
   "source": [
    "list1 = [2, 4]\n",
    "list2 = [6, 8, 10]"
   ]
  },
  {
   "cell_type": "code",
   "execution_count": 27,
   "metadata": {},
   "outputs": [
    {
     "data": {
      "text/plain": [
       "[2, 4, 6, 8, 10]"
      ]
     },
     "execution_count": 27,
     "metadata": {},
     "output_type": "execute_result"
    }
   ],
   "source": [
    "# Concatenation\n",
    "list3 = list1 + list2\n",
    "list3"
   ]
  },
  {
   "cell_type": "code",
   "execution_count": 29,
   "metadata": {},
   "outputs": [
    {
     "data": {
      "text/plain": [
       "[2, 4, 2, 4, 2, 4]"
      ]
     },
     "execution_count": 29,
     "metadata": {},
     "output_type": "execute_result"
    }
   ],
   "source": [
    "# Repetition\n",
    "list4 = list1 * 3\n",
    "list4"
   ]
  },
  {
   "cell_type": "code",
   "execution_count": 30,
   "metadata": {},
   "outputs": [
    {
     "data": {
      "text/plain": [
       "(True, False)"
      ]
     },
     "execution_count": 30,
     "metadata": {},
     "output_type": "execute_result"
    }
   ],
   "source": [
    "# Member\n",
    "8 in list2, 2 not in list1"
   ]
  },
  {
   "cell_type": "markdown",
   "metadata": {},
   "source": [
    "### List Methods"
   ]
  },
  {
   "cell_type": "code",
   "execution_count": 1,
   "metadata": {},
   "outputs": [],
   "source": [
    "list1 = [4, 2, 8, 9, 1, 8]"
   ]
  },
  {
   "cell_type": "code",
   "execution_count": 3,
   "metadata": {},
   "outputs": [
    {
     "name": "stdout",
     "output_type": "stream",
     "text": [
      "list1.count(8) = 2\n",
      "list1.index(8) = 1\n",
      "list1.index(1) = 5\n",
      "list1.sort() = [1, 2, 4, 8, 8, 9]\n",
      "list1.reverse() = [9, 8, 8, 4, 2, 1]\n"
     ]
    }
   ],
   "source": [
    "s = list1.count(8)\n",
    "print(\"list1.count(8) =\",s)\n",
    "s = list1.index(8)\n",
    "print(\"list1.index(8) =\",s)\n",
    "s = list1.index(1)\n",
    "print(\"list1.index(1) =\",s)\n",
    "list1.sort()\n",
    "print(\"list1.sort() =\",list1)\n",
    "list1.reverse()\n",
    "print(\"list1.reverse() =\",list1)"
   ]
  },
  {
   "cell_type": "code",
   "execution_count": 4,
   "metadata": {},
   "outputs": [],
   "source": [
    "list1 = [1, 5]"
   ]
  },
  {
   "cell_type": "code",
   "execution_count": 5,
   "metadata": {},
   "outputs": [
    {
     "name": "stdout",
     "output_type": "stream",
     "text": [
      "list1.append(7) = [1, 5, 7]\n",
      "list1.extend([9,11,13]) = [1, 5, 7, 9, 11, 13]\n",
      "list1.insert(1,3) = [1, 3, 5, 7, 9, 11, 13]\n",
      "del list1[2] = [1, 3, 7, 9, 11, 13]\n",
      "e1 = list1.pop() = [1, 3, 7, 9, 11]\n",
      "e1 = 13\n",
      "e2 = list1.pop(1) = [1, 7, 9, 11]\n",
      "e2 = 3\n",
      "list1.remove(9) = [1, 7, 11]\n"
     ]
    }
   ],
   "source": [
    "# append new item\n",
    "list1.append(7)\n",
    "print(\"list1.append(7) =\",list1)\n",
    "list1.extend([9, 11, 13])\n",
    "print(\"list1.extend([9,11,13]) =\",list1)\n",
    "\n",
    "# insert new item\n",
    "list1.insert(1, 3)\n",
    "print(\"list1.insert(1,3) =\",list1)\n",
    "\n",
    "# delete item\n",
    "del list1[2]\n",
    "print(\"del list1[2] =\",list1)\n",
    "e1 = list1.pop()\n",
    "print(\"e1 = list1.pop() =\",list1)\n",
    "print(\"e1 =\",e1)\n",
    "e2 = list1.pop(1)\n",
    "print(\"e2 = list1.pop(1) =\",list1)\n",
    "print(\"e2 =\",e2)\n",
    "list1.remove(9)\n",
    "print(\"list1.remove(9) =\",list1)"
   ]
  },
  {
   "cell_type": "markdown",
   "metadata": {},
   "source": [
    "## Tuples"
   ]
  },
  {
   "cell_type": "markdown",
   "metadata": {},
   "source": [
    "### Create Tuples"
   ]
  },
  {
   "cell_type": "code",
   "execution_count": 6,
   "metadata": {},
   "outputs": [
    {
     "name": "stdout",
     "output_type": "stream",
     "text": [
      "()\n",
      "(1, 2, 3, 4, 5)\n",
      "t3 = (1, 'Hello', 3.5)\n",
      "()\n",
      "('tom', 'mary', 'joe')\n",
      "t6 = ('p', 'y', 't', 'h', 'o', 'n')\n"
     ]
    }
   ],
   "source": [
    "# tuple\n",
    "# create tuple\n",
    "t1 = ()\n",
    "t2 = (1, 2, 3, 4, 5)\n",
    "t3 = (1, 'Hello', 3.5)\n",
    "t4 = tuple()\n",
    "t5 = tuple([\"tom\", \"mary\", \"joe\"])\n",
    "t6 = tuple(\"python\")\n",
    "\n",
    "# print items\n",
    "print(t1)\n",
    "print(t2)\n",
    "print(\"t3 =\",t3)\n",
    "print(t4)\n",
    "print(t5)\n",
    "print(\"t6 =\",t6)"
   ]
  },
  {
   "cell_type": "markdown",
   "metadata": {},
   "source": [
    "### Indexing"
   ]
  },
  {
   "cell_type": "code",
   "execution_count": 7,
   "metadata": {},
   "outputs": [
    {
     "name": "stdout",
     "output_type": "stream",
     "text": [
      "1\n",
      "2\n",
      "6\n",
      "5\n"
     ]
    }
   ],
   "source": [
    "# tuple\n",
    "# using index\n",
    "t1 = (1, 2, 3, 4, 5, 6)\n",
    "print(t1[0])\n",
    "print(t1[1])\n",
    "print(t1[-1])\n",
    "print(t1[-2])"
   ]
  },
  {
   "cell_type": "markdown",
   "metadata": {},
   "source": [
    "### Slicing"
   ]
  },
  {
   "cell_type": "code",
   "execution_count": 8,
   "metadata": {},
   "outputs": [
    {
     "name": "stdout",
     "output_type": "stream",
     "text": [
      "t1 = ('H', 'e', 'l', 'l', 'o', ' ', 'W', 'o', 'r', 'l', 'd', '!')\n",
      "t1[1:3] = ('e', 'l')\n",
      "t1[1:5] = ('e', 'l', 'l', 'o')\n",
      "t1[:7] = ('H', 'e', 'l', 'l', 'o', ' ', 'W')\n",
      "t1[4:] = ('o', ' ', 'W', 'o', 'r', 'l', 'd', '!')\n",
      "t1[1:-1] = ('e', 'l', 'l', 'o', ' ', 'W', 'o', 'r', 'l', 'd')\n",
      "t1[6:-2] = ('W', 'o', 'r', 'l')\n"
     ]
    }
   ],
   "source": [
    "t1 = tuple('Hello World!')\n",
    "print(\"t1 =\",t1)\n",
    "s = t1[1:3]\n",
    "print(\"t1[1:3] =\",s)\n",
    "s = t1[1:5]\n",
    "print(\"t1[1:5] =\",s)\n",
    "s = t1[:7]\n",
    "print(\"t1[:7] =\",s)\n",
    "s = t1[4:]\n",
    "print(\"t1[4:] =\",s)\n",
    "s = t1[1:-1]\n",
    "print(\"t1[1:-1] =\",s)\n",
    "s = t1[6:-2]\n",
    "print(\"t1[6:-2] =\",s)"
   ]
  },
  {
   "cell_type": "markdown",
   "metadata": {},
   "source": [
    "### Tuple Operators"
   ]
  },
  {
   "cell_type": "code",
   "execution_count": 9,
   "metadata": {},
   "outputs": [
    {
     "name": "stdout",
     "output_type": "stream",
     "text": [
      "t1 = (2, 4)\n",
      "t2 = (6, 8, 10)\n",
      "t3=t1+t2 = (2, 4, 6, 8, 10)\n"
     ]
    }
   ],
   "source": [
    "# tuple\n",
    "# Concatenation\n",
    "t1 = (2, 4)\n",
    "t2 = (6, 8, 10)\n",
    "print(\"t1 =\",t1)\n",
    "print(\"t2 =\",t2)\n",
    "t3 = t1 + t2\n",
    "print(\"t3=t1+t2 =\",t3)"
   ]
  },
  {
   "cell_type": "code",
   "execution_count": 10,
   "metadata": {},
   "outputs": [
    {
     "name": "stdout",
     "output_type": "stream",
     "text": [
      "t4=t1*3 = (2, 4, 2, 4, 2, 4)\n"
     ]
    }
   ],
   "source": [
    "# Repetition\n",
    "t4 = t1 * 3\n",
    "print(\"t4=t1*3 =\",t4)"
   ]
  },
  {
   "cell_type": "code",
   "execution_count": 11,
   "metadata": {},
   "outputs": [
    {
     "name": "stdout",
     "output_type": "stream",
     "text": [
      "True\n",
      "False\n"
     ]
    }
   ],
   "source": [
    "# Member\n",
    "print(8 in t2)\n",
    "print(2 not in t1)"
   ]
  },
  {
   "cell_type": "markdown",
   "metadata": {},
   "source": [
    "## Dictionary"
   ]
  },
  {
   "cell_type": "markdown",
   "metadata": {},
   "source": [
    "### Create Dictionary"
   ]
  },
  {
   "cell_type": "code",
   "execution_count": 12,
   "metadata": {},
   "outputs": [
    {
     "name": "stdout",
     "output_type": "stream",
     "text": [
      "{}\n",
      "{1: 'apple', 2: 'ball'}\n",
      "d3 = {'name': 'tom', 1: [1, 3, 5]}\n",
      "{}\n",
      "{1: 'tom', 2: 'mary', 3: 'joe'}\n"
     ]
    }
   ],
   "source": [
    "# dictionary\n",
    "# create\n",
    "d1 = {}\n",
    "d2 = {1: 'apple', 2: 'ball'}\n",
    "d3 = {\n",
    "      \"name\": \"tom\",\n",
    "      1: [1, 3, 5]\n",
    "     }\n",
    "d4 = dict()\n",
    "d5 = dict([(1,\"tom\"), (2,\"mary\"), (3, \"joe\")])\n",
    "\n",
    "# print item\n",
    "print(d1)\n",
    "print(d2)\n",
    "print(\"d3 =\",d3)\n",
    "print(d4)\n",
    "print(d5)"
   ]
  },
  {
   "cell_type": "markdown",
   "metadata": {},
   "source": [
    "### Mutable"
   ]
  },
  {
   "cell_type": "code",
   "execution_count": 14,
   "metadata": {},
   "outputs": [
    {
     "name": "stdout",
     "output_type": "stream",
     "text": [
      "d1 = {'name': 'tom', 'age': 20, 1: [1, 3, 5]}\n",
      "tom\n",
      "20\n",
      "[1, 3, 5]\n"
     ]
    }
   ],
   "source": [
    "# dictionary\n",
    "# get value\n",
    "d1 = {\n",
    "      \"name\": \"tom\",\n",
    "      \"age\": 20,\n",
    "      1: [1, 3, 5]\n",
    "     }\n",
    "print(\"d1 =\",d1)     \n",
    "print(d1[\"name\"])\n",
    "print(d1[\"age\"])\n",
    "print(d1[1])"
   ]
  },
  {
   "cell_type": "code",
   "execution_count": 17,
   "metadata": {},
   "outputs": [
    {
     "data": {
      "text/plain": [
       "{1: [1, 3, 5], 'address': 'Taipei', 'age': 21, 'name': 'tom'}"
      ]
     },
     "execution_count": 17,
     "metadata": {},
     "output_type": "execute_result"
    }
   ],
   "source": [
    "# chage value\n",
    "d1[\"age\"] = 21\n",
    "d1"
   ]
  },
  {
   "cell_type": "code",
   "execution_count": 18,
   "metadata": {},
   "outputs": [
    {
     "data": {
      "text/plain": [
       "{1: [1, 3, 5], 'address': 'Taipei', 'age': 21, 'name': 'tom'}"
      ]
     },
     "execution_count": 18,
     "metadata": {},
     "output_type": "execute_result"
    }
   ],
   "source": [
    "# add item\n",
    "d1[\"address\"] = \"Taipei\"\n",
    "d1"
   ]
  },
  {
   "cell_type": "markdown",
   "metadata": {},
   "source": [
    "### Dictionary Operators"
   ]
  },
  {
   "cell_type": "code",
   "execution_count": 19,
   "metadata": {},
   "outputs": [
    {
     "name": "stdout",
     "output_type": "stream",
     "text": [
      "d1 = {'tom': 30, 'bobe': 3}\n",
      "d2 = {'bobe': 3, 'tom': 30}\n"
     ]
    }
   ],
   "source": [
    "d1 = {\"tom\":30, \"bobe\":3}\n",
    "print(\"d1 =\",d1)\n",
    "d2 = {\"bobe\":3, \"tom\":30}\n",
    "print(\"d2 =\",d2)"
   ]
  },
  {
   "cell_type": "code",
   "execution_count": 20,
   "metadata": {},
   "outputs": [
    {
     "name": "stdout",
     "output_type": "stream",
     "text": [
      "True\n",
      "False\n"
     ]
    }
   ],
   "source": [
    "# Member\n",
    "print(\"tom\" in d1)       # True\n",
    "print(\"tom\" not in d1)   # False"
   ]
  },
  {
   "cell_type": "code",
   "execution_count": 21,
   "metadata": {},
   "outputs": [
    {
     "name": "stdout",
     "output_type": "stream",
     "text": [
      "True\n",
      "False\n"
     ]
    }
   ],
   "source": [
    "# Relational\n",
    "print(d1 == d2)  # True\n",
    "print(d1 != d2)  # False"
   ]
  },
  {
   "cell_type": "markdown",
   "metadata": {},
   "source": [
    "### Using Functions"
   ]
  },
  {
   "cell_type": "code",
   "execution_count": 23,
   "metadata": {},
   "outputs": [
    {
     "data": {
      "text/plain": [
       "{1: 'tom', 2: 'mary', 3: 'joe'}"
      ]
     },
     "execution_count": 23,
     "metadata": {},
     "output_type": "execute_result"
    }
   ],
   "source": [
    "# dictionary\n",
    "d1=dict([(1,\"tom\"), (2,\"mary\"), (3, \"joe\")])\n",
    "d1"
   ]
  },
  {
   "cell_type": "code",
   "execution_count": 24,
   "metadata": {},
   "outputs": [
    {
     "data": {
      "text/plain": [
       "3"
      ]
     },
     "execution_count": 24,
     "metadata": {},
     "output_type": "execute_result"
    }
   ],
   "source": [
    "len(d1)"
   ]
  },
  {
   "cell_type": "code",
   "execution_count": 25,
   "metadata": {},
   "outputs": [
    {
     "data": {
      "text/plain": [
       "[1, 2, 3]"
      ]
     },
     "execution_count": 25,
     "metadata": {},
     "output_type": "execute_result"
    }
   ],
   "source": [
    "d3 = sorted(d1)\n",
    "d3"
   ]
  },
  {
   "cell_type": "markdown",
   "metadata": {},
   "source": [
    "### Dictionary Methods"
   ]
  },
  {
   "cell_type": "code",
   "execution_count": 26,
   "metadata": {},
   "outputs": [
    {
     "data": {
      "text/plain": [
       "{'bob': '02-22222222', 'mike': '02-33333333', 'tom': '02-11111111'}"
      ]
     },
     "execution_count": 26,
     "metadata": {},
     "output_type": "execute_result"
    }
   ],
   "source": [
    "# dictionary\n",
    "d1 = {\"tom\":\"02-11111111\",\n",
    "      \"bob\":\"02-22222222\",\n",
    "      \"mike\":\"02-33333333\"}\n",
    "d1"
   ]
  },
  {
   "cell_type": "code",
   "execution_count": 27,
   "metadata": {},
   "outputs": [
    {
     "name": "stdout",
     "output_type": "stream",
     "text": [
      "d1.get('tom') = 02-11111111\n",
      "d1.get('mary', 'NA') = NA\n",
      "d1.keys() = dict_keys(['tom', 'bob', 'mike'])\n",
      "tom bob mike \n",
      "d1.values() = dict_values(['02-11111111', '02-22222222', '02-33333333'])\n",
      "02-11111111 02-22222222 02-33333333 "
     ]
    }
   ],
   "source": [
    "i = d1.get(\"tom\")\n",
    "print(\"d1.get('tom') =\",i)\n",
    "\n",
    "i = d1.get(\"mary\", \"NA\")\n",
    "print(\"d1.get('mary', 'NA') =\",i)\n",
    "\n",
    "t1 = d1.keys()\n",
    "print(\"d1.keys() =\",t1)\n",
    "list1 = list(t1)\n",
    "for i in list1:\n",
    "    print(i, end=\" \")\n",
    "print()\n",
    "\n",
    "t1 = d1.values()\n",
    "print(\"d1.values() =\",t1)\n",
    "list1 = list(t1)\n",
    "for i in list1:\n",
    "    print(i, end=\" \")"
   ]
  },
  {
   "cell_type": "code",
   "execution_count": 28,
   "metadata": {},
   "outputs": [
    {
     "data": {
      "text/plain": [
       "{1: 1, 2: 4, 5: 22, 'age': 20, 'name': 'tom'}"
      ]
     },
     "execution_count": 28,
     "metadata": {},
     "output_type": "execute_result"
    }
   ],
   "source": [
    "# dictionary\n",
    "d1 = {1:1, 2:4, \"name\":\"tom\", \"age\":20, 5:22}\n",
    "d1"
   ]
  },
  {
   "cell_type": "code",
   "execution_count": 29,
   "metadata": {},
   "outputs": [
    {
     "name": "stdout",
     "output_type": "stream",
     "text": [
      "del d1[2] = {1: 1, 'name': 'tom', 'age': 20, 5: 22}\n",
      "del d1['age'] = {1: 1, 'name': 'tom', 5: 22}\n",
      "e1 = d1.pop(5) = {1: 1, 'name': 'tom'}\n",
      "e1 = 22\n",
      "e2 = d1.popitem() = {1: 1}\n",
      "e2 = ('name', 'tom')\n",
      "d1 = {}\n"
     ]
    }
   ],
   "source": [
    "# use del keyword\n",
    "del d1[2]\n",
    "print(\"del d1[2] =\",d1)\n",
    "del d1[\"age\"]\n",
    "print(\"del d1['age'] =\",d1)\n",
    "\n",
    "# pop(): remove/return specific item\n",
    "e1 = d1.pop(5)\n",
    "print(\"e1 = d1.pop(5) =\",d1)\n",
    "print(\"e1 =\",e1)\n",
    "\n",
    "# popitem(): remove/return any item\n",
    "e2 = d1.popitem()\n",
    "print(\"e2 = d1.popitem() =\",d1)\n",
    "print(\"e2 =\",e2)\n",
    "\n",
    "# clear(): remove all items\n",
    "d1.clear()\n",
    "print(\"d1 =\",d1)"
   ]
  },
  {
   "cell_type": "markdown",
   "metadata": {},
   "source": [
    "## Sets"
   ]
  },
  {
   "cell_type": "markdown",
   "metadata": {},
   "source": [
    "### Create Sets"
   ]
  },
  {
   "cell_type": "code",
   "execution_count": 30,
   "metadata": {},
   "outputs": [
    {
     "name": "stdout",
     "output_type": "stream",
     "text": [
      "{1, 2, 3}\n",
      "s2 = {3.5, 1, 'Hello'}\n",
      "s3 = set()\n",
      "s4 = {'joe', 'tom', 'mary'}\n",
      "s5 = {'y', 'P', 'o', 'n', 't', 'h'}\n"
     ]
    }
   ],
   "source": [
    "# set\n",
    "# create\n",
    "s1 = {1, 2, 3}\n",
    "s2 = {1, 'Hello', 3.5}\n",
    "s3 = set()\n",
    "s4 = set([\"tom\", \"mary\", \"joe\"])\n",
    "s5 = set(\"Python\")\n",
    "\n",
    "# print items\n",
    "print(s1)\n",
    "print(\"s2 =\",s2)\n",
    "print(\"s3 =\",s3)\n",
    "print(\"s4 =\",s4)\n",
    "print(\"s5 =\",s5)"
   ]
  },
  {
   "cell_type": "markdown",
   "metadata": {},
   "source": [
    "### Set Operators"
   ]
  },
  {
   "cell_type": "code",
   "execution_count": 31,
   "metadata": {},
   "outputs": [
    {
     "name": "stdout",
     "output_type": "stream",
     "text": [
      "A = {1, 2, 3, 4, 5}\n",
      "B = {4, 5, 6, 7, 8}\n"
     ]
    }
   ],
   "source": [
    "A = {1, 2, 3, 4, 5}\n",
    "B = {4, 5, 6, 7, 8}\n",
    "print(\"A =\",A)\n",
    "print(\"B =\",B)"
   ]
  },
  {
   "cell_type": "code",
   "execution_count": 32,
   "metadata": {},
   "outputs": [
    {
     "name": "stdout",
     "output_type": "stream",
     "text": [
      "A & B = {4, 5}\n",
      "A.intersection(B) = {4, 5}\n"
     ]
    }
   ],
   "source": [
    "# intersection\n",
    "C = A & B\n",
    "print(\"A & B =\",C)\n",
    "C = A.intersection(B)\n",
    "print(\"A.intersection(B) =\",C)"
   ]
  },
  {
   "cell_type": "code",
   "execution_count": 33,
   "metadata": {},
   "outputs": [
    {
     "name": "stdout",
     "output_type": "stream",
     "text": [
      "A | B = {1, 2, 3, 4, 5, 6, 7, 8}\n",
      "A.union(B) = {1, 2, 3, 4, 5, 6, 7, 8}\n"
     ]
    }
   ],
   "source": [
    "# union \n",
    "C = A | B\n",
    "print(\"A | B =\",C)\n",
    "C = A.union(B)\n",
    "print(\"A.union(B) =\",C)"
   ]
  },
  {
   "cell_type": "code",
   "execution_count": 34,
   "metadata": {},
   "outputs": [
    {
     "name": "stdout",
     "output_type": "stream",
     "text": [
      "A - B = {1, 2, 3}\n",
      "A.difference(B) = {1, 2, 3}\n"
     ]
    }
   ],
   "source": [
    "# difference\n",
    "C = A - B\n",
    "print(\"A - B =\",C)\n",
    "C = A.difference(B)\n",
    "print(\"A.difference(B) =\",C)"
   ]
  },
  {
   "cell_type": "code",
   "execution_count": 35,
   "metadata": {},
   "outputs": [
    {
     "name": "stdout",
     "output_type": "stream",
     "text": [
      "A ^ B = {1, 2, 3, 6, 7, 8}\n",
      "A.symmetric_difference(B) = {1, 2, 3, 6, 7, 8}\n"
     ]
    }
   ],
   "source": [
    "# symmetric difference\n",
    "C = A ^ B\n",
    "print(\"A ^ B =\",C)\n",
    "C = A.symmetric_difference(B)\n",
    "print(\"A.symmetric_difference(B) =\",C)"
   ]
  },
  {
   "cell_type": "code",
   "execution_count": 36,
   "metadata": {},
   "outputs": [
    {
     "name": "stdout",
     "output_type": "stream",
     "text": [
      "True\n",
      "False\n"
     ]
    }
   ],
   "source": [
    "# member\n",
    "s1 = {\"tom\", \"bob\", \"joe\"}\n",
    "print(\"tom\" in s1)\n",
    "print(\"tom\" not in s1)"
   ]
  },
  {
   "cell_type": "markdown",
   "metadata": {},
   "source": [
    "### Set Methods"
   ]
  },
  {
   "cell_type": "code",
   "execution_count": 37,
   "metadata": {},
   "outputs": [
    {
     "data": {
      "text/plain": [
       "{1, 5}"
      ]
     },
     "execution_count": 37,
     "metadata": {},
     "output_type": "execute_result"
    }
   ],
   "source": [
    "s1 = {1, 5}\n",
    "s1"
   ]
  },
  {
   "cell_type": "code",
   "execution_count": 38,
   "metadata": {},
   "outputs": [
    {
     "name": "stdout",
     "output_type": "stream",
     "text": [
      "s1.add(7) = {1, 5, 7}\n",
      "s1.update([9,11,13]) = {1, 5, 7, 9, 11, 13}\n",
      "s1.update([2,3],{4,6,10}) = {1, 2, 3, 4, 5, 6, 7, 9, 10, 11, 13}\n"
     ]
    }
   ],
   "source": [
    "# add item\n",
    "s1.add(7)\n",
    "print(\"s1.add(7) =\",s1)\n",
    "s1.update([9, 11, 13])\n",
    "print(\"s1.update([9,11,13]) =\",s1)\n",
    "s1.update([2, 3], {4, 6, 10})\n",
    "print(\"s1.update([2,3],{4,6,10}) =\",s1)"
   ]
  },
  {
   "cell_type": "code",
   "execution_count": 39,
   "metadata": {},
   "outputs": [
    {
     "name": "stdout",
     "output_type": "stream",
     "text": [
      "s1.discard(2) = {1, 3, 4, 5, 6, 7, 9, 10, 11, 13}\n",
      "s1.remove(6) = {1, 3, 4, 5, 7, 9, 10, 11, 13}\n",
      "e1 = s1.pop() = {3, 4, 5, 7, 9, 10, 11, 13}\n",
      "e1 = 1\n",
      "s1.clear()= set()\n"
     ]
    }
   ],
   "source": [
    "# remove item\n",
    "s1.discard(2)\n",
    "print(\"s1.discard(2) =\",s1)\n",
    "s1.remove(6)\n",
    "print(\"s1.remove(6) =\",s1)\n",
    "e1 = s1.pop()\n",
    "print(\"e1 = s1.pop() =\",s1)\n",
    "print(\"e1 =\",e1)\n",
    "s1.clear()\n",
    "print(\"s1.clear()=\",s1)"
   ]
  },
  {
   "cell_type": "code",
   "execution_count": null,
   "metadata": {},
   "outputs": [],
   "source": []
  }
 ],
 "metadata": {
  "kernelspec": {
   "display_name": "Python 3",
   "language": "python",
   "name": "python3"
  },
  "language_info": {
   "codemirror_mode": {
    "name": "ipython",
    "version": 3
   },
   "file_extension": ".py",
   "mimetype": "text/x-python",
   "name": "python",
   "nbconvert_exporter": "python",
   "pygments_lexer": "ipython3",
   "version": "3.6.5"
  }
 },
 "nbformat": 4,
 "nbformat_minor": 2
}
