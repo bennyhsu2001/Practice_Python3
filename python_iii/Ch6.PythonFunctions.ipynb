{
 "cells": [
  {
   "cell_type": "markdown",
   "metadata": {},
   "source": [
    "# Ch6. Python Functions"
   ]
  },
  {
   "cell_type": "code",
   "execution_count": null,
   "metadata": {},
   "outputs": [],
   "source": [
    "# function\n",
    "# function: show message\n",
    "def print_msg():\n",
    "    print(\"Welcome to Python programming!\")\n",
    "\n",
    "# function: sum of 1..10 \n",
    "def sum_to_ten():\n",
    "    s = 0   \n",
    "    for i in range(1, 11): # for loop\n",
    "        s += i\n",
    "    print(\"sum of 1..10 =\", s)\n",
    "\n",
    "# main\n",
    "print_msg()   # call function\n",
    "print(print_msg())\n",
    "A=print_msg()\n",
    "print(A)\n",
    "\n",
    "sum_to_ten()"
   ]
  },
  {
   "cell_type": "code",
   "execution_count": null,
   "metadata": {},
   "outputs": [],
   "source": [
    "# Function definition is here\n",
    "def changeme(mylist):\n",
    "    print(\"Values in the function before change: \", mylist)\n",
    "    mylist[2]=50\n",
    "    print(\"Values in the function after change: \", mylist)\n",
    "    return \n",
    "# Now you can call changeme function \n",
    "mylist = [10,20,30] \n",
    "changeme( mylist ) \n",
    "print(\"Values outside the function: \", mylist)"
   ]
  },
  {
   "cell_type": "code",
   "execution_count": null,
   "metadata": {},
   "outputs": [],
   "source": [
    "# Function definition is here \n",
    "def changeme(mylist):\n",
    "    mylist = [1,2,3,4] \n",
    "    # This would assign new reference in mylist\n",
    "    print(\"Values in the function: \", mylist)\n",
    "    return \n",
    "# Now you can call changeme function \n",
    "mylist = [10,20,30] \n",
    "changeme(mylist) \n",
    "print(\"Values outside the function: \", mylist)"
   ]
  },
  {
   "cell_type": "markdown",
   "metadata": {},
   "source": [
    "## Required Arguments "
   ]
  },
  {
   "cell_type": "code",
   "execution_count": null,
   "metadata": {},
   "outputs": [],
   "source": [
    "# Function definition is here\n",
    "def printme(str1):\n",
    "    print(str1)\n",
    "    return\n",
    "# Now you can call printme function\n",
    "printme(\"test\")\n"
   ]
  },
  {
   "cell_type": "code",
   "execution_count": null,
   "metadata": {},
   "outputs": [],
   "source": [
    "# Function definition is here\n",
    "def printme(str1,str2):\n",
    "    print(str1,str2)\n",
    "    return\n",
    "# Now you can call printme function\n",
    "printme(\"test\")\n"
   ]
  },
  {
   "cell_type": "markdown",
   "metadata": {},
   "source": [
    "## Keyword Arguments "
   ]
  },
  {
   "cell_type": "code",
   "execution_count": null,
   "metadata": {},
   "outputs": [],
   "source": [
    "# Function definition is here\n",
    "def printme(str1):\n",
    "    print(str1)\n",
    "    return\n",
    "# Now you can call printme function\n",
    "printme(str1=\"My string\")"
   ]
  },
  {
   "cell_type": "code",
   "execution_count": null,
   "metadata": {},
   "outputs": [],
   "source": [
    "# Function definition is here\n",
    "def printinfo(name, age):\n",
    "    print(\"Name:\", name)\n",
    "    print(\"Age\", age)\n",
    "    return\n",
    "# Now you can call printinfo function\n",
    "printinfo(age=50, name=\"miki\")"
   ]
  },
  {
   "cell_type": "markdown",
   "metadata": {},
   "source": [
    "## Default Arguments"
   ]
  },
  {
   "cell_type": "code",
   "execution_count": null,
   "metadata": {},
   "outputs": [],
   "source": [
    "# Function definition is here\n",
    "def printinfo(name, age=35):\n",
    "    print(\"Name:\", name)\n",
    "    print(\"Age\", age)\n",
    "    return\n",
    "# Now you can call printinfo function\n",
    "printinfo(age=50, name=\"miki\")   # age is 50\n",
    "printinfo(name=\"miki\")   # age is 35"
   ]
  },
  {
   "cell_type": "code",
   "execution_count": null,
   "metadata": {},
   "outputs": [],
   "source": [
    "# Function definition is here\n",
    "def printinfo(elem, lt=[]):\n",
    "    print(\"elem:\", elem)\n",
    "    print(\"lt:\", lt)\n",
    "    lt=lt.insert(0,elem)\n",
    "    print('lt:',lt)\n",
    "    return\n",
    "# Now you can call printinfo function\n",
    "printinfo(50)\n",
    "printinfo(10)"
   ]
  },
  {
   "cell_type": "markdown",
   "metadata": {},
   "source": [
    "## Variable-length Arguments"
   ]
  },
  {
   "cell_type": "code",
   "execution_count": null,
   "metadata": {},
   "outputs": [],
   "source": [
    "# Function definition is here\n",
    "def printinfo(arg1, *vartuple):\n",
    "    print(\"Output is: \")\n",
    "    print('arg1:',arg1)\n",
    "    for var in vartuple:\n",
    "        print(var)\n",
    "    return\n",
    "# Now you can call printinfo function\n",
    "printinfo(10)\n",
    "printinfo(70, 60, 50)"
   ]
  },
  {
   "cell_type": "code",
   "execution_count": null,
   "metadata": {},
   "outputs": [],
   "source": [
    "# Function definition is here\n",
    "def printinfo(arg1, **vardict):\n",
    "    print(\"Output is: \")\n",
    "    print('arg1:',arg1)\n",
    "    print('vardict:',vardict)\n",
    "    for var in vartuple:\n",
    "        print(var)\n",
    "    return\n",
    "# Now you can call printinfo function\n",
    "\n",
    "printinfo(70,{50:10,60:20})"
   ]
  },
  {
   "cell_type": "markdown",
   "metadata": {},
   "source": [
    "## Anonymous Function"
   ]
  },
  {
   "cell_type": "code",
   "execution_count": null,
   "metadata": {},
   "outputs": [],
   "source": [
    "# function: return sum of two values\n",
    "def sum_data(a, b):\n",
    "    return a+b\n",
    "    \n",
    "# create anonymous function\n",
    "square = lambda x: x * x\n",
    "\n",
    "# assign function to reference\n",
    "total = sum_data\n",
    "r = square(10)   # call anonymous function\n",
    "print(\"square(10) =\", r)\n",
    "\n",
    "r = sum_data(10, 5)   # call function\n",
    "print(\"sum_data(10, 5) =\", r)\n",
    "\n",
    "r = total(10, 5) # call function using reference\n",
    "print(\"total(10, 5) =\", r)"
   ]
  },
  {
   "cell_type": "code",
   "execution_count": null,
   "metadata": {},
   "outputs": [],
   "source": [
    "# function: return sum of two values\n",
    "def sum_data(a, b):\n",
    "    return a+b\n",
    "    \n",
    "# function: using function as parameter    \n",
    "def operate_on(x, y, func):\n",
    "    return func(x, y)\n",
    "\n",
    "r = operate_on(16, 20, sum_data)   # call function\n",
    "print(\"operate_on(16, 20, sum_data) = \",r)\n",
    "          \n",
    "r = operate_on(10, 40, lambda a,b:a+b)   # call function with anonymous function\n",
    "print(\"operate_on(10, 40, anonymous_function) =\", r)"
   ]
  },
  {
   "cell_type": "markdown",
   "metadata": {},
   "source": [
    "## Return Value"
   ]
  },
  {
   "cell_type": "code",
   "execution_count": null,
   "metadata": {},
   "outputs": [],
   "source": [
    "# function: no return value\n",
    "def print_age(age):\n",
    "    if age <= 18:\n",
    "        print(\"Too young!\")        \n",
    "        return  # exit function\n",
    "    print(\"Age =\", age)            \n",
    "\n",
    "# function: return boolean\n",
    "def is_valid_num(num):\n",
    "    if num >= 0 and num <= 200.0:\n",
    "        return True  # legal\n",
    "    else:\n",
    "        return False # illegal\n",
    "\n",
    "# function: return value\n",
    "def convert_to_f(c):\n",
    "    f = (9.0 * c) / 5.0 + 32.0\n",
    "    k = c + 273\n",
    "    return f,k    # tuple\n",
    "\n",
    "c = 100.00\n",
    "print_age(15)  # call function\n",
    "print_age(22)\n",
    "\n",
    "# function returning data\n",
    "if is_valid_num(c):\n",
    "    print(\"legal!\")\n",
    "else:\n",
    "    print(\"illegal\")\n",
    "\n",
    "f,k = convert_to_f(c)\n",
    "print(\"Celsius\",c,\"= Fahrenheit\",f)\n",
    "print(\"Celsius\",c,\"= K\",k)"
   ]
  },
  {
   "cell_type": "markdown",
   "metadata": {},
   "source": [
    "\n",
    "## Scope of Variables"
   ]
  },
  {
   "cell_type": "code",
   "execution_count": null,
   "metadata": {},
   "outputs": [],
   "source": [
    "# global variables\n",
    "a = 1\n",
    "b = 2\n",
    "# funcA\n",
    "def funcA():\n",
    "    c = 3  # local variable    \n",
    "    print(\"In funcA : a =\", a)\n",
    "    print(\"In funcA : b =\", b)\n",
    "    print(\"In funcA : c =\", c)\n",
    "    \n",
    "# funcB\n",
    "def funcB():\n",
    "    a = 3  # local variable\n",
    "    print(\"In funcB : a =\", a)\n",
    "    print(\"In funcB : b =\", b)\n",
    "    # print(\"funcB : c =\", c)\n",
    "\n",
    "print(\"global variable a =\", a)\n",
    "print(\"global variable b =\", b)\n",
    "\n",
    "funcA()  # call funcA\n",
    "print(\"After calling funcA : a =\", a)\n",
    "print(\"After calling funcA : b =\", b)\n",
    "\n",
    "funcB()  # call funcB\n",
    "print(\"After calling funcB : a =\", a)\n",
    "print(\"After calling funcB : b =\", b)"
   ]
  },
  {
   "cell_type": "code",
   "execution_count": null,
   "metadata": {},
   "outputs": [],
   "source": [
    "# global variable\n",
    "t = 1\n",
    "\n",
    "# using global variable in function\n",
    "def increment():\n",
    "    # global t = 1\n",
    "    global t  # using global variable t \n",
    "    t += 1\n",
    "    print(\"In increment : t =\", t)\n",
    "    \n",
    "# declare global variable in function\n",
    "def global_var():\n",
    "    # global x = 100\n",
    "    global x\n",
    "    x = 100\n",
    "    print(\"In global_var : x =\", x)\n",
    "\n",
    "print(\"Global variable t =\", (t))\n",
    "increment()  # call increment\n",
    "print(\"After calling increment : t =\", t)\n",
    "global_var()  # call global_var\n",
    "print(\"After calling global_var : x =\", x)"
   ]
  },
  {
   "cell_type": "code",
   "execution_count": null,
   "metadata": {},
   "outputs": [],
   "source": [
    "o=12\n",
    "def yoyoyo():\n",
    "    p=o+3    # although this line is before o+=1, it still recogonize it as local variable\n",
    "    print('in function p=o+3:',p)\n",
    "    o+=1\n",
    "    print('in function o+=1:',o)\n",
    "\n",
    "print('Main:',o)\n",
    "yoyoyo()"
   ]
  },
  {
   "cell_type": "markdown",
   "metadata": {},
   "source": [
    "## Iterators "
   ]
  },
  {
   "cell_type": "code",
   "execution_count": null,
   "metadata": {},
   "outputs": [],
   "source": [
    "fruits = [\"apple\", \"orange\", \"banana\", \"grape\"]\n",
    "for f in fruits:\n",
    "    print(\"fruit:\", f)"
   ]
  },
  {
   "cell_type": "code",
   "execution_count": null,
   "metadata": {},
   "outputs": [],
   "source": [
    "fruits = [\"apple\", \"orange\", \"banana\", \"grape\"]\n",
    "fruits_iterator = iter(fruits)"
   ]
  },
  {
   "cell_type": "code",
   "execution_count": null,
   "metadata": {},
   "outputs": [],
   "source": [
    "next(fruits_iterator)   # apple"
   ]
  },
  {
   "cell_type": "code",
   "execution_count": null,
   "metadata": {},
   "outputs": [],
   "source": [
    "next(fruits_iterator)   # orange"
   ]
  },
  {
   "cell_type": "code",
   "execution_count": null,
   "metadata": {},
   "outputs": [],
   "source": [
    "next(fruits_iterator)   # banana"
   ]
  },
  {
   "cell_type": "code",
   "execution_count": null,
   "metadata": {},
   "outputs": [],
   "source": [
    "next(fruits_iterator)   # grape"
   ]
  },
  {
   "cell_type": "code",
   "execution_count": null,
   "metadata": {
    "scrolled": true
   },
   "outputs": [],
   "source": [
    "next(fruits_iterator)   # StopIteration exception"
   ]
  },
  {
   "cell_type": "markdown",
   "metadata": {},
   "source": [
    "## Generators"
   ]
  },
  {
   "cell_type": "code",
   "execution_count": 1,
   "metadata": {},
   "outputs": [
    {
     "name": "stdout",
     "output_type": "stream",
     "text": [
      "This is printed first\n",
      "1\n",
      "This is printed second\n",
      "2\n",
      "This is printed at last\n",
      "3\n"
     ]
    }
   ],
   "source": [
    "# A simple generator function\n",
    "def my_gen():\n",
    "    n = 1\n",
    "    print('This is printed first')\n",
    "    # Generator contains yield statements\n",
    "    yield n\n",
    "    n += 1\n",
    "    print('This is printed second')\n",
    "    yield n \n",
    "    n += 1\n",
    "    print('This is printed at last')\n",
    "    yield n\n",
    "    \n",
    "for item in my_gen():\n",
    "    print(item) "
   ]
  },
  {
   "cell_type": "code",
   "execution_count": 2,
   "metadata": {},
   "outputs": [
    {
     "name": "stdout",
     "output_type": "stream",
     "text": [
      "This is printed first\n"
     ]
    },
    {
     "data": {
      "text/plain": [
       "1"
      ]
     },
     "execution_count": 2,
     "metadata": {},
     "output_type": "execute_result"
    }
   ],
   "source": [
    "a = my_gen()\n",
    "next(a)"
   ]
  },
  {
   "cell_type": "code",
   "execution_count": 3,
   "metadata": {},
   "outputs": [
    {
     "name": "stdout",
     "output_type": "stream",
     "text": [
      "This is printed second\n"
     ]
    },
    {
     "data": {
      "text/plain": [
       "2"
      ]
     },
     "execution_count": 3,
     "metadata": {},
     "output_type": "execute_result"
    }
   ],
   "source": [
    "next(a)"
   ]
  },
  {
   "cell_type": "code",
   "execution_count": null,
   "metadata": {},
   "outputs": [],
   "source": [
    "next(a)"
   ]
  },
  {
   "cell_type": "code",
   "execution_count": null,
   "metadata": {},
   "outputs": [],
   "source": [
    "next(a)\n"
   ]
  },
  {
   "cell_type": "code",
   "execution_count": 4,
   "metadata": {},
   "outputs": [
    {
     "name": "stdout",
     "output_type": "stream",
     "text": [
      "0\n",
      "1\n",
      "2\n",
      "3\n",
      "4\n"
     ]
    }
   ],
   "source": [
    "def xrange(n):\n",
    "    x=0\n",
    "    while x!=n:\n",
    "        yield x\n",
    "        x+=1\n",
    "for n in xrange(5):\n",
    "    print(n)"
   ]
  }
 ],
 "metadata": {
  "kernelspec": {
   "display_name": "Python 3",
   "language": "python",
   "name": "python3"
  },
  "language_info": {
   "codemirror_mode": {
    "name": "ipython",
    "version": 3
   },
   "file_extension": ".py",
   "mimetype": "text/x-python",
   "name": "python",
   "nbconvert_exporter": "python",
   "pygments_lexer": "ipython3",
   "version": "3.6.5"
  }
 },
 "nbformat": 4,
 "nbformat_minor": 2
}
