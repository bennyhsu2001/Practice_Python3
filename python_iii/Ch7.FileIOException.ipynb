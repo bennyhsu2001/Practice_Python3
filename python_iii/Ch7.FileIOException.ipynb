{
 "cells": [
  {
   "cell_type": "markdown",
   "metadata": {},
   "source": [
    "# Ch7. File I/O and Exception"
   ]
  },
  {
   "cell_type": "markdown",
   "metadata": {},
   "source": [
    "## Open file"
   ]
  },
  {
   "cell_type": "code",
   "execution_count": 1,
   "metadata": {},
   "outputs": [
    {
     "name": "stdout",
     "output_type": "stream",
     "text": [
      "File open successfully!\n",
      "File open successfully!\n"
     ]
    }
   ],
   "source": [
    "fp = open(\"note.txt\", \"w\")\n",
    "if fp != None:\n",
    "    print(\"File open successfully!\")\n",
    "fp.close()\n",
    "\n",
    "fp = open(\"temp/note.txt\", \"w\")\n",
    "if fp != None:\n",
    "    print(\"File open successfully!\")\n",
    "fp.close()"
   ]
  },
  {
   "cell_type": "markdown",
   "metadata": {},
   "source": [
    "## File write"
   ]
  },
  {
   "cell_type": "code",
   "execution_count": 4,
   "metadata": {},
   "outputs": [
    {
     "name": "stdout",
     "output_type": "stream",
     "text": [
      "Write two data to note.txt!\n",
      "Append one data to note.txt!\n"
     ]
    }
   ],
   "source": [
    "fp = open(\"note.txt\", \"w\")\n",
    "fp.write(\"資策會\\n\")\n",
    "fp.write(\"iiiedu\\n\")\n",
    "print(\"Write two data to note.txt!\")\n",
    "fp.close()\n",
    "\n",
    "fp = open(\"note.txt\", \"a\")\n",
    "fp.write(\"iii.org.tw\\n\")\n",
    "print(\"Append one data to note.txt!\")\n",
    "fp.close() "
   ]
  },
  {
   "cell_type": "markdown",
   "metadata": {},
   "source": [
    "## with statement"
   ]
  },
  {
   "cell_type": "code",
   "execution_count": 13,
   "metadata": {},
   "outputs": [
    {
     "name": "stdout",
     "output_type": "stream",
     "text": [
      "Content:\n",
      "資策會\n",
      "iiiedu\n",
      "iii.org.tw\n",
      "\n"
     ]
    }
   ],
   "source": [
    "try:\n",
    "    fp = open(\"note.txt\", \"r\")\n",
    "    str1 = fp.read()\n",
    "    print(\"Content:\")\n",
    "    print(str1) \n",
    "except:\n",
    "    print(\"Error: File I/O error!\")\n",
    "finally:\n",
    "    fp.close()"
   ]
  },
  {
   "cell_type": "code",
   "execution_count": 14,
   "metadata": {},
   "outputs": [
    {
     "name": "stdout",
     "output_type": "stream",
     "text": [
      "Content:\n",
      "資策會\n",
      "iiiedu\n",
      "iii.org.tw\n",
      "\n"
     ]
    }
   ],
   "source": [
    "with open(\"note.txt\", \"r\") as fp:\n",
    "    str1 = fp.read()\n",
    "    print(\"Content:\")\n",
    "    print(str1)    "
   ]
  },
  {
   "cell_type": "markdown",
   "metadata": {},
   "source": [
    "## File read"
   ]
  },
  {
   "cell_type": "code",
   "execution_count": 12,
   "metadata": {},
   "outputs": [
    {
     "name": "stdout",
     "output_type": "stream",
     "text": [
      "Content(with new line):\n",
      "資策會\n",
      "\n",
      "iiiedu\n",
      "\n",
      "iii.org.tw\n",
      "\n",
      "Content(no new line):\n",
      "資策會\n",
      "iiiedu\n",
      "iii.org.tw\n"
     ]
    }
   ],
   "source": [
    "with open(\"note.txt\", \"r\") as fp:\n",
    "    print(\"Content(with new line):\")\n",
    "\n",
    "    for line in fp:\n",
    "        print(line)\n",
    "\n",
    "\n",
    "with open(\"note.txt\", \"r\") as fp:\n",
    "    print(\"Content(no new line):\")\n",
    "\n",
    "    for line in fp:\n",
    "        print(line, end=\"\") "
   ]
  },
  {
   "cell_type": "markdown",
   "metadata": {},
   "source": [
    "## Exception"
   ]
  },
  {
   "cell_type": "code",
   "execution_count": 7,
   "metadata": {},
   "outputs": [
    {
     "name": "stdout",
     "output_type": "stream",
     "text": [
      "Input two integers(n1,n2) => 1,2\n",
      "r = 0.5\n"
     ]
    }
   ],
   "source": [
    "try:\n",
    "    n1, n2 = eval(input(\"Input two integers(n1,n2) => \"))\n",
    "    r = n1 / n2\n",
    "    print(\"r =\", r)    \n",
    "except ZeroDivisionError:\n",
    "    print(\"Error: Devided by zero!\")\n",
    "except SyntaxError:\n",
    "    print(\"Error: Please separate input data by comma!\")\n",
    "except:\n",
    "    print(\"Error: Input error!\")"
   ]
  },
  {
   "cell_type": "markdown",
   "metadata": {},
   "source": [
    "## Exception with else and finally"
   ]
  },
  {
   "cell_type": "code",
   "execution_count": 8,
   "metadata": {},
   "outputs": [
    {
     "name": "stdout",
     "output_type": "stream",
     "text": [
      "Input two integers(n1,n2) => 2,5\n",
      "r = 0.4\n",
      "Else: No errors!\n",
      "Finally: Finish processing!\n"
     ]
    }
   ],
   "source": [
    "try:\n",
    "    n1, n2 = eval(input(\"Input two integers(n1,n2) => \"))\n",
    "    r = n1 / n2\n",
    "    print(\"r =\", r)    \n",
    "except:\n",
    "    print(\"Error: Input data or expression has error!\") \n",
    "else:\n",
    "    print(\"Else: No errors!\")\n",
    "finally:\n",
    "    print(\"Finally: Finish processing!\")"
   ]
  },
  {
   "cell_type": "markdown",
   "metadata": {},
   "source": [
    "## as statement"
   ]
  },
  {
   "cell_type": "code",
   "execution_count": 10,
   "metadata": {},
   "outputs": [
    {
     "name": "stdout",
     "output_type": "stream",
     "text": [
      "Enter a number => aa\n",
      "Error:  name 'aa' is not defined\n"
     ]
    }
   ],
   "source": [
    "try:\n",
    "    num = eval(input(\"Enter a number => \"))\n",
    "    print(\"value =\", num)    \n",
    "except NameError as e:\n",
    "    print(\"Error: \",e)"
   ]
  }
 ],
 "metadata": {
  "kernelspec": {
   "display_name": "Python 3",
   "language": "python",
   "name": "python3"
  },
  "language_info": {
   "codemirror_mode": {
    "name": "ipython",
    "version": 3
   },
   "file_extension": ".py",
   "mimetype": "text/x-python",
   "name": "python",
   "nbconvert_exporter": "python",
   "pygments_lexer": "ipython3",
   "version": "3.6.5"
  }
 },
 "nbformat": 4,
 "nbformat_minor": 2
}
