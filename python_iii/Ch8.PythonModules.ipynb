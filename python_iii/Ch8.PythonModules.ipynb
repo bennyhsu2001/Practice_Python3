{
 "cells": [
  {
   "cell_type": "markdown",
   "metadata": {},
   "source": [
    "# Ch8. Python Modules"
   ]
  },
  {
   "cell_type": "markdown",
   "metadata": {},
   "source": [
    "## Define module"
   ]
  },
  {
   "cell_type": "code",
   "execution_count": 1,
   "metadata": {},
   "outputs": [
    {
     "name": "stdout",
     "output_type": "stream",
     "text": [
      "# mybmi.py\r\n",
      "name = None\r\n",
      "\r\n",
      "def bmi(hei, wei):\r\n",
      "    val = wei/hei/hei\r\n",
      "    return val\r\n",
      "    \r\n",
      "if __name__ == '__main__':\r\n",
      "    print('BMI with 160cm height and 50kg weight :',\r\n",
      "          bmi(1.60,50))\r\n"
     ]
    }
   ],
   "source": [
    "!cat mybmi.py"
   ]
  },
  {
   "cell_type": "markdown",
   "metadata": {},
   "source": [
    "## Import Modules"
   ]
  },
  {
   "cell_type": "code",
   "execution_count": 2,
   "metadata": {},
   "outputs": [
    {
     "name": "stdout",
     "output_type": "stream",
     "text": [
      "Name = Mary\n",
      "BMI = 24.489795918367346\n"
     ]
    }
   ],
   "source": [
    "import mybmi\n",
    "#from mybmi import bmi\n",
    "#from mybmi import *\n",
    "\n",
    "mybmi.name = \"Mary\"\n",
    "print(\"Name = \" + mybmi.name)\n",
    "r = mybmi.bmi(1.75, 75)\n",
    "print(\"BMI =\",r)"
   ]
  },
  {
   "cell_type": "code",
   "execution_count": null,
   "metadata": {},
   "outputs": [],
   "source": [
    "import random\n",
    "#import random as rd\n",
    "\n",
    "print(dir(random))\n",
    "\n",
    "target = random.randint(1, 100) # generate random number\n",
    "guess = 1\n",
    "while True:\n",
    "    guess = int(input(\"Guess the number(1~100) =>\"))\n",
    "    if target == guess:\n",
    "        break      # exit loop\n",
    "    \n",
    "    if guess > target:\n",
    "        print(\"Too big!\")\n",
    "    else:\n",
    "        print(\"Too small!\")\n",
    "print(\"Bingo:\", target)"
   ]
  }
 ],
 "metadata": {
  "kernelspec": {
   "display_name": "Python 3",
   "language": "python",
   "name": "python3"
  },
  "language_info": {
   "codemirror_mode": {
    "name": "ipython",
    "version": 3
   },
   "file_extension": ".py",
   "mimetype": "text/x-python",
   "name": "python",
   "nbconvert_exporter": "python",
   "pygments_lexer": "ipython3",
   "version": "3.6.5"
  }
 },
 "nbformat": 4,
 "nbformat_minor": 2
}
