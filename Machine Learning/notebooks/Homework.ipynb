{
 "cells": [
  {
   "cell_type": "markdown",
   "metadata": {},
   "source": [
    "## 作業：[Kaggle房價預測](https://www.kaggle.com/c/house-prices-advanced-regression-techniques)"
   ]
  },
  {
   "cell_type": "markdown",
   "metadata": {
    "collapsed": true
   },
   "source": [
    "此作業是讓大家練習建立一些常見的機器學習迴歸模型。\n",
    "\n",
    "* 分析前準備\n",
    "    0. Exploratory Data Analysis (5 pts)\n",
    "    1. 資料標準化 (0 pts)\n",
    "    2. 補空值\n",
    "        * 機器學習方式 (2 pts) \n",
    "        * 或是利用所發掘的資料特性來補 (3 pts)\n",
    "        * 或是直接補平均 (0 pts)\n",
    "* 建模分析 (須告訴我模型最終於test data的表現; 另外，4和5須\"調參\", 有嘗試各種不同參數，找出最適模型，才會有分數)\n",
    "    * 使用Scikit-learn\n",
    "        1. Ridge regression (1 pts)\n",
    "        2. Lasso regression (1 pts)\n",
    "        3. ElasticNet regression (1 pts)\n",
    "        4. 解釋為何樹演算法可做回歸 (3 pts) \n",
    "        5. Random Forest regression (要畫出feature importance) (5 pts)\n",
    "    * 使用XGBoost\n",
    "        5. Gradient Boosted Tree regression (要畫出feature importance) (5 pts)\n",
    "* 嘗試有可能讓模型變得更佳的方式\n",
    "    * 清掉房價是離群值的資料(會影響機器的學習效果)  (3 pts)\n",
    "    * PCA降維後再做XGBoost (3 pts)\n",
    "    * feature engineering (3 pts)   \n",
    "* Notebook說明詳盡, 分析過程清楚 (5 pts)\n",
    "* 上傳至kaggle看排名。最高分組別 +10 pts。"
   ]
  },
  {
   "cell_type": "markdown",
   "metadata": {},
   "source": [
    "## Reference\n",
    "* 可至 https://www.kaggle.com/c/house-prices-advanced-regression-techniques/kernels\n",
    "參考別人怎麼整理，清理，視覺化和分析資料。"
   ]
  },
  {
   "cell_type": "markdown",
   "metadata": {},
   "source": [
    "---"
   ]
  }
 ],
 "metadata": {
  "kernelspec": {
   "display_name": "Python 3",
   "language": "python",
   "name": "python3"
  },
  "language_info": {
   "codemirror_mode": {
    "name": "ipython",
    "version": 3
   },
   "file_extension": ".py",
   "mimetype": "text/x-python",
   "name": "python",
   "nbconvert_exporter": "python",
   "pygments_lexer": "ipython3",
   "version": "3.6.3"
  }
 },
 "nbformat": 4,
 "nbformat_minor": 2
}
