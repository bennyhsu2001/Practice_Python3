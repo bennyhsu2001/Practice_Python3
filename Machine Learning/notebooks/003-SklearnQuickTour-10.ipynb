{
 "cells": [
  {
   "cell_type": "markdown",
   "metadata": {},
   "source": [
    "## 學習目標\n",
    "\n",
    "### 1. 雙月亮資料集\n",
    "觀察不同演算法的決策邊界差異性，並利用此資料集來快速認識Scikit-Learn。\n",
    "\n",
    "\n",
    "### 2. 手寫數字資料集\n",
    "\n",
    "介紹完整的機器學習流程，包含\n",
    "   * 資料準備\n",
    "   * 標準化\n",
    "   * 模型建立\n",
    "   * 調整參數優化模型\n",
    "   * 模型檢驗"
   ]
  },
  {
   "cell_type": "markdown",
   "metadata": {},
   "source": [
    "---"
   ]
  },
  {
   "cell_type": "markdown",
   "metadata": {},
   "source": [
    "## 索引"
   ]
  },
  {
   "cell_type": "markdown",
   "metadata": {},
   "source": [
    "### [1.雙月亮](#1.-雙月亮)\n",
    "\n",
    "[1.a. 資料準備](#1.a.-資料準備)\n",
    "\n",
    "[1.b. 資料標準化](#1.b.-資料標準化)\n",
    "\n",
    "[1.c. 模型建立](#1.c.-模型建立)\n",
    "* [1.c.I. KNN](#1.c.I.-KNN)\n",
    "* [1.c.II. Linear SVM](#1.c.II.-Linear-SVM)\n",
    "* [1.c.III. SVM with Gaussian Kernel](#1.c.III.-SVM-with-Gaussian-Kernel)\n",
    "* [1.c.IV. Logistic Regression](#1.c.IV.-Logistic-Regression)\n",
    "\n",
    "### [2.手寫數字](#2.-手寫數字)\n",
    "[2.a. 利用Pandas, 可迅速了解每個資料夾裡面有幾張圖片](#2.a.-利用Pandas,-可迅速了解每個資料夾裡面有幾張圖片)\n",
    "\n",
    "[2.b. 將圖片路徑資訊分成70% train, 10% val, 20% test](#2.b.-將圖片路徑資訊分成70%-train,-10%-val,-20%-test)\n",
    "\n",
    "[2.c. 將圖片載入，存成數值矩陣](#2.c.-將圖片載入，存成數值矩陣)\n",
    "\n",
    "[2.d. 將28X28的圖片特徵轉換成一維](#2.d.-將28X28的圖片特徵轉換成一維)\n",
    "\n",
    "[2.e. 以羅吉斯回歸建立分類模型](#2.e.-以羅吉斯回歸建立分類模型)\n",
    "\n",
    "[2.f. 製作分類結果報告，並畫出混淆矩陣](#2.f.-製作分類結果報告，並畫出混淆矩陣)\n",
    "\n",
    "[2.g. 建模: 資料分成train, validation, test三份](#2.g.-建模:-資料分成train,-validation,-test三份)\n",
    "   * [2.g.I. 以train data來建立模型，並將該模型以validation data 來檢驗，藉此優化模型參數](#2.g.I.-以train-data來建立模型，並將該模型以validation-data-來檢驗，藉此優化模型參數)\n",
    "   * [2.g.II. 將模型內的權重視覺化](#2.g.II.-將模型內的權重視覺化)\n",
    "   * [2.g.III. 以test data來確定建立好的模型是否完善](#2.g.III.-以test-data來確定建立好的模型是否完善)\n",
    "\n",
    "[2.h. 另一種更嚴謹的建模方式：k-fold cross validation](#2.h.-另一種更嚴謹的建模方式：k-fold-cross-validation)\n",
    "   * [2.h.I. 以5-fold 交叉驗證來調整模型參數: 使用GridSearchCV](#2.h.I.-以5-fold-交叉驗證來調整模型參數:-使用GridSearchCV)\n",
    "   * [2.h.II. 看哪種參數組合有最高的f1 score](#2.h.II.-看哪種參數組合有最高的f1-score)\n",
    "   * [2.h.III. 最後，拿最好的模型，去看該模型是否亦適用於test data](#2.h.III.-最後，拿最好的模型，去看該模型是否亦適用於test-data)   "
   ]
  },
  {
   "cell_type": "markdown",
   "metadata": {},
   "source": [
    "---"
   ]
  },
  {
   "cell_type": "markdown",
   "metadata": {},
   "source": [
    "[問題1.](#問題1.)\n",
    "[問題2.](#問題2.)\n",
    "[問題3.](#問題3.)"
   ]
  },
  {
   "cell_type": "markdown",
   "metadata": {},
   "source": [
    "---"
   ]
  },
  {
   "cell_type": "code",
   "execution_count": 1,
   "metadata": {},
   "outputs": [],
   "source": [
    "import numpy as np\n",
    "import matplotlib.pyplot as plt\n",
    "%matplotlib inline\n",
    "import seaborn as sns\n",
    "sns.set()\n",
    "import pandas as pd\n",
    "import sklearn\n",
    "import os"
   ]
  },
  {
   "cell_type": "markdown",
   "metadata": {},
   "source": [
    "# 1. 雙月亮"
   ]
  },
  {
   "cell_type": "markdown",
   "metadata": {},
   "source": [
    "### 1.a. 資料準備"
   ]
  },
  {
   "cell_type": "code",
   "execution_count": 2,
   "metadata": {},
   "outputs": [
    {
     "data": {
      "image/png": "[encoded data removed]",
      "text/plain": [
       "<Figure size 432x288 with 1 Axes>"
      ]
     },
     "metadata": {
      "needs_background": "light"
     },
     "output_type": "display_data"
    },
    {
     "data": {
      "image/png": "[encoded data removed]",
      "text/plain": [
       "<Figure size 432x288 with 1 Axes>"
      ]
     },
     "metadata": {
      "needs_background": "light"
     },
     "output_type": "display_data"
    }
   ],
   "source": [
    "from sklearn.datasets import make_moons\n",
    "\n",
    "X,y=make_moons(n_samples=100)\n",
    "colors=['r','b']\n",
    "\n",
    "#畫兩個月亮\n",
    "moonRed=plt.scatter(X[y==0,0],X[y==0,1],marker='v', color=colors[0],lw=0,label=\"red moon\")\n",
    "moonBLue=plt.scatter(X[y==1,0],X[y==1,1],marker='s', color=colors[1],lw=0,label=\"blue moon\")\n",
    "plt.legend([moonRed, moonBLue],[\"red moon\",\"blue moon\"],scatterpoints=1,loc='lower left')\n",
    "plt.title('double moon')\n",
    "plt.show()\n",
    "\n",
    "#畫兩個月亮+雜訊\n",
    "variance=0.25\n",
    "randMatrix=np.hstack((np.random.normal(0,variance,100).reshape(-1,1),\n",
    "                      np.random.normal(0,variance,100).reshape(-1,1)))\n",
    "X=(randMatrix+X)\n",
    "\n",
    "moonRed=plt.scatter(X[y==0,0],X[y==0,1],marker='v', color=colors[0],lw=0,label=\"red moon\")\n",
    "moonBLue=plt.scatter(X[y==1,0],X[y==1,1],marker='s', color=colors[1],lw=0,label=\"blue moon\")\n",
    "plt.title('double moon + noise')\n",
    "plt.legend([moonRed, moonBLue],[\"red moon\",\"blue moon\"],scatterpoints=1,loc='lower left')\n",
    "plt.show()"
   ]
  },
  {
   "cell_type": "markdown",
   "metadata": {},
   "source": [
    "[回索引](#索引)"
   ]
  },
  {
   "cell_type": "markdown",
   "metadata": {},
   "source": [
    "### 1.b. 資料標準化"
   ]
  },
  {
   "cell_type": "code",
   "execution_count": 3,
   "metadata": {},
   "outputs": [
    {
     "name": "stdout",
     "output_type": "stream",
     "text": [
      "mean= -1.176836406102666e-16 \t std= 1.0\n",
      "mean= 8.104628079763643e-17 \t std= 1.0\n"
     ]
    }
   ],
   "source": [
    "from sklearn.preprocessing import StandardScaler\n",
    "\n",
    "scaler=StandardScaler()\n",
    "fitter=scaler.fit(X)\n",
    "# fitter.mean_   # 看MEAN\n",
    "# fitter.var_    # 看VARIANCE\n",
    "X=fitter.transform(X)\n",
    "\n",
    "# # 確定資料是否有標準化\n",
    "print( 'mean=',X[:,0].mean(),'\\t std=',X[:,0].std() )\n",
    "print( 'mean=',X[:,1].mean(),'\\t std=',X[:,1].std() )"
   ]
  },
  {
   "cell_type": "markdown",
   "metadata": {},
   "source": [
    "Q: 為何要做資料標準化？\n",
    "    \n",
    "Reference: http://sebastianraschka.com/Articles/2014_about_feature_scaling.html"
   ]
  },
  {
   "cell_type": "markdown",
   "metadata": {},
   "source": [
    "[回索引](#索引)"
   ]
  },
  {
   "cell_type": "markdown",
   "metadata": {},
   "source": [
    "### 1.c. 資料準備模型建立"
   ]
  },
  {
   "cell_type": "markdown",
   "metadata": {},
   "source": [
    "#### 1.c.I. KNN"
   ]
  },
  {
   "cell_type": "code",
   "execution_count": 4,
   "metadata": {},
   "outputs": [],
   "source": [
    "from sklearn.neighbors import KNeighborsClassifier\n",
    "classifier = KNeighborsClassifier(n_neighbors=3)\n",
    "model=classifier.fit(X,y)"
   ]
  },
  {
   "cell_type": "markdown",
   "metadata": {},
   "source": [
    "註： data需要是shape=```(#examples,features)```"
   ]
  },
  {
   "cell_type": "code",
   "execution_count": 5,
   "metadata": {},
   "outputs": [
    {
     "name": "stdout",
     "output_type": "stream",
     "text": [
      "0 0.0\n",
      "1 1.0\n"
     ]
    },
    {
     "data": {
      "image/png": "[encoded data removed]",
      "text/plain": [
       "<Figure size 432x288 with 1 Axes>"
      ]
     },
     "metadata": {
      "needs_background": "light"
     },
     "output_type": "display_data"
    }
   ],
   "source": [
    "df=pd.DataFrame([X[:,0],X[:,1],y]).T\n",
    "df.columns=[\"x1\",\"x2\",'label']\n",
    "groups=df.groupby(\"label\")\n",
    "groups.indices\n",
    "color=[\"red\",\"blue\"]\n",
    "for idx,(name,group) in enumerate(groups):\n",
    "    print(idx,name)\n",
    "    plt.scatter(group[\"x1\"],group[\"x2\"],color=color[idx],label=name)\n",
    "plt.legend()\n",
    "plt.show()"
   ]
  },
  {
   "cell_type": "code",
   "execution_count": 6,
   "metadata": {},
   "outputs": [
    {
     "data": {
      "text/plain": [
       "<matplotlib.axes._subplots.AxesSubplot at 0x7f1a5e282668>"
      ]
     },
     "execution_count": 6,
     "metadata": {},
     "output_type": "execute_result"
    },
    {
     "data": {
      "image/png": "[encoded data removed]",
      "text/plain": [
       "<Figure size 432x288 with 1 Axes>"
      ]
     },
     "metadata": {
      "needs_background": "light"
     },
     "output_type": "display_data"
    }
   ],
   "source": [
    "# Plot the decision boundary. For that, we will assign a color to each\n",
    "from mlxtend.plotting import plot_decision_regions\n",
    "plt.figure()\n",
    "plot_decision_regions(X,y,model)"
   ]
  },
  {
   "cell_type": "markdown",
   "metadata": {},
   "source": [
    "[回索引](#索引)"
   ]
  },
  {
   "cell_type": "markdown",
   "metadata": {},
   "source": [
    "#### 1.c.II. Linear SVM"
   ]
  },
  {
   "cell_type": "markdown",
   "metadata": {},
   "source": [
    "http://scikit-learn.org/stable/modules/generated/sklearn.svm.LinearSVC.html"
   ]
  },
  {
   "cell_type": "markdown",
   "metadata": {},
   "source": [
    ">Similar to SVC with parameter kernel=’linear’, but implemented in terms of liblinear rather than libsvm, so it has more flexibility in the choice of penalties and loss functions and should scale better to large numbers of samples."
   ]
  },
  {
   "cell_type": "markdown",
   "metadata": {},
   "source": [
    "由Scikit-Learn說明，我們得知，於線性SVM時，LinearSVC相較於SVC來說，有較多參數可以調整，且於計算大量數據時應較為迅速。"
   ]
  },
  {
   "cell_type": "code",
   "execution_count": 7,
   "metadata": {},
   "outputs": [
    {
     "data": {
      "image/png": "[encoded data removed]",
      "text/plain": [
       "<Figure size 432x288 with 1 Axes>"
      ]
     },
     "metadata": {
      "needs_background": "light"
     },
     "output_type": "display_data"
    }
   ],
   "source": [
    "from sklearn.svm import LinearSVC\n",
    "classifier=LinearSVC()\n",
    "model=classifier.fit(X,y)\n",
    "\n",
    "# Plot the decision boundary. For that, we will assign a color to each\n",
    "from mlxtend.plotting import plot_decision_regions\n",
    "plt.figure()\n",
    "plot_decision_regions(X,y,model)\n",
    "plt.show()"
   ]
  },
  {
   "cell_type": "code",
   "execution_count": 8,
   "metadata": {},
   "outputs": [
    {
     "data": {
      "text/plain": [
       "LinearSVC(C=1.0, class_weight=None, dual=True, fit_intercept=True,\n",
       "     intercept_scaling=1, loss='squared_hinge', max_iter=1000,\n",
       "     multi_class='ovr', penalty='l1', random_state=None, tol=0.0001,\n",
       "     verbose=0)"
      ]
     },
     "execution_count": 8,
     "metadata": {},
     "output_type": "execute_result"
    }
   ],
   "source": [
    "from sklearn.svm import LinearSVC\n",
    "LinearSVC(penalty=\"l1\")"
   ]
  },
  {
   "cell_type": "markdown",
   "metadata": {},
   "source": [
    "#### 問題1. \n",
    "* multi_class='ovr'是什麼意思？  \n",
    "    负责多分类问题中分类策略制定，有‘ovr’和‘crammer_singer’ 两种参数值可选，默认值是’ovr’，'ovr'的分类原则是将待分类中的某一类当作正类，其他全部归为负类，通过这样求取得到每个类别作为正类时的正确率，取正确率最高的那个类别为正类；‘crammer_singer’ 是直接针对目标函数设置多个参数值，最后进行优化，得到不同类别的参数值大小。      https://zhuanlan.zhihu.com/p/39780508     \n",
    "       \n",
    "* l1/l2 penalty是什麼？   \n",
    "    懲罰項是為L1(Lasso)，或L2(Ridge)"
   ]
  },
  {
   "cell_type": "markdown",
   "metadata": {},
   "source": [
    "[回索引](#索引)"
   ]
  },
  {
   "cell_type": "markdown",
   "metadata": {},
   "source": [
    "#### 1.c.III. SVM with Gaussian Kernel"
   ]
  },
  {
   "cell_type": "markdown",
   "metadata": {},
   "source": [
    "http://scikit-learn.org/stable/modules/generated/sklearn.svm.SVC.html"
   ]
  },
  {
   "cell_type": "markdown",
   "metadata": {},
   "source": [
    "SVC基於libsvm, libsvm是台灣大學林智仁所開發。"
   ]
  },
  {
   "cell_type": "code",
   "execution_count": 9,
   "metadata": {},
   "outputs": [],
   "source": [
    "from sklearn.svm import SVC\n",
    "classifier=SVC()"
   ]
  },
  {
   "cell_type": "code",
   "execution_count": 10,
   "metadata": {},
   "outputs": [
    {
     "data": {
      "text/plain": [
       "SVC(C=1.0, cache_size=200, class_weight=None, coef0=0.0,\n",
       "  decision_function_shape='ovr', degree=3, gamma='auto', kernel='rbf',\n",
       "  max_iter=-1, probability=False, random_state=None, shrinking=True,\n",
       "  tol=0.001, verbose=False)"
      ]
     },
     "execution_count": 10,
     "metadata": {},
     "output_type": "execute_result"
    }
   ],
   "source": [
    "classifier"
   ]
  },
  {
   "cell_type": "code",
   "execution_count": 11,
   "metadata": {},
   "outputs": [
    {
     "data": {
      "image/png": "[encoded data removed]",
      "text/plain": [
       "<Figure size 432x288 with 1 Axes>"
      ]
     },
     "metadata": {
      "needs_background": "light"
     },
     "output_type": "display_data"
    }
   ],
   "source": [
    "from sklearn.svm import SVC\n",
    "classifier=SVC()\n",
    "model=classifier.fit(X,y)\n",
    "\n",
    "# Plot the decision boundary. For that, we will assign a color to each\n",
    "from mlxtend.plotting import plot_decision_regions\n",
    "plt.figure()\n",
    "plot_decision_regions(X,y,classifier)\n",
    "plt.show()"
   ]
  },
  {
   "cell_type": "markdown",
   "metadata": {},
   "source": [
    "#### 問題2."
   ]
  },
  {
   "cell_type": "markdown",
   "metadata": {},
   "source": [
    "* kernel='rbf'是什麼意思？    將原資料以\"kernel\"投影到高維空間後以超平面分割\n",
    "* probability=True是什麼意思？"
   ]
  },
  {
   "cell_type": "markdown",
   "metadata": {},
   "source": [
    "reference: https://stats.stackexchange.com/questions/63881/use-gaussian-rbf-kernel-for-mapping-of-2d-data-to-3d"
   ]
  },
  {
   "cell_type": "code",
   "execution_count": 12,
   "metadata": {},
   "outputs": [
    {
     "data": {
      "text/plain": [
       "array([0.1, 0.3, 0.5, 0.2])"
      ]
     },
     "execution_count": 12,
     "metadata": {},
     "output_type": "execute_result"
    }
   ],
   "source": [
    "arr = np.array([0.1,0.3,0.5,0.2])\n",
    "arr"
   ]
  },
  {
   "cell_type": "code",
   "execution_count": 13,
   "metadata": {},
   "outputs": [
    {
     "data": {
      "text/plain": [
       "2"
      ]
     },
     "execution_count": 13,
     "metadata": {},
     "output_type": "execute_result"
    }
   ],
   "source": [
    "arr.argmax()"
   ]
  },
  {
   "cell_type": "code",
   "execution_count": 14,
   "metadata": {},
   "outputs": [
    {
     "data": {
      "image/png": "[encoded data removed]",
      "text/plain": [
       "<Figure size 432x288 with 1 Axes>"
      ]
     },
     "metadata": {
      "needs_background": "light"
     },
     "output_type": "display_data"
    }
   ],
   "source": [
    "classifier2=SVC(probability=True)\n",
    "model=classifier2.fit(X,y)\n",
    "\n",
    "plt.figure()\n",
    "plot_decision_regions(X,y,classifier2)\n",
    "plt.show()"
   ]
  },
  {
   "cell_type": "code",
   "execution_count": 15,
   "metadata": {},
   "outputs": [
    {
     "data": {
      "text/plain": [
       "array([[0.10178187, 0.89821813],\n",
       "       [0.14042919, 0.85957081],\n",
       "       [0.05977072, 0.94022928],\n",
       "       [0.82571315, 0.17428685],\n",
       "       [0.95340164, 0.04659836],\n",
       "       [0.93484938, 0.06515062],\n",
       "       [0.98129379, 0.01870621],\n",
       "       [0.0538304 , 0.9461696 ],\n",
       "       [0.98979994, 0.01020006],\n",
       "       [0.08872676, 0.91127324],\n",
       "       [0.9761385 , 0.0238615 ],\n",
       "       [0.08645327, 0.91354673],\n",
       "       [0.97918356, 0.02081644],\n",
       "       [0.04942284, 0.95057716],\n",
       "       [0.80756135, 0.19243865],\n",
       "       [0.09736246, 0.90263754],\n",
       "       [0.96452351, 0.03547649],\n",
       "       [0.5824736 , 0.4175264 ],\n",
       "       [0.08860117, 0.91139883],\n",
       "       [0.79548646, 0.20451354],\n",
       "       [0.04259395, 0.95740605],\n",
       "       [0.31549392, 0.68450608],\n",
       "       [0.07505505, 0.92494495],\n",
       "       [0.15304634, 0.84695366],\n",
       "       [0.97492725, 0.02507275],\n",
       "       [0.97178737, 0.02821263],\n",
       "       [0.06787416, 0.93212584],\n",
       "       [0.08860029, 0.91139971],\n",
       "       [0.97537048, 0.02462952],\n",
       "       [0.97741713, 0.02258287],\n",
       "       [0.10607468, 0.89392532],\n",
       "       [0.04727417, 0.95272583],\n",
       "       [0.03622149, 0.96377851],\n",
       "       [0.12570584, 0.87429416],\n",
       "       [0.97844839, 0.02155161],\n",
       "       [0.52720574, 0.47279426],\n",
       "       [0.97756644, 0.02243356],\n",
       "       [0.04611498, 0.95388502],\n",
       "       [0.07482164, 0.92517836],\n",
       "       [0.97329225, 0.02670775],\n",
       "       [0.25911373, 0.74088627],\n",
       "       [0.07946424, 0.92053576],\n",
       "       [0.97923498, 0.02076502],\n",
       "       [0.98853453, 0.01146547],\n",
       "       [0.04789321, 0.95210679],\n",
       "       [0.93168363, 0.06831637],\n",
       "       [0.10911827, 0.89088173],\n",
       "       [0.9754757 , 0.0245243 ],\n",
       "       [0.99023852, 0.00976148],\n",
       "       [0.98534144, 0.01465856],\n",
       "       [0.0768397 , 0.9231603 ],\n",
       "       [0.66633637, 0.33366363],\n",
       "       [0.07337097, 0.92662903],\n",
       "       [0.9815021 , 0.0184979 ],\n",
       "       [0.03851898, 0.96148102],\n",
       "       [0.89008267, 0.10991733],\n",
       "       [0.98785289, 0.01214711],\n",
       "       [0.98479997, 0.01520003],\n",
       "       [0.07723869, 0.92276131],\n",
       "       [0.97687086, 0.02312914],\n",
       "       [0.0447866 , 0.9552134 ],\n",
       "       [0.93645389, 0.06354611],\n",
       "       [0.94941077, 0.05058923],\n",
       "       [0.04513214, 0.95486786],\n",
       "       [0.0887523 , 0.9112477 ],\n",
       "       [0.21865102, 0.78134898],\n",
       "       [0.83264844, 0.16735156],\n",
       "       [0.0750258 , 0.9249742 ],\n",
       "       [0.05870807, 0.94129193],\n",
       "       [0.18937086, 0.81062914],\n",
       "       [0.94054914, 0.05945086],\n",
       "       [0.97831282, 0.02168718],\n",
       "       [0.07267618, 0.92732382],\n",
       "       [0.9347356 , 0.0652644 ],\n",
       "       [0.18067507, 0.81932493],\n",
       "       [0.08858654, 0.91141346],\n",
       "       [0.97297587, 0.02702413],\n",
       "       [0.93587359, 0.06412641],\n",
       "       [0.07021005, 0.92978995],\n",
       "       [0.9404912 , 0.0595088 ],\n",
       "       [0.53246838, 0.46753162],\n",
       "       [0.79435268, 0.20564732],\n",
       "       [0.08458875, 0.91541125],\n",
       "       [0.06751084, 0.93248916],\n",
       "       [0.94049121, 0.05950879],\n",
       "       [0.97234506, 0.02765494],\n",
       "       [0.4292737 , 0.5707263 ],\n",
       "       [0.07450643, 0.92549357],\n",
       "       [0.06625389, 0.93374611],\n",
       "       [0.07171422, 0.92828578],\n",
       "       [0.98844212, 0.01155788],\n",
       "       [0.99001565, 0.00998435],\n",
       "       [0.06221752, 0.93778248],\n",
       "       [0.06644109, 0.93355891],\n",
       "       [0.45398443, 0.54601557],\n",
       "       [0.98870365, 0.01129635],\n",
       "       [0.97896897, 0.02103103],\n",
       "       [0.96876486, 0.03123514],\n",
       "       [0.9384438 , 0.0615562 ],\n",
       "       [0.03517649, 0.96482351]])"
      ]
     },
     "execution_count": 15,
     "metadata": {},
     "output_type": "execute_result"
    }
   ],
   "source": [
    "model.predict_proba(X)"
   ]
  },
  {
   "cell_type": "code",
   "execution_count": 16,
   "metadata": {},
   "outputs": [
    {
     "data": {
      "text/plain": [
       "array([1, 1, 1, 0, 0, 0, 0, 1, 0, 1, 0, 1, 0, 1, 0, 1, 0, 0, 1, 0, 1, 1,\n",
       "       1, 1, 0, 0, 1, 1, 0, 0, 1, 1, 1, 1, 0, 1, 0, 1, 1, 0, 1, 1, 0, 0,\n",
       "       1, 0, 1, 0, 0, 0, 1, 0, 1, 0, 1, 0, 0, 0, 1, 0, 1, 0, 0, 1, 1, 1,\n",
       "       0, 1, 1, 1, 0, 0, 1, 0, 1, 1, 0, 0, 1, 0, 1, 0, 1, 1, 0, 0, 1, 1,\n",
       "       1, 1, 0, 0, 1, 1, 1, 0, 0, 0, 0, 1])"
      ]
     },
     "execution_count": 16,
     "metadata": {},
     "output_type": "execute_result"
    }
   ],
   "source": [
    "pred_y = model.predict(X)\n",
    "pred_y"
   ]
  },
  {
   "cell_type": "code",
   "execution_count": 17,
   "metadata": {},
   "outputs": [
    {
     "data": {
      "text/plain": [
       "array([1, 1, 1, 0, 0, 0, 0, 1, 0, 1, 0, 1, 0, 1, 0, 1, 0, 0, 1, 0, 1, 1,\n",
       "       1, 1, 0, 0, 1, 1, 0, 0, 1, 1, 1, 1, 0, 0, 0, 1, 1, 0, 1, 1, 0, 0,\n",
       "       1, 0, 1, 0, 0, 0, 1, 0, 1, 0, 1, 0, 0, 0, 1, 0, 1, 0, 0, 1, 1, 1,\n",
       "       0, 1, 1, 1, 0, 0, 1, 0, 1, 1, 0, 0, 1, 0, 0, 0, 1, 1, 0, 0, 1, 1,\n",
       "       1, 1, 0, 0, 1, 1, 1, 0, 0, 0, 0, 1])"
      ]
     },
     "execution_count": 17,
     "metadata": {},
     "output_type": "execute_result"
    }
   ],
   "source": [
    "pred_y_new = model.predict_proba(X).argmax(axis=1)\n",
    "pred_y_new"
   ]
  },
  {
   "cell_type": "code",
   "execution_count": 18,
   "metadata": {},
   "outputs": [
    {
     "data": {
      "text/plain": [
       "0.98"
      ]
     },
     "execution_count": 18,
     "metadata": {},
     "output_type": "execute_result"
    }
   ],
   "source": [
    "(pred_y_new == pred_y).sum()/len(y)"
   ]
  },
  {
   "cell_type": "markdown",
   "metadata": {},
   "source": [
    "[回索引](#索引)"
   ]
  },
  {
   "cell_type": "markdown",
   "metadata": {},
   "source": [
    "#### 1.c.IV. Logistic Regression"
   ]
  },
  {
   "cell_type": "markdown",
   "metadata": {},
   "source": [
    "http://scikit-learn.org/stable/modules/generated/sklearn.linear_model.LogisticRegression.html"
   ]
  },
  {
   "cell_type": "code",
   "execution_count": 19,
   "metadata": {},
   "outputs": [],
   "source": [
    "from sklearn.linear_model import LogisticRegression"
   ]
  },
  {
   "cell_type": "code",
   "execution_count": 20,
   "metadata": {},
   "outputs": [
    {
     "data": {
      "image/png": "[encoded data removed]",
      "text/plain": [
       "<Figure size 432x288 with 1 Axes>"
      ]
     },
     "metadata": {
      "needs_background": "light"
     },
     "output_type": "display_data"
    }
   ],
   "source": [
    "classifier=LogisticRegression()\n",
    "\n",
    "model=classifier.fit(X,y)\n",
    "# Plot the decision boundary. For that, we will assign a color to each\n",
    "from mlxtend.plotting import plot_decision_regions\n",
    "plt.figure()\n",
    "plot_decision_regions(X,y,model)\n",
    "plt.show()"
   ]
  },
  {
   "cell_type": "code",
   "execution_count": 21,
   "metadata": {},
   "outputs": [],
   "source": [
    "pred=model.predict(X)"
   ]
  },
  {
   "cell_type": "code",
   "execution_count": 22,
   "metadata": {},
   "outputs": [
    {
     "data": {
      "text/plain": [
       "0.86"
      ]
     },
     "execution_count": 22,
     "metadata": {},
     "output_type": "execute_result"
    }
   ],
   "source": [
    "(y == pred).sum()/len(y)"
   ]
  },
  {
   "cell_type": "code",
   "execution_count": 23,
   "metadata": {},
   "outputs": [
    {
     "data": {
      "text/plain": [
       "0.86"
      ]
     },
     "execution_count": 23,
     "metadata": {},
     "output_type": "execute_result"
    }
   ],
   "source": [
    "(pred==y).mean()"
   ]
  },
  {
   "cell_type": "markdown",
   "metadata": {},
   "source": [
    "以上等同於："
   ]
  },
  {
   "cell_type": "code",
   "execution_count": 24,
   "metadata": {},
   "outputs": [
    {
     "data": {
      "text/plain": [
       "0.86"
      ]
     },
     "execution_count": 24,
     "metadata": {},
     "output_type": "execute_result"
    }
   ],
   "source": [
    "model.score(X,y)"
   ]
  },
  {
   "cell_type": "code",
   "execution_count": 25,
   "metadata": {},
   "outputs": [
    {
     "data": {
      "text/plain": [
       "LogisticRegression(C=1.0, class_weight=None, dual=False, fit_intercept=True,\n",
       "          intercept_scaling=1, max_iter=100, multi_class='ovr', n_jobs=1,\n",
       "          penalty='l2', random_state=None, solver='liblinear', tol=0.0001,\n",
       "          verbose=0, warm_start=False)"
      ]
     },
     "execution_count": 25,
     "metadata": {},
     "output_type": "execute_result"
    }
   ],
   "source": [
    "LogisticRegression()"
   ]
  },
  {
   "cell_type": "markdown",
   "metadata": {},
   "source": [
    "#### 問題3. \n",
    "LogisticRegression()的參數中，multi_class的值有哪些可能性，分別有什麼意義？   \n",
    "1. {‘ovr’, ‘multinomial’, ‘auto’}, default: ‘ovr’\n",
    "2. ovr: 多個二元分類器預測多類別結果    \n",
    "3. multinomial: 一個二元分類器預測多類別結果(softmax)"
   ]
  },
  {
   "cell_type": "markdown",
   "metadata": {},
   "source": [
    "Scikit-Learn API: http://scikit-learn.org/stable/"
   ]
  },
  {
   "cell_type": "markdown",
   "metadata": {},
   "source": [
    "[回索引](#索引)"
   ]
  },
  {
   "cell_type": "markdown",
   "metadata": {
    "collapsed": true
   },
   "source": [
    "#  2. 手寫數字"
   ]
  },
  {
   "cell_type": "code",
   "execution_count": 26,
   "metadata": {},
   "outputs": [
    {
     "name": "stdout",
     "output_type": "stream",
     "text": [
      "total 1.9M\r\n",
      "-rw-r--r-- 1 root root 276K Sep 29 03:56 001-NumPyLinearRegression-10.ipynb\r\n",
      "-rw-r--r-- 1 1000 1000  13K Sep 29 01:46 001-NumPyLinearRegression.ipynb\r\n",
      "-rw-r--r-- 1 root root 571K Sep 29 08:14 002-SklearnLinearRegression-10.ipynb\r\n",
      "-rw-r--r-- 1 1000 1000  14K Sep 29 01:46 002-SklearnLinearRegression.ipynb\r\n",
      "-rw-r--r-- 1 root root 228K Sep 30 05:51 003-SklearnQuickTour-10.ipynb\r\n",
      "-rw-r--r-- 1 1000 1000  35K Sep 29 01:46 003-SklearnQuickTour.ipynb\r\n",
      "-rw-r--r-- 1 root root 359K Sep 30 02:02 004-TitanicSurvivalEDA-10.ipynb\r\n",
      "-rw-r--r-- 1 1000 1000  14K Sep 29 01:46 004-TitanicSurvivalEDA.ipynb\r\n",
      "-rw-r--r-- 1 root root  20K Sep 29 01:54 005-TitanicSurvivalAnalysis-10.ipynb\r\n",
      "-rw-r--r-- 1 1000 1000  20K Sep 29 01:46 005-TitanicSurvivalAnalysis.ipynb\r\n",
      "-rw-r--r-- 1 root root 9.4K Sep 29 01:54 006-XGBoostBlFriday-10.ipynb\r\n",
      "-rw-r--r-- 1 1000 1000 9.4K Sep 29 01:46 006-XGBoostBlFriday.ipynb\r\n",
      "-rw-r--r-- 1 root root 6.0K Sep 29 01:54 007-DimensionReductionPCA-10.ipynb\r\n",
      "-rw-r--r-- 1 1000 1000 6.0K Sep 29 01:46 007-DimensionReductionPCA.ipynb\r\n",
      "-rw-r--r-- 1 root root 2.8K Sep 29 01:54 008-ClusteringDBSCAN-10.ipynb\r\n",
      "-rw-rw-r-- 1 1000 1000 2.8K Sep 29 01:46 008-ClusteringDBSCAN.ipynb\r\n",
      "-rw-r--r-- 1 root root 9.9K Sep 29 01:54 009-KerasLayersIO-10.ipynb\r\n",
      "-rw-r--r-- 1 1000 1000 9.9K Sep 29 01:46 009-KerasLayersIO.ipynb\r\n",
      "-rw-r--r-- 1 root root  20K Sep 29 01:54 010-KerasMNIST-10.ipynb\r\n",
      "-rw-r--r-- 1 1000 1000  20K Sep 29 01:46 010-KerasMNIST.ipynb\r\n",
      "-rw-r--r-- 1 root root  28K Sep 29 01:54 011-Cifar10VGG16-10.ipynb\r\n",
      "-rw-r--r-- 1 1000 1000  28K Sep 29 01:46 011-Cifar10VGG16.ipynb\r\n",
      "-rw-r--r-- 1 root root  12K Sep 29 01:54 012-KerasDenseNet-10.ipynb\r\n",
      "-rw-r--r-- 1 1000 1000  12K Sep 29 01:46 012-KerasDenseNet.ipynb\r\n",
      "-rw-r--r-- 1 root root  14K Sep 29 01:54 013-CatsDogsVGG16Pretrain-10.ipynb\r\n",
      "-rw-r--r-- 1 1000 1000  14K Sep 29 01:46 013-CatsDogsVGG16Pretrain.ipynb\r\n",
      "-rw-r--r-- 1 root root  19K Sep 29 01:54 014-KerasSimpleRNNManyToOne-10.ipynb\r\n",
      "-rw-r--r-- 1 1000 1000  19K Sep 29 01:46 014-KerasSimpleRNNManyToOne.ipynb\r\n",
      "-rw-r--r-- 1 root root 8.1K Sep 29 01:54 015-KerasSimpleRNNManyToMany-10.ipynb\r\n",
      "-rw-r--r-- 1 1000 1000 8.1K Sep 29 01:46 015-KerasSimpleRNNManyToMany.ipynb\r\n",
      "-rw-r--r-- 1 root root  19K Sep 29 01:54 016-KerasLSTMSurvivalPredICU-10.ipynb\r\n",
      "-rw-r--r-- 1 1000 1000  19K Sep 29 01:46 016-KerasLSTMSurvivalPredICU.ipynb\r\n",
      "-rw-r--r-- 1 1000 1000 2.4K Sep 30 02:39 Homework.ipynb\r\n",
      "-rw-r--r-- 1 1000 1000 4.8K Sep 29 01:46 densenet.py\r\n"
     ]
    }
   ],
   "source": [
    "! ls -lh"
   ]
  },
  {
   "cell_type": "code",
   "execution_count": 27,
   "metadata": {},
   "outputs": [],
   "source": [
    "def filePathsGen(rootPath):\n",
    "    paths=[]\n",
    "    dirs=[]\n",
    "    for dirPath,dirNames,fileNames in os.walk(rootPath):\n",
    "        for fileName in fileNames:\n",
    "            fullPath=os.path.join(dirPath,fileName)\n",
    "            paths.append((int(dirPath[len(rootPath) ]),fullPath))\n",
    "        dirs.append(dirNames)\n",
    "    return dirs,paths"
   ]
  },
  {
   "cell_type": "code",
   "execution_count": 28,
   "metadata": {},
   "outputs": [],
   "source": [
    "dirs,paths=filePathsGen('../datasets/mnist/') #載入圖片路徑"
   ]
  },
  {
   "cell_type": "code",
   "execution_count": 29,
   "metadata": {},
   "outputs": [
    {
     "data": {
      "text/html": [
       "<div>\n",
       "<style scoped>\n",
       "    .dataframe tbody tr th:only-of-type {\n",
       "        vertical-align: middle;\n",
       "    }\n",
       "\n",
       "    .dataframe tbody tr th {\n",
       "        vertical-align: top;\n",
       "    }\n",
       "\n",
       "    .dataframe thead th {\n",
       "        text-align: right;\n",
       "    }\n",
       "</style>\n",
       "<table border=\"1\" class=\"dataframe\">\n",
       "  <thead>\n",
       "    <tr style=\"text-align: right;\">\n",
       "      <th></th>\n",
       "      <th>class</th>\n",
       "      <th>path</th>\n",
       "    </tr>\n",
       "  </thead>\n",
       "  <tbody>\n",
       "    <tr>\n",
       "      <th>0</th>\n",
       "      <td>8</td>\n",
       "      <td>../datasets/mnist/8/58498.jpg</td>\n",
       "    </tr>\n",
       "    <tr>\n",
       "      <th>1</th>\n",
       "      <td>8</td>\n",
       "      <td>../datasets/mnist/8/11383.jpg</td>\n",
       "    </tr>\n",
       "    <tr>\n",
       "      <th>2</th>\n",
       "      <td>8</td>\n",
       "      <td>../datasets/mnist/8/24646.jpg</td>\n",
       "    </tr>\n",
       "    <tr>\n",
       "      <th>3</th>\n",
       "      <td>8</td>\n",
       "      <td>../datasets/mnist/8/25873.jpg</td>\n",
       "    </tr>\n",
       "    <tr>\n",
       "      <th>4</th>\n",
       "      <td>8</td>\n",
       "      <td>../datasets/mnist/8/00333.jpg</td>\n",
       "    </tr>\n",
       "  </tbody>\n",
       "</table>\n",
       "</div>"
      ],
      "text/plain": [
       "   class                           path\n",
       "0      8  ../datasets/mnist/8/58498.jpg\n",
       "1      8  ../datasets/mnist/8/11383.jpg\n",
       "2      8  ../datasets/mnist/8/24646.jpg\n",
       "3      8  ../datasets/mnist/8/25873.jpg\n",
       "4      8  ../datasets/mnist/8/00333.jpg"
      ]
     },
     "execution_count": 29,
     "metadata": {},
     "output_type": "execute_result"
    }
   ],
   "source": [
    "dfPath=pd.DataFrame(paths,columns=['class','path']) #圖片路徑存成Pandas資料表\n",
    "dfPath.head(5) # 看資料表前5個row"
   ]
  },
  {
   "cell_type": "markdown",
   "metadata": {},
   "source": [
    "[回索引](#索引)"
   ]
  },
  {
   "cell_type": "markdown",
   "metadata": {
    "collapsed": true
   },
   "source": [
    "### 2.a. 利用Pandas, 可迅速了解每個資料夾裡面有幾張圖片"
   ]
  },
  {
   "cell_type": "code",
   "execution_count": 30,
   "metadata": {},
   "outputs": [
    {
     "data": {
      "text/plain": [
       "<matplotlib.axes._subplots.AxesSubplot at 0x7f1a5e2fd2e8>"
      ]
     },
     "execution_count": 30,
     "metadata": {},
     "output_type": "execute_result"
    },
    {
     "data": {
      "image/png": "[encoded data removed]",
      "text/plain": [
       "<Figure size 432x288 with 1 Axes>"
      ]
     },
     "metadata": {
      "needs_background": "light"
     },
     "output_type": "display_data"
    }
   ],
   "source": [
    "#依照class分群後，數各群的數量，並繪圖\n",
    "dfCountPerClass=dfPath.groupby('class').count()\n",
    "dfCountPerClass.rename(columns={'path':'amount of figures'},inplace=True)\n",
    "dfCountPerClass.plot(kind='bar',rot=0)"
   ]
  },
  {
   "cell_type": "markdown",
   "metadata": {},
   "source": [
    "[回索引](#索引)"
   ]
  },
  {
   "cell_type": "markdown",
   "metadata": {},
   "source": [
    "###  2.b. 將圖片路徑資訊分成70% train, 10% val, 20% test"
   ]
  },
  {
   "cell_type": "code",
   "execution_count": 31,
   "metadata": {},
   "outputs": [],
   "source": [
    "import cv2"
   ]
  },
  {
   "cell_type": "code",
   "execution_count": 32,
   "metadata": {},
   "outputs": [
    {
     "data": {
      "text/html": [
       "<div>\n",
       "<style scoped>\n",
       "    .dataframe tbody tr th:only-of-type {\n",
       "        vertical-align: middle;\n",
       "    }\n",
       "\n",
       "    .dataframe tbody tr th {\n",
       "        vertical-align: top;\n",
       "    }\n",
       "\n",
       "    .dataframe thead th {\n",
       "        text-align: right;\n",
       "    }\n",
       "</style>\n",
       "<table border=\"1\" class=\"dataframe\">\n",
       "  <thead>\n",
       "    <tr style=\"text-align: right;\">\n",
       "      <th></th>\n",
       "      <th>class</th>\n",
       "      <th>path</th>\n",
       "    </tr>\n",
       "  </thead>\n",
       "  <tbody>\n",
       "    <tr>\n",
       "      <th>0</th>\n",
       "      <td>8</td>\n",
       "      <td>../datasets/mnist/8/58498.jpg</td>\n",
       "    </tr>\n",
       "    <tr>\n",
       "      <th>1</th>\n",
       "      <td>8</td>\n",
       "      <td>../datasets/mnist/8/11383.jpg</td>\n",
       "    </tr>\n",
       "    <tr>\n",
       "      <th>2</th>\n",
       "      <td>8</td>\n",
       "      <td>../datasets/mnist/8/24646.jpg</td>\n",
       "    </tr>\n",
       "    <tr>\n",
       "      <th>3</th>\n",
       "      <td>8</td>\n",
       "      <td>../datasets/mnist/8/25873.jpg</td>\n",
       "    </tr>\n",
       "    <tr>\n",
       "      <th>4</th>\n",
       "      <td>8</td>\n",
       "      <td>../datasets/mnist/8/00333.jpg</td>\n",
       "    </tr>\n",
       "  </tbody>\n",
       "</table>\n",
       "</div>"
      ],
      "text/plain": [
       "   class                           path\n",
       "0      8  ../datasets/mnist/8/58498.jpg\n",
       "1      8  ../datasets/mnist/8/11383.jpg\n",
       "2      8  ../datasets/mnist/8/24646.jpg\n",
       "3      8  ../datasets/mnist/8/25873.jpg\n",
       "4      8  ../datasets/mnist/8/00333.jpg"
      ]
     },
     "execution_count": 32,
     "metadata": {},
     "output_type": "execute_result"
    }
   ],
   "source": [
    "dfPath.head(5) # 看前五筆資料"
   ]
  },
  {
   "cell_type": "code",
   "execution_count": 33,
   "metadata": {},
   "outputs": [],
   "source": [
    "# dfPath[\"class\"] = dfPath[\"class\"].astype(np.uint8) # 轉換該欄位的資料型態成為uint8"
   ]
  },
  {
   "cell_type": "markdown",
   "metadata": {},
   "source": [
    "int8: -128~ +127\n",
    "\n",
    "uint8: 0-255"
   ]
  },
  {
   "cell_type": "code",
   "execution_count": 34,
   "metadata": {},
   "outputs": [],
   "source": [
    "dfShuffled=dfPath.sample(frac=1)    # 打亂一下path data\n",
    "\n",
    "dfFrac=dfShuffled.sample(frac=0.05) # 以下範例，我們只取原資料集的5%來做使用，\n",
    "                                    # 這是為了利於在課堂中快速演練。"
   ]
  },
  {
   "cell_type": "markdown",
   "metadata": {},
   "source": [
    "## 將已經取了5%的資料拿70%當train, 10%當train_val, 20%當test。"
   ]
  },
  {
   "cell_type": "code",
   "execution_count": 35,
   "metadata": {},
   "outputs": [],
   "source": [
    "dfFrac=dfPath.sample(frac=0.05)    # 打亂一下path data\n",
    "# 以下範例，我們只取原資料集的5%來做使用，這是為了利於在課堂中快速演練。\n",
    "\n",
    "train=dfFrac.sample(frac=0.8) # 將path data隨機取樣，80%的path data當train\n",
    "test=dfFrac.drop(train.index) # 20%的path data當test"
   ]
  },
  {
   "cell_type": "code",
   "execution_count": 36,
   "metadata": {},
   "outputs": [
    {
     "name": "stdout",
     "output_type": "stream",
     "text": [
      "(2400, 2)\n",
      "(600, 2)\n"
     ]
    }
   ],
   "source": [
    "print(train.shape)\n",
    "print(test.shape)"
   ]
  },
  {
   "cell_type": "code",
   "execution_count": 37,
   "metadata": {},
   "outputs": [],
   "source": [
    "trainVal=test.sample(frac=0.5) # 將test切一半去做驗證用資料, 存至trainVal\n",
    "test=test.drop(trainVal.index) "
   ]
  },
  {
   "cell_type": "code",
   "execution_count": 38,
   "metadata": {},
   "outputs": [
    {
     "name": "stdout",
     "output_type": "stream",
     "text": [
      "(2400, 2)\n",
      "(300, 2)\n",
      "(300, 2)\n"
     ]
    }
   ],
   "source": [
    "print(train.shape)\n",
    "print(trainVal.shape)\n",
    "print(test.shape)"
   ]
  },
  {
   "cell_type": "code",
   "execution_count": 39,
   "metadata": {},
   "outputs": [
    {
     "name": "stdout",
     "output_type": "stream",
     "text": [
      "shape(all figures)=\t\t (60000, 2)\n",
      "shape(fraction of figures)=\t (3000, 2)\n",
      "shape(train)=\t\t\t (2400, 2)\n",
      "shape(trainVal)=\t\t (300, 2)\n",
      "shape(test)=\t\t\t (300, 2)\n"
     ]
    },
    {
     "data": {
      "image/png": "[encoded data removed]",
      "text/plain": [
       "<Figure size 432x288 with 1 Axes>"
      ]
     },
     "metadata": {
      "needs_background": "light"
     },
     "output_type": "display_data"
    },
    {
     "data": {
      "image/png": "[encoded data removed]",
      "text/plain": [
       "<Figure size 432x288 with 1 Axes>"
      ]
     },
     "metadata": {
      "needs_background": "light"
     },
     "output_type": "display_data"
    },
    {
     "data": {
      "image/png": "[encoded data removed]",
      "text/plain": [
       "<Figure size 432x288 with 1 Axes>"
      ]
     },
     "metadata": {
      "needs_background": "light"
     },
     "output_type": "display_data"
    }
   ],
   "source": [
    "#最終，整體資料拿70%當train, 10%當train_val, 20%當test。\n",
    "print('shape(all figures)=\\t\\t',dfPath.shape)\n",
    "print('shape(fraction of figures)=\\t',dfFrac.shape)\n",
    "print('shape(train)=\\t\\t\\t',train.shape)\n",
    "print('shape(trainVal)=\\t\\t',trainVal.shape)\n",
    "print('shape(test)=\\t\\t\\t',test.shape)\n",
    "\n",
    "#隨便抓三張圖來看\n",
    "for j in range(3):\n",
    "    img=cv2.imread(train['path'].iloc[j])\n",
    "    plt.imshow(img)\n",
    "    plt.show()"
   ]
  },
  {
   "cell_type": "markdown",
   "metadata": {},
   "source": [
    "[回索引](#索引)"
   ]
  },
  {
   "cell_type": "markdown",
   "metadata": {
    "collapsed": true
   },
   "source": [
    "###  2.c. 將圖片載入，存成數值矩陣"
   ]
  },
  {
   "cell_type": "code",
   "execution_count": 40,
   "metadata": {},
   "outputs": [],
   "source": [
    "import cv2"
   ]
  },
  {
   "cell_type": "code",
   "execution_count": 41,
   "metadata": {},
   "outputs": [],
   "source": [
    "def dataLoad(dfPath):\n",
    "    paths=dfPath['path'].values\n",
    "    x=np.zeros((len(paths),28,28) )\n",
    "\n",
    "    for j in range(len(paths)):\n",
    "        x[j,:,:]=cv2.imread(paths[j],0)/255\n",
    "    y=dfPath['class'].values\n",
    "    return x,y"
   ]
  },
  {
   "cell_type": "code",
   "execution_count": 42,
   "metadata": {},
   "outputs": [],
   "source": [
    "trainX,trainY=dataLoad(train)\n",
    "trainValX,trainValY=dataLoad(trainVal)\n",
    "testX,testY=dataLoad(test)"
   ]
  },
  {
   "cell_type": "code",
   "execution_count": 43,
   "metadata": {},
   "outputs": [
    {
     "name": "stdout",
     "output_type": "stream",
     "text": [
      "train:\t (2400, 28, 28) (2400,)\n",
      "trainVal: (300, 28, 28) (300,)\n",
      "test:\t (300, 28, 28) (300,)\n"
     ]
    },
    {
     "data": {
      "text/plain": [
       "array([[1.        , 1.        , 1.        , 1.        , 1.        ,\n",
       "        1.        , 1.        , 1.        , 0.98823529, 1.        ,\n",
       "        0.97647059, 1.        , 0.97254902, 1.        , 1.        ,\n",
       "        0.98431373, 1.        , 0.99607843, 1.        , 0.95686275,\n",
       "        1.        , 0.99215686, 0.97254902, 1.        , 1.        ,\n",
       "        1.        , 1.        , 1.        ],\n",
       "       [1.        , 1.        , 1.        , 1.        , 1.        ,\n",
       "        1.        , 1.        , 1.        , 0.99215686, 1.        ,\n",
       "        1.        , 1.        , 0.98431373, 0.95686275, 1.        ,\n",
       "        0.98823529, 1.        , 0.9372549 , 1.        , 1.        ,\n",
       "        0.97254902, 0.98823529, 1.        , 0.94117647, 1.        ,\n",
       "        1.        , 1.        , 1.        ],\n",
       "       [1.        , 1.        , 1.        , 1.        , 1.        ,\n",
       "        1.        , 1.        , 1.        , 1.        , 1.        ,\n",
       "        0.94901961, 1.        , 0.96862745, 1.        , 1.        ,\n",
       "        1.        , 1.        , 0.99607843, 0.96862745, 0.97647059,\n",
       "        1.        , 0.97254902, 0.98823529, 1.        , 1.        ,\n",
       "        1.        , 1.        , 1.        ],\n",
       "       [1.        , 1.        , 1.        , 1.        , 1.        ,\n",
       "        1.        , 1.        , 1.        , 0.98823529, 0.95686275,\n",
       "        1.        , 1.        , 1.        , 0.94901961, 0.9372549 ,\n",
       "        0.99215686, 0.89803922, 1.        , 1.        , 0.98039216,\n",
       "        1.        , 1.        , 0.98431373, 0.99215686, 1.        ,\n",
       "        1.        , 1.        , 1.        ],\n",
       "       [1.        , 1.        , 1.        , 1.        , 1.        ,\n",
       "        1.        , 1.        , 1.        , 0.98823529, 1.        ,\n",
       "        1.        , 0.96470588, 0.96078431, 1.        , 1.        ,\n",
       "        1.        , 1.        , 0.97647059, 0.9372549 , 1.        ,\n",
       "        0.98039216, 1.        , 1.        , 0.95686275, 1.        ,\n",
       "        1.        , 1.        , 1.        ],\n",
       "       [1.        , 1.        , 1.        , 1.        , 1.        ,\n",
       "        1.        , 1.        , 1.        , 1.        , 0.9372549 ,\n",
       "        0.97254902, 1.        , 0.76078431, 0.34117647, 0.04705882,\n",
       "        0.31764706, 0.90588235, 1.        , 0.99607843, 1.        ,\n",
       "        0.98039216, 0.94901961, 1.        , 1.        , 1.        ,\n",
       "        1.        , 1.        , 1.        ],\n",
       "       [1.        , 1.        , 1.        , 1.        , 1.        ,\n",
       "        1.        , 1.        , 1.        , 0.95294118, 1.        ,\n",
       "        1.        , 0.28235294, 0.09019608, 0.        , 0.00392157,\n",
       "        0.03921569, 0.12156863, 0.77647059, 0.99607843, 1.        ,\n",
       "        0.96862745, 0.96470588, 0.99215686, 0.98431373, 1.        ,\n",
       "        1.        , 1.        , 1.        ],\n",
       "       [1.        , 1.        , 1.        , 1.        , 1.        ,\n",
       "        1.        , 1.        , 1.        , 1.        , 0.92156863,\n",
       "        0.23921569, 0.08235294, 0.        , 0.56862745, 0.10196078,\n",
       "        0.        , 0.00392157, 0.02745098, 0.20784314, 0.83529412,\n",
       "        1.        , 1.        , 1.        , 0.97254902, 1.        ,\n",
       "        1.        , 1.        , 1.        ],\n",
       "       [1.        , 0.93333333, 1.        , 0.99607843, 0.97254902,\n",
       "        1.        , 1.        , 0.97647059, 0.96470588, 0.35686275,\n",
       "        0.        , 0.07843137, 0.71764706, 0.67058824, 0.00392157,\n",
       "        0.02745098, 0.        , 0.03529412, 0.        , 0.15686275,\n",
       "        0.91372549, 0.94509804, 1.        , 0.99215686, 1.        ,\n",
       "        1.        , 1.        , 1.        ],\n",
       "       [1.        , 0.97254902, 1.        , 1.        , 0.99607843,\n",
       "        0.94509804, 1.        , 1.        , 0.58431373, 0.03529412,\n",
       "        0.09803922, 0.52156863, 1.        , 0.97254902, 0.43921569,\n",
       "        0.42352941, 0.65882353, 0.        , 0.07058824, 0.        ,\n",
       "        0.29803922, 1.        , 1.        , 1.        , 1.        ,\n",
       "        1.        , 1.        , 1.        ],\n",
       "       [0.98431373, 1.        , 0.99215686, 1.        , 1.        ,\n",
       "        0.94117647, 1.        , 0.90588235, 0.01960784, 0.        ,\n",
       "        0.59215686, 1.        , 1.        , 1.        , 0.90588235,\n",
       "        1.        , 0.98823529, 0.07843137, 0.01176471, 0.35294118,\n",
       "        0.02352941, 0.51372549, 0.96470588, 0.97647059, 1.        ,\n",
       "        1.        , 1.        , 1.        ],\n",
       "       [0.96470588, 1.        , 0.99215686, 0.96862745, 1.        ,\n",
       "        1.        , 0.99607843, 0.43137255, 0.        , 0.36862745,\n",
       "        0.94509804, 1.        , 0.94117647, 0.97647059, 1.        ,\n",
       "        1.        , 1.        , 0.61960784, 0.02352941, 0.69411765,\n",
       "        0.30588235, 0.01176471, 0.78431373, 1.        , 1.        ,\n",
       "        1.        , 1.        , 1.        ],\n",
       "       [0.98823529, 1.        , 1.        , 0.98039216, 0.98431373,\n",
       "        1.        , 0.81960784, 0.        , 0.07843137, 0.77647059,\n",
       "        1.        , 0.99607843, 1.        , 1.        , 1.        ,\n",
       "        0.89411765, 0.97647059, 0.94509804, 0.2       , 0.19607843,\n",
       "        0.55686275, 0.        , 0.36078431, 0.98039216, 1.        ,\n",
       "        1.        , 1.        , 1.        ],\n",
       "       [1.        , 0.98039216, 1.        , 1.        , 0.99215686,\n",
       "        0.98039216, 0.60392157, 0.        , 0.30588235, 0.98039216,\n",
       "        1.        , 0.96078431, 1.        , 0.97254902, 1.        ,\n",
       "        1.        , 1.        , 1.        , 0.61176471, 0.        ,\n",
       "        0.96470588, 0.36078431, 0.16078431, 0.95686275, 1.        ,\n",
       "        1.        , 1.        , 1.        ],\n",
       "       [0.99215686, 0.98823529, 1.        , 1.        , 1.        ,\n",
       "        0.99215686, 0.36470588, 0.03921569, 0.82352941, 1.        ,\n",
       "        0.99215686, 0.95686275, 1.        , 0.98823529, 0.97647059,\n",
       "        0.99607843, 0.94117647, 0.98039216, 0.84705882, 0.18431373,\n",
       "        1.        , 0.57254902, 0.04705882, 0.65882353, 1.        ,\n",
       "        1.        , 1.        , 1.        ],\n",
       "       [0.98431373, 1.        , 1.        , 0.9372549 , 1.        ,\n",
       "        0.99607843, 0.14117647, 0.        , 1.        , 0.94117647,\n",
       "        1.        , 1.        , 0.99215686, 1.        , 0.98431373,\n",
       "        0.98823529, 1.        , 0.98039216, 0.98823529, 0.44313725,\n",
       "        0.72941176, 0.74117647, 0.        , 0.35686275, 1.        ,\n",
       "        1.        , 1.        , 1.        ],\n",
       "       [0.98823529, 1.        , 0.96078431, 1.        , 0.94509804,\n",
       "        0.96078431, 0.13333333, 0.00784314, 0.96078431, 1.        ,\n",
       "        0.92941176, 0.98431373, 1.        , 0.94901961, 1.        ,\n",
       "        1.        , 1.        , 1.        , 0.96862745, 0.92941176,\n",
       "        0.8745098 , 0.92156863, 0.        , 0.44313725, 1.        ,\n",
       "        1.        , 1.        , 1.        ],\n",
       "       [0.97254902, 1.        , 0.96470588, 1.        , 1.        ,\n",
       "        1.        , 0.17647059, 0.        , 0.99607843, 0.98823529,\n",
       "        0.97254902, 1.        , 0.90588235, 1.        , 0.98431373,\n",
       "        0.9372549 , 1.        , 0.95686275, 1.        , 0.95686275,\n",
       "        1.        , 0.6745098 , 0.03921569, 0.44313725, 1.        ,\n",
       "        1.        , 1.        , 1.        ],\n",
       "       [0.99215686, 1.        , 1.        , 0.96862745, 0.99215686,\n",
       "        0.97254902, 0.23921569, 0.        , 0.99215686, 0.91764706,\n",
       "        1.        , 0.98431373, 1.        , 0.96470588, 1.        ,\n",
       "        1.        , 0.96470588, 1.        , 1.        , 1.        ,\n",
       "        1.        , 0.58039216, 0.        , 0.53333333, 1.        ,\n",
       "        1.        , 1.        , 1.        ],\n",
       "       [0.99607843, 1.        , 1.        , 0.98823529, 1.        ,\n",
       "        0.99607843, 0.54509804, 0.04705882, 0.74117647, 1.        ,\n",
       "        0.96078431, 0.96078431, 1.        , 0.99215686, 0.97647059,\n",
       "        1.        , 1.        , 1.        , 0.94117647, 0.98823529,\n",
       "        0.99215686, 0.58039216, 0.        , 0.73333333, 1.        ,\n",
       "        1.        , 1.        , 1.        ],\n",
       "       [1.        , 0.99215686, 0.97647059, 1.        , 1.        ,\n",
       "        1.        , 0.78823529, 0.        , 0.11764706, 0.82352941,\n",
       "        1.        , 1.        , 0.98431373, 0.98431373, 0.98431373,\n",
       "        1.        , 0.96078431, 0.96470588, 1.        , 1.        ,\n",
       "        0.81960784, 0.18431373, 0.17254902, 0.9372549 , 1.        ,\n",
       "        1.        , 1.        , 1.        ],\n",
       "       [1.        , 1.        , 0.96862745, 1.        , 0.97647059,\n",
       "        0.97254902, 0.94901961, 0.28627451, 0.        , 0.24705882,\n",
       "        0.83529412, 0.99215686, 1.        , 1.        , 0.96078431,\n",
       "        1.        , 1.        , 1.        , 0.93333333, 0.79607843,\n",
       "        0.18823529, 0.        , 0.57254902, 1.        , 1.        ,\n",
       "        1.        , 1.        , 1.        ],\n",
       "       [0.96470588, 0.99607843, 1.        , 1.        , 0.99607843,\n",
       "        1.        , 1.        , 0.91372549, 0.2627451 , 0.        ,\n",
       "        0.        , 0.56470588, 0.71764706, 1.        , 0.76470588,\n",
       "        0.84313725, 0.89411765, 0.75686275, 0.38823529, 0.19607843,\n",
       "        0.02352941, 0.41960784, 0.96078431, 1.        , 1.        ,\n",
       "        1.        , 1.        , 1.        ],\n",
       "       [0.99607843, 1.        , 1.        , 0.98431373, 1.        ,\n",
       "        0.99215686, 0.93333333, 1.        , 0.94509804, 0.57647059,\n",
       "        0.02745098, 0.02352941, 0.01568627, 0.09019608, 0.        ,\n",
       "        0.07058824, 0.12156863, 0.        , 0.16078431, 0.09019608,\n",
       "        0.6745098 , 0.96078431, 1.        , 0.99215686, 1.        ,\n",
       "        1.        , 1.        , 1.        ],\n",
       "       [1.        , 1.        , 1.        , 1.        , 1.        ,\n",
       "        1.        , 1.        , 1.        , 0.97254902, 1.        ,\n",
       "        0.80392157, 0.52941176, 0.20392157, 0.0627451 , 0.26666667,\n",
       "        0.42745098, 0.39607843, 0.62745098, 0.88627451, 1.        ,\n",
       "        1.        , 0.99215686, 1.        , 1.        , 1.        ,\n",
       "        1.        , 1.        , 1.        ],\n",
       "       [1.        , 1.        , 1.        , 1.        , 1.        ,\n",
       "        1.        , 1.        , 1.        , 1.        , 1.        ,\n",
       "        0.99607843, 1.        , 0.99215686, 0.96470588, 1.        ,\n",
       "        1.        , 0.97647059, 1.        , 1.        , 1.        ,\n",
       "        0.99607843, 0.99607843, 0.99607843, 0.99215686, 1.        ,\n",
       "        1.        , 1.        , 1.        ],\n",
       "       [1.        , 1.        , 1.        , 1.        , 1.        ,\n",
       "        1.        , 1.        , 1.        , 0.9372549 , 0.96470588,\n",
       "        0.95294118, 1.        , 1.        , 1.        , 1.        ,\n",
       "        0.97254902, 1.        , 1.        , 0.98431373, 0.96470588,\n",
       "        0.98823529, 1.        , 1.        , 1.        , 1.        ,\n",
       "        1.        , 1.        , 1.        ],\n",
       "       [1.        , 1.        , 1.        , 1.        , 1.        ,\n",
       "        1.        , 1.        , 1.        , 1.        , 1.        ,\n",
       "        1.        , 1.        , 0.97647059, 0.96078431, 0.99607843,\n",
       "        1.        , 0.96078431, 0.98431373, 1.        , 1.        ,\n",
       "        1.        , 1.        , 0.99607843, 0.98431373, 1.        ,\n",
       "        1.        , 1.        , 1.        ]])"
      ]
     },
     "execution_count": 43,
     "metadata": {},
     "output_type": "execute_result"
    }
   ],
   "source": [
    "print('train:\\t',trainX.shape,trainY.shape)\n",
    "print('trainVal:',trainValX.shape,trainValY.shape)\n",
    "print('test:\\t',testX.shape,testY.shape)\n",
    "testX[0]"
   ]
  },
  {
   "cell_type": "markdown",
   "metadata": {},
   "source": [
    "[回索引](#索引)"
   ]
  },
  {
   "cell_type": "markdown",
   "metadata": {},
   "source": [
    "### 2.d. 將28X28的圖片特徵轉換成一維"
   ]
  },
  {
   "cell_type": "code",
   "execution_count": 44,
   "metadata": {},
   "outputs": [
    {
     "data": {
      "text/plain": [
       "array([1.        , 1.        , 1.        , 1.        , 1.        ,\n",
       "       1.        , 1.        , 1.        , 0.98823529, 1.        ,\n",
       "       0.97647059, 1.        , 0.97254902, 1.        , 1.        ,\n",
       "       0.98431373, 1.        , 0.99607843, 1.        , 0.95686275,\n",
       "       1.        , 0.99215686, 0.97254902, 1.        , 1.        ,\n",
       "       1.        , 1.        , 1.        , 1.        , 1.        ,\n",
       "       1.        , 1.        , 1.        , 1.        , 1.        ,\n",
       "       1.        , 0.99215686, 1.        , 1.        , 1.        ,\n",
       "       0.98431373, 0.95686275, 1.        , 0.98823529, 1.        ,\n",
       "       0.9372549 , 1.        , 1.        , 0.97254902, 0.98823529,\n",
       "       1.        , 0.94117647, 1.        , 1.        , 1.        ,\n",
       "       1.        , 1.        , 1.        , 1.        , 1.        ,\n",
       "       1.        , 1.        , 1.        , 1.        , 1.        ,\n",
       "       1.        , 0.94901961, 1.        , 0.96862745, 1.        ,\n",
       "       1.        , 1.        , 1.        , 0.99607843, 0.96862745,\n",
       "       0.97647059, 1.        , 0.97254902, 0.98823529, 1.        ,\n",
       "       1.        , 1.        , 1.        , 1.        , 1.        ,\n",
       "       1.        , 1.        , 1.        , 1.        , 1.        ,\n",
       "       1.        , 1.        , 0.98823529, 0.95686275, 1.        ,\n",
       "       1.        , 1.        , 0.94901961, 0.9372549 , 0.99215686,\n",
       "       0.89803922, 1.        , 1.        , 0.98039216, 1.        ,\n",
       "       1.        , 0.98431373, 0.99215686, 1.        , 1.        ,\n",
       "       1.        , 1.        , 1.        , 1.        , 1.        ,\n",
       "       1.        , 1.        , 1.        , 1.        , 1.        ,\n",
       "       0.98823529, 1.        , 1.        , 0.96470588, 0.96078431,\n",
       "       1.        , 1.        , 1.        , 1.        , 0.97647059,\n",
       "       0.9372549 , 1.        , 0.98039216, 1.        , 1.        ,\n",
       "       0.95686275, 1.        , 1.        , 1.        , 1.        ,\n",
       "       1.        , 1.        , 1.        , 1.        , 1.        ,\n",
       "       1.        , 1.        , 1.        , 1.        , 0.9372549 ,\n",
       "       0.97254902, 1.        , 0.76078431, 0.34117647, 0.04705882,\n",
       "       0.31764706, 0.90588235, 1.        , 0.99607843, 1.        ,\n",
       "       0.98039216, 0.94901961, 1.        , 1.        , 1.        ,\n",
       "       1.        , 1.        , 1.        , 1.        , 1.        ,\n",
       "       1.        , 1.        , 1.        , 1.        , 1.        ,\n",
       "       1.        , 0.95294118, 1.        , 1.        , 0.28235294,\n",
       "       0.09019608, 0.        , 0.00392157, 0.03921569, 0.12156863,\n",
       "       0.77647059, 0.99607843, 1.        , 0.96862745, 0.96470588,\n",
       "       0.99215686, 0.98431373, 1.        , 1.        , 1.        ,\n",
       "       1.        , 1.        , 1.        , 1.        , 1.        ,\n",
       "       1.        , 1.        , 1.        , 1.        , 1.        ,\n",
       "       0.92156863, 0.23921569, 0.08235294, 0.        , 0.56862745,\n",
       "       0.10196078, 0.        , 0.00392157, 0.02745098, 0.20784314,\n",
       "       0.83529412, 1.        , 1.        , 1.        , 0.97254902,\n",
       "       1.        , 1.        , 1.        , 1.        , 1.        ,\n",
       "       0.93333333, 1.        , 0.99607843, 0.97254902, 1.        ,\n",
       "       1.        , 0.97647059, 0.96470588, 0.35686275, 0.        ,\n",
       "       0.07843137, 0.71764706, 0.67058824, 0.00392157, 0.02745098,\n",
       "       0.        , 0.03529412, 0.        , 0.15686275, 0.91372549,\n",
       "       0.94509804, 1.        , 0.99215686, 1.        , 1.        ,\n",
       "       1.        , 1.        , 1.        , 0.97254902, 1.        ,\n",
       "       1.        , 0.99607843, 0.94509804, 1.        , 1.        ,\n",
       "       0.58431373, 0.03529412, 0.09803922, 0.52156863, 1.        ,\n",
       "       0.97254902, 0.43921569, 0.42352941, 0.65882353, 0.        ,\n",
       "       0.07058824, 0.        , 0.29803922, 1.        , 1.        ,\n",
       "       1.        , 1.        , 1.        , 1.        , 1.        ,\n",
       "       0.98431373, 1.        , 0.99215686, 1.        , 1.        ,\n",
       "       0.94117647, 1.        , 0.90588235, 0.01960784, 0.        ,\n",
       "       0.59215686, 1.        , 1.        , 1.        , 0.90588235,\n",
       "       1.        , 0.98823529, 0.07843137, 0.01176471, 0.35294118,\n",
       "       0.02352941, 0.51372549, 0.96470588, 0.97647059, 1.        ,\n",
       "       1.        , 1.        , 1.        , 0.96470588, 1.        ,\n",
       "       0.99215686, 0.96862745, 1.        , 1.        , 0.99607843,\n",
       "       0.43137255, 0.        , 0.36862745, 0.94509804, 1.        ,\n",
       "       0.94117647, 0.97647059, 1.        , 1.        , 1.        ,\n",
       "       0.61960784, 0.02352941, 0.69411765, 0.30588235, 0.01176471,\n",
       "       0.78431373, 1.        , 1.        , 1.        , 1.        ,\n",
       "       1.        , 0.98823529, 1.        , 1.        , 0.98039216,\n",
       "       0.98431373, 1.        , 0.81960784, 0.        , 0.07843137,\n",
       "       0.77647059, 1.        , 0.99607843, 1.        , 1.        ,\n",
       "       1.        , 0.89411765, 0.97647059, 0.94509804, 0.2       ,\n",
       "       0.19607843, 0.55686275, 0.        , 0.36078431, 0.98039216,\n",
       "       1.        , 1.        , 1.        , 1.        , 1.        ,\n",
       "       0.98039216, 1.        , 1.        , 0.99215686, 0.98039216,\n",
       "       0.60392157, 0.        , 0.30588235, 0.98039216, 1.        ,\n",
       "       0.96078431, 1.        , 0.97254902, 1.        , 1.        ,\n",
       "       1.        , 1.        , 0.61176471, 0.        , 0.96470588,\n",
       "       0.36078431, 0.16078431, 0.95686275, 1.        , 1.        ,\n",
       "       1.        , 1.        , 0.99215686, 0.98823529, 1.        ,\n",
       "       1.        , 1.        , 0.99215686, 0.36470588, 0.03921569,\n",
       "       0.82352941, 1.        , 0.99215686, 0.95686275, 1.        ,\n",
       "       0.98823529, 0.97647059, 0.99607843, 0.94117647, 0.98039216,\n",
       "       0.84705882, 0.18431373, 1.        , 0.57254902, 0.04705882,\n",
       "       0.65882353, 1.        , 1.        , 1.        , 1.        ,\n",
       "       0.98431373, 1.        , 1.        , 0.9372549 , 1.        ,\n",
       "       0.99607843, 0.14117647, 0.        , 1.        , 0.94117647,\n",
       "       1.        , 1.        , 0.99215686, 1.        , 0.98431373,\n",
       "       0.98823529, 1.        , 0.98039216, 0.98823529, 0.44313725,\n",
       "       0.72941176, 0.74117647, 0.        , 0.35686275, 1.        ,\n",
       "       1.        , 1.        , 1.        , 0.98823529, 1.        ,\n",
       "       0.96078431, 1.        , 0.94509804, 0.96078431, 0.13333333,\n",
       "       0.00784314, 0.96078431, 1.        , 0.92941176, 0.98431373,\n",
       "       1.        , 0.94901961, 1.        , 1.        , 1.        ,\n",
       "       1.        , 0.96862745, 0.92941176, 0.8745098 , 0.92156863,\n",
       "       0.        , 0.44313725, 1.        , 1.        , 1.        ,\n",
       "       1.        , 0.97254902, 1.        , 0.96470588, 1.        ,\n",
       "       1.        , 1.        , 0.17647059, 0.        , 0.99607843,\n",
       "       0.98823529, 0.97254902, 1.        , 0.90588235, 1.        ,\n",
       "       0.98431373, 0.9372549 , 1.        , 0.95686275, 1.        ,\n",
       "       0.95686275, 1.        , 0.6745098 , 0.03921569, 0.44313725,\n",
       "       1.        , 1.        , 1.        , 1.        , 0.99215686,\n",
       "       1.        , 1.        , 0.96862745, 0.99215686, 0.97254902,\n",
       "       0.23921569, 0.        , 0.99215686, 0.91764706, 1.        ,\n",
       "       0.98431373, 1.        , 0.96470588, 1.        , 1.        ,\n",
       "       0.96470588, 1.        , 1.        , 1.        , 1.        ,\n",
       "       0.58039216, 0.        , 0.53333333, 1.        , 1.        ,\n",
       "       1.        , 1.        , 0.99607843, 1.        , 1.        ,\n",
       "       0.98823529, 1.        , 0.99607843, 0.54509804, 0.04705882,\n",
       "       0.74117647, 1.        , 0.96078431, 0.96078431, 1.        ,\n",
       "       0.99215686, 0.97647059, 1.        , 1.        , 1.        ,\n",
       "       0.94117647, 0.98823529, 0.99215686, 0.58039216, 0.        ,\n",
       "       0.73333333, 1.        , 1.        , 1.        , 1.        ,\n",
       "       1.        , 0.99215686, 0.97647059, 1.        , 1.        ,\n",
       "       1.        , 0.78823529, 0.        , 0.11764706, 0.82352941,\n",
       "       1.        , 1.        , 0.98431373, 0.98431373, 0.98431373,\n",
       "       1.        , 0.96078431, 0.96470588, 1.        , 1.        ,\n",
       "       0.81960784, 0.18431373, 0.17254902, 0.9372549 , 1.        ,\n",
       "       1.        , 1.        , 1.        , 1.        , 1.        ,\n",
       "       0.96862745, 1.        , 0.97647059, 0.97254902, 0.94901961,\n",
       "       0.28627451, 0.        , 0.24705882, 0.83529412, 0.99215686,\n",
       "       1.        , 1.        , 0.96078431, 1.        , 1.        ,\n",
       "       1.        , 0.93333333, 0.79607843, 0.18823529, 0.        ,\n",
       "       0.57254902, 1.        , 1.        , 1.        , 1.        ,\n",
       "       1.        , 0.96470588, 0.99607843, 1.        , 1.        ,\n",
       "       0.99607843, 1.        , 1.        , 0.91372549, 0.2627451 ,\n",
       "       0.        , 0.        , 0.56470588, 0.71764706, 1.        ,\n",
       "       0.76470588, 0.84313725, 0.89411765, 0.75686275, 0.38823529,\n",
       "       0.19607843, 0.02352941, 0.41960784, 0.96078431, 1.        ,\n",
       "       1.        , 1.        , 1.        , 1.        , 0.99607843,\n",
       "       1.        , 1.        , 0.98431373, 1.        , 0.99215686,\n",
       "       0.93333333, 1.        , 0.94509804, 0.57647059, 0.02745098,\n",
       "       0.02352941, 0.01568627, 0.09019608, 0.        , 0.07058824,\n",
       "       0.12156863, 0.        , 0.16078431, 0.09019608, 0.6745098 ,\n",
       "       0.96078431, 1.        , 0.99215686, 1.        , 1.        ,\n",
       "       1.        , 1.        , 1.        , 1.        , 1.        ,\n",
       "       1.        , 1.        , 1.        , 1.        , 1.        ,\n",
       "       0.97254902, 1.        , 0.80392157, 0.52941176, 0.20392157,\n",
       "       0.0627451 , 0.26666667, 0.42745098, 0.39607843, 0.62745098,\n",
       "       0.88627451, 1.        , 1.        , 0.99215686, 1.        ,\n",
       "       1.        , 1.        , 1.        , 1.        , 1.        ,\n",
       "       1.        , 1.        , 1.        , 1.        , 1.        ,\n",
       "       1.        , 1.        , 1.        , 1.        , 1.        ,\n",
       "       0.99607843, 1.        , 0.99215686, 0.96470588, 1.        ,\n",
       "       1.        , 0.97647059, 1.        , 1.        , 1.        ,\n",
       "       0.99607843, 0.99607843, 0.99607843, 0.99215686, 1.        ,\n",
       "       1.        , 1.        , 1.        , 1.        , 1.        ,\n",
       "       1.        , 1.        , 1.        , 1.        , 1.        ,\n",
       "       1.        , 0.9372549 , 0.96470588, 0.95294118, 1.        ,\n",
       "       1.        , 1.        , 1.        , 0.97254902, 1.        ,\n",
       "       1.        , 0.98431373, 0.96470588, 0.98823529, 1.        ,\n",
       "       1.        , 1.        , 1.        , 1.        , 1.        ,\n",
       "       1.        , 1.        , 1.        , 1.        , 1.        ,\n",
       "       1.        , 1.        , 1.        , 1.        , 1.        ,\n",
       "       1.        , 1.        , 1.        , 0.97647059, 0.96078431,\n",
       "       0.99607843, 1.        , 0.96078431, 0.98431373, 1.        ,\n",
       "       1.        , 1.        , 1.        , 0.99607843, 0.98431373,\n",
       "       1.        , 1.        , 1.        , 1.        ])"
      ]
     },
     "execution_count": 44,
     "metadata": {},
     "output_type": "execute_result"
    }
   ],
   "source": [
    "trainX=trainX.reshape(trainX.shape[0],-1)\n",
    "trainValX=trainValX.reshape(trainValX.shape[0],-1)\n",
    "testX=testX.reshape(testX.shape[0],-1)\n",
    "testX[0]"
   ]
  },
  {
   "cell_type": "code",
   "execution_count": 45,
   "metadata": {},
   "outputs": [
    {
     "name": "stdout",
     "output_type": "stream",
     "text": [
      "train:\t (2400, 784) (2400,)\n",
      "trainVal: (300, 784) (300,)\n",
      "test:\t (300, 784) (300,)\n"
     ]
    }
   ],
   "source": [
    "print('train:\\t',trainX.shape,trainY.shape)\n",
    "print('trainVal:',trainValX.shape,trainValY.shape)\n",
    "print('test:\\t',testX.shape,testY.shape)"
   ]
  },
  {
   "cell_type": "markdown",
   "metadata": {},
   "source": [
    "* 8 bytes = 64 bits = FP64 (小數點前16位有效)\n",
    "* 4 bytes = 32 bits = FP32 (小數點前8位有效)\n",
    "* 2 bytes = 16 bits = FP16 (小數點前4位有效)"
   ]
  },
  {
   "cell_type": "markdown",
   "metadata": {},
   "source": [
    "[回索引](#索引)"
   ]
  },
  {
   "cell_type": "markdown",
   "metadata": {},
   "source": [
    "### 2.e. 以Softmax回歸建立分類模型"
   ]
  },
  {
   "cell_type": "code",
   "execution_count": 46,
   "metadata": {},
   "outputs": [],
   "source": [
    "from sklearn.linear_model import LogisticRegression\n",
    "lg=LogisticRegression(C=1,multi_class='multinomial',solver='newton-cg')\n",
    "model=lg.fit(trainX,trainY)"
   ]
  },
  {
   "cell_type": "code",
   "execution_count": 47,
   "metadata": {},
   "outputs": [],
   "source": [
    "predY=model.predict(trainValX)"
   ]
  },
  {
   "cell_type": "markdown",
   "metadata": {},
   "source": [
    "將用(trainX,trainY)建立好的模型拿來預測，於(trainValX,trainValY)資料集的準確率"
   ]
  },
  {
   "cell_type": "code",
   "execution_count": 48,
   "metadata": {},
   "outputs": [
    {
     "data": {
      "text/plain": [
       "0.9166666666666666"
      ]
     },
     "execution_count": 48,
     "metadata": {},
     "output_type": "execute_result"
    }
   ],
   "source": [
    "(predY==trainValY).sum()/len(trainValY)"
   ]
  },
  {
   "cell_type": "markdown",
   "metadata": {},
   "source": [
    "以上等同於利用model.score()計算："
   ]
  },
  {
   "cell_type": "code",
   "execution_count": 49,
   "metadata": {},
   "outputs": [
    {
     "data": {
      "text/plain": [
       "0.9166666666666666"
      ]
     },
     "execution_count": 49,
     "metadata": {},
     "output_type": "execute_result"
    }
   ],
   "source": [
    "model.score(trainValX,trainValY)"
   ]
  },
  {
   "cell_type": "markdown",
   "metadata": {},
   "source": [
    "[回索引](#索引)"
   ]
  },
  {
   "cell_type": "markdown",
   "metadata": {},
   "source": [
    "### 2.f. 製作分類結果報告，並畫出混淆矩陣"
   ]
  },
  {
   "cell_type": "code",
   "execution_count": 50,
   "metadata": {},
   "outputs": [],
   "source": [
    "from sklearn.metrics import classification_report,f1_score\n",
    "from sklearn.metrics import confusion_matrix"
   ]
  },
  {
   "cell_type": "code",
   "execution_count": 51,
   "metadata": {},
   "outputs": [
    {
     "data": {
      "text/plain": [
       "{0, 1, 2, 3, 4, 5, 6, 7, 8, 9}"
      ]
     },
     "execution_count": 51,
     "metadata": {},
     "output_type": "execute_result"
    }
   ],
   "source": [
    "set(trainValY)"
   ]
  },
  {
   "cell_type": "code",
   "execution_count": 52,
   "metadata": {},
   "outputs": [
    {
     "name": "stdout",
     "output_type": "stream",
     "text": [
      "             precision    recall  f1-score   support\n",
      "\n",
      "          0       0.96      1.00      0.98        24\n",
      "          1       0.93      1.00      0.96        40\n",
      "          2       0.92      0.88      0.90        26\n",
      "          3       0.86      0.89      0.88        36\n",
      "          4       0.97      0.97      0.97        30\n",
      "          5       0.86      0.90      0.88        21\n",
      "          6       1.00      0.93      0.97        30\n",
      "          7       0.87      0.93      0.90        28\n",
      "          8       0.88      0.83      0.85        35\n",
      "          9       0.93      0.83      0.88        30\n",
      "\n",
      "avg / total       0.92      0.92      0.92       300\n",
      "\n"
     ]
    },
    {
     "data": {
      "text/plain": [
       "<matplotlib.axes._subplots.AxesSubplot at 0x7f19e0061278>"
      ]
     },
     "execution_count": 52,
     "metadata": {},
     "output_type": "execute_result"
    },
    {
     "data": {
      "image/png": "[encoded data removed]",
      "text/plain": [
       "<Figure size 720x720 with 2 Axes>"
      ]
     },
     "metadata": {
      "needs_background": "light"
     },
     "output_type": "display_data"
    }
   ],
   "source": [
    "print( classification_report(trainValY,predY) )\n",
    "\n",
    "mat=confusion_matrix(trainValY,predY)\n",
    "df_cm = pd.DataFrame(mat, index = [i for i in lg.classes_],\n",
    "                  columns = [i for i in lg.classes_])\n",
    "# x軸為預測值，y軸為真實值\n",
    "plt.figure(figsize = (10,10))\n",
    "sns.heatmap(mat, annot=True)"
   ]
  },
  {
   "cell_type": "markdown",
   "metadata": {},
   "source": [
    "[回索引](#索引)"
   ]
  },
  {
   "cell_type": "markdown",
   "metadata": {},
   "source": [
    "### 2.g. 建模: 資料分成train, validation, test三份"
   ]
  },
  {
   "cell_type": "markdown",
   "metadata": {},
   "source": [
    "以下為建模步驟\n",
    "1. 設定好模型參數後，我們將利用train data來訓練模型。\n",
    "\n",
    "2. 之後，我們將訓練好的模型，拿去檢驗validation data，看模型對於validation data是否有良好的預測結果。\n",
    "\n",
    "3. 若否，則我們將調整模型參數，然後重複上述步驟。\n",
    "\n",
    "4. 最終，我們了解到利用哪些參數可以取得最優模型。得到該最優模型後，我們最後以test data來確立該模型是否足夠完善。"
   ]
  },
  {
   "cell_type": "markdown",
   "metadata": {},
   "source": [
    "#### 2.g.I. 以train data來建立模型，並將該模型以validation data 來檢驗，藉此優化模型參數"
   ]
  },
  {
   "cell_type": "code",
   "execution_count": 73,
   "metadata": {},
   "outputs": [],
   "source": [
    "from sklearn.linear_model import LogisticRegression"
   ]
  },
  {
   "cell_type": "code",
   "execution_count": 74,
   "metadata": {},
   "outputs": [
    {
     "data": {
      "text/plain": [
       "LogisticRegression(C=1.0, class_weight=None, dual=False, fit_intercept=True,\n",
       "          intercept_scaling=1, max_iter=100, multi_class='ovr', n_jobs=1,\n",
       "          penalty='l2', random_state=None, solver='liblinear', tol=0.0001,\n",
       "          verbose=0, warm_start=False)"
      ]
     },
     "execution_count": 74,
     "metadata": {},
     "output_type": "execute_result"
    }
   ],
   "source": [
    "LogisticRegression()"
   ]
  },
  {
   "cell_type": "markdown",
   "metadata": {},
   "source": [
    "首先，選擇模型參數。\n",
    "\n",
    "例如，調整$C$ (和penalty的強度成反比), 看$C$多大比較適合？\n",
    "\n",
    "另外，順便測試看看$l1$和$l2$之中，哪個penalty比較好。"
   ]
  },
  {
   "cell_type": "markdown",
   "metadata": {},
   "source": [
    "p.s. \n",
    "\n",
    "L1= Lasso\n",
    "\n",
    "L2= Ridge"
   ]
  },
  {
   "cell_type": "code",
   "execution_count": 75,
   "metadata": {},
   "outputs": [
    {
     "name": "stdout",
     "output_type": "stream",
     "text": [
      "{'C': 0.01, 'penalty': 'l1'}\n",
      "{'C': 0.01, 'penalty': 'l2'}\n",
      "{'C': 0.1, 'penalty': 'l1'}\n",
      "{'C': 0.1, 'penalty': 'l2'}\n",
      "{'C': 1, 'penalty': 'l1'}\n",
      "{'C': 1, 'penalty': 'l2'}\n",
      "{'C': 10, 'penalty': 'l1'}\n",
      "{'C': 10, 'penalty': 'l2'}\n"
     ]
    }
   ],
   "source": [
    "cSpace=[0.01,0.1,1,10]\n",
    "penalties=['l1','l2']\n",
    "\n",
    "res=[]\n",
    "for c in cSpace:\n",
    "    for penalty in penalties:\n",
    "        kwargs={'C':c,'penalty':penalty}\n",
    "        print(kwargs)\n",
    "        lg=LogisticRegression(**kwargs)\n",
    "        lg=lg.fit(trainX,trainY)\n",
    "        predY=lg.predict(trainValX)\n",
    "        f1Score=f1_score(predY,trainValY,average='weighted')\n",
    "        res.append((c,penalty,f1Score,lg))"
   ]
  },
  {
   "cell_type": "markdown",
   "metadata": {},
   "source": [
    "將以各種不同參數訓練出來的模型和其f1值存至一個資料表"
   ]
  },
  {
   "cell_type": "code",
   "execution_count": 76,
   "metadata": {},
   "outputs": [],
   "source": [
    "df=pd.DataFrame(res,columns=['C','penalty','f1','classifier'])"
   ]
  },
  {
   "cell_type": "code",
   "execution_count": 77,
   "metadata": {},
   "outputs": [
    {
     "data": {
      "text/html": [
       "<div>\n",
       "<style scoped>\n",
       "    .dataframe tbody tr th:only-of-type {\n",
       "        vertical-align: middle;\n",
       "    }\n",
       "\n",
       "    .dataframe tbody tr th {\n",
       "        vertical-align: top;\n",
       "    }\n",
       "\n",
       "    .dataframe thead th {\n",
       "        text-align: right;\n",
       "    }\n",
       "</style>\n",
       "<table border=\"1\" class=\"dataframe\">\n",
       "  <thead>\n",
       "    <tr style=\"text-align: right;\">\n",
       "      <th></th>\n",
       "      <th>C</th>\n",
       "      <th>penalty</th>\n",
       "      <th>f1</th>\n",
       "      <th>classifier</th>\n",
       "    </tr>\n",
       "  </thead>\n",
       "  <tbody>\n",
       "    <tr>\n",
       "      <th>0</th>\n",
       "      <td>0.01</td>\n",
       "      <td>l1</td>\n",
       "      <td>0.591395</td>\n",
       "      <td>LogisticRegression(C=0.01, class_weight=None, ...</td>\n",
       "    </tr>\n",
       "    <tr>\n",
       "      <th>1</th>\n",
       "      <td>0.01</td>\n",
       "      <td>l2</td>\n",
       "      <td>0.899845</td>\n",
       "      <td>LogisticRegression(C=0.01, class_weight=None, ...</td>\n",
       "    </tr>\n",
       "    <tr>\n",
       "      <th>2</th>\n",
       "      <td>0.10</td>\n",
       "      <td>l1</td>\n",
       "      <td>0.881347</td>\n",
       "      <td>LogisticRegression(C=0.1, class_weight=None, d...</td>\n",
       "    </tr>\n",
       "    <tr>\n",
       "      <th>3</th>\n",
       "      <td>0.10</td>\n",
       "      <td>l2</td>\n",
       "      <td>0.910623</td>\n",
       "      <td>LogisticRegression(C=0.1, class_weight=None, d...</td>\n",
       "    </tr>\n",
       "    <tr>\n",
       "      <th>4</th>\n",
       "      <td>1.00</td>\n",
       "      <td>l1</td>\n",
       "      <td>0.900534</td>\n",
       "      <td>LogisticRegression(C=1, class_weight=None, dua...</td>\n",
       "    </tr>\n",
       "    <tr>\n",
       "      <th>5</th>\n",
       "      <td>1.00</td>\n",
       "      <td>l2</td>\n",
       "      <td>0.887195</td>\n",
       "      <td>LogisticRegression(C=1, class_weight=None, dua...</td>\n",
       "    </tr>\n",
       "    <tr>\n",
       "      <th>6</th>\n",
       "      <td>10.00</td>\n",
       "      <td>l1</td>\n",
       "      <td>0.846869</td>\n",
       "      <td>LogisticRegression(C=10, class_weight=None, du...</td>\n",
       "    </tr>\n",
       "    <tr>\n",
       "      <th>7</th>\n",
       "      <td>10.00</td>\n",
       "      <td>l2</td>\n",
       "      <td>0.866867</td>\n",
       "      <td>LogisticRegression(C=10, class_weight=None, du...</td>\n",
       "    </tr>\n",
       "  </tbody>\n",
       "</table>\n",
       "</div>"
      ],
      "text/plain": [
       "       C penalty        f1                                         classifier\n",
       "0   0.01      l1  0.591395  LogisticRegression(C=0.01, class_weight=None, ...\n",
       "1   0.01      l2  0.899845  LogisticRegression(C=0.01, class_weight=None, ...\n",
       "2   0.10      l1  0.881347  LogisticRegression(C=0.1, class_weight=None, d...\n",
       "3   0.10      l2  0.910623  LogisticRegression(C=0.1, class_weight=None, d...\n",
       "4   1.00      l1  0.900534  LogisticRegression(C=1, class_weight=None, dua...\n",
       "5   1.00      l2  0.887195  LogisticRegression(C=1, class_weight=None, dua...\n",
       "6  10.00      l1  0.846869  LogisticRegression(C=10, class_weight=None, du...\n",
       "7  10.00      l2  0.866867  LogisticRegression(C=10, class_weight=None, du..."
      ]
     },
     "execution_count": 77,
     "metadata": {},
     "output_type": "execute_result"
    }
   ],
   "source": [
    "df"
   ]
  },
  {
   "cell_type": "markdown",
   "metadata": {},
   "source": [
    "找出平均f1最高的參數設定"
   ]
  },
  {
   "cell_type": "code",
   "execution_count": 58,
   "metadata": {},
   "outputs": [],
   "source": [
    "dfSorted=df.sort_values('f1',ascending=False)"
   ]
  },
  {
   "cell_type": "code",
   "execution_count": 59,
   "metadata": {},
   "outputs": [
    {
     "data": {
      "text/html": [
       "<div>\n",
       "<style scoped>\n",
       "    .dataframe tbody tr th:only-of-type {\n",
       "        vertical-align: middle;\n",
       "    }\n",
       "\n",
       "    .dataframe tbody tr th {\n",
       "        vertical-align: top;\n",
       "    }\n",
       "\n",
       "    .dataframe thead th {\n",
       "        text-align: right;\n",
       "    }\n",
       "</style>\n",
       "<table border=\"1\" class=\"dataframe\">\n",
       "  <thead>\n",
       "    <tr style=\"text-align: right;\">\n",
       "      <th></th>\n",
       "      <th>C</th>\n",
       "      <th>penalty</th>\n",
       "      <th>f1</th>\n",
       "      <th>classifier</th>\n",
       "    </tr>\n",
       "  </thead>\n",
       "  <tbody>\n",
       "    <tr>\n",
       "      <th>3</th>\n",
       "      <td>0.10</td>\n",
       "      <td>l2</td>\n",
       "      <td>0.910623</td>\n",
       "      <td>LogisticRegression(C=0.1, class_weight=None, d...</td>\n",
       "    </tr>\n",
       "    <tr>\n",
       "      <th>4</th>\n",
       "      <td>1.00</td>\n",
       "      <td>l1</td>\n",
       "      <td>0.900666</td>\n",
       "      <td>LogisticRegression(C=1, class_weight=None, dua...</td>\n",
       "    </tr>\n",
       "    <tr>\n",
       "      <th>1</th>\n",
       "      <td>0.01</td>\n",
       "      <td>l2</td>\n",
       "      <td>0.899845</td>\n",
       "      <td>LogisticRegression(C=0.01, class_weight=None, ...</td>\n",
       "    </tr>\n",
       "    <tr>\n",
       "      <th>5</th>\n",
       "      <td>1.00</td>\n",
       "      <td>l2</td>\n",
       "      <td>0.887195</td>\n",
       "      <td>LogisticRegression(C=1, class_weight=None, dua...</td>\n",
       "    </tr>\n",
       "    <tr>\n",
       "      <th>2</th>\n",
       "      <td>0.10</td>\n",
       "      <td>l1</td>\n",
       "      <td>0.884640</td>\n",
       "      <td>LogisticRegression(C=0.1, class_weight=None, d...</td>\n",
       "    </tr>\n",
       "    <tr>\n",
       "      <th>7</th>\n",
       "      <td>10.00</td>\n",
       "      <td>l2</td>\n",
       "      <td>0.866867</td>\n",
       "      <td>LogisticRegression(C=10, class_weight=None, du...</td>\n",
       "    </tr>\n",
       "    <tr>\n",
       "      <th>6</th>\n",
       "      <td>10.00</td>\n",
       "      <td>l1</td>\n",
       "      <td>0.853407</td>\n",
       "      <td>LogisticRegression(C=10, class_weight=None, du...</td>\n",
       "    </tr>\n",
       "    <tr>\n",
       "      <th>0</th>\n",
       "      <td>0.01</td>\n",
       "      <td>l1</td>\n",
       "      <td>0.594962</td>\n",
       "      <td>LogisticRegression(C=0.01, class_weight=None, ...</td>\n",
       "    </tr>\n",
       "  </tbody>\n",
       "</table>\n",
       "</div>"
      ],
      "text/plain": [
       "       C penalty        f1                                         classifier\n",
       "3   0.10      l2  0.910623  LogisticRegression(C=0.1, class_weight=None, d...\n",
       "4   1.00      l1  0.900666  LogisticRegression(C=1, class_weight=None, dua...\n",
       "1   0.01      l2  0.899845  LogisticRegression(C=0.01, class_weight=None, ...\n",
       "5   1.00      l2  0.887195  LogisticRegression(C=1, class_weight=None, dua...\n",
       "2   0.10      l1  0.884640  LogisticRegression(C=0.1, class_weight=None, d...\n",
       "7  10.00      l2  0.866867  LogisticRegression(C=10, class_weight=None, du...\n",
       "6  10.00      l1  0.853407  LogisticRegression(C=10, class_weight=None, du...\n",
       "0   0.01      l1  0.594962  LogisticRegression(C=0.01, class_weight=None, ..."
      ]
     },
     "execution_count": 59,
     "metadata": {},
     "output_type": "execute_result"
    }
   ],
   "source": [
    "dfSorted"
   ]
  },
  {
   "cell_type": "markdown",
   "metadata": {},
   "source": [
    "[回索引](#索引)"
   ]
  },
  {
   "cell_type": "code",
   "execution_count": 60,
   "metadata": {},
   "outputs": [],
   "source": [
    "best_model=dfSorted[\"classifier\"][0]"
   ]
  },
  {
   "cell_type": "code",
   "execution_count": 61,
   "metadata": {},
   "outputs": [
    {
     "data": {
      "text/plain": [
       "(10, 784)"
      ]
     },
     "execution_count": 61,
     "metadata": {},
     "output_type": "execute_result"
    }
   ],
   "source": [
    "best_model.coef_.shape"
   ]
  },
  {
   "cell_type": "raw",
   "metadata": {},
   "source": [
    "10 X 784 -> 10 X 28 X 28 -> 28X 28"
   ]
  },
  {
   "cell_type": "markdown",
   "metadata": {},
   "source": [
    "#### 2.g.II. 將模型內的權重視覺化"
   ]
  },
  {
   "cell_type": "code",
   "execution_count": 62,
   "metadata": {},
   "outputs": [],
   "source": [
    "def digitsWeightVisualizer(c,penalty,f1,classifier,digits):\n",
    "    '''此方法用來視覺化模型內的權重。此方法目前僅適用數字資料集。'''\n",
    "    coefAbs=np.abs(classifier.coef_.reshape(10,28,28)) # 將1維圖像特徵轉回2維\n",
    "    s=sns.cubehelix_palette(light=1, as_cmap=True)     # 建立色票\n",
    "    \n",
    "    fig,axes=plt.subplots(2,2) #建立2X2圖組\n",
    "    fig.set_dpi(100)           #設定該圖組解析度\n",
    "    fig.set_size_inches(4,4)   #設定該圖組大小\n",
    "    fig.suptitle('c= %s, penalty= %s, f1= %.3f'%(c,penalty,f1), y=1.05)\n",
    "    \n",
    "    for idx,j in enumerate(digits):\n",
    "        ax=axes.reshape(-1)[idx]\n",
    "        ax.set_title('digit=%s'%(j))\n",
    "        sns.heatmap(coefAbs[j,:,:],ax=ax,square=True,cmap=s, vmin=0, vmax=1)\n",
    "    plt.tight_layout()"
   ]
  },
  {
   "cell_type": "code",
   "execution_count": 63,
   "metadata": {
    "scrolled": false
   },
   "outputs": [
    {
     "data": {
      "image/png": "[encoded data removed]",
      "text/plain": [
       "<Figure size 400x400 with 8 Axes>"
      ]
     },
     "metadata": {
      "needs_background": "light"
     },
     "output_type": "display_data"
    },
    {
     "data": {
      "image/png": "[encoded data removed]",
      "text/plain": [
       "<Figure size 400x400 with 8 Axes>"
      ]
     },
     "metadata": {
      "needs_background": "light"
     },
     "output_type": "display_data"
    },
    {
     "data": {
      "image/png": "[encoded data removed]",
      "text/plain": [
       "<Figure size 400x400 with 8 Axes>"
      ]
     },
     "metadata": {
      "needs_background": "light"
     },
     "output_type": "display_data"
    },
    {
     "data": {
      "image/png": "[encoded data removed]",
      "text/plain": [
       "<Figure size 400x400 with 8 Axes>"
      ]
     },
     "metadata": {
      "needs_background": "light"
     },
     "output_type": "display_data"
    },
    {
     "data": {
      "image/png": "[encoded data removed]",
      "text/plain": [
       "<Figure size 400x400 with 8 Axes>"
      ]
     },
     "metadata": {
      "needs_background": "light"
     },
     "output_type": "display_data"
    }
   ],
   "source": [
    "for j in range(5):\n",
    "    digitsWeightVisualizer(*dfSorted.iloc[j,:],[1,2,3,4] )"
   ]
  },
  {
   "cell_type": "markdown",
   "metadata": {},
   "source": [
    "由以上我們可看出\n",
    "\n",
    "* l1能導致權重稀疏，將許多權重變成0。\n",
    "* l2強度增加可減小權重大小。\n",
    "\n",
    "以上兩種方式皆可防止overfitting。"
   ]
  },
  {
   "cell_type": "markdown",
   "metadata": {},
   "source": [
    "[回索引](#索引)"
   ]
  },
  {
   "cell_type": "markdown",
   "metadata": {},
   "source": [
    "#### 2.g.III. 以test data來確定建立好的模型是否完善"
   ]
  },
  {
   "cell_type": "markdown",
   "metadata": {},
   "source": [
    "我們已經利用val data調整參數，得到了一個最好的模型。最後，將該模型用於預測test data，看模型是否也能針對test data有好的結果。"
   ]
  },
  {
   "cell_type": "code",
   "execution_count": 64,
   "metadata": {},
   "outputs": [
    {
     "name": "stdout",
     "output_type": "stream",
     "text": [
      "             precision    recall  f1-score   support\n",
      "\n",
      "          0       0.64      0.72      0.68        32\n",
      "          1       0.47      0.93      0.63        29\n",
      "          2       0.71      0.52      0.60        33\n",
      "          3       0.49      0.58      0.53        31\n",
      "          4       0.69      0.62      0.66        32\n",
      "          5       0.56      0.39      0.46        23\n",
      "          6       0.83      0.48      0.61        31\n",
      "          7       0.64      0.54      0.58        39\n",
      "          8       0.50      0.62      0.55        26\n",
      "          9       0.28      0.21      0.24        24\n",
      "\n",
      "avg / total       0.59      0.57      0.56       300\n",
      "\n"
     ]
    }
   ],
   "source": [
    "predY=best_model.predict(testX)\n",
    "print( classification_report(testY,predY) )"
   ]
  },
  {
   "cell_type": "markdown",
   "metadata": {},
   "source": [
    "[回索引](#索引)"
   ]
  },
  {
   "cell_type": "markdown",
   "metadata": {},
   "source": [
    "### 2.h. 另一種更嚴謹的建模方式：k-fold cross validation\n",
    "\n",
    "將train data切五等分(5-fold)，分別以a,b,c,d,e表示。我們將訓練五個模型，每個模型分別取五等分資料中的四份做訓練(train)，剩下一份留做驗證(validation)。每個模型所取得的驗證部分不會重複。\n",
    "\n",
    "|  模型  | 訓練資料 |驗證資料\n",
    "|-------|----------|-----|\n",
    "| 模型1  | a,b,c,d  | e  |\n",
    "| 模型2  | a,b,c,e  | d  |\n",
    "| 模型3  | a,b,d,e  | c  |\n",
    "| 模型4  | a,c,d,e  | b  |\n",
    "| 模型5  | b,c,d,e  | a  |\n",
    "\n",
    "最後，這五個模型每一個都有其對應的驗證資料，我們可利用該資料來檢驗模型好壞，得出五個$f_1$值。將這五個$f_1$算平均($\\bar{f_1}$)以及標準差($\\sigma_{f_1}$)，可推估\n",
    "$\\hat{f_1}=\\bar{f_1}\\pm \\sigma_{f_1}$。"
   ]
  },
  {
   "cell_type": "markdown",
   "metadata": {},
   "source": [
    "[回索引](#索引)"
   ]
  },
  {
   "cell_type": "markdown",
   "metadata": {
    "collapsed": true
   },
   "source": [
    "#### 2.h.I. 以5-fold 交叉驗證來調整模型參數: 使用GridSearchCV"
   ]
  },
  {
   "cell_type": "code",
   "execution_count": 65,
   "metadata": {},
   "outputs": [],
   "source": [
    "from sklearn.model_selection import GridSearchCV, cross_val_score\n",
    "\n",
    "cSpace=[0.01,0.1,1,10]\n",
    "penalties=['l1','l2']\n",
    "kwargs={'C':cSpace,'penalty':penalties}\n",
    "\n",
    "clf = GridSearchCV(cv=5,estimator=LogisticRegression(), param_grid=kwargs,\n",
    "                   n_jobs=-1,scoring='f1_weighted')\n",
    "model=clf.fit(trainX,trainY)\n",
    "# 共建4*2個模型，每個跑五次輸出結果"
   ]
  },
  {
   "cell_type": "markdown",
   "metadata": {},
   "source": [
    "(0.01,\"l1\") -> f1^\n",
    "\n",
    "(跑五次)\n",
    "\n",
    "有八組參數，會得到八個f1^\n",
    "\n",
    "的估計\n",
    "\n",
    "最後，發現最佳模型參數為:'C': 0.1, 'penalty': 'l2'。 利用此模型參數，拿所有的train dataset再去建立一個最終模型。\n",
    "\n",
    "故，實際上我們建了41個模型。"
   ]
  },
  {
   "cell_type": "code",
   "execution_count": 66,
   "metadata": {},
   "outputs": [],
   "source": [
    "fake_data=np.random.normal(0,1,(2,784))"
   ]
  },
  {
   "cell_type": "code",
   "execution_count": 67,
   "metadata": {},
   "outputs": [
    {
     "data": {
      "text/plain": [
       "array([9, 8])"
      ]
     },
     "execution_count": 67,
     "metadata": {},
     "output_type": "execute_result"
    }
   ],
   "source": [
    "model.best_estimator_.predict(fake_data)"
   ]
  },
  {
   "cell_type": "code",
   "execution_count": 68,
   "metadata": {},
   "outputs": [
    {
     "data": {
      "text/plain": [
       "array([9, 8])"
      ]
     },
     "execution_count": 68,
     "metadata": {},
     "output_type": "execute_result"
    }
   ],
   "source": [
    "model.predict(fake_data) # 這一行和上面那一行是一樣的!"
   ]
  },
  {
   "cell_type": "markdown",
   "metadata": {},
   "source": [
    "Q: ```model.predict```做了什麼事情? A: 見API: [按我打開連結](http://scikit-learn.org/stable/modules/generated/sklearn.model_selection.GridSearchCV.html#sklearn.model_selection.GridSearchCV.predict)"
   ]
  },
  {
   "cell_type": "markdown",
   "metadata": {},
   "source": [
    "[回索引](#索引)"
   ]
  },
  {
   "cell_type": "markdown",
   "metadata": {},
   "source": [
    "#### 2.h.II. 看哪種參數組合有最高的f1 score"
   ]
  },
  {
   "cell_type": "code",
   "execution_count": 69,
   "metadata": {},
   "outputs": [
    {
     "data": {
      "text/plain": [
       "LogisticRegression(C=0.1, class_weight=None, dual=False, fit_intercept=True,\n",
       "          intercept_scaling=1, max_iter=100, multi_class='ovr', n_jobs=1,\n",
       "          penalty='l2', random_state=None, solver='liblinear', tol=0.0001,\n",
       "          verbose=0, warm_start=False)"
      ]
     },
     "execution_count": 69,
     "metadata": {},
     "output_type": "execute_result"
    }
   ],
   "source": [
    "model.best_estimator_"
   ]
  },
  {
   "cell_type": "code",
   "execution_count": 70,
   "metadata": {},
   "outputs": [
    {
     "data": {
      "image/png": "[encoded data removed]",
      "text/plain": [
       "<Figure size 1000x400 with 1 Axes>"
      ]
     },
     "metadata": {
      "needs_background": "light"
     },
     "output_type": "display_data"
    }
   ],
   "source": [
    "scoreMean=model.cv_results_['mean_test_score'] # 取得mean(f1)\n",
    "scoreStd=model.cv_results_['std_test_score']   # 取得std(f1)\n",
    "\n",
    "params=model.cv_results_['params']\n",
    "\n",
    "#產生x座標軸上各ticks的標籤\n",
    "xTickLabels=['('+str(param['penalty'])+','+str(param['C']) +')' for param in params]\n",
    "\n",
    "fig,ax=plt.subplots(figsize=(10,4),dpi=100)\n",
    "\n",
    "#將各f1畫成長條圖\n",
    "ax.bar(np.arange(8), scoreMean, yerr=scoreStd)\n",
    "ax.set_xticks(np.arange(8))\n",
    "ax.set_xticklabels(xTickLabels)\n",
    "ax.set_ylabel('f1 score')\n",
    "ax.set_xlabel('parameter set, i.e. (penalty, C)')\n",
    "plt.show()"
   ]
  },
  {
   "cell_type": "markdown",
   "metadata": {},
   "source": [
    "模型最佳參數為何？"
   ]
  },
  {
   "cell_type": "code",
   "execution_count": 71,
   "metadata": {},
   "outputs": [
    {
     "data": {
      "text/plain": [
       "{'C': 0.1, 'penalty': 'l2'}"
      ]
     },
     "execution_count": 71,
     "metadata": {},
     "output_type": "execute_result"
    }
   ],
   "source": [
    "model.best_params_"
   ]
  },
  {
   "cell_type": "markdown",
   "metadata": {},
   "source": [
    "[回索引](#索引)"
   ]
  },
  {
   "cell_type": "markdown",
   "metadata": {},
   "source": [
    "#### 2.h.III. 最後，拿最好的模型，去看該模型是否亦適用於test data。"
   ]
  },
  {
   "cell_type": "code",
   "execution_count": 72,
   "metadata": {},
   "outputs": [
    {
     "name": "stdout",
     "output_type": "stream",
     "text": [
      "             precision    recall  f1-score   support\n",
      "\n",
      "          0       0.89      1.00      0.94        32\n",
      "          1       0.83      1.00      0.91        29\n",
      "          2       0.97      0.85      0.90        33\n",
      "          3       0.90      0.84      0.87        31\n",
      "          4       0.87      0.84      0.86        32\n",
      "          5       0.77      0.74      0.76        23\n",
      "          6       0.89      0.81      0.85        31\n",
      "          7       0.95      0.97      0.96        39\n",
      "          8       0.81      0.85      0.83        26\n",
      "          9       0.78      0.75      0.77        24\n",
      "\n",
      "avg / total       0.87      0.87      0.87       300\n",
      "\n"
     ]
    }
   ],
   "source": [
    "predY=model.best_estimator_.predict(testX)\n",
    "print( classification_report(testY,predY) )"
   ]
  },
  {
   "cell_type": "markdown",
   "metadata": {},
   "source": [
    "[回索引](#索引)"
   ]
  }
 ],
 "metadata": {
  "kernelspec": {
   "display_name": "Python 3",
   "language": "python",
   "name": "python3"
  },
  "language_info": {
   "codemirror_mode": {
    "name": "ipython",
    "version": 3
   },
   "file_extension": ".py",
   "mimetype": "text/x-python",
   "name": "python",
   "nbconvert_exporter": "python",
   "pygments_lexer": "ipython3",
   "version": "3.6.3"
  }
 },
 "nbformat": 4,
 "nbformat_minor": 2
}
