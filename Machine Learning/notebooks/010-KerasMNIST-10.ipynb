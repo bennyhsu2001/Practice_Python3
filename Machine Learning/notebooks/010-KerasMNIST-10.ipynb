{
 "cells": [
  {
   "cell_type": "markdown",
   "metadata": {},
   "source": [
    "# 本筆記將帶大家用Keras建模\n",
    "# 此範例使用MNIST手寫數字資料集"
   ]
  },
  {
   "cell_type": "markdown",
   "metadata": {},
   "source": [
    "---\n",
    "\n",
    "# 索引\n",
    "\n",
    "[1. 資料準備](#I.-資料準備)\n",
    "  * [1.a. 載入圖片](#1.a.-載入圖片)\n",
    "  * [1.b. 利用Pandas可迅速了解每個資料夾裡面有幾張圖片](#1.b.-利用Pandas可迅速了解每個資料夾裡面有幾張圖片)\n",
    "  * [1.c. 將圖片路徑資料切割成三份：取其80%做為train-data。 之後，剩下的20%中的10%做validation data，10%做test data](#1.c.-將圖片路徑資料切割成三份：取其80%做為train-data。-之後，剩下的20%中的10%做validation-data，10%做test-data)\n",
    "  * [1.d. 將圖片載入，存成數值矩陣](#1.d.-將圖片載入，存成數值矩陣)\n",
    "  \n",
    "\n",
    "[2. Softmax Regression](#2.-Softmax-Regression)\n",
    "\n",
    "  * [2.a. 將y 轉成one hot形式](#2.a.-將y-轉成one-hot形式)\n",
    "  * [2.b. 開始建立模型](#2.b.-開始建立模型)\n",
    "  * [2.c. 開始訓練模型](#2.c.-開始訓練模型)\n",
    "  * [2.d. 檢視訓練好的模型用於test data有多少準確率](#2.d.-檢視訓練好的模型用於test-data有多少準確率)\n",
    "  * [2.e. 檢視50筆測試資料的預測結果，以稍為了解預測是否還算ok](#2.e.-檢視50筆測試資料的預測結果，以稍為了解預測是否還算ok)\n",
    "  * [2.f. 畫出模型訓練過程](#2.f.-畫出模型訓練過程)\n",
    "  * [2.g. 儲存模型和權重](#2.g.-儲存模型和權重)\n",
    "  * [2.h. 載入存好的模型和權重](#2.h.-載入存好的模型和權重)\n",
    "  * [2.i. 輸出分類報告](#2.i.-輸出分類報告)\n",
    "  \n",
    "[3. AlexNet-like Network](#3.-AlexNet-like-Network)\n",
    "\n",
    "  * [3.a. 建立模型](#3.a.-建立模型)\n",
    "  * [3.b. 訓練模型](#3.b.-訓練模型)\n",
    "  * [3.c. 檢視模型訓練結果](#3.c.-檢視模型訓練結果)\n",
    "  * [3.d. 檢視模型準確率](#3.d.-檢視模型準確率)\n",
    "  * [3.e. 檢視分類報告](#3.e.-檢視分類報告)\n",
    "  \n",
    "---"
   ]
  },
  {
   "cell_type": "code",
   "execution_count": 1,
   "metadata": {},
   "outputs": [
    {
     "name": "stderr",
     "output_type": "stream",
     "text": [
      "Using TensorFlow backend.\n"
     ]
    }
   ],
   "source": [
    "# =========================================================================\n",
    "# 由於課堂上可能有多人共用同一顆GPU，以下限定使用者只能用計算卡上45%的記憶體。\n",
    "import tensorflow as tf\n",
    "from keras.backend.tensorflow_backend import set_session\n",
    "config = tf.ConfigProto()\n",
    "config.gpu_options.per_process_gpu_memory_fraction = 0.85 # 使用45%記憶體\n",
    "set_session(tf.Session(config=config))\n",
    "# ========================================================================="
   ]
  },
  {
   "cell_type": "code",
   "execution_count": 2,
   "metadata": {},
   "outputs": [],
   "source": [
    "import numpy as np\n",
    "import matplotlib.pyplot as plt\n",
    "%matplotlib inline\n",
    "import seaborn as sns\n",
    "sns.set()\n",
    "import pandas as pd\n",
    "import sklearn\n",
    "import os\n",
    "\n",
    "import keras"
   ]
  },
  {
   "cell_type": "markdown",
   "metadata": {},
   "source": [
    "---"
   ]
  },
  {
   "cell_type": "markdown",
   "metadata": {},
   "source": [
    "### 1. 資料準備"
   ]
  },
  {
   "cell_type": "markdown",
   "metadata": {},
   "source": [
    "#### 1.a. 載入圖片"
   ]
  },
  {
   "cell_type": "code",
   "execution_count": 3,
   "metadata": {},
   "outputs": [],
   "source": [
    "def filePathsGen(rootPath):\n",
    "    '''此函數將rootPath資料夾目錄中的所有圖片路徑資訊儲存至一個清單內。'''\n",
    "    paths=[]\n",
    "    dirs=[]\n",
    "    for dirPath,dirNames,fileNames in os.walk(rootPath):\n",
    "        for fileName in fileNames:\n",
    "            fullPath=os.path.join(dirPath,fileName)\n",
    "            paths.append((int(dirPath[len(rootPath) ]),fullPath))\n",
    "        dirs.append(dirNames)\n",
    "    return dirs,paths"
   ]
  },
  {
   "cell_type": "code",
   "execution_count": 4,
   "metadata": {},
   "outputs": [
    {
     "name": "stdout",
     "output_type": "stream",
     "text": [
      "0  1  2  3  4  5  6  7\t8  9\r\n"
     ]
    }
   ],
   "source": [
    "!ls ../datasets/mnist"
   ]
  },
  {
   "cell_type": "code",
   "execution_count": 5,
   "metadata": {},
   "outputs": [
    {
     "data": {
      "text/html": [
       "<div>\n",
       "<style scoped>\n",
       "    .dataframe tbody tr th:only-of-type {\n",
       "        vertical-align: middle;\n",
       "    }\n",
       "\n",
       "    .dataframe tbody tr th {\n",
       "        vertical-align: top;\n",
       "    }\n",
       "\n",
       "    .dataframe thead th {\n",
       "        text-align: right;\n",
       "    }\n",
       "</style>\n",
       "<table border=\"1\" class=\"dataframe\">\n",
       "  <thead>\n",
       "    <tr style=\"text-align: right;\">\n",
       "      <th></th>\n",
       "      <th>class</th>\n",
       "      <th>path</th>\n",
       "    </tr>\n",
       "  </thead>\n",
       "  <tbody>\n",
       "    <tr>\n",
       "      <th>0</th>\n",
       "      <td>8</td>\n",
       "      <td>../datasets/mnist/8/58498.jpg</td>\n",
       "    </tr>\n",
       "    <tr>\n",
       "      <th>1</th>\n",
       "      <td>8</td>\n",
       "      <td>../datasets/mnist/8/11383.jpg</td>\n",
       "    </tr>\n",
       "    <tr>\n",
       "      <th>2</th>\n",
       "      <td>8</td>\n",
       "      <td>../datasets/mnist/8/24646.jpg</td>\n",
       "    </tr>\n",
       "  </tbody>\n",
       "</table>\n",
       "</div>"
      ],
      "text/plain": [
       "   class                           path\n",
       "0      8  ../datasets/mnist/8/58498.jpg\n",
       "1      8  ../datasets/mnist/8/11383.jpg\n",
       "2      8  ../datasets/mnist/8/24646.jpg"
      ]
     },
     "execution_count": 5,
     "metadata": {},
     "output_type": "execute_result"
    }
   ],
   "source": [
    "dirs,paths=filePathsGen('../datasets/mnist/') #載入圖片路徑\n",
    "\n",
    "dfPath=pd.DataFrame(paths,columns=['class','path']) #圖片路徑存成Pandas資料表\n",
    "dfPath.head(3) # 看資料表前3個row"
   ]
  },
  {
   "cell_type": "markdown",
   "metadata": {},
   "source": [
    "[回索引](#索引)"
   ]
  },
  {
   "cell_type": "markdown",
   "metadata": {
    "collapsed": true
   },
   "source": [
    "#### 1.b. 利用Pandas可迅速了解每個資料夾裡面有幾張圖片"
   ]
  },
  {
   "cell_type": "code",
   "execution_count": 6,
   "metadata": {},
   "outputs": [
    {
     "data": {
      "text/plain": [
       "<matplotlib.axes._subplots.AxesSubplot at 0x7f4878a44278>"
      ]
     },
     "execution_count": 6,
     "metadata": {},
     "output_type": "execute_result"
    },
    {
     "data": {
      "image/png": "[encoded data removed]",
      "text/plain": [
       "<Figure size 432x288 with 1 Axes>"
      ]
     },
     "metadata": {
      "needs_background": "light"
     },
     "output_type": "display_data"
    }
   ],
   "source": [
    "#依照class分群後，數各群的數量，並繪圖\n",
    "dfCountPerClass=dfPath.groupby('class').count()\n",
    "dfCountPerClass.rename(columns={'path':'amount of figures'},inplace=True)\n",
    "dfCountPerClass.plot(kind='bar',rot=0)"
   ]
  },
  {
   "cell_type": "markdown",
   "metadata": {},
   "source": [
    "[回索引](#索引)"
   ]
  },
  {
   "cell_type": "markdown",
   "metadata": {},
   "source": [
    "####  1.c. 將圖片路徑資料切割成三份：取其80%做為train data。 之後，剩下的20%中取一半做validation data，另一半做test data"
   ]
  },
  {
   "cell_type": "code",
   "execution_count": 7,
   "metadata": {},
   "outputs": [
    {
     "name": "stdout",
     "output_type": "stream",
     "text": [
      "shape(all figures)=\t\t (60000, 2)\n",
      "shape(fraction of figures)=\t (60000, 2)\n",
      "shape(train)=\t\t\t (48000, 2)\n",
      "shape(trainVal)=\t\t (6000, 2)\n",
      "shape(test)=\t\t\t (6000, 2)\n"
     ]
    },
    {
     "data": {
      "image/png": "[encoded data removed]",
      "text/plain": [
       "<Figure size 432x288 with 1 Axes>"
      ]
     },
     "metadata": {
      "needs_background": "light"
     },
     "output_type": "display_data"
    },
    {
     "data": {
      "image/png": "[encoded data removed]",
      "text/plain": [
       "<Figure size 432x288 with 1 Axes>"
      ]
     },
     "metadata": {
      "needs_background": "light"
     },
     "output_type": "display_data"
    },
    {
     "data": {
      "image/png": "[encoded data removed]",
      "text/plain": [
       "<Figure size 432x288 with 1 Axes>"
      ]
     },
     "metadata": {
      "needs_background": "light"
     },
     "output_type": "display_data"
    }
   ],
   "source": [
    "dfFrac=dfPath.sample(frac=1) # 打亂一下path data\n",
    "    \n",
    "train=dfFrac.sample(frac=0.8) # 將path data隨機取樣，80%的path data當train\n",
    "test=dfFrac.drop(train.index) # 20%的path data當test\n",
    "\n",
    "trainVal=test.sample(frac=0.5)\n",
    "test=test.drop(trainVal.index)\n",
    "\n",
    "print('shape(all figures)=\\t\\t',dfPath.shape)\n",
    "print('shape(fraction of figures)=\\t',dfFrac.shape)\n",
    "print('shape(train)=\\t\\t\\t',train.shape)\n",
    "print('shape(trainVal)=\\t\\t',trainVal.shape)\n",
    "print('shape(test)=\\t\\t\\t',test.shape)\n",
    "\n",
    "#隨便抓三張圖來看\n",
    "for j in range(3):\n",
    "    img=plt.imread(train['path'].iloc[j])\n",
    "    plt.imshow(img,cmap=\"gray\")\n",
    "    plt.show()"
   ]
  },
  {
   "cell_type": "markdown",
   "metadata": {},
   "source": [
    "[回索引](#索引)"
   ]
  },
  {
   "cell_type": "markdown",
   "metadata": {
    "collapsed": true
   },
   "source": [
    "####  1.d. 將圖片載入，存成數值矩陣"
   ]
  },
  {
   "cell_type": "code",
   "execution_count": 8,
   "metadata": {},
   "outputs": [],
   "source": [
    "def dataLoad(dfPath):\n",
    "    paths=dfPath['path'].values\n",
    "    x=np.zeros((len(paths),28,28),dtype=np.float32 )\n",
    "    for j in range(len(paths)):\n",
    "        x[j,:,:]=plt.imread(paths[j])/255\n",
    "\n",
    "    y=dfPath['class'].values\n",
    "    return x,y"
   ]
  },
  {
   "cell_type": "code",
   "execution_count": 9,
   "metadata": {},
   "outputs": [],
   "source": [
    "trainX,trainY=dataLoad(train)\n",
    "trainValX,trainValY=dataLoad(trainVal)\n",
    "testX,testY=dataLoad(test)"
   ]
  },
  {
   "cell_type": "code",
   "execution_count": 10,
   "metadata": {},
   "outputs": [
    {
     "name": "stdout",
     "output_type": "stream",
     "text": [
      "train:\t (48000, 28, 28) (48000,)\n",
      "trainVal: (6000, 28, 28) (6000,)\n",
      "test:\t (6000, 28, 28) (6000,)\n"
     ]
    }
   ],
   "source": [
    "print('train:\\t',trainX.shape,trainY.shape)\n",
    "print('trainVal:',trainValX.shape,trainValY.shape)\n",
    "print('test:\\t',testX.shape,testY.shape)"
   ]
  },
  {
   "cell_type": "markdown",
   "metadata": {},
   "source": [
    "[回索引](#索引)"
   ]
  },
  {
   "cell_type": "markdown",
   "metadata": {},
   "source": [
    "## 2. Softmax Regression"
   ]
  },
  {
   "cell_type": "code",
   "execution_count": 11,
   "metadata": {},
   "outputs": [],
   "source": [
    "from keras.models import Sequential\n",
    "from keras.layers import Dense,Flatten\n",
    "from keras.optimizers import SGD"
   ]
  },
  {
   "cell_type": "markdown",
   "metadata": {},
   "source": [
    "#### 2.a. 將y 轉成one hot形式"
   ]
  },
  {
   "cell_type": "code",
   "execution_count": 12,
   "metadata": {},
   "outputs": [],
   "source": [
    "from sklearn.preprocessing import OneHotEncoder\n",
    "enc = OneHotEncoder()\n",
    "trainYOneHot=enc.fit_transform(trainY.reshape(-1,1)) \\\n",
    "                .toarray()\n",
    "\n",
    "trainValYOneHot=enc.fit_transform(trainValY.reshape(-1,1)) \\\n",
    "                   .toarray()\n",
    "\n",
    "testYOneHot=enc.fit_transform(testY.reshape(-1,1)) \\\n",
    "               .toarray()"
   ]
  },
  {
   "cell_type": "code",
   "execution_count": 13,
   "metadata": {},
   "outputs": [
    {
     "name": "stdout",
     "output_type": "stream",
     "text": [
      "train:\t (48000, 28, 28) (48000,)\n",
      "trainVal: (6000, 28, 28) (6000,)\n",
      "test:\t (6000, 28, 28) (6000,)\n"
     ]
    }
   ],
   "source": [
    "print('train:\\t',trainX.shape,trainY.shape)\n",
    "print('trainVal:',trainValX.shape,trainValY.shape)\n",
    "print('test:\\t',testX.shape,testY.shape)"
   ]
  },
  {
   "cell_type": "code",
   "execution_count": 14,
   "metadata": {},
   "outputs": [
    {
     "data": {
      "text/plain": [
       "(6000, 10)"
      ]
     },
     "execution_count": 14,
     "metadata": {},
     "output_type": "execute_result"
    }
   ],
   "source": [
    "testYOneHot.shape"
   ]
  },
  {
   "cell_type": "code",
   "execution_count": 15,
   "metadata": {},
   "outputs": [
    {
     "data": {
      "text/plain": [
       "array([[0., 0., 0., ..., 0., 0., 0.],\n",
       "       [0., 0., 0., ..., 0., 0., 0.],\n",
       "       [0., 0., 0., ..., 0., 0., 0.],\n",
       "       ...,\n",
       "       [1., 0., 0., ..., 0., 0., 0.],\n",
       "       [1., 0., 0., ..., 0., 0., 0.],\n",
       "       [1., 0., 0., ..., 0., 0., 0.]])"
      ]
     },
     "execution_count": 15,
     "metadata": {},
     "output_type": "execute_result"
    }
   ],
   "source": [
    "testYOneHot"
   ]
  },
  {
   "cell_type": "markdown",
   "metadata": {},
   "source": [
    "[回索引](#索引)"
   ]
  },
  {
   "cell_type": "markdown",
   "metadata": {},
   "source": [
    "#### 2.b. 開始建立模型"
   ]
  },
  {
   "cell_type": "code",
   "execution_count": 16,
   "metadata": {},
   "outputs": [],
   "source": [
    "from keras.layers import Flatten"
   ]
  },
  {
   "cell_type": "code",
   "execution_count": 17,
   "metadata": {},
   "outputs": [
    {
     "data": {
      "text/plain": [
       "(48000, 28, 28)"
      ]
     },
     "execution_count": 17,
     "metadata": {},
     "output_type": "execute_result"
    }
   ],
   "source": [
    "trainX.shape"
   ]
  },
  {
   "cell_type": "code",
   "execution_count": 18,
   "metadata": {},
   "outputs": [],
   "source": [
    "model = Sequential()\n",
    "model.add(Flatten(input_shape=(28,28)))"
   ]
  },
  {
   "cell_type": "code",
   "execution_count": 19,
   "metadata": {},
   "outputs": [
    {
     "data": {
      "text/plain": [
       "(48000, 784)"
      ]
     },
     "execution_count": 19,
     "metadata": {},
     "output_type": "execute_result"
    }
   ],
   "source": [
    "( model.predict(trainX) ).shape"
   ]
  },
  {
   "cell_type": "code",
   "execution_count": 20,
   "metadata": {},
   "outputs": [],
   "source": [
    "model = Sequential()\n",
    "model.add(Flatten(input_shape=(28,28)))    # 此層將28X28的資料攤成1維\n",
    "model.add(Dense(10, activation='softmax') )# 此層將以十個神經元輸出十種數字的個別機率\n",
    "\n",
    "sgd=SGD(lr=0.05) \n",
    "model.compile(optimizer= sgd,             # 告知模型訓練方式 \n",
    "      loss='categorical_crossentropy',\n",
    "      metrics=['accuracy'])"
   ]
  },
  {
   "cell_type": "code",
   "execution_count": 21,
   "metadata": {},
   "outputs": [
    {
     "name": "stdout",
     "output_type": "stream",
     "text": [
      "_________________________________________________________________\n",
      "Layer (type)                 Output Shape              Param #   \n",
      "=================================================================\n",
      "flatten_2 (Flatten)          (None, 784)               0         \n",
      "_________________________________________________________________\n",
      "dense_1 (Dense)              (None, 10)                7850      \n",
      "=================================================================\n",
      "Total params: 7,850\n",
      "Trainable params: 7,850\n",
      "Non-trainable params: 0\n",
      "_________________________________________________________________\n"
     ]
    }
   ],
   "source": [
    "# 檢視一下所訓練的模型\n",
    "model.summary()"
   ]
  },
  {
   "cell_type": "markdown",
   "metadata": {},
   "source": [
    "[回索引](#索引)"
   ]
  },
  {
   "cell_type": "markdown",
   "metadata": {},
   "source": [
    "#### 2.c. 開始訓練模型"
   ]
  },
  {
   "cell_type": "code",
   "execution_count": 22,
   "metadata": {
    "scrolled": false
   },
   "outputs": [
    {
     "name": "stdout",
     "output_type": "stream",
     "text": [
      "Train on 48000 samples, validate on 6000 samples\n",
      "Epoch 1/20\n",
      "48000/48000 [==============================] - 2s 34us/step - loss: 2.6326 - acc: 0.6290 - val_loss: 2.1721 - val_acc: 0.7498\n",
      "Epoch 2/20\n",
      "48000/48000 [==============================] - 1s 28us/step - loss: 2.0902 - acc: 0.7777 - val_loss: 2.0479 - val_acc: 0.7847\n",
      "Epoch 3/20\n",
      "48000/48000 [==============================] - 1s 29us/step - loss: 2.0370 - acc: 0.7929 - val_loss: 2.0419 - val_acc: 0.7798\n",
      "Epoch 4/20\n",
      "48000/48000 [==============================] - 1s 29us/step - loss: 2.0129 - acc: 0.7991 - val_loss: 1.9928 - val_acc: 0.8020\n",
      "Epoch 5/20\n",
      "48000/48000 [==============================] - 1s 28us/step - loss: 1.9954 - acc: 0.8053 - val_loss: 1.9830 - val_acc: 0.8067\n",
      "Epoch 6/20\n",
      "48000/48000 [==============================] - 2s 33us/step - loss: 1.9854 - acc: 0.8069 - val_loss: 1.9716 - val_acc: 0.8102\n",
      "Epoch 7/20\n",
      "48000/48000 [==============================] - 1s 26us/step - loss: 1.9767 - acc: 0.8094 - val_loss: 1.9735 - val_acc: 0.8073\n",
      "Epoch 8/20\n",
      "48000/48000 [==============================] - 1s 30us/step - loss: 1.9712 - acc: 0.8125 - val_loss: 1.9612 - val_acc: 0.8127\n",
      "Epoch 9/20\n",
      "48000/48000 [==============================] - 1s 28us/step - loss: 1.9673 - acc: 0.8129 - val_loss: 1.9643 - val_acc: 0.8083\n",
      "Epoch 10/20\n",
      "48000/48000 [==============================] - 1s 28us/step - loss: 1.9610 - acc: 0.8142 - val_loss: 1.9595 - val_acc: 0.8135\n",
      "Epoch 11/20\n",
      "48000/48000 [==============================] - 1s 29us/step - loss: 1.9587 - acc: 0.8157 - val_loss: 1.9651 - val_acc: 0.8082\n",
      "Epoch 12/20\n",
      "48000/48000 [==============================] - 1s 30us/step - loss: 1.9541 - acc: 0.8166 - val_loss: 1.9504 - val_acc: 0.8162\n",
      "Epoch 13/20\n",
      "48000/48000 [==============================] - 1s 29us/step - loss: 1.9508 - acc: 0.8181 - val_loss: 1.9518 - val_acc: 0.8150\n",
      "Epoch 14/20\n",
      "48000/48000 [==============================] - 1s 29us/step - loss: 1.9497 - acc: 0.8188 - val_loss: 1.9550 - val_acc: 0.8145\n",
      "Epoch 15/20\n",
      "48000/48000 [==============================] - 1s 29us/step - loss: 1.9455 - acc: 0.8197 - val_loss: 1.9568 - val_acc: 0.8162\n",
      "Epoch 16/20\n",
      "48000/48000 [==============================] - 1s 29us/step - loss: 1.9448 - acc: 0.8195 - val_loss: 1.9542 - val_acc: 0.8143\n",
      "Epoch 17/20\n",
      "48000/48000 [==============================] - 1s 28us/step - loss: 1.9434 - acc: 0.8204 - val_loss: 1.9387 - val_acc: 0.8197\n",
      "Epoch 18/20\n",
      "48000/48000 [==============================] - 1s 27us/step - loss: 1.9421 - acc: 0.8204 - val_loss: 1.9393 - val_acc: 0.8203\n",
      "Epoch 19/20\n",
      "48000/48000 [==============================] - 1s 30us/step - loss: 1.9401 - acc: 0.8214 - val_loss: 1.9547 - val_acc: 0.8123\n",
      "Epoch 20/20\n",
      "48000/48000 [==============================] - 1s 30us/step - loss: 1.9383 - acc: 0.8211 - val_loss: 1.9357 - val_acc: 0.8218\n"
     ]
    }
   ],
   "source": [
    "hist=model.fit(trainX, trainYOneHot,      \n",
    "               epochs=20, batch_size=128,\n",
    "               validation_data=(trainValX,trainValYOneHot))"
   ]
  },
  {
   "cell_type": "markdown",
   "metadata": {},
   "source": [
    "[回索引](#索引)"
   ]
  },
  {
   "cell_type": "markdown",
   "metadata": {},
   "source": [
    "#### 2.d. 檢視訓練好的模型用於test data有多少準確率"
   ]
  },
  {
   "cell_type": "code",
   "execution_count": 23,
   "metadata": {},
   "outputs": [
    {
     "name": "stdout",
     "output_type": "stream",
     "text": [
      "6000/6000 [==============================] - 0s 16us/step\n",
      "\n",
      "\n",
      "loss=1.9389808521270753 \n",
      "accuracy=0.8180000003178914\n"
     ]
    }
   ],
   "source": [
    "score = model.evaluate(testX, testYOneHot, batch_size=128)\n",
    "print()\n",
    "print('\\nloss=%s \\naccuracy=%s'%(score[0],score[1]) )"
   ]
  },
  {
   "cell_type": "code",
   "execution_count": 24,
   "metadata": {},
   "outputs": [],
   "source": [
    "# j=0\n",
    "# trainValX[j:j+1,:][0].shape"
   ]
  },
  {
   "cell_type": "markdown",
   "metadata": {},
   "source": [
    "[回索引](#索引)"
   ]
  },
  {
   "cell_type": "markdown",
   "metadata": {},
   "source": [
    "#### 2.e. 檢視50筆測試資料的預測結果，以稍為了解預測是否還算ok"
   ]
  },
  {
   "cell_type": "code",
   "execution_count": 25,
   "metadata": {},
   "outputs": [
    {
     "name": "stdout",
     "output_type": "stream",
     "text": [
      "2 2\t6 6\t1 1\t5 5\t3 3\t9 9\t3 3\t9 7\t1 1\t2 7\t6 6\t1 1\t9 9\t6 6\t1 1\t9 7\t0 0\t1 1\t9 7\t2 2\t5 5\t9 7\t1 1\t1 1\t0 0\t2 2\t2 2\t9 9\t0 0\t1 1\t0 9\t2 2\t0 0\t3 3\t5 5\t2 2\t5 5\t1 1\t2 2\t6 6\t5 5\t5 5\t1 1\t9 7\t1 1\t6 6\t0 0\t6 6\t1 1\t4 4\t"
     ]
    }
   ],
   "source": [
    "for j in range(50):\n",
    "    predY= model.predict(trainValX[j:j+1,:]).argmax()\n",
    "    trueY= trainValYOneHot[j].argmax()\n",
    "    print( predY,trueY,end='\\t')"
   ]
  },
  {
   "cell_type": "markdown",
   "metadata": {},
   "source": [
    "[回索引](#索引)"
   ]
  },
  {
   "cell_type": "markdown",
   "metadata": {},
   "source": [
    "#### 2.f. 畫出模型訓練過程"
   ]
  },
  {
   "cell_type": "code",
   "execution_count": 26,
   "metadata": {},
   "outputs": [
    {
     "data": {
      "image/png": "[encoded data removed]",
      "text/plain": [
       "<Figure size 432x288 with 1 Axes>"
      ]
     },
     "metadata": {
      "needs_background": "light"
     },
     "output_type": "display_data"
    }
   ],
   "source": [
    "plt.plot(hist.history['acc'],ms=5,marker='o',label='accuracy')\n",
    "plt.plot(hist.history['val_acc'],ms=5,marker='o',label='val accuracy')\n",
    "plt.legend()\n",
    "plt.show()"
   ]
  },
  {
   "cell_type": "markdown",
   "metadata": {},
   "source": [
    "[回索引](#索引)"
   ]
  },
  {
   "cell_type": "markdown",
   "metadata": {},
   "source": [
    "#### 2.g. 儲存模型和權重"
   ]
  },
  {
   "cell_type": "code",
   "execution_count": 27,
   "metadata": {},
   "outputs": [],
   "source": [
    "import json\n",
    "with open('first_try.json', 'w') as jsOut:\n",
    "    json.dump(model.to_json(), jsOut)\n",
    "\n",
    "model.save_weights('first_try.h5')"
   ]
  },
  {
   "cell_type": "markdown",
   "metadata": {},
   "source": [
    "[回索引](#索引)"
   ]
  },
  {
   "cell_type": "markdown",
   "metadata": {},
   "source": [
    "#### 2.h. 載入存好的模型和權重"
   ]
  },
  {
   "cell_type": "code",
   "execution_count": 28,
   "metadata": {},
   "outputs": [],
   "source": [
    "from keras.models import model_from_json"
   ]
  },
  {
   "cell_type": "code",
   "execution_count": 29,
   "metadata": {},
   "outputs": [],
   "source": [
    "with open('first_try.json', 'r') as jsIn:\n",
    "    modelJson=json.load(jsIn)\n",
    "    \n",
    "modelLoaded=model_from_json(modelJson)\n",
    "modelLoaded.load_weights('first_try.h5')"
   ]
  },
  {
   "cell_type": "code",
   "execution_count": 30,
   "metadata": {},
   "outputs": [
    {
     "name": "stdout",
     "output_type": "stream",
     "text": [
      "_________________________________________________________________\n",
      "Layer (type)                 Output Shape              Param #   \n",
      "=================================================================\n",
      "flatten_2 (Flatten)          (None, 784)               0         \n",
      "_________________________________________________________________\n",
      "dense_1 (Dense)              (None, 10)                7850      \n",
      "=================================================================\n",
      "Total params: 7,850\n",
      "Trainable params: 7,850\n",
      "Non-trainable params: 0\n",
      "_________________________________________________________________\n"
     ]
    }
   ],
   "source": [
    "modelLoaded.summary()"
   ]
  },
  {
   "cell_type": "markdown",
   "metadata": {},
   "source": [
    "[回索引](#索引)"
   ]
  },
  {
   "cell_type": "markdown",
   "metadata": {},
   "source": [
    "#### 2.i. 輸出分類報告"
   ]
  },
  {
   "cell_type": "code",
   "execution_count": 31,
   "metadata": {},
   "outputs": [
    {
     "name": "stdout",
     "output_type": "stream",
     "text": [
      "             precision    recall  f1-score   support\n",
      "\n",
      "          0       0.95      0.96      0.95       602\n",
      "          1       0.93      0.96      0.95       683\n",
      "          2       0.85      0.93      0.89       609\n",
      "          3       0.86      0.86      0.86       620\n",
      "          4       0.86      0.93      0.90       568\n",
      "          5       0.85      0.85      0.85       521\n",
      "          6       0.93      0.95      0.94       604\n",
      "          7       0.00      0.00      0.00       626\n",
      "          8       0.87      0.88      0.88       576\n",
      "          9       0.48      0.88      0.63       591\n",
      "\n",
      "avg / total       0.76      0.82      0.78      6000\n",
      "\n"
     ]
    },
    {
     "name": "stderr",
     "output_type": "stream",
     "text": [
      "/opt/intel/intelpython3/lib/python3.6/site-packages/sklearn/metrics/classification.py:1135: UndefinedMetricWarning: Precision and F-score are ill-defined and being set to 0.0 in labels with no predicted samples.\n",
      "  'precision', 'predicted', average, warn_for)\n"
     ]
    }
   ],
   "source": [
    "predY=model.predict(testX).argmax(axis=1)\n",
    "from sklearn.metrics import classification_report\n",
    "print( classification_report(testY,predY) )"
   ]
  },
  {
   "cell_type": "markdown",
   "metadata": {},
   "source": [
    "[回索引](#索引)"
   ]
  },
  {
   "cell_type": "markdown",
   "metadata": {},
   "source": [
    "## 3. AlexNet-like Network"
   ]
  },
  {
   "cell_type": "code",
   "execution_count": 32,
   "metadata": {},
   "outputs": [],
   "source": [
    "trainX=trainX.reshape(*trainX.shape,1)\n",
    "trainValX=trainValX.reshape(*trainValX.shape,1)\n",
    "testX=testX.reshape(*testX.shape,1)"
   ]
  },
  {
   "cell_type": "markdown",
   "metadata": {},
   "source": [
    "#### 3.a. 建立模型"
   ]
  },
  {
   "cell_type": "code",
   "execution_count": 33,
   "metadata": {},
   "outputs": [],
   "source": [
    "from keras.models import Sequential\n",
    "from keras.layers import Dense, Dropout, Flatten,Conv2D, MaxPooling2D\n",
    "from keras.layers import Activation\n",
    "from keras.optimizers import SGD,Adam,Adamax\n",
    "\n",
    "input_shape=(28,28,1)\n",
    "\n",
    "model = Sequential()\n",
    "\n",
    "#conv1\n",
    "model.add(Conv2D(filters=32, kernel_size=(3, 3),\n",
    "                activation='relu',\n",
    "                input_shape=input_shape))\n",
    "          \n",
    "#conv2\n",
    "model.add(Conv2D(filters=64, kernel_size=(3, 3), activation='relu')\n",
    "         )\n",
    "#pool1\n",
    "model.add(MaxPooling2D(pool_size=(2, 2))\n",
    "         )\n",
    "#conv3\n",
    "model.add(Conv2D(filters=64, kernel_size=(3, 3), activation='relu')\n",
    "         )\n",
    "#pool2\n",
    "model.add(MaxPooling2D(pool_size=(2, 2))\n",
    "         )\n",
    "#dropout1\n",
    "model.add(Dropout(0.5))\n",
    "model.add(Flatten())\n",
    "#dense1\n",
    "model.add(Dense(128, activation='relu')\n",
    "         )\n",
    "#dropout2\n",
    "model.add(Dropout(0.5))\n",
    "#dense2\n",
    "model.add(Dense(10, activation='softmax'))\n",
    "\n",
    "model.compile(loss='categorical_crossentropy',\n",
    "              optimizer=SGD(lr=0.05),\n",
    "              metrics=['accuracy'])"
   ]
  },
  {
   "cell_type": "markdown",
   "metadata": {},
   "source": [
    "[回索引](#索引)"
   ]
  },
  {
   "cell_type": "markdown",
   "metadata": {},
   "source": [
    "#### 3.b. 訓練模型"
   ]
  },
  {
   "cell_type": "code",
   "execution_count": null,
   "metadata": {
    "scrolled": false
   },
   "outputs": [
    {
     "name": "stdout",
     "output_type": "stream",
     "text": [
      "Train on 48000 samples, validate on 6000 samples\n",
      "Epoch 1/30\n",
      "48000/48000 [==============================] - 4s 89us/step - loss: 0.9628 - acc: 0.6749 - val_loss: 0.1727 - val_acc: 0.9542\n",
      "Epoch 2/30\n",
      "48000/48000 [==============================] - 3s 64us/step - loss: 0.2622 - acc: 0.9193 - val_loss: 0.1108 - val_acc: 0.9690\n",
      "Epoch 3/30\n",
      "48000/48000 [==============================] - 3s 61us/step - loss: 0.1868 - acc: 0.9419 - val_loss: 0.0884 - val_acc: 0.9740\n",
      "Epoch 4/30\n",
      "48000/48000 [==============================] - 3s 64us/step - loss: 0.1527 - acc: 0.9531 - val_loss: 0.0757 - val_acc: 0.9778\n",
      "Epoch 5/30\n",
      "48000/48000 [==============================] - 3s 64us/step - loss: 0.1375 - acc: 0.9574 - val_loss: 0.0670 - val_acc: 0.9815\n",
      "Epoch 6/30\n",
      "48000/48000 [==============================] - 3s 62us/step - loss: 0.1217 - acc: 0.9627 - val_loss: 0.0619 - val_acc: 0.9822\n",
      "Epoch 7/30\n",
      "48000/48000 [==============================] - 3s 65us/step - loss: 0.1109 - acc: 0.9663 - val_loss: 0.0545 - val_acc: 0.9845\n",
      "Epoch 8/30\n",
      "48000/48000 [==============================] - 3s 63us/step - loss: 0.1028 - acc: 0.9683 - val_loss: 0.0524 - val_acc: 0.9840\n",
      "Epoch 9/30\n",
      "48000/48000 [==============================] - 3s 62us/step - loss: 0.0964 - acc: 0.9705 - val_loss: 0.0514 - val_acc: 0.9857\n",
      "Epoch 10/30\n",
      "48000/48000 [==============================] - 3s 65us/step - loss: 0.0902 - acc: 0.9725 - val_loss: 0.0476 - val_acc: 0.9857\n",
      "Epoch 11/30\n",
      "48000/48000 [==============================] - 3s 65us/step - loss: 0.0859 - acc: 0.9739 - val_loss: 0.0457 - val_acc: 0.9862\n",
      "Epoch 12/30\n",
      "48000/48000 [==============================] - 3s 65us/step - loss: 0.0810 - acc: 0.9749 - val_loss: 0.0446 - val_acc: 0.9877\n",
      "Epoch 13/30\n",
      "48000/48000 [==============================] - 3s 64us/step - loss: 0.0779 - acc: 0.9760 - val_loss: 0.0428 - val_acc: 0.9877\n",
      "Epoch 14/30\n",
      "48000/48000 [==============================] - 3s 64us/step - loss: 0.0756 - acc: 0.9774 - val_loss: 0.0436 - val_acc: 0.9880\n",
      "Epoch 15/30\n",
      "48000/48000 [==============================] - 3s 64us/step - loss: 0.0721 - acc: 0.9774 - val_loss: 0.0403 - val_acc: 0.9885\n",
      "Epoch 16/30\n",
      "48000/48000 [==============================] - 3s 63us/step - loss: 0.0702 - acc: 0.9788 - val_loss: 0.0406 - val_acc: 0.9885\n",
      "Epoch 17/30\n",
      "48000/48000 [==============================] - 3s 65us/step - loss: 0.0668 - acc: 0.9800 - val_loss: 0.0410 - val_acc: 0.9880\n",
      "Epoch 18/30\n",
      "48000/48000 [==============================] - 3s 63us/step - loss: 0.0636 - acc: 0.9806 - val_loss: 0.0389 - val_acc: 0.9890\n",
      "Epoch 19/30\n",
      " 9088/48000 [====>.........................] - ETA: 2s - loss: 0.0566 - acc: 0.9826"
     ]
    }
   ],
   "source": [
    "%%time \n",
    "hist=model.fit(trainX, trainYOneHot, \n",
    "               epochs=30,\n",
    "               batch_size=128,\n",
    "               validation_data=(trainValX,trainValYOneHot),\n",
    "              )"
   ]
  },
  {
   "cell_type": "markdown",
   "metadata": {},
   "source": [
    "[回索引](#索引)"
   ]
  },
  {
   "cell_type": "markdown",
   "metadata": {},
   "source": [
    "#### 3.c. 檢視模型訓練結果"
   ]
  },
  {
   "cell_type": "code",
   "execution_count": null,
   "metadata": {},
   "outputs": [],
   "source": [
    "plt.plot(hist.history['acc'],ms=5,marker='o',label='accuracy')\n",
    "plt.plot(hist.history['val_acc'],ms=5,marker='o',label='val accuracy')\n",
    "plt.legend()\n",
    "plt.show()"
   ]
  },
  {
   "cell_type": "markdown",
   "metadata": {},
   "source": [
    "[回索引](#索引)"
   ]
  },
  {
   "cell_type": "markdown",
   "metadata": {},
   "source": [
    "#### 3.d. 檢視模型準確率"
   ]
  },
  {
   "cell_type": "code",
   "execution_count": null,
   "metadata": {},
   "outputs": [],
   "source": [
    "score = model.evaluate(testX, testYOneHot, batch_size=128)\n",
    "print()\n",
    "print('\\nloss=%s \\naccuracy=%s'%(score[0],score[1]) )"
   ]
  },
  {
   "cell_type": "markdown",
   "metadata": {},
   "source": [
    "[回索引](#索引)"
   ]
  },
  {
   "cell_type": "markdown",
   "metadata": {},
   "source": [
    "#### 3.e. 檢視分類報告"
   ]
  },
  {
   "cell_type": "code",
   "execution_count": null,
   "metadata": {},
   "outputs": [],
   "source": [
    "predY=model.predict(testX).argmax(axis=1)\n",
    "from sklearn.metrics import classification_report\n",
    "print( classification_report(predY,testY) )"
   ]
  },
  {
   "cell_type": "markdown",
   "metadata": {},
   "source": [
    "[回索引](#索引)"
   ]
  },
  {
   "cell_type": "code",
   "execution_count": null,
   "metadata": {},
   "outputs": [],
   "source": []
  }
 ],
 "metadata": {
  "kernelspec": {
   "display_name": "Python 3",
   "language": "python",
   "name": "python3"
  },
  "language_info": {
   "codemirror_mode": {
    "name": "ipython",
    "version": 3
   },
   "file_extension": ".py",
   "mimetype": "text/x-python",
   "name": "python",
   "nbconvert_exporter": "python",
   "pygments_lexer": "ipython3",
   "version": "3.6.3"
  }
 },
 "nbformat": 4,
 "nbformat_minor": 2
}
