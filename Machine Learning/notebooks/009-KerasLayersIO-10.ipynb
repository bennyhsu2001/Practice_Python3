{
 "cells": [
  {
   "cell_type": "markdown",
   "metadata": {},
   "source": [
    "# 目標：\n",
    "\n",
    "1. 理解Dense Layer的輸入/輸出資料大小。\n",
    "2. 能簡單的利用Dense Layer來建立模型。\n",
    "3. 理解Convolution/Pooling Layer的輸入/輸出資料大小。"
   ]
  },
  {
   "cell_type": "markdown",
   "metadata": {},
   "source": [
    "### [A. 測試Dense Layer I/O, 並以Dense Layer建立模型](#A.-%E6%B8%AC%E8%A9%A6Dense-Layer-I/O,-%E4%B8%A6%E4%BB%A5Dense-Layer%E5%BB%BA%E7%AB%8B%E6%A8%A1%E5%9E%8B%E3%80%82)\n",
    "* [Sequential model: Logistic Regression](#Sequential-model:-Logistic-Regression)\n",
    "* [Sequential model: Softmax Regression](#Sequential-model:-Softmax-Regression)\n",
    "* [練習：建立Multilayer Perceptron的模型，並且丟亂數資料進去做訓練](#%E7%B7%B4%E7%BF%92%EF%BC%9A%E5%BB%BA%E7%AB%8BMultilayer-Perceptron%E7%9A%84%E6%A8%A1%E5%9E%8B%EF%BC%8C%E4%B8%A6%E4%B8%94%E4%B8%9F%E4%BA%82%E6%95%B8%E8%B3%87%E6%96%99%E9%80%B2%E5%8E%BB%E5%81%9A%E8%A8%93%E7%B7%B4%E3%80%82)\n",
    "\n",
    "### [B. 測試Convolutional Layer I/O](#B.-%E6%B8%AC%E8%A9%A6Convolutional-Layer-I/O%E3%80%82)\n",
    "### [C. 測試Max Pooling Layer I/O](#C.-%E6%B8%AC%E8%A9%A6Max-Pooling-Layer-I/O%E3%80%82)"
   ]
  },
  {
   "cell_type": "markdown",
   "metadata": {},
   "source": [
    "---"
   ]
  },
  {
   "cell_type": "code",
   "execution_count": 59,
   "metadata": {},
   "outputs": [],
   "source": [
    "# =========================================================================\n",
    "# 由於課堂上可能有多人共用同一顆GPU，以下限定使用者只能用計算卡上45%的記憶體。\n",
    "import tensorflow as tf\n",
    "from keras.backend.tensorflow_backend import set_session\n",
    "config = tf.ConfigProto()\n",
    "config.gpu_options.per_process_gpu_memory_fraction = 0.75 # 使用45%記憶體\n",
    "set_session(tf.Session(config=config))\n",
    "# ========================================================================="
   ]
  },
  {
   "cell_type": "code",
   "execution_count": 45,
   "metadata": {},
   "outputs": [],
   "source": [
    "import numpy as np\n",
    "\n",
    "import matplotlib.pyplot as plt\n",
    "%matplotlib inline\n",
    "\n",
    "from keras.models import Sequential\n",
    "from keras.layers import Dense,Conv2D,MaxPooling2D\n",
    "from keras.optimizers import SGD\n",
    "\n",
    "import numpy as np"
   ]
  },
  {
   "cell_type": "markdown",
   "metadata": {},
   "source": [
    "---"
   ]
  },
  {
   "cell_type": "markdown",
   "metadata": {},
   "source": [
    "## A. 測試Dense Layer I/O, 並以Dense Layer建立模型。"
   ]
  },
  {
   "cell_type": "markdown",
   "metadata": {},
   "source": [
    "### Sequential model: Logistic Regression"
   ]
  },
  {
   "cell_type": "code",
   "execution_count": 3,
   "metadata": {},
   "outputs": [
    {
     "data": {
      "text/plain": [
       "array([[0.5315271 ],\n",
       "       [0.7996117 ],\n",
       "       [0.31218493],\n",
       "       [0.9597741 ],\n",
       "       [0.19036081]], dtype=float32)"
      ]
     },
     "execution_count": 3,
     "metadata": {},
     "output_type": "execute_result"
    }
   ],
   "source": [
    "randData=np.random.normal(0,1,(5,3))  # normal分佈的亂數資料當input, \n",
    "                                      # 5個樣本，每個樣本有3個特徵\n",
    "\n",
    "model = Sequential()                  # 定義模型\n",
    "model.add(Dense(1, input_shape=(3,),activation='sigmoid') ) \n",
    "# 模型加入只有一個神經元的Dense層，且用sigmoid啟用，輸出機率\n",
    "\n",
    "model.predict(randData)  # 應該會回傳5個介於0和1之間的數值。分別為各樣本的預測機率"
   ]
  },
  {
   "cell_type": "markdown",
   "metadata": {},
   "source": [
    "[回到頂部](#%E7%9B%AE%E6%A8%99%EF%BC%9A)"
   ]
  },
  {
   "cell_type": "markdown",
   "metadata": {},
   "source": [
    "---"
   ]
  },
  {
   "cell_type": "markdown",
   "metadata": {},
   "source": [
    "### Sequential model: Softmax Regression"
   ]
  },
  {
   "cell_type": "code",
   "execution_count": 26,
   "metadata": {},
   "outputs": [
    {
     "name": "stdout",
     "output_type": "stream",
     "text": [
      "[[0.44183707 0.35615447 0.20200844]\n",
      " [0.54709595 0.2001699  0.25273412]\n",
      " [0.2297088  0.29350364 0.47678757]\n",
      " [0.31823158 0.5621407  0.11962772]\n",
      " [0.0566578  0.68113697 0.26220512]]\n"
     ]
    }
   ],
   "source": [
    "randData=np.random.normal(0,1,(5,3))         # normal分佈的亂數資料當input, 5個樣本，每個樣本有3個特徵\n",
    "\n",
    "model = Sequential()\n",
    "model.add(Dense(3,input_shape=(3,), activation='softmax') )   # 定義3個神經元，並以Softmax啟用，輸出機率\n",
    "print( model.predict(randData) )             # 往前傳遞\n",
    "# print()"
   ]
  },
  {
   "cell_type": "code",
   "execution_count": 27,
   "metadata": {},
   "outputs": [
    {
     "name": "stdout",
     "output_type": "stream",
     "text": [
      "[0.99999994 1.         1.         1.         0.9999999 ]\n"
     ]
    }
   ],
   "source": [
    "print( model.predict(randData).sum(axis=1) ) # 驗證softmax輸出：P_A+P_B+P_C=1"
   ]
  },
  {
   "cell_type": "code",
   "execution_count": 28,
   "metadata": {},
   "outputs": [
    {
     "name": "stdout",
     "output_type": "stream",
     "text": [
      "_________________________________________________________________\n",
      "Layer (type)                 Output Shape              Param #   \n",
      "=================================================================\n",
      "dense_5 (Dense)              (None, 3)                 12        \n",
      "=================================================================\n",
      "Total params: 12\n",
      "Trainable params: 12\n",
      "Non-trainable params: 0\n",
      "_________________________________________________________________\n"
     ]
    }
   ],
   "source": [
    "model.summary()"
   ]
  },
  {
   "cell_type": "code",
   "execution_count": 29,
   "metadata": {},
   "outputs": [
    {
     "data": {
      "text/plain": [
       "(array([[-0.49304628, -0.5279908 ,  0.5998237 ],\n",
       "        [-0.60363865,  0.67630005,  0.18514037],\n",
       "        [ 0.87039304,  0.61322784,  0.2442975 ]], dtype=float32),\n",
       " array([0., 0., 0.], dtype=float32))"
      ]
     },
     "execution_count": 29,
     "metadata": {},
     "output_type": "execute_result"
    }
   ],
   "source": [
    "tmp_layer = model.layers[0]\n",
    "weights, bias = tmp_layer.get_weights()\n",
    "weights, bias"
   ]
  },
  {
   "cell_type": "code",
   "execution_count": 24,
   "metadata": {},
   "outputs": [
    {
     "data": {
      "text/plain": [
       "((3, 3), (3,))"
      ]
     },
     "execution_count": 24,
     "metadata": {},
     "output_type": "execute_result"
    }
   ],
   "source": [
    "weights.shape,bias.shape"
   ]
  },
  {
   "cell_type": "markdown",
   "metadata": {},
   "source": [
    "---"
   ]
  },
  {
   "cell_type": "code",
   "execution_count": 13,
   "metadata": {},
   "outputs": [
    {
     "data": {
      "text/plain": [
       "(4.9999817055948785, 0.010010410936965482)"
      ]
     },
     "execution_count": 13,
     "metadata": {},
     "output_type": "execute_result"
    }
   ],
   "source": [
    "tmp = np.random.normal(5,0.01,size=100000)\n",
    "tmp.mean(),tmp.std()"
   ]
  },
  {
   "cell_type": "code",
   "execution_count": 33,
   "metadata": {},
   "outputs": [],
   "source": [
    "# plt.hist(tmp,bins=100)"
   ]
  },
  {
   "cell_type": "markdown",
   "metadata": {},
   "source": [
    "[回到頂部](#%E7%9B%AE%E6%A8%99%EF%BC%9A)"
   ]
  },
  {
   "cell_type": "markdown",
   "metadata": {},
   "source": [
    "---"
   ]
  },
  {
   "cell_type": "markdown",
   "metadata": {},
   "source": [
    "### 練習：建立Multilayer Perceptron的模型，並且將$X_{new}$, $y_{new}$丟進去做訓練。"
   ]
  },
  {
   "cell_type": "code",
   "execution_count": 6,
   "metadata": {},
   "outputs": [],
   "source": [
    "import numpy as np"
   ]
  },
  {
   "cell_type": "code",
   "execution_count": 89,
   "metadata": {
    "scrolled": false
   },
   "outputs": [],
   "source": [
    "X=np.zeros((90,3))\n",
    "for j in range(0,30):\n",
    "    X[j,:]=0.\n",
    "for j in range(30,60):\n",
    "    X[j,:]=1.\n",
    "for j in range(60,90):\n",
    "    X[j,:]=2.\n",
    "y=X[:,0]\n",
    "\n",
    "# # data standarization\n",
    "from sklearn.preprocessing import StandardScaler\n",
    "scaler=StandardScaler()\n",
    "scaler=scaler.fit(X)\n",
    "X_new=scaler.transform(X)\n",
    "\n",
    "# # convert y into one-hot representation\n",
    "from keras.utils import to_categorical\n",
    "y_new=to_categorical(y)\n",
    "\n",
    "# print(\"X_new=\\n\",X_new)\n",
    "# print()\n",
    "# print(\"y_new=\\n\",y_new)"
   ]
  },
  {
   "cell_type": "code",
   "execution_count": 110,
   "metadata": {},
   "outputs": [],
   "source": [
    "# 練習於此\n",
    "model=Sequential()\n",
    "model.add(Dense(50, input_shape=(3,), activation='relu'))\n",
    "model.add(Dense(50, activation='relu'))\n",
    "model.add(Dense(3, activation='softmax'))"
   ]
  },
  {
   "cell_type": "code",
   "execution_count": 111,
   "metadata": {},
   "outputs": [],
   "source": [
    "model.compile(loss='categorical_crossentropy', optimizer=SGD(lr=0.01), metrics=['accuracy'])"
   ]
  },
  {
   "cell_type": "code",
   "execution_count": 112,
   "metadata": {},
   "outputs": [
    {
     "name": "stdout",
     "output_type": "stream",
     "text": [
      "Epoch 1/30\n",
      "90/90 [==============================] - 0s 5ms/step - loss: 1.1653 - acc: 0.0000e+00\n",
      "Epoch 2/30\n",
      "90/90 [==============================] - 0s 128us/step - loss: 1.1279 - acc: 0.2111\n",
      "Epoch 3/30\n",
      "90/90 [==============================] - 0s 133us/step - loss: 1.0931 - acc: 0.3333\n",
      "Epoch 4/30\n",
      "90/90 [==============================] - 0s 153us/step - loss: 1.0593 - acc: 0.6667\n",
      "Epoch 5/30\n",
      "90/90 [==============================] - 0s 159us/step - loss: 1.0277 - acc: 0.6667\n",
      "Epoch 6/30\n",
      "90/90 [==============================] - 0s 147us/step - loss: 0.9968 - acc: 0.7667\n",
      "Epoch 7/30\n",
      "90/90 [==============================] - 0s 141us/step - loss: 0.9669 - acc: 1.0000\n",
      "Epoch 8/30\n",
      "90/90 [==============================] - 0s 135us/step - loss: 0.9389 - acc: 1.0000\n",
      "Epoch 9/30\n",
      "90/90 [==============================] - 0s 128us/step - loss: 0.9115 - acc: 1.0000\n",
      "Epoch 10/30\n",
      "90/90 [==============================] - 0s 143us/step - loss: 0.8860 - acc: 1.0000\n",
      "Epoch 11/30\n",
      "90/90 [==============================] - 0s 144us/step - loss: 0.8634 - acc: 1.0000\n",
      "Epoch 12/30\n",
      "90/90 [==============================] - 0s 132us/step - loss: 0.8424 - acc: 1.0000\n",
      "Epoch 13/30\n",
      "90/90 [==============================] - 0s 144us/step - loss: 0.8218 - acc: 1.0000\n",
      "Epoch 14/30\n",
      "90/90 [==============================] - 0s 130us/step - loss: 0.8020 - acc: 1.0000\n",
      "Epoch 15/30\n",
      "90/90 [==============================] - 0s 123us/step - loss: 0.7830 - acc: 1.0000\n",
      "Epoch 16/30\n",
      "90/90 [==============================] - 0s 125us/step - loss: 0.7654 - acc: 1.0000\n",
      "Epoch 17/30\n",
      "90/90 [==============================] - 0s 132us/step - loss: 0.7473 - acc: 1.0000\n",
      "Epoch 18/30\n",
      "90/90 [==============================] - 0s 140us/step - loss: 0.7306 - acc: 1.0000\n",
      "Epoch 19/30\n",
      "90/90 [==============================] - 0s 134us/step - loss: 0.7146 - acc: 1.0000\n",
      "Epoch 20/30\n",
      "90/90 [==============================] - 0s 133us/step - loss: 0.6991 - acc: 1.0000\n",
      "Epoch 21/30\n",
      "90/90 [==============================] - 0s 142us/step - loss: 0.6840 - acc: 1.0000\n",
      "Epoch 22/30\n",
      "90/90 [==============================] - 0s 150us/step - loss: 0.6696 - acc: 1.0000\n",
      "Epoch 23/30\n",
      "90/90 [==============================] - 0s 148us/step - loss: 0.6553 - acc: 1.0000\n",
      "Epoch 24/30\n",
      "90/90 [==============================] - 0s 147us/step - loss: 0.6413 - acc: 1.0000\n",
      "Epoch 25/30\n",
      "90/90 [==============================] - 0s 159us/step - loss: 0.6280 - acc: 1.0000\n",
      "Epoch 26/30\n",
      "90/90 [==============================] - 0s 154us/step - loss: 0.6152 - acc: 1.0000\n",
      "Epoch 27/30\n",
      "90/90 [==============================] - 0s 150us/step - loss: 0.6026 - acc: 1.0000\n",
      "Epoch 28/30\n",
      "90/90 [==============================] - 0s 121us/step - loss: 0.5904 - acc: 1.0000\n",
      "Epoch 29/30\n",
      "90/90 [==============================] - 0s 133us/step - loss: 0.5784 - acc: 1.0000\n",
      "Epoch 30/30\n",
      "90/90 [==============================] - 0s 121us/step - loss: 0.5670 - acc: 1.0000\n"
     ]
    }
   ],
   "source": [
    "record = model.fit(X_new, y_new, epochs=30)"
   ]
  },
  {
   "cell_type": "code",
   "execution_count": 113,
   "metadata": {},
   "outputs": [
    {
     "data": {
      "image/png": "[encoded data removed]",
      "text/plain": [
       "<Figure size 432x288 with 1 Axes>"
      ]
     },
     "metadata": {
      "needs_background": "light"
     },
     "output_type": "display_data"
    }
   ],
   "source": [
    "# 畫出訓練過程\n",
    "\n",
    "plt.plot(record.history['acc'],ms=5,marker='o',label='accuracy')\n",
    "plt.xticks(np.arange(30))\n",
    "plt.legend()\n",
    "plt.show()"
   ]
  },
  {
   "cell_type": "code",
   "execution_count": 117,
   "metadata": {},
   "outputs": [
    {
     "data": {
      "image/png": "[encoded data removed]",
      "text/plain": [
       "<Figure size 432x288 with 1 Axes>"
      ]
     },
     "metadata": {
      "needs_background": "light"
     },
     "output_type": "display_data"
    }
   ],
   "source": [
    "plt.plot(record.history['loss'],ms=5,marker='o',label='loss')\n",
    "plt.xticks(np.arange(30))\n",
    "plt.legend()\n",
    "plt.show()"
   ]
  },
  {
   "cell_type": "markdown",
   "metadata": {},
   "source": [
    "[回到頂部](#%E7%9B%AE%E6%A8%99%EF%BC%9A)"
   ]
  },
  {
   "cell_type": "markdown",
   "metadata": {},
   "source": [
    "---"
   ]
  },
  {
   "cell_type": "markdown",
   "metadata": {},
   "source": [
    "## B. 測試Convolutional Layer I/O。"
   ]
  },
  {
   "cell_type": "markdown",
   "metadata": {},
   "source": [
    "### ```padding='valid'```"
   ]
  },
  {
   "cell_type": "code",
   "execution_count": 10,
   "metadata": {},
   "outputs": [
    {
     "name": "stdout",
     "output_type": "stream",
     "text": [
      "(10, 3, 3, 96)\n"
     ]
    }
   ],
   "source": [
    "randData=np.random.normal(0,1,(10,5,5,3))  # normal分佈的亂數資料當input, 10個3D樣本\n",
    "\n",
    "model = Sequential()\n",
    "model.add(Conv2D(filters=96, kernel_size=(3, 3),\n",
    "                 strides=(1,1),\n",
    "                 padding='valid',\n",
    "                 input_shape=(5,5,3)\n",
    "                )\n",
    "         )\n",
    "print( model.predict(randData).shape )    # 看輸出資料的形狀"
   ]
  },
  {
   "cell_type": "markdown",
   "metadata": {},
   "source": [
    "### ```padding='same'```"
   ]
  },
  {
   "cell_type": "markdown",
   "metadata": {},
   "source": [
    "padding = same: $ w'=w/s $\n",
    "\n",
    "padding = valid: $w^{'}=\\frac{W+2P-F}{S}+1$"
   ]
  },
  {
   "cell_type": "code",
   "execution_count": 115,
   "metadata": {},
   "outputs": [
    {
     "name": "stdout",
     "output_type": "stream",
     "text": [
      "(10, 20, 20, 96)\n"
     ]
    }
   ],
   "source": [
    "randData=np.random.normal(0,1,(10,20,20,3))  # normal分佈的亂數資料當input, 10個3D樣本\n",
    "\n",
    "model = Sequential()\n",
    "model.add(Conv2D(filters=96, kernel_size=(7, 7),\n",
    "                 strides=(1,1),\n",
    "                 padding='same',\n",
    "                 input_shape=(20,20,3)\n",
    "                )\n",
    "         )\n",
    "print( model.predict(randData).shape )    # 看輸出資料的形狀"
   ]
  },
  {
   "cell_type": "markdown",
   "metadata": {},
   "source": [
    "* 若strides=(1,1)且```padding='same'```，則表示程式會利用padding來確保input data size和output data size相等。\n",
    "* 若你想知道```padding='same'```和```padding='valid'```的公式，可見：https://www.tensorflow.org/api_guides/python/nn#Convolution"
   ]
  },
  {
   "cell_type": "markdown",
   "metadata": {},
   "source": [
    "[回到頂部](#%E7%9B%AE%E6%A8%99%EF%BC%9A)"
   ]
  },
  {
   "cell_type": "markdown",
   "metadata": {},
   "source": [
    "## C. 測試Max Pooling Layer I/O。"
   ]
  },
  {
   "cell_type": "code",
   "execution_count": 118,
   "metadata": {},
   "outputs": [
    {
     "name": "stdout",
     "output_type": "stream",
     "text": [
      "(10, 2, 2, 3)\n"
     ]
    }
   ],
   "source": [
    "randData=np.random.normal(0,1,(10,4,4,3))  # normal分佈的亂數資料當input, 10個3D樣本\n",
    "model = Sequential()\n",
    "model.add(MaxPooling2D(pool_size=(2, 2),\n",
    "                       strides=(2,2),\n",
    "                       input_shape=(4,4,3)\n",
    "                      )\n",
    "         )\n",
    "# model.add(MaxPooling2D(pool_size=(2, 2),\n",
    "#                        strides=(2,2)                   \n",
    "#                       )\n",
    "#          )\n",
    "print( model.predict(randData).shape )    # 看輸出資料的形狀"
   ]
  },
  {
   "cell_type": "markdown",
   "metadata": {},
   "source": [
    "[回到頂部](#%E7%9B%AE%E6%A8%99%EF%BC%9A)"
   ]
  }
 ],
 "metadata": {
  "kernelspec": {
   "display_name": "Python 3",
   "language": "python",
   "name": "python3"
  },
  "language_info": {
   "codemirror_mode": {
    "name": "ipython",
    "version": 3
   },
   "file_extension": ".py",
   "mimetype": "text/x-python",
   "name": "python",
   "nbconvert_exporter": "python",
   "pygments_lexer": "ipython3",
   "version": "3.6.3"
  }
 },
 "nbformat": 4,
 "nbformat_minor": 2
}
