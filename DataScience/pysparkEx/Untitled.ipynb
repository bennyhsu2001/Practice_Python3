{
 "cells": [
  {
   "cell_type": "code",
   "execution_count": 1,
   "metadata": {},
   "outputs": [
    {
     "data": {
      "text/plain": [
       "5"
      ]
     },
     "execution_count": 1,
     "metadata": {},
     "output_type": "execute_result"
    }
   ],
   "source": [
    "import gc\n",
    "gc.collect()"
   ]
  },
  {
   "cell_type": "code",
   "execution_count": 2,
   "metadata": {},
   "outputs": [],
   "source": [
    "# create a session and name it, that's how we start \n",
    "from pyspark.sql import SparkSession \n",
    "sqlContext = SparkSession.builder.appName('yolo').getOrCreate()"
   ]
  },
  {
   "cell_type": "code",
   "execution_count": 3,
   "metadata": {},
   "outputs": [
    {
     "name": "stdout",
     "output_type": "stream",
     "text": [
      "read csv cost time: 3.280949831008911\n"
     ]
    }
   ],
   "source": [
    "# read csv to spark dataframe and define its schema\n",
    "from pyspark.sql.types import StructType, StructField, IntegerType\n",
    "import time\n",
    "path = \"C:/Users/Student/Desktop/WorkSpace/Tmall/data_format1/user_log_format1.csv\"\n",
    "schema = StructType([StructField('user_id', IntegerType(), True),\n",
    "                     StructField('item_id', IntegerType(), True),\n",
    "                     StructField('cat_id', IntegerType(), True),\n",
    "                     StructField('seller_id', IntegerType(), True),\n",
    "                     StructField('brand_id', IntegerType(), True),\n",
    "                     StructField('time_stamp', IntegerType(), True),\n",
    "                     StructField('action_type', IntegerType(), True)])\n",
    "\n",
    "s = time.time()\n",
    "df = sqlContext.read.csv(path, sep = ',', header = True, inferSchema = True, schema = schema)\n",
    "print(\"read csv cost time:\", time.time()-s)"
   ]
  },
  {
   "cell_type": "code",
   "execution_count": 4,
   "metadata": {},
   "outputs": [
    {
     "name": "stdout",
     "output_type": "stream",
     "text": [
      "+-------+-------+------+---------+--------+----------+-----------+\n",
      "|user_id|item_id|cat_id|seller_id|brand_id|time_stamp|action_type|\n",
      "+-------+-------+------+---------+--------+----------+-----------+\n",
      "| 328862| 323294|   833|     2882|    2661|       829|          0|\n",
      "| 328862| 844400|  1271|     2882|    2661|       829|          0|\n",
      "| 328862| 575153|  1271|     2882|    2661|       829|          0|\n",
      "| 328862| 996875|  1271|     2882|    2661|       829|          0|\n",
      "| 328862|1086186|  1271|     1253|    1049|       829|          0|\n",
      "+-------+-------+------+---------+--------+----------+-----------+\n",
      "only showing top 5 rows\n",
      "\n"
     ]
    }
   ],
   "source": [
    "df.show(5)"
   ]
  },
  {
   "cell_type": "code",
   "execution_count": 5,
   "metadata": {},
   "outputs": [
    {
     "data": {
      "text/plain": [
       "Row(user_id=328862, item_id=323294, cat_id=833, seller_id=2882, brand_id=2661, time_stamp=829, action_type=0)"
      ]
     },
     "execution_count": 5,
     "metadata": {},
     "output_type": "execute_result"
    }
   ],
   "source": [
    "df.head()"
   ]
  },
  {
   "cell_type": "code",
   "execution_count": 6,
   "metadata": {},
   "outputs": [
    {
     "name": "stdout",
     "output_type": "stream",
     "text": [
      "root\n",
      " |-- user_id: integer (nullable = true)\n",
      " |-- item_id: integer (nullable = true)\n",
      " |-- cat_id: integer (nullable = true)\n",
      " |-- seller_id: integer (nullable = true)\n",
      " |-- brand_id: integer (nullable = true)\n",
      " |-- time_stamp: integer (nullable = true)\n",
      " |-- action_type: integer (nullable = true)\n",
      "\n"
     ]
    }
   ],
   "source": [
    "df.printSchema()"
   ]
  },
  {
   "cell_type": "code",
   "execution_count": 12,
   "metadata": {},
   "outputs": [],
   "source": [
    "# make df become a temp table, that we can use sql command to control it\n",
    "df.registerTempTable('log2')"
   ]
  },
  {
   "cell_type": "code",
   "execution_count": 13,
   "metadata": {},
   "outputs": [
    {
     "name": "stdout",
     "output_type": "stream",
     "text": [
      "+-----------+\n",
      "|count(user)|\n",
      "+-----------+\n",
      "|   54925330|\n",
      "+-----------+\n",
      "\n"
     ]
    }
   ],
   "source": [
    "# use sql command\n",
    "sqlContext.sql('select count(\"user\") from log2').show()"
   ]
  },
  {
   "cell_type": "code",
   "execution_count": 17,
   "metadata": {},
   "outputs": [
    {
     "name": "stdout",
     "output_type": "stream",
     "text": [
      "+--------+\n",
      "|brand_id|\n",
      "+--------+\n",
      "|    2661|\n",
      "|    2661|\n",
      "|    2661|\n",
      "|    2661|\n",
      "|    1049|\n",
      "|    2661|\n",
      "|    2661|\n",
      "|    1647|\n",
      "|    2661|\n",
      "|    2661|\n",
      "|    4953|\n",
      "|    7622|\n",
      "|    4953|\n",
      "|    7622|\n",
      "|    4953|\n",
      "|    4953|\n",
      "|    1446|\n",
      "|     883|\n",
      "|    1446|\n",
      "|    7622|\n",
      "+--------+\n",
      "only showing top 20 rows\n",
      "\n"
     ]
    }
   ],
   "source": [
    "sqlContext.sql('''\n",
    "            select brand _id \n",
    "            from log2\n",
    "            ''').show()"
   ]
  },
  {
   "cell_type": "code",
   "execution_count": 16,
   "metadata": {},
   "outputs": [
    {
     "name": "stdout",
     "output_type": "stream",
     "text": [
      "+-------+-------+------+---------+--------+----------+-----------+\n",
      "|user_id|item_id|cat_id|seller_id|brand_id|time_stamp|action_type|\n",
      "+-------+-------+------+---------+--------+----------+-----------+\n",
      "| 328862| 323294|   833|     2882|    2661|       829|          0|\n",
      "| 328862| 844400|  1271|     2882|    2661|       829|          0|\n",
      "| 328862| 575153|  1271|     2882|    2661|       829|          0|\n",
      "| 328862| 996875|  1271|     2882|    2661|       829|          0|\n",
      "| 328862|1086186|  1271|     1253|    1049|       829|          0|\n",
      "+-------+-------+------+---------+--------+----------+-----------+\n",
      "\n"
     ]
    }
   ],
   "source": [
    "sqlContext.sql('select * from log2 LIMIT 5').show()"
   ]
  },
  {
   "cell_type": "code",
   "execution_count": 10,
   "metadata": {},
   "outputs": [],
   "source": []
  }
 ],
 "metadata": {
  "kernelspec": {
   "display_name": "Python 3",
   "language": "python",
   "name": "python3"
  },
  "language_info": {
   "codemirror_mode": {
    "name": "ipython",
    "version": 3
   },
   "file_extension": ".py",
   "mimetype": "text/x-python",
   "name": "python",
   "nbconvert_exporter": "python",
   "pygments_lexer": "ipython3",
   "version": "3.6.5"
  }
 },
 "nbformat": 4,
 "nbformat_minor": 2
}
